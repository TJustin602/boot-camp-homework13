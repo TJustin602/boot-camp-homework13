{
 "cells": [
  {
   "cell_type": "markdown",
   "metadata": {},
   "source": [
    "# Clustering Crypto"
   ]
  },
  {
   "cell_type": "code",
   "execution_count": 88,
   "metadata": {},
   "outputs": [],
   "source": [
    "# imports\n",
    "import requests\n",
    "import pandas as pd\n",
    "from pathlib import Path\n",
    "import matplotlib.pyplot as plt\n",
    "import hvplot.pandas\n",
    "import plotly.express as px\n",
    "from sklearn.preprocessing import StandardScaler, MinMaxScaler\n",
    "from sklearn.decomposition import PCA\n",
    "from sklearn.cluster import KMeans"
   ]
  },
  {
   "cell_type": "markdown",
   "metadata": {},
   "source": [
    "### Fetching Cryptocurrency Data"
   ]
  },
  {
   "cell_type": "code",
   "execution_count": 63,
   "metadata": {
    "scrolled": true
   },
   "outputs": [],
   "source": [
    "# Use the following endpoint to fetch json data\n",
    "import json\n",
    "import pprint\n",
    "url = \"https://min-api.cryptocompare.com/data/all/coinlist\"\n",
    "r = requests.get(url)\n",
    "content = r.content\n",
    "content_d = content.decode('utf-8')\n",
    "data = json.loads(content_d)"
   ]
  },
  {
   "cell_type": "code",
   "execution_count": 64,
   "metadata": {},
   "outputs": [
    {
     "data": {
      "text/html": [
       "<div>\n",
       "<style scoped>\n",
       "    .dataframe tbody tr th:only-of-type {\n",
       "        vertical-align: middle;\n",
       "    }\n",
       "\n",
       "    .dataframe tbody tr th {\n",
       "        vertical-align: top;\n",
       "    }\n",
       "\n",
       "    .dataframe thead th {\n",
       "        text-align: right;\n",
       "    }\n",
       "</style>\n",
       "<table border=\"1\" class=\"dataframe\">\n",
       "  <thead>\n",
       "    <tr style=\"text-align: right;\">\n",
       "      <th></th>\n",
       "      <th>Id</th>\n",
       "      <th>Url</th>\n",
       "      <th>ImageUrl</th>\n",
       "      <th>ContentCreatedOn</th>\n",
       "      <th>Name</th>\n",
       "      <th>Symbol</th>\n",
       "      <th>CoinName</th>\n",
       "      <th>FullName</th>\n",
       "      <th>Description</th>\n",
       "      <th>AssetTokenStatus</th>\n",
       "      <th>...</th>\n",
       "      <th>BlockTime</th>\n",
       "      <th>AssetLaunchDate</th>\n",
       "      <th>MaxSupply</th>\n",
       "      <th>MktCapPenalty</th>\n",
       "      <th>PlatformType</th>\n",
       "      <th>BuiltOn</th>\n",
       "      <th>SmartContractAddress</th>\n",
       "      <th>DecimalPoints</th>\n",
       "      <th>Difficulty</th>\n",
       "      <th>IsUsedInDefi</th>\n",
       "    </tr>\n",
       "  </thead>\n",
       "  <tbody>\n",
       "    <tr>\n",
       "      <th>42</th>\n",
       "      <td>4321</td>\n",
       "      <td>/coins/42/overview</td>\n",
       "      <td>/media/35650717/42.jpg</td>\n",
       "      <td>1427211129</td>\n",
       "      <td>42</td>\n",
       "      <td>42</td>\n",
       "      <td>42 Coin</td>\n",
       "      <td>42 Coin (42)</td>\n",
       "      <td>Everything about 42 coin is 42 - apart from th...</td>\n",
       "      <td>N/A</td>\n",
       "      <td>...</td>\n",
       "      <td>0</td>\n",
       "      <td>0000-00-00</td>\n",
       "      <td>0</td>\n",
       "      <td>0</td>\n",
       "      <td>NaN</td>\n",
       "      <td>NaN</td>\n",
       "      <td>NaN</td>\n",
       "      <td>NaN</td>\n",
       "      <td>NaN</td>\n",
       "      <td>NaN</td>\n",
       "    </tr>\n",
       "  </tbody>\n",
       "</table>\n",
       "<p>1 rows × 31 columns</p>\n",
       "</div>"
      ],
      "text/plain": [
       "      Id                 Url                ImageUrl ContentCreatedOn Name  \\\n",
       "42  4321  /coins/42/overview  /media/35650717/42.jpg       1427211129   42   \n",
       "\n",
       "   Symbol CoinName      FullName  \\\n",
       "42     42  42 Coin  42 Coin (42)   \n",
       "\n",
       "                                          Description AssetTokenStatus  ...  \\\n",
       "42  Everything about 42 coin is 42 - apart from th...              N/A  ...   \n",
       "\n",
       "   BlockTime AssetLaunchDate MaxSupply MktCapPenalty PlatformType BuiltOn  \\\n",
       "42         0      0000-00-00         0             0          NaN     NaN   \n",
       "\n",
       "   SmartContractAddress DecimalPoints Difficulty IsUsedInDefi  \n",
       "42                  NaN           NaN        NaN          NaN  \n",
       "\n",
       "[1 rows x 31 columns]"
      ]
     },
     "execution_count": 64,
     "metadata": {},
     "output_type": "execute_result"
    }
   ],
   "source": [
    "# Create a DataFrame \n",
    "# HINT: You will need to use the 'Data' key from the json response, then transpose the DataFrame.\n",
    "# dataframe creation\n",
    "crypto_df = pd.DataFrame(data=data['Data'])\n",
    "\n",
    "# Transpose Dataframe\n",
    "\n",
    "crypto_df = crypto_df.transpose()\n",
    "crypto_df.head(1)"
   ]
  },
  {
   "cell_type": "code",
   "execution_count": 65,
   "metadata": {},
   "outputs": [],
   "source": [
    "# Alternatively, use the provided csv file:\n",
    "# file_path = Path(\"Resources/crypto_data.csv\")\n",
    "\n",
    "# Create a DataFrame\n",
    "# crypto_df = pd.read_csv(file_path)\n",
    "# crypto_df.head()"
   ]
  },
  {
   "cell_type": "markdown",
   "metadata": {},
   "source": [
    "### Data Preprocessing"
   ]
  },
  {
   "cell_type": "code",
   "execution_count": 66,
   "metadata": {},
   "outputs": [
    {
     "data": {
      "text/html": [
       "<div>\n",
       "<style scoped>\n",
       "    .dataframe tbody tr th:only-of-type {\n",
       "        vertical-align: middle;\n",
       "    }\n",
       "\n",
       "    .dataframe tbody tr th {\n",
       "        vertical-align: top;\n",
       "    }\n",
       "\n",
       "    .dataframe thead th {\n",
       "        text-align: right;\n",
       "    }\n",
       "</style>\n",
       "<table border=\"1\" class=\"dataframe\">\n",
       "  <thead>\n",
       "    <tr style=\"text-align: right;\">\n",
       "      <th></th>\n",
       "      <th>CoinName</th>\n",
       "      <th>Algorithm</th>\n",
       "      <th>IsTrading</th>\n",
       "      <th>ProofType</th>\n",
       "      <th>TotalCoinsMined</th>\n",
       "      <th>MaxSupply</th>\n",
       "    </tr>\n",
       "  </thead>\n",
       "  <tbody>\n",
       "    <tr>\n",
       "      <th>42</th>\n",
       "      <td>42 Coin</td>\n",
       "      <td>Scrypt</td>\n",
       "      <td>True</td>\n",
       "      <td>PoW/PoS</td>\n",
       "      <td>0</td>\n",
       "      <td>0</td>\n",
       "    </tr>\n",
       "    <tr>\n",
       "      <th>300</th>\n",
       "      <td>300 token</td>\n",
       "      <td>N/A</td>\n",
       "      <td>True</td>\n",
       "      <td>N/A</td>\n",
       "      <td>300</td>\n",
       "      <td>300</td>\n",
       "    </tr>\n",
       "    <tr>\n",
       "      <th>365</th>\n",
       "      <td>365Coin</td>\n",
       "      <td>X11</td>\n",
       "      <td>True</td>\n",
       "      <td>PoW/PoS</td>\n",
       "      <td>0</td>\n",
       "      <td>0</td>\n",
       "    </tr>\n",
       "    <tr>\n",
       "      <th>404</th>\n",
       "      <td>404Coin</td>\n",
       "      <td>Scrypt</td>\n",
       "      <td>True</td>\n",
       "      <td>PoW/PoS</td>\n",
       "      <td>0</td>\n",
       "      <td>0</td>\n",
       "    </tr>\n",
       "    <tr>\n",
       "      <th>433</th>\n",
       "      <td>433 Token</td>\n",
       "      <td>N/A</td>\n",
       "      <td>False</td>\n",
       "      <td>N/A</td>\n",
       "      <td>NaN</td>\n",
       "      <td>NaN</td>\n",
       "    </tr>\n",
       "  </tbody>\n",
       "</table>\n",
       "</div>"
      ],
      "text/plain": [
       "      CoinName Algorithm IsTrading ProofType TotalCoinsMined MaxSupply\n",
       "42     42 Coin    Scrypt      True   PoW/PoS               0         0\n",
       "300  300 token       N/A      True       N/A             300       300\n",
       "365    365Coin       X11      True   PoW/PoS               0         0\n",
       "404    404Coin    Scrypt      True   PoW/PoS               0         0\n",
       "433  433 Token       N/A     False       N/A             NaN       NaN"
      ]
     },
     "execution_count": 66,
     "metadata": {},
     "output_type": "execute_result"
    }
   ],
   "source": [
    "# Keep only necessary columns:\n",
    "# 'CoinName','Algorithm','IsTrading','ProofType','TotalCoinsMined','TotalCoinSupply'\n",
    "\n",
    "\n",
    "# Reorder Columns that are still in the dataframe\n",
    "crypto_df = crypto_df[['CoinName', 'Algorithm', 'IsTrading', 'ProofType', 'TotalCoinsMined', 'MaxSupply']]\n",
    "\n",
    "crypto_df.head()"
   ]
  },
  {
   "cell_type": "code",
   "execution_count": 67,
   "metadata": {},
   "outputs": [],
   "source": [
    "# Keep only cryptocurrencies that are trading\n",
    "\n",
    "# determine the count of false values(1094)\n",
    "# crypto_df['IsTrading'].value_counts() \n",
    "\n",
    "crypto_df.drop(crypto_df[crypto_df['IsTrading'] == False].index,\n",
    "              inplace=True)"
   ]
  },
  {
   "cell_type": "code",
   "execution_count": 68,
   "metadata": {},
   "outputs": [
    {
     "data": {
      "text/html": [
       "<div>\n",
       "<style scoped>\n",
       "    .dataframe tbody tr th:only-of-type {\n",
       "        vertical-align: middle;\n",
       "    }\n",
       "\n",
       "    .dataframe tbody tr th {\n",
       "        vertical-align: top;\n",
       "    }\n",
       "\n",
       "    .dataframe thead th {\n",
       "        text-align: right;\n",
       "    }\n",
       "</style>\n",
       "<table border=\"1\" class=\"dataframe\">\n",
       "  <thead>\n",
       "    <tr style=\"text-align: right;\">\n",
       "      <th></th>\n",
       "      <th>CoinName</th>\n",
       "      <th>Algorithm</th>\n",
       "      <th>IsTrading</th>\n",
       "      <th>ProofType</th>\n",
       "      <th>TotalCoinsMined</th>\n",
       "      <th>MaxSupply</th>\n",
       "    </tr>\n",
       "  </thead>\n",
       "  <tbody>\n",
       "    <tr>\n",
       "      <th>42</th>\n",
       "      <td>42 Coin</td>\n",
       "      <td>Scrypt</td>\n",
       "      <td>True</td>\n",
       "      <td>PoW/PoS</td>\n",
       "      <td>0</td>\n",
       "      <td>0</td>\n",
       "    </tr>\n",
       "    <tr>\n",
       "      <th>365</th>\n",
       "      <td>365Coin</td>\n",
       "      <td>X11</td>\n",
       "      <td>True</td>\n",
       "      <td>PoW/PoS</td>\n",
       "      <td>0</td>\n",
       "      <td>0</td>\n",
       "    </tr>\n",
       "    <tr>\n",
       "      <th>404</th>\n",
       "      <td>404Coin</td>\n",
       "      <td>Scrypt</td>\n",
       "      <td>True</td>\n",
       "      <td>PoW/PoS</td>\n",
       "      <td>0</td>\n",
       "      <td>0</td>\n",
       "    </tr>\n",
       "    <tr>\n",
       "      <th>611</th>\n",
       "      <td>SixEleven</td>\n",
       "      <td>SHA-256</td>\n",
       "      <td>True</td>\n",
       "      <td>PoW</td>\n",
       "      <td>0</td>\n",
       "      <td>0</td>\n",
       "    </tr>\n",
       "    <tr>\n",
       "      <th>808</th>\n",
       "      <td>808</td>\n",
       "      <td>SHA-256</td>\n",
       "      <td>True</td>\n",
       "      <td>PoW/PoS</td>\n",
       "      <td>0</td>\n",
       "      <td>0</td>\n",
       "    </tr>\n",
       "  </tbody>\n",
       "</table>\n",
       "</div>"
      ],
      "text/plain": [
       "      CoinName Algorithm IsTrading ProofType TotalCoinsMined MaxSupply\n",
       "42     42 Coin    Scrypt      True   PoW/PoS               0         0\n",
       "365    365Coin       X11      True   PoW/PoS               0         0\n",
       "404    404Coin    Scrypt      True   PoW/PoS               0         0\n",
       "611  SixEleven   SHA-256      True       PoW               0         0\n",
       "808        808   SHA-256      True   PoW/PoS               0         0"
      ]
     },
     "execution_count": 68,
     "metadata": {},
     "output_type": "execute_result"
    }
   ],
   "source": [
    "# Keep only cryptocurrencies with a working algorithm\n",
    "crypto_df.drop(crypto_df[crypto_df['Algorithm'] == 'N/A'].index, inplace=True)\n",
    "crypto_df.head()"
   ]
  },
  {
   "cell_type": "code",
   "execution_count": 69,
   "metadata": {},
   "outputs": [],
   "source": [
    "# Remove the \"IsTrading\" column\n",
    "crypto_df.drop(columns = ['IsTrading'], inplace=True)"
   ]
  },
  {
   "cell_type": "code",
   "execution_count": 70,
   "metadata": {},
   "outputs": [],
   "source": [
    "# Remove rows with at least 1 null value\n",
    "crypto_df.dropna(inplace=True)"
   ]
  },
  {
   "cell_type": "code",
   "execution_count": 71,
   "metadata": {},
   "outputs": [],
   "source": [
    "# Remove rows with cryptocurrencies having no coins mined\n",
    "crypto_df.drop(crypto_df[crypto_df['TotalCoinsMined'] == 0].index, inplace=True)"
   ]
  },
  {
   "cell_type": "code",
   "execution_count": 72,
   "metadata": {},
   "outputs": [],
   "source": [
    "# Drop rows where there are 'N/A' text values\n",
    "crypto_df = crypto_df[crypto_df != 'N/A'].dropna()"
   ]
  },
  {
   "cell_type": "code",
   "execution_count": 73,
   "metadata": {},
   "outputs": [],
   "source": [
    "# Store the 'CoinName'column in its own DataFrame prior to dropping it from crypto_df\n",
    "CoinName_df = crypto_df['CoinName'].to_frame()\n"
   ]
  },
  {
   "cell_type": "code",
   "execution_count": 74,
   "metadata": {},
   "outputs": [],
   "source": [
    "# Drop the 'CoinName' column since it's not going to be used on the clustering algorithm\n",
    "crypto_df.drop(columns = ['CoinName'], inplace=True)"
   ]
  },
  {
   "cell_type": "code",
   "execution_count": 75,
   "metadata": {},
   "outputs": [],
   "source": [
    "# Create dummy variables for text features\n",
    "X = pd.get_dummies(crypto_df, columns=['Algorithm', 'ProofType'], drop_first=True)"
   ]
  },
  {
   "cell_type": "code",
   "execution_count": 76,
   "metadata": {},
   "outputs": [],
   "source": [
    "# Standardize data\n",
    "X_scaled = StandardScaler().fit_transform(X)"
   ]
  },
  {
   "cell_type": "markdown",
   "metadata": {},
   "source": [
    "### Reducing Dimensions Using PCA"
   ]
  },
  {
   "cell_type": "code",
   "execution_count": 77,
   "metadata": {},
   "outputs": [],
   "source": [
    "# Use PCA to reduce dimensions to 3 principal components\n",
    "pca = PCA(n_components=3)\n",
    "crypto_pca = pca.fit_transform(X_scaled)"
   ]
  },
  {
   "cell_type": "code",
   "execution_count": 51,
   "metadata": {},
   "outputs": [
    {
     "data": {
      "text/html": [
       "<div>\n",
       "<style scoped>\n",
       "    .dataframe tbody tr th:only-of-type {\n",
       "        vertical-align: middle;\n",
       "    }\n",
       "\n",
       "    .dataframe tbody tr th {\n",
       "        vertical-align: top;\n",
       "    }\n",
       "\n",
       "    .dataframe thead th {\n",
       "        text-align: right;\n",
       "    }\n",
       "</style>\n",
       "<table border=\"1\" class=\"dataframe\">\n",
       "  <thead>\n",
       "    <tr style=\"text-align: right;\">\n",
       "      <th></th>\n",
       "      <th>PC1</th>\n",
       "      <th>PC2</th>\n",
       "      <th>PC3</th>\n",
       "    </tr>\n",
       "  </thead>\n",
       "  <tbody>\n",
       "    <tr>\n",
       "      <th>NVC</th>\n",
       "      <td>-0.691933</td>\n",
       "      <td>0.998911</td>\n",
       "      <td>-1.585910</td>\n",
       "    </tr>\n",
       "    <tr>\n",
       "      <th>XCP</th>\n",
       "      <td>0.149007</td>\n",
       "      <td>-1.671488</td>\n",
       "      <td>0.128820</td>\n",
       "    </tr>\n",
       "    <tr>\n",
       "      <th>NSR</th>\n",
       "      <td>-0.414897</td>\n",
       "      <td>1.249935</td>\n",
       "      <td>0.764498</td>\n",
       "    </tr>\n",
       "    <tr>\n",
       "      <th>MONA</th>\n",
       "      <td>-0.381586</td>\n",
       "      <td>-0.968573</td>\n",
       "      <td>-0.378582</td>\n",
       "    </tr>\n",
       "    <tr>\n",
       "      <th>TRI</th>\n",
       "      <td>-0.759811</td>\n",
       "      <td>1.814183</td>\n",
       "      <td>-2.155481</td>\n",
       "    </tr>\n",
       "  </tbody>\n",
       "</table>\n",
       "</div>"
      ],
      "text/plain": [
       "           PC1       PC2       PC3\n",
       "NVC  -0.691933  0.998911 -1.585910\n",
       "XCP   0.149007 -1.671488  0.128820\n",
       "NSR  -0.414897  1.249935  0.764498\n",
       "MONA -0.381586 -0.968573 -0.378582\n",
       "TRI  -0.759811  1.814183 -2.155481"
      ]
     },
     "execution_count": 51,
     "metadata": {},
     "output_type": "execute_result"
    }
   ],
   "source": [
    "# Create a DataFrame with the principal components data\n",
    "pca_df = pd.DataFrame(data=crypto_pca,\n",
    "                            columns=['PC1', 'PC2', 'PC3'],\n",
    "                            index=crypto_df.index\n",
    "                            )\n",
    "pca_df.head()"
   ]
  },
  {
   "cell_type": "markdown",
   "metadata": {},
   "source": [
    "### Clustering Crytocurrencies Using K-Means\n",
    "\n",
    "#### Find the Best Value for `k` Using the Elbow Curve"
   ]
  },
  {
   "cell_type": "code",
   "execution_count": 18,
   "metadata": {},
   "outputs": [
    {
     "data": {},
     "metadata": {},
     "output_type": "display_data"
    },
    {
     "data": {
      "application/vnd.holoviews_exec.v0+json": "",
      "text/html": [
       "<div id='1001'>\n",
       "\n",
       "\n",
       "\n",
       "\n",
       "\n",
       "  <div class=\"bk-root\" id=\"61692e1d-32c1-4917-90bd-3a36d6f88719\" data-root-id=\"1001\"></div>\n",
       "</div>\n",
       "<script type=\"application/javascript\">(function(root) {\n",
       "  function embed_document(root) {\n",
       "  var docs_json = {\"91b5fb9a-077c-48bc-8a1b-f251d5ad7d18\":{\"roots\":{\"references\":[{\"attributes\":{\"children\":[{\"id\":\"1002\"},{\"id\":\"1006\"},{\"id\":\"1058\"}],\"margin\":[0,0,0,0],\"name\":\"Row01521\",\"tags\":[\"embedded\"]},\"id\":\"1001\",\"type\":\"Row\"},{\"attributes\":{},\"id\":\"1024\",\"type\":\"PanTool\"},{\"attributes\":{\"margin\":[5,5,5,5],\"name\":\"HSpacer01525\",\"sizing_mode\":\"stretch_width\"},\"id\":\"1002\",\"type\":\"Spacer\"},{\"attributes\":{\"line_alpha\":0.2,\"line_color\":\"#1f77b3\",\"line_width\":2,\"x\":{\"field\":\"k\"},\"y\":{\"field\":\"inertia\"}},\"id\":\"1041\",\"type\":\"Line\"},{\"attributes\":{},\"id\":\"1045\",\"type\":\"BasicTickFormatter\"},{\"attributes\":{\"text\":\"Elbow Curve Plot\",\"text_color\":{\"value\":\"black\"},\"text_font_size\":{\"value\":\"12pt\"}},\"id\":\"1007\",\"type\":\"Title\"},{\"attributes\":{},\"id\":\"1011\",\"type\":\"LinearScale\"},{\"attributes\":{\"ticks\":[1,2,3,4,5,6,7,8,9,10]},\"id\":\"1044\",\"type\":\"FixedTicker\"},{\"attributes\":{\"axis_label\":\"inertia\",\"bounds\":\"auto\",\"formatter\":{\"id\":\"1049\"},\"major_label_orientation\":\"horizontal\",\"ticker\":{\"id\":\"1020\"}},\"id\":\"1019\",\"type\":\"LinearAxis\"},{\"attributes\":{\"data\":{\"inertia\":{\"__ndarray__\":\"8CDEaKY7h0AItHkQsHh/QKXiHLNQBXJAlotPI0ZqYkCqJpmCi4xUQOcbZjWSek1AlBF5D0MXQ0Doq7oV/kM9QK0IjBWswDVA+3In2UdvMEA=\",\"dtype\":\"float64\",\"shape\":[10]},\"k\":[1,2,3,4,5,6,7,8,9,10]},\"selected\":{\"id\":\"1037\"},\"selection_policy\":{\"id\":\"1056\"}},\"id\":\"1036\",\"type\":\"ColumnDataSource\"},{\"attributes\":{\"axis\":{\"id\":\"1015\"},\"grid_line_color\":null,\"ticker\":null},\"id\":\"1018\",\"type\":\"Grid\"},{\"attributes\":{\"end\":10.0,\"reset_end\":10.0,\"reset_start\":1.0,\"start\":1.0,\"tags\":[[[\"k\",\"k\",null]]]},\"id\":\"1003\",\"type\":\"Range1d\"},{\"attributes\":{},\"id\":\"1020\",\"type\":\"BasicTicker\"},{\"attributes\":{},\"id\":\"1056\",\"type\":\"UnionRenderers\"},{\"attributes\":{\"bottom_units\":\"screen\",\"fill_alpha\":0.5,\"fill_color\":\"lightgrey\",\"left_units\":\"screen\",\"level\":\"overlay\",\"line_alpha\":1.0,\"line_color\":\"black\",\"line_dash\":[4,4],\"line_width\":2,\"render_mode\":\"css\",\"right_units\":\"screen\",\"top_units\":\"screen\"},\"id\":\"1028\",\"type\":\"BoxAnnotation\"},{\"attributes\":{\"callback\":null,\"renderers\":[{\"id\":\"1042\"}],\"tags\":[\"hv_created\"],\"tooltips\":[[\"k\",\"@{k}\"],[\"inertia\",\"@{inertia}\"]]},\"id\":\"1005\",\"type\":\"HoverTool\"},{\"attributes\":{\"source\":{\"id\":\"1036\"}},\"id\":\"1043\",\"type\":\"CDSView\"},{\"attributes\":{\"axis_label\":\"k\",\"bounds\":\"auto\",\"formatter\":{\"id\":\"1045\"},\"major_label_orientation\":\"horizontal\",\"ticker\":{\"id\":\"1044\"}},\"id\":\"1015\",\"type\":\"LinearAxis\"},{\"attributes\":{\"active_drag\":\"auto\",\"active_inspect\":\"auto\",\"active_multi\":null,\"active_scroll\":\"auto\",\"active_tap\":\"auto\",\"tools\":[{\"id\":\"1005\"},{\"id\":\"1023\"},{\"id\":\"1024\"},{\"id\":\"1025\"},{\"id\":\"1026\"},{\"id\":\"1027\"}]},\"id\":\"1029\",\"type\":\"Toolbar\"},{\"attributes\":{\"overlay\":{\"id\":\"1028\"}},\"id\":\"1026\",\"type\":\"BoxZoomTool\"},{\"attributes\":{\"margin\":[5,5,5,5],\"name\":\"HSpacer01526\",\"sizing_mode\":\"stretch_width\"},\"id\":\"1058\",\"type\":\"Spacer\"},{\"attributes\":{\"end\":816.1584109575916,\"reset_end\":816.1584109575916,\"reset_start\":-56.26746637714507,\"start\":-56.26746637714507,\"tags\":[[[\"inertia\",\"inertia\",null]]]},\"id\":\"1004\",\"type\":\"Range1d\"},{\"attributes\":{},\"id\":\"1037\",\"type\":\"Selection\"},{\"attributes\":{\"line_color\":\"#1f77b3\",\"line_width\":2,\"x\":{\"field\":\"k\"},\"y\":{\"field\":\"inertia\"}},\"id\":\"1039\",\"type\":\"Line\"},{\"attributes\":{},\"id\":\"1023\",\"type\":\"SaveTool\"},{\"attributes\":{},\"id\":\"1027\",\"type\":\"ResetTool\"},{\"attributes\":{\"data_source\":{\"id\":\"1036\"},\"glyph\":{\"id\":\"1039\"},\"hover_glyph\":null,\"muted_glyph\":{\"id\":\"1041\"},\"nonselection_glyph\":{\"id\":\"1040\"},\"selection_glyph\":null,\"view\":{\"id\":\"1043\"}},\"id\":\"1042\",\"type\":\"GlyphRenderer\"},{\"attributes\":{},\"id\":\"1049\",\"type\":\"BasicTickFormatter\"},{\"attributes\":{\"line_alpha\":0.1,\"line_color\":\"#1f77b3\",\"line_width\":2,\"x\":{\"field\":\"k\"},\"y\":{\"field\":\"inertia\"}},\"id\":\"1040\",\"type\":\"Line\"},{\"attributes\":{},\"id\":\"1025\",\"type\":\"WheelZoomTool\"},{\"attributes\":{\"axis\":{\"id\":\"1019\"},\"dimension\":1,\"grid_line_color\":null,\"ticker\":null},\"id\":\"1022\",\"type\":\"Grid\"},{\"attributes\":{},\"id\":\"1013\",\"type\":\"LinearScale\"},{\"attributes\":{\"below\":[{\"id\":\"1015\"}],\"center\":[{\"id\":\"1018\"},{\"id\":\"1022\"}],\"left\":[{\"id\":\"1019\"}],\"margin\":null,\"min_border_bottom\":10,\"min_border_left\":10,\"min_border_right\":10,\"min_border_top\":10,\"plot_height\":300,\"plot_width\":700,\"renderers\":[{\"id\":\"1042\"}],\"sizing_mode\":\"fixed\",\"title\":{\"id\":\"1007\"},\"toolbar\":{\"id\":\"1029\"},\"x_range\":{\"id\":\"1003\"},\"x_scale\":{\"id\":\"1011\"},\"y_range\":{\"id\":\"1004\"},\"y_scale\":{\"id\":\"1013\"}},\"id\":\"1006\",\"subtype\":\"Figure\",\"type\":\"Plot\"}],\"root_ids\":[\"1001\"]},\"title\":\"Bokeh Application\",\"version\":\"2.0.2\"}};\n",
       "  var render_items = [{\"docid\":\"91b5fb9a-077c-48bc-8a1b-f251d5ad7d18\",\"root_ids\":[\"1001\"],\"roots\":{\"1001\":\"61692e1d-32c1-4917-90bd-3a36d6f88719\"}}];\n",
       "  root.Bokeh.embed.embed_items_notebook(docs_json, render_items);\n",
       "  }\n",
       "if (root.Bokeh !== undefined) {\n",
       "    embed_document(root);\n",
       "  } else {\n",
       "    var attempts = 0;\n",
       "    var timer = setInterval(function(root) {\n",
       "      if (root.Bokeh !== undefined) {\n",
       "        clearInterval(timer);\n",
       "        embed_document(root);\n",
       "      } else if (document.readyState == \"complete\") {\n",
       "        attempts++;\n",
       "        if (attempts > 100) {\n",
       "          clearInterval(timer);\n",
       "          console.log(\"Bokeh: ERROR: Unable to run BokehJS code because BokehJS library is missing\");\n",
       "        }\n",
       "      }\n",
       "    }, 10, root)\n",
       "  }\n",
       "})(window);</script>"
      ],
      "text/plain": [
       ":Curve   [k]   (inertia)"
      ]
     },
     "execution_count": 18,
     "metadata": {
      "application/vnd.holoviews_exec.v0+json": {
       "id": "1001"
      }
     },
     "output_type": "execute_result"
    }
   ],
   "source": [
    "inertia = []\n",
    "k = list(range(1, 11))\n",
    "\n",
    "# Calculate the inertia for the range of k values\n",
    "# set up a FOR loopy to run thru.. \n",
    "for i in k:\n",
    "    km = KMeans(n_clusters=i, random_state=6)\n",
    "    km.fit(pca_df)\n",
    "    inertia.append(km.inertia_)\n",
    "\n",
    "# Create the Elbow Curve using hvPlot\n",
    "elbow_data = {'k': k, 'inertia': inertia}\n",
    "elbow_df = pd.DataFrame(elbow_data)\n",
    "\n",
    "elbow_df.hvplot.line(x=\"k\", y=\"inertia\", xticks=k, title=\"Elbow Curve Plot\")"
   ]
  },
  {
   "cell_type": "markdown",
   "metadata": {},
   "source": [
    "Running K-Means with `k=<5>`"
   ]
  },
  {
   "cell_type": "code",
   "execution_count": 19,
   "metadata": {},
   "outputs": [
    {
     "data": {
      "text/html": [
       "<div>\n",
       "<style scoped>\n",
       "    .dataframe tbody tr th:only-of-type {\n",
       "        vertical-align: middle;\n",
       "    }\n",
       "\n",
       "    .dataframe tbody tr th {\n",
       "        vertical-align: top;\n",
       "    }\n",
       "\n",
       "    .dataframe thead th {\n",
       "        text-align: right;\n",
       "    }\n",
       "</style>\n",
       "<table border=\"1\" class=\"dataframe\">\n",
       "  <thead>\n",
       "    <tr style=\"text-align: right;\">\n",
       "      <th></th>\n",
       "      <th>PC1</th>\n",
       "      <th>PC2</th>\n",
       "      <th>PC3</th>\n",
       "      <th>class</th>\n",
       "    </tr>\n",
       "  </thead>\n",
       "  <tbody>\n",
       "    <tr>\n",
       "      <th>NVC</th>\n",
       "      <td>-0.691933</td>\n",
       "      <td>0.998911</td>\n",
       "      <td>-1.585910</td>\n",
       "      <td>3</td>\n",
       "    </tr>\n",
       "    <tr>\n",
       "      <th>XCP</th>\n",
       "      <td>0.149007</td>\n",
       "      <td>-1.671488</td>\n",
       "      <td>0.128820</td>\n",
       "      <td>1</td>\n",
       "    </tr>\n",
       "    <tr>\n",
       "      <th>NSR</th>\n",
       "      <td>-0.414897</td>\n",
       "      <td>1.249935</td>\n",
       "      <td>0.764498</td>\n",
       "      <td>4</td>\n",
       "    </tr>\n",
       "    <tr>\n",
       "      <th>MONA</th>\n",
       "      <td>-0.381586</td>\n",
       "      <td>-0.968573</td>\n",
       "      <td>-0.378582</td>\n",
       "      <td>1</td>\n",
       "    </tr>\n",
       "    <tr>\n",
       "      <th>TRI</th>\n",
       "      <td>-0.759811</td>\n",
       "      <td>1.814183</td>\n",
       "      <td>-2.155481</td>\n",
       "      <td>3</td>\n",
       "    </tr>\n",
       "  </tbody>\n",
       "</table>\n",
       "</div>"
      ],
      "text/plain": [
       "           PC1       PC2       PC3  class\n",
       "NVC  -0.691933  0.998911 -1.585910      3\n",
       "XCP   0.149007 -1.671488  0.128820      1\n",
       "NSR  -0.414897  1.249935  0.764498      4\n",
       "MONA -0.381586 -0.968573 -0.378582      1\n",
       "TRI  -0.759811  1.814183 -2.155481      3"
      ]
     },
     "execution_count": 19,
     "metadata": {},
     "output_type": "execute_result"
    }
   ],
   "source": [
    "# Initialize the K-Means model\n",
    "model = KMeans(n_clusters=5, random_state=0)\n",
    "\n",
    "# Fit the model\n",
    "model.fit(pca_df)\n",
    "\n",
    "# Predict clusters\n",
    "predictions = model.predict(pca_df)\n",
    "\n",
    "# add the predicted class columns\n",
    "pca_df['class'] = model.labels_\n",
    "pca_df.head()"
   ]
  },
  {
   "cell_type": "code",
   "execution_count": 20,
   "metadata": {},
   "outputs": [
    {
     "data": {
      "text/html": [
       "<div>\n",
       "<style scoped>\n",
       "    .dataframe tbody tr th:only-of-type {\n",
       "        vertical-align: middle;\n",
       "    }\n",
       "\n",
       "    .dataframe tbody tr th {\n",
       "        vertical-align: top;\n",
       "    }\n",
       "\n",
       "    .dataframe thead th {\n",
       "        text-align: right;\n",
       "    }\n",
       "</style>\n",
       "<table border=\"1\" class=\"dataframe\">\n",
       "  <thead>\n",
       "    <tr style=\"text-align: right;\">\n",
       "      <th></th>\n",
       "      <th>Algorithm</th>\n",
       "      <th>ProofType</th>\n",
       "      <th>TotalCoinsMined</th>\n",
       "      <th>MaxSupply</th>\n",
       "      <th>CoinName</th>\n",
       "      <th>PC1</th>\n",
       "      <th>PC2</th>\n",
       "      <th>PC3</th>\n",
       "      <th>class</th>\n",
       "    </tr>\n",
       "  </thead>\n",
       "  <tbody>\n",
       "    <tr>\n",
       "      <th>NVC</th>\n",
       "      <td>Scrypt</td>\n",
       "      <td>PoW/PoS</td>\n",
       "      <td>3.10002e+06</td>\n",
       "      <td>-1</td>\n",
       "      <td>NovaCoin</td>\n",
       "      <td>-0.691933</td>\n",
       "      <td>0.998911</td>\n",
       "      <td>-1.585910</td>\n",
       "      <td>3</td>\n",
       "    </tr>\n",
       "    <tr>\n",
       "      <th>XCP</th>\n",
       "      <td>SHA-256</td>\n",
       "      <td>PoW</td>\n",
       "      <td>2.6152e+06</td>\n",
       "      <td>-1</td>\n",
       "      <td>CounterParty</td>\n",
       "      <td>0.149007</td>\n",
       "      <td>-1.671488</td>\n",
       "      <td>0.128820</td>\n",
       "      <td>1</td>\n",
       "    </tr>\n",
       "    <tr>\n",
       "      <th>NSR</th>\n",
       "      <td>PoS</td>\n",
       "      <td>PoS</td>\n",
       "      <td>5.85104e+09</td>\n",
       "      <td>0</td>\n",
       "      <td>NuShares</td>\n",
       "      <td>-0.414897</td>\n",
       "      <td>1.249935</td>\n",
       "      <td>0.764498</td>\n",
       "      <td>4</td>\n",
       "    </tr>\n",
       "    <tr>\n",
       "      <th>MONA</th>\n",
       "      <td>Scrypt</td>\n",
       "      <td>PoW</td>\n",
       "      <td>8.02433e+07</td>\n",
       "      <td>-1</td>\n",
       "      <td>MonaCoin</td>\n",
       "      <td>-0.381586</td>\n",
       "      <td>-0.968573</td>\n",
       "      <td>-0.378582</td>\n",
       "      <td>1</td>\n",
       "    </tr>\n",
       "    <tr>\n",
       "      <th>TRI</th>\n",
       "      <td>X13</td>\n",
       "      <td>PoW/PoS</td>\n",
       "      <td>169926</td>\n",
       "      <td>0</td>\n",
       "      <td>Triangles Coin</td>\n",
       "      <td>-0.759811</td>\n",
       "      <td>1.814183</td>\n",
       "      <td>-2.155481</td>\n",
       "      <td>3</td>\n",
       "    </tr>\n",
       "  </tbody>\n",
       "</table>\n",
       "</div>"
      ],
      "text/plain": [
       "     Algorithm ProofType TotalCoinsMined MaxSupply        CoinName       PC1  \\\n",
       "NVC     Scrypt   PoW/PoS     3.10002e+06        -1        NovaCoin -0.691933   \n",
       "XCP    SHA-256       PoW      2.6152e+06        -1    CounterParty  0.149007   \n",
       "NSR        PoS       PoS     5.85104e+09         0        NuShares -0.414897   \n",
       "MONA    Scrypt       PoW     8.02433e+07        -1        MonaCoin -0.381586   \n",
       "TRI        X13   PoW/PoS          169926         0  Triangles Coin -0.759811   \n",
       "\n",
       "           PC2       PC3  class  \n",
       "NVC   0.998911 -1.585910      3  \n",
       "XCP  -1.671488  0.128820      1  \n",
       "NSR   1.249935  0.764498      4  \n",
       "MONA -0.968573 -0.378582      1  \n",
       "TRI   1.814183 -2.155481      3  "
      ]
     },
     "execution_count": 20,
     "metadata": {},
     "output_type": "execute_result"
    }
   ],
   "source": [
    "# Create a new DataFrame including predicted clusters and cryptocurrencies features\n",
    "clustered_df = pd.concat([crypto_df, CoinName_df, pca_df], axis=1)\n",
    "clustered_df.head()"
   ]
  },
  {
   "cell_type": "markdown",
   "metadata": {},
   "source": [
    "### Visualizing Results\n",
    "\n",
    "#### 3D-Scatter with Clusters"
   ]
  },
  {
   "cell_type": "code",
   "execution_count": 86,
   "metadata": {},
   "outputs": [
    {
     "data": {
      "application/vnd.plotly.v1+json": {
       "config": {
        "plotlyServerURL": "https://plot.ly"
       },
       "data": [
        {
         "customdata": [
          [
           "Scrypt"
          ],
          [
           "X13"
          ],
          [
           "SHA-256"
          ],
          [
           "X11"
          ],
          [
           "Scrypt"
          ],
          [
           "Equihash"
          ],
          [
           "Scrypt"
          ],
          [
           "Scrypt"
          ],
          [
           "X13"
          ],
          [
           "X11"
          ],
          [
           "Scrypt"
          ],
          [
           "Quark"
          ],
          [
           "Scrypt"
          ],
          [
           "BLAKE256"
          ],
          [
           "Scrypt"
          ],
          [
           "BMW512 / Echo512"
          ],
          [
           "X11"
          ],
          [
           "Scrypt"
          ],
          [
           "X13"
          ],
          [
           "Quark"
          ],
          [
           "Equihash210,9"
          ],
          [
           "X13"
          ],
          [
           "Quark"
          ],
          [
           "BLAKE256"
          ]
         ],
         "hovertemplate": "<b>%{hovertext}</b><br><br>class=%{marker.color}<br>PC3=%{x}<br>PC2=%{y}<br>PC1=%{z}<br>Algorithm=%{customdata[0]}<extra></extra>",
         "hovertext": [
          "NovaCoin",
          "Triangles Coin",
          "Emercoin",
          "Stakenet",
          "OpenChat",
          "Zelcash",
          "Buxcoin",
          "Auroracoin",
          "Bitcoin Diamond",
          "Dash",
          "SaluS",
          "QuarkCoin",
          "PotCoin",
          "HyperCash",
          "Reddcoin",
          "DigitalNote ",
          "IOCoin",
          "WhiteCoin",
          "CloakCoin",
          "BlockNet",
          "Aion",
          "NavCoin",
          "Private Instant Verified Transaction",
          "Decred"
         ],
         "legendgroup": "3",
         "marker": {
          "color": [
           3,
           3,
           3,
           3,
           3,
           3,
           3,
           3,
           3,
           3,
           3,
           3,
           3,
           3,
           3,
           3,
           3,
           3,
           3,
           3,
           3,
           3,
           3,
           3
          ],
          "coloraxis": "coloraxis",
          "symbol": "circle"
         },
         "mode": "markers",
         "name": "3",
         "scene": "scene",
         "showlegend": true,
         "type": "scatter3d",
         "x": [
          -1.5859103448756544,
          -2.1554814197432837,
          -1.0785422109890348,
          -0.570497863254177,
          -1.5864511732902298,
          -1.1023411790276614,
          -1.5860351754354711,
          -1.5859203063468537,
          -2.155592088735301,
          -0.5704490110788033,
          -1.585909767397109,
          -2.133362479901863,
          -1.5860826535042896,
          -2.112014743581629,
          -1.59426736560027,
          -2.0942880656487,
          -1.4116711446017307,
          -1.5864248742484108,
          -2.155482927782169,
          -2.1332897817797885,
          -2.091754266819596,
          -2.1555011147283123,
          -2.1332879549141133,
          -2.1119891314133357
         ],
         "y": [
          0.9989113667189862,
          1.8141828841019008,
          0.2959709855686673,
          1.0067895554843462,
          0.9985419181861641,
          0.5982126538424388,
          0.9988193359470199,
          0.9989046374396636,
          1.8141074415898588,
          1.006822381314341,
          0.9989117924624583,
          1.7999001879843455,
          0.9987966283679375,
          1.7862045195725356,
          0.9927501905636751,
          1.7711535058723555,
          1.3103839116967173,
          0.9985613070371324,
          1.8141817723069469,
          1.79995378434973,
          1.7728060748079824,
          1.8141683640622386,
          1.799955131198277,
          1.7862215577168503
         ],
         "z": [
          -0.6919333671342526,
          -0.7598109442630726,
          -0.16087185125334585,
          -0.5880482451348608,
          -0.6841941593509966,
          -0.6285446216914083,
          -0.6902049063090878,
          -0.6917901723913622,
          -0.7582259342370917,
          -0.5885712443223557,
          -0.6919413631653704,
          -0.7544928906309123,
          -0.68944222988297,
          -0.7508367844181125,
          -0.5762182493093179,
          -0.7170069680111462,
          -0.6873344960531511,
          -0.6845583078703148,
          -0.7597900632696029,
          -0.7554995019627568,
          -0.7445125478374801,
          -0.7595382385242757,
          -0.7555247975774958,
          -0.7512072131904715
         ]
        },
        {
         "customdata": [
          [
           "SHA-256"
          ],
          [
           "Scrypt"
          ],
          [
           "Scrypt"
          ],
          [
           "X11"
          ],
          [
           "Equihash"
          ],
          [
           "IMesh"
          ],
          [
           "Equihash"
          ],
          [
           "CryptoNight"
          ],
          [
           "Eaglesong"
          ],
          [
           "C31"
          ],
          [
           "SHA-256"
          ],
          [
           "Scrypt"
          ],
          [
           "CryptoNight-Heavy"
          ],
          [
           "CryptoNight-Lite"
          ],
          [
           "SHA-256"
          ],
          [
           "SHA-256"
          ],
          [
           "CryptoNight"
          ],
          [
           "IMesh"
          ],
          [
           "Equihash"
          ],
          [
           "Scrypt"
          ],
          [
           "Dagger-Hashimoto"
          ],
          [
           "Equihash"
          ],
          [
           "SHA-256"
          ],
          [
           "PoS"
          ],
          [
           "Ethash"
          ],
          [
           "C31"
          ],
          [
           "SHA-256"
          ],
          [
           "Ethash"
          ],
          [
           "Scrypt"
          ],
          [
           "Scrypt"
          ],
          [
           "SHA-256"
          ],
          [
           "Scrypt"
          ],
          [
           "X11GOST"
          ],
          [
           "Equihash"
          ],
          [
           "Groestl"
          ],
          [
           "Scrypt"
          ],
          [
           "SHA-256"
          ],
          [
           "NeoScrypt"
          ],
          [
           "KECCAK"
          ],
          [
           "MTP"
          ],
          [
           "Scrypt"
          ],
          [
           "Multiple"
          ],
          [
           "Blake2b"
          ],
          [
           "Tensority"
          ],
          [
           "Equihash"
          ],
          [
           "SHA-256"
          ],
          [
           "Multiple"
          ],
          [
           "Lyra2REv2"
          ],
          [
           "Blake2b"
          ],
          [
           "Ethash"
          ],
          [
           "Scrypt"
          ],
          [
           "RandomX"
          ]
         ],
         "hovertemplate": "<b>%{hovertext}</b><br><br>class=%{marker.color}<br>PC3=%{x}<br>PC2=%{y}<br>PC1=%{z}<br>Algorithm=%{customdata[0]}<extra></extra>",
         "hovertext": [
          "CounterParty",
          "MonaCoin",
          "CometCoin",
          "Pura",
          "Bitcoin Private",
          "Aidos Kuneen",
          "Beam",
          "Beldex",
          "Nervos Network",
          "MimbleWimbleCoin",
          "Arweave",
          "Primas",
          "Loki",
          "AEON",
          "Bitcoin Vault",
          "Bitcoin ABC",
          "ByteCoin",
          "INT",
          "Komodo",
          "GoldCoin",
          "Ubiq",
          "ZCash",
          "Bitcoin",
          "Steem",
          "Ethereum",
          "Grin",
          "Bitcoin SV",
          "Expanse",
          "MegaCoin",
          "Gulden",
          "Namecoin",
          "Einsteinium",
          "SibCoin",
          "Bitcoin Gold",
          "Groestlcoin",
          "ViaCoin",
          "SysCoin",
          "FeatherCoin",
          "SmartCash",
          "Firo",
          "Dogecoin",
          "Verge",
          "Siacoin",
          "Bytom",
          "Horizen",
          "Bitcoin Cash",
          "DigiByte",
          "Vertcoin",
          "Nano",
          "Ethereum Classic",
          "Litecoin",
          "Monero"
         ],
         "legendgroup": "1",
         "marker": {
          "color": [
           1,
           1,
           1,
           1,
           1,
           1,
           1,
           1,
           1,
           1,
           1,
           1,
           1,
           1,
           1,
           1,
           1,
           1,
           1,
           1,
           1,
           1,
           1,
           1,
           1,
           1,
           1,
           1,
           1,
           1,
           1,
           1,
           1,
           1,
           1,
           1,
           1,
           1,
           1,
           1,
           1,
           1,
           1,
           1,
           1,
           1,
           1,
           1,
           1,
           1,
           1,
           1
          ],
          "coloraxis": "coloraxis",
          "symbol": "diamond"
         },
         "mode": "markers",
         "name": "1",
         "scene": "scene",
         "showlegend": true,
         "type": "scatter3d",
         "x": [
          0.12882015635395344,
          -0.37858185598846256,
          -0.3785596898267554,
          -0.2043626584581612,
          0.1050903378122271,
          0.3946585321298938,
          0.105010626509681,
          0.23904066610076743,
          0.2694601822899217,
          0.28899961060288865,
          0.12878576347232001,
          -0.3786136154845389,
          0.2861894420945999,
          0.2862085958271815,
          0.12881246795417117,
          0.12881017741500395,
          0.1395061038494646,
          0.608392456670236,
          0.038728127098031064,
          -0.37859044083081644,
          0.2861909103251073,
          0.10508891389638572,
          0.12881018259803148,
          0.4869554073207091,
          0.29185037005875597,
          0.2889915013465859,
          0.12881017559811328,
          0.29184632609592065,
          -0.37858146204078885,
          -0.3791475504048553,
          0.12881606642255547,
          -0.37862120636370084,
          0.2861971028987499,
          0.10508669787409734,
          0.286121911285933,
          -0.37856591766975484,
          0.12841913835763685,
          0.2859149035829005,
          0.282208003946323,
          0.2862010212588057,
          -0.4142388342171466,
          0.27103078263670277,
          0.2700872477597958,
          0.28520370409869555,
          0.10508892579717641,
          0.12881017504528883,
          0.2705603742661635,
          0.2861429303452029,
          0.28266101850929387,
          0.2917922663177067,
          -0.37860013057935643,
          0.2862085597323312
         ],
         "y": [
          -1.6714879172464803,
          -0.9685725128361884,
          -0.9685561709325696,
          -0.6571153588373028,
          -1.3692007469031164,
          -1.1877062182186993,
          -1.3692524725724444,
          -1.6933078917545947,
          -1.6656872671280665,
          -1.6671431040494284,
          -1.6715113411080147,
          -0.968592999902895,
          -1.6547762765822882,
          -1.6547637843263663,
          -1.6714929707140667,
          -1.6714946594038271,
          -1.7612889808142866,
          0.0819212161039829,
          -0.23393120712475562,
          -0.96857672699458,
          -1.6547753189876824,
          -1.3692018515276094,
          -1.6714946555826613,
          -0.758492167224468,
          -1.6799977008556728,
          -1.6671496680583457,
          -1.6714946607433196,
          -1.679997754769445,
          -0.9685709928585192,
          -0.9689403868555974,
          -1.6714909325301113,
          -0.9686015237243518,
          -1.6547702090707057,
          -1.3692034852801303,
          -1.6548149655586843,
          -0.9685607623819994,
          -1.671757569950972,
          -1.6549381964096825,
          -1.657117996439016,
          -1.6547676330759775,
          -0.9948604605716649,
          -1.6779167363510625,
          -1.6799933847977755,
          -1.6554084741764246,
          -1.3692018427538046,
          -1.6714946611508867,
          -1.678133416345278,
          -1.6548023277764918,
          -1.6707195277279023,
          -1.6800343693791269,
          -0.96858352661361,
          -1.6547638078677835
         ],
         "z": [
          0.14900652378929755,
          -0.38158589555191186,
          -0.38189281832931116,
          -0.3767155716896045,
          -0.3196706255329393,
          -0.31693279593855395,
          -0.31850662027596915,
          0.1316445700061245,
          -0.08680319901462348,
          -0.26997637256289425,
          0.149499286273944,
          -0.3811210739877959,
          -0.26840719444938244,
          -0.2686151172387438,
          0.1491182445493609,
          0.14914996039863,
          1.5560830851069414,
          -0.48670879098057374,
          -0.4977580958706247,
          -0.38144891745030696,
          -0.2684231327829954,
          -0.31965137896204315,
          0.14914988863205922,
          -0.31912606378771724,
          -0.2708420153407179,
          -0.26986910112565443,
          0.14914998555611547,
          -0.27076095568176345,
          -0.381580822986096,
          -0.37333193905224754,
          0.14906315484349356,
          -0.38104103232167164,
          -0.2684822292116578,
          -0.31962069490744727,
          -0.2676334813360855,
          -0.38180658477693286,
          0.154781779881132,
          -0.26529691958528556,
          -0.2232518376872345,
          -0.26852461005817657,
          0.1121368763517213,
          -0.069709652384389,
          -0.04644087111077859,
          -0.25762527542594416,
          -0.31965154374582005,
          0.1491499932107792,
          -0.0620820197181179,
          -0.2678697800003392,
          -0.22050963281900768,
          -0.26998467228125483,
          -0.3813118025479472,
          -0.2686147254122018
         ]
        },
        {
         "customdata": [
          [
           "PoS"
          ],
          [
           "SHA-512"
          ],
          [
           "ECC 256K1"
          ],
          [
           "DPoS"
          ],
          [
           "DPoS"
          ],
          [
           "DPoS"
          ],
          [
           "BEP2 Token"
          ],
          [
           "DPoS"
          ],
          [
           "Scrypt"
          ],
          [
           "PoS"
          ],
          [
           "DPoS"
          ],
          [
           "VeChainThor Authority"
          ],
          [
           "POS 3.0"
          ],
          [
           "VBFT"
          ],
          [
           "Loopchain"
          ],
          [
           "SHA-512"
          ],
          [
           "Ouroboros"
          ],
          [
           "DPoS"
          ]
         ],
         "hovertemplate": "<b>%{hovertext}</b><br><br>class=%{marker.color}<br>PC3=%{x}<br>PC2=%{y}<br>PC1=%{z}<br>Algorithm=%{customdata[0]}<extra></extra>",
         "hovertext": [
          "NuShares",
          "Kcash",
          "Acute Angle Cloud",
          "Lisk",
          "Achain",
          "ARK",
          "Binance Coin",
          "Rise",
          "BlackCoin",
          "Nxt",
          "Shift",
          "VeChain",
          "QTUM",
          "Ontology",
          "ICON Project",
          "Bitshares",
          "Cardano",
          "EOS"
         ],
         "legendgroup": "4",
         "marker": {
          "color": [
           4,
           4,
           4,
           4,
           4,
           4,
           4,
           4,
           4,
           4,
           4,
           4,
           4,
           4,
           4,
           4,
           4,
           4
          ],
          "coloraxis": "coloraxis",
          "symbol": "square"
         },
         "mode": "markers",
         "name": "4",
         "scene": "scene",
         "showlegend": true,
         "type": "scatter3d",
         "x": [
          0.7644981230668126,
          1.1258451805594891,
          0.11707758856338363,
          0.3107286469657653,
          0.3104892770839095,
          0.31072538258156573,
          0.11795859312075166,
          0.6111649204065698,
          -0.09953047800370252,
          0.7900554866792879,
          0.310764505427464,
          0.8498282144891364,
          0.8356987995709041,
          0.835261213563529,
          0.8353315938606558,
          0.9348583913918067,
          0.7950462977282413,
          0.3104820061714552
         ],
         "y": [
          1.2499349767616756,
          1.9173427434255532,
          0.4961932931633942,
          2.1472156306838746,
          2.1470391563090074,
          2.1472132240312254,
          0.49672577267759255,
          2.0119783915099494,
          1.0409698131181426,
          0.8296344505381135,
          2.1472420671743984,
          1.7114162056972804,
          1.8462368564301688,
          1.8459459592173346,
          1.845991861950961,
          1.8742595502051664,
          1.822012514219496,
          2.147033795861287
         ],
         "z": [
          -0.41489718643035783,
          -0.5277977840065627,
          -0.26274252443433704,
          1.8057770331039236,
          1.809091457585735,
          1.805822233255356,
          -0.2726258415598812,
          0.2854617570147852,
          -0.4982215780464723,
          -0.48898172044859917,
          1.8052805205000624,
          1.6636075577431653,
          -0.4480207161632721,
          -0.4433122405578252,
          -0.4440762518355602,
          -0.43710110900193133,
          0.01065434590568366,
          1.8091921339531982
         ]
        },
        {
         "customdata": [
          [
           "Dagger"
          ],
          [
           "SPoS"
          ],
          [
           "Shabal256"
          ],
          [
           "SHA3"
          ],
          [
           "Proof-of-Authority"
          ],
          [
           "Leased POS"
          ]
         ],
         "hovertemplate": "<b>%{hovertext}</b><br><br>class=%{marker.color}<br>PC3=%{x}<br>PC2=%{y}<br>PC1=%{z}<br>Algorithm=%{customdata[0]}<extra></extra>",
         "hovertext": [
          "Amber",
          "V Systems",
          "BurstCoin",
          "Nexus",
          "Poa Network",
          "Waves"
         ],
         "legendgroup": "0",
         "marker": {
          "color": [
           0,
           0,
           0,
           0,
           0,
           0
          ],
          "coloraxis": "coloraxis",
          "symbol": "x"
         },
         "mode": "markers",
         "name": "0",
         "scene": "scene",
         "showlegend": true,
         "type": "scatter3d",
         "x": [
          5.627494435024947,
          3.7526129386556004,
          3.781326064875389,
          3.853085641894198,
          5.6276936330658,
          3.853774080687856
         ],
         "y": [
          1.9836850946580957,
          1.9192951229591113,
          1.9219481797196194,
          1.9270995683782344,
          1.9838150136124384,
          1.9271375068017316
         ],
         "z": [
          -0.6024120370942337,
          -0.5272278691920772,
          -0.5463388944448819,
          -0.6004451172923223,
          -0.6045744256594174,
          -0.6010134451530698
         ]
        },
        {
         "customdata": [
          [
           "TRC10"
          ],
          [
           "SHA-256"
          ]
         ],
         "hovertemplate": "<b>%{hovertext}</b><br><br>class=%{marker.color}<br>PC3=%{x}<br>PC2=%{y}<br>PC1=%{z}<br>Algorithm=%{customdata[0]}<extra></extra>",
         "hovertext": [
          "BitTorrent",
          "Wibcoin"
         ],
         "legendgroup": "2",
         "marker": {
          "color": [
           2,
           2
          ],
          "coloraxis": "coloraxis",
          "symbol": "cross"
         },
         "mode": "markers",
         "name": "2",
         "scene": "scene",
         "showlegend": true,
         "type": "scatter3d",
         "x": [
          -0.8119856482584501,
          -0.41288234616554165
         ],
         "y": [
          1.4435900991954063,
          -2.041580377749068
         ],
         "z": [
          13.745931795064658,
          7.900321520308602
         ]
        }
       ],
       "layout": {
        "autosize": true,
        "coloraxis": {
         "colorbar": {
          "title": {
           "text": "class"
          }
         },
         "colorscale": [
          [
           0,
           "#0d0887"
          ],
          [
           0.1111111111111111,
           "#46039f"
          ],
          [
           0.2222222222222222,
           "#7201a8"
          ],
          [
           0.3333333333333333,
           "#9c179e"
          ],
          [
           0.4444444444444444,
           "#bd3786"
          ],
          [
           0.5555555555555556,
           "#d8576b"
          ],
          [
           0.6666666666666666,
           "#ed7953"
          ],
          [
           0.7777777777777778,
           "#fb9f3a"
          ],
          [
           0.8888888888888888,
           "#fdca26"
          ],
          [
           1,
           "#f0f921"
          ]
         ]
        },
        "legend": {
         "title": {
          "text": "class"
         },
         "tracegroupgap": 0,
         "x": 0,
         "y": 1
        },
        "margin": {
         "t": 60
        },
        "scene": {
         "aspectmode": "auto",
         "aspectratio": {
          "x": 0.9989981287368029,
          "y": 0.5376425758556008,
          "z": 1.861837066052422
         },
         "camera": {
          "center": {
           "x": 0,
           "y": 0,
           "z": 0
          },
          "eye": {
           "x": 7.373945933395587e-05,
           "y": 0.000906447759217255,
           "z": 0.009958559883434314
          },
          "projection": {
           "type": "perspective"
          },
          "up": {
           "x": 0,
           "y": 0,
           "z": 1
          }
         },
         "domain": {
          "x": [
           0,
           1
          ],
          "y": [
           0,
           1
          ]
         },
         "xaxis": {
          "title": {
           "text": "PC3"
          },
          "type": "linear"
         },
         "yaxis": {
          "title": {
           "text": "PC2"
          },
          "type": "linear"
         },
         "zaxis": {
          "title": {
           "text": "PC1"
          },
          "type": "linear"
         }
        },
        "template": {
         "data": {
          "bar": [
           {
            "error_x": {
             "color": "#2a3f5f"
            },
            "error_y": {
             "color": "#2a3f5f"
            },
            "marker": {
             "line": {
              "color": "#E5ECF6",
              "width": 0.5
             }
            },
            "type": "bar"
           }
          ],
          "barpolar": [
           {
            "marker": {
             "line": {
              "color": "#E5ECF6",
              "width": 0.5
             }
            },
            "type": "barpolar"
           }
          ],
          "carpet": [
           {
            "aaxis": {
             "endlinecolor": "#2a3f5f",
             "gridcolor": "white",
             "linecolor": "white",
             "minorgridcolor": "white",
             "startlinecolor": "#2a3f5f"
            },
            "baxis": {
             "endlinecolor": "#2a3f5f",
             "gridcolor": "white",
             "linecolor": "white",
             "minorgridcolor": "white",
             "startlinecolor": "#2a3f5f"
            },
            "type": "carpet"
           }
          ],
          "choropleth": [
           {
            "colorbar": {
             "outlinewidth": 0,
             "ticks": ""
            },
            "type": "choropleth"
           }
          ],
          "contour": [
           {
            "colorbar": {
             "outlinewidth": 0,
             "ticks": ""
            },
            "colorscale": [
             [
              0,
              "#0d0887"
             ],
             [
              0.1111111111111111,
              "#46039f"
             ],
             [
              0.2222222222222222,
              "#7201a8"
             ],
             [
              0.3333333333333333,
              "#9c179e"
             ],
             [
              0.4444444444444444,
              "#bd3786"
             ],
             [
              0.5555555555555556,
              "#d8576b"
             ],
             [
              0.6666666666666666,
              "#ed7953"
             ],
             [
              0.7777777777777778,
              "#fb9f3a"
             ],
             [
              0.8888888888888888,
              "#fdca26"
             ],
             [
              1,
              "#f0f921"
             ]
            ],
            "type": "contour"
           }
          ],
          "contourcarpet": [
           {
            "colorbar": {
             "outlinewidth": 0,
             "ticks": ""
            },
            "type": "contourcarpet"
           }
          ],
          "heatmap": [
           {
            "colorbar": {
             "outlinewidth": 0,
             "ticks": ""
            },
            "colorscale": [
             [
              0,
              "#0d0887"
             ],
             [
              0.1111111111111111,
              "#46039f"
             ],
             [
              0.2222222222222222,
              "#7201a8"
             ],
             [
              0.3333333333333333,
              "#9c179e"
             ],
             [
              0.4444444444444444,
              "#bd3786"
             ],
             [
              0.5555555555555556,
              "#d8576b"
             ],
             [
              0.6666666666666666,
              "#ed7953"
             ],
             [
              0.7777777777777778,
              "#fb9f3a"
             ],
             [
              0.8888888888888888,
              "#fdca26"
             ],
             [
              1,
              "#f0f921"
             ]
            ],
            "type": "heatmap"
           }
          ],
          "heatmapgl": [
           {
            "colorbar": {
             "outlinewidth": 0,
             "ticks": ""
            },
            "colorscale": [
             [
              0,
              "#0d0887"
             ],
             [
              0.1111111111111111,
              "#46039f"
             ],
             [
              0.2222222222222222,
              "#7201a8"
             ],
             [
              0.3333333333333333,
              "#9c179e"
             ],
             [
              0.4444444444444444,
              "#bd3786"
             ],
             [
              0.5555555555555556,
              "#d8576b"
             ],
             [
              0.6666666666666666,
              "#ed7953"
             ],
             [
              0.7777777777777778,
              "#fb9f3a"
             ],
             [
              0.8888888888888888,
              "#fdca26"
             ],
             [
              1,
              "#f0f921"
             ]
            ],
            "type": "heatmapgl"
           }
          ],
          "histogram": [
           {
            "marker": {
             "colorbar": {
              "outlinewidth": 0,
              "ticks": ""
             }
            },
            "type": "histogram"
           }
          ],
          "histogram2d": [
           {
            "colorbar": {
             "outlinewidth": 0,
             "ticks": ""
            },
            "colorscale": [
             [
              0,
              "#0d0887"
             ],
             [
              0.1111111111111111,
              "#46039f"
             ],
             [
              0.2222222222222222,
              "#7201a8"
             ],
             [
              0.3333333333333333,
              "#9c179e"
             ],
             [
              0.4444444444444444,
              "#bd3786"
             ],
             [
              0.5555555555555556,
              "#d8576b"
             ],
             [
              0.6666666666666666,
              "#ed7953"
             ],
             [
              0.7777777777777778,
              "#fb9f3a"
             ],
             [
              0.8888888888888888,
              "#fdca26"
             ],
             [
              1,
              "#f0f921"
             ]
            ],
            "type": "histogram2d"
           }
          ],
          "histogram2dcontour": [
           {
            "colorbar": {
             "outlinewidth": 0,
             "ticks": ""
            },
            "colorscale": [
             [
              0,
              "#0d0887"
             ],
             [
              0.1111111111111111,
              "#46039f"
             ],
             [
              0.2222222222222222,
              "#7201a8"
             ],
             [
              0.3333333333333333,
              "#9c179e"
             ],
             [
              0.4444444444444444,
              "#bd3786"
             ],
             [
              0.5555555555555556,
              "#d8576b"
             ],
             [
              0.6666666666666666,
              "#ed7953"
             ],
             [
              0.7777777777777778,
              "#fb9f3a"
             ],
             [
              0.8888888888888888,
              "#fdca26"
             ],
             [
              1,
              "#f0f921"
             ]
            ],
            "type": "histogram2dcontour"
           }
          ],
          "mesh3d": [
           {
            "colorbar": {
             "outlinewidth": 0,
             "ticks": ""
            },
            "type": "mesh3d"
           }
          ],
          "parcoords": [
           {
            "line": {
             "colorbar": {
              "outlinewidth": 0,
              "ticks": ""
             }
            },
            "type": "parcoords"
           }
          ],
          "pie": [
           {
            "automargin": true,
            "type": "pie"
           }
          ],
          "scatter": [
           {
            "marker": {
             "colorbar": {
              "outlinewidth": 0,
              "ticks": ""
             }
            },
            "type": "scatter"
           }
          ],
          "scatter3d": [
           {
            "line": {
             "colorbar": {
              "outlinewidth": 0,
              "ticks": ""
             }
            },
            "marker": {
             "colorbar": {
              "outlinewidth": 0,
              "ticks": ""
             }
            },
            "type": "scatter3d"
           }
          ],
          "scattercarpet": [
           {
            "marker": {
             "colorbar": {
              "outlinewidth": 0,
              "ticks": ""
             }
            },
            "type": "scattercarpet"
           }
          ],
          "scattergeo": [
           {
            "marker": {
             "colorbar": {
              "outlinewidth": 0,
              "ticks": ""
             }
            },
            "type": "scattergeo"
           }
          ],
          "scattergl": [
           {
            "marker": {
             "colorbar": {
              "outlinewidth": 0,
              "ticks": ""
             }
            },
            "type": "scattergl"
           }
          ],
          "scattermapbox": [
           {
            "marker": {
             "colorbar": {
              "outlinewidth": 0,
              "ticks": ""
             }
            },
            "type": "scattermapbox"
           }
          ],
          "scatterpolar": [
           {
            "marker": {
             "colorbar": {
              "outlinewidth": 0,
              "ticks": ""
             }
            },
            "type": "scatterpolar"
           }
          ],
          "scatterpolargl": [
           {
            "marker": {
             "colorbar": {
              "outlinewidth": 0,
              "ticks": ""
             }
            },
            "type": "scatterpolargl"
           }
          ],
          "scatterternary": [
           {
            "marker": {
             "colorbar": {
              "outlinewidth": 0,
              "ticks": ""
             }
            },
            "type": "scatterternary"
           }
          ],
          "surface": [
           {
            "colorbar": {
             "outlinewidth": 0,
             "ticks": ""
            },
            "colorscale": [
             [
              0,
              "#0d0887"
             ],
             [
              0.1111111111111111,
              "#46039f"
             ],
             [
              0.2222222222222222,
              "#7201a8"
             ],
             [
              0.3333333333333333,
              "#9c179e"
             ],
             [
              0.4444444444444444,
              "#bd3786"
             ],
             [
              0.5555555555555556,
              "#d8576b"
             ],
             [
              0.6666666666666666,
              "#ed7953"
             ],
             [
              0.7777777777777778,
              "#fb9f3a"
             ],
             [
              0.8888888888888888,
              "#fdca26"
             ],
             [
              1,
              "#f0f921"
             ]
            ],
            "type": "surface"
           }
          ],
          "table": [
           {
            "cells": {
             "fill": {
              "color": "#EBF0F8"
             },
             "line": {
              "color": "white"
             }
            },
            "header": {
             "fill": {
              "color": "#C8D4E3"
             },
             "line": {
              "color": "white"
             }
            },
            "type": "table"
           }
          ]
         },
         "layout": {
          "annotationdefaults": {
           "arrowcolor": "#2a3f5f",
           "arrowhead": 0,
           "arrowwidth": 1
          },
          "coloraxis": {
           "colorbar": {
            "outlinewidth": 0,
            "ticks": ""
           }
          },
          "colorscale": {
           "diverging": [
            [
             0,
             "#8e0152"
            ],
            [
             0.1,
             "#c51b7d"
            ],
            [
             0.2,
             "#de77ae"
            ],
            [
             0.3,
             "#f1b6da"
            ],
            [
             0.4,
             "#fde0ef"
            ],
            [
             0.5,
             "#f7f7f7"
            ],
            [
             0.6,
             "#e6f5d0"
            ],
            [
             0.7,
             "#b8e186"
            ],
            [
             0.8,
             "#7fbc41"
            ],
            [
             0.9,
             "#4d9221"
            ],
            [
             1,
             "#276419"
            ]
           ],
           "sequential": [
            [
             0,
             "#0d0887"
            ],
            [
             0.1111111111111111,
             "#46039f"
            ],
            [
             0.2222222222222222,
             "#7201a8"
            ],
            [
             0.3333333333333333,
             "#9c179e"
            ],
            [
             0.4444444444444444,
             "#bd3786"
            ],
            [
             0.5555555555555556,
             "#d8576b"
            ],
            [
             0.6666666666666666,
             "#ed7953"
            ],
            [
             0.7777777777777778,
             "#fb9f3a"
            ],
            [
             0.8888888888888888,
             "#fdca26"
            ],
            [
             1,
             "#f0f921"
            ]
           ],
           "sequentialminus": [
            [
             0,
             "#0d0887"
            ],
            [
             0.1111111111111111,
             "#46039f"
            ],
            [
             0.2222222222222222,
             "#7201a8"
            ],
            [
             0.3333333333333333,
             "#9c179e"
            ],
            [
             0.4444444444444444,
             "#bd3786"
            ],
            [
             0.5555555555555556,
             "#d8576b"
            ],
            [
             0.6666666666666666,
             "#ed7953"
            ],
            [
             0.7777777777777778,
             "#fb9f3a"
            ],
            [
             0.8888888888888888,
             "#fdca26"
            ],
            [
             1,
             "#f0f921"
            ]
           ]
          },
          "colorway": [
           "#636efa",
           "#EF553B",
           "#00cc96",
           "#ab63fa",
           "#FFA15A",
           "#19d3f3",
           "#FF6692",
           "#B6E880",
           "#FF97FF",
           "#FECB52"
          ],
          "font": {
           "color": "#2a3f5f"
          },
          "geo": {
           "bgcolor": "white",
           "lakecolor": "white",
           "landcolor": "#E5ECF6",
           "showlakes": true,
           "showland": true,
           "subunitcolor": "white"
          },
          "hoverlabel": {
           "align": "left"
          },
          "hovermode": "closest",
          "mapbox": {
           "style": "light"
          },
          "paper_bgcolor": "white",
          "plot_bgcolor": "#E5ECF6",
          "polar": {
           "angularaxis": {
            "gridcolor": "white",
            "linecolor": "white",
            "ticks": ""
           },
           "bgcolor": "#E5ECF6",
           "radialaxis": {
            "gridcolor": "white",
            "linecolor": "white",
            "ticks": ""
           }
          },
          "scene": {
           "xaxis": {
            "backgroundcolor": "#E5ECF6",
            "gridcolor": "white",
            "gridwidth": 2,
            "linecolor": "white",
            "showbackground": true,
            "ticks": "",
            "zerolinecolor": "white"
           },
           "yaxis": {
            "backgroundcolor": "#E5ECF6",
            "gridcolor": "white",
            "gridwidth": 2,
            "linecolor": "white",
            "showbackground": true,
            "ticks": "",
            "zerolinecolor": "white"
           },
           "zaxis": {
            "backgroundcolor": "#E5ECF6",
            "gridcolor": "white",
            "gridwidth": 2,
            "linecolor": "white",
            "showbackground": true,
            "ticks": "",
            "zerolinecolor": "white"
           }
          },
          "shapedefaults": {
           "line": {
            "color": "#2a3f5f"
           }
          },
          "ternary": {
           "aaxis": {
            "gridcolor": "white",
            "linecolor": "white",
            "ticks": ""
           },
           "baxis": {
            "gridcolor": "white",
            "linecolor": "white",
            "ticks": ""
           },
           "bgcolor": "#E5ECF6",
           "caxis": {
            "gridcolor": "white",
            "linecolor": "white",
            "ticks": ""
           }
          },
          "title": {
           "x": 0.05
          },
          "xaxis": {
           "automargin": true,
           "gridcolor": "white",
           "linecolor": "white",
           "ticks": "",
           "title": {
            "standoff": 15
           },
           "zerolinecolor": "white",
           "zerolinewidth": 2
          },
          "yaxis": {
           "automargin": true,
           "gridcolor": "white",
           "linecolor": "white",
           "ticks": "",
           "title": {
            "standoff": 15
           },
           "zerolinecolor": "white",
           "zerolinewidth": 2
          }
         }
        }
       }
      },
      "image/png": "[encoded data removed]",
      "text/html": [
       "<div>                            <div id=\"fa0e13aa-03be-4517-b77a-46d9cde0e8b1\" class=\"plotly-graph-div\" style=\"height:525px; width:800px;\"></div>            <script type=\"text/javascript\">                require([\"plotly\"], function(Plotly) {                    window.PLOTLYENV=window.PLOTLYENV || {};                                    if (document.getElementById(\"fa0e13aa-03be-4517-b77a-46d9cde0e8b1\")) {                    Plotly.newPlot(                        \"fa0e13aa-03be-4517-b77a-46d9cde0e8b1\",                        [{\"customdata\": [[\"Scrypt\"], [\"X13\"], [\"SHA-256\"], [\"X11\"], [\"Scrypt\"], [\"Equihash\"], [\"Scrypt\"], [\"Scrypt\"], [\"X13\"], [\"X11\"], [\"Scrypt\"], [\"Quark\"], [\"Scrypt\"], [\"BLAKE256\"], [\"Scrypt\"], [\"BMW512 / Echo512\"], [\"X11\"], [\"Scrypt\"], [\"X13\"], [\"Quark\"], [\"Equihash210,9\"], [\"X13\"], [\"Quark\"], [\"BLAKE256\"]], \"hovertemplate\": \"<b>%{hovertext}</b><br><br>class=%{marker.color}<br>PC3=%{x}<br>PC2=%{y}<br>PC1=%{z}<br>Algorithm=%{customdata[0]}<extra></extra>\", \"hovertext\": [\"NovaCoin\", \"Triangles Coin\", \"Emercoin\", \"Stakenet\", \"OpenChat\", \"Zelcash\", \"Buxcoin\", \"Auroracoin\", \"Bitcoin Diamond\", \"Dash\", \"SaluS\", \"QuarkCoin\", \"PotCoin\", \"HyperCash\", \"Reddcoin\", \"DigitalNote \", \"IOCoin\", \"WhiteCoin\", \"CloakCoin\", \"BlockNet\", \"Aion\", \"NavCoin\", \"Private Instant Verified Transaction\", \"Decred\"], \"legendgroup\": \"3\", \"marker\": {\"color\": [3, 3, 3, 3, 3, 3, 3, 3, 3, 3, 3, 3, 3, 3, 3, 3, 3, 3, 3, 3, 3, 3, 3, 3], \"coloraxis\": \"coloraxis\", \"symbol\": \"circle\"}, \"mode\": \"markers\", \"name\": \"3\", \"scene\": \"scene\", \"showlegend\": true, \"type\": \"scatter3d\", \"x\": [-1.5859103448756544, -2.1554814197432837, -1.0785422109890348, -0.570497863254177, -1.5864511732902298, -1.1023411790276614, -1.5860351754354711, -1.5859203063468537, -2.155592088735301, -0.5704490110788033, -1.585909767397109, -2.133362479901863, -1.5860826535042896, -2.112014743581629, -1.59426736560027, -2.0942880656487, -1.4116711446017307, -1.5864248742484108, -2.155482927782169, -2.1332897817797885, -2.091754266819596, -2.1555011147283123, -2.1332879549141133, -2.1119891314133357], \"y\": [0.9989113667189862, 1.8141828841019008, 0.2959709855686673, 1.0067895554843462, 0.9985419181861641, 0.5982126538424388, 0.9988193359470199, 0.9989046374396636, 1.8141074415898588, 1.006822381314341, 0.9989117924624583, 1.7999001879843455, 0.9987966283679375, 1.7862045195725356, 0.9927501905636751, 1.7711535058723555, 1.3103839116967173, 0.9985613070371324, 1.8141817723069469, 1.79995378434973, 1.7728060748079824, 1.8141683640622386, 1.799955131198277, 1.7862215577168503], \"z\": [-0.6919333671342526, -0.7598109442630726, -0.16087185125334585, -0.5880482451348608, -0.6841941593509966, -0.6285446216914083, -0.6902049063090878, -0.6917901723913622, -0.7582259342370917, -0.5885712443223557, -0.6919413631653704, -0.7544928906309123, -0.68944222988297, -0.7508367844181125, -0.5762182493093179, -0.7170069680111462, -0.6873344960531511, -0.6845583078703148, -0.7597900632696029, -0.7554995019627568, -0.7445125478374801, -0.7595382385242757, -0.7555247975774958, -0.7512072131904715]}, {\"customdata\": [[\"SHA-256\"], [\"Scrypt\"], [\"Scrypt\"], [\"X11\"], [\"Equihash\"], [\"IMesh\"], [\"Equihash\"], [\"CryptoNight\"], [\"Eaglesong\"], [\"C31\"], [\"SHA-256\"], [\"Scrypt\"], [\"CryptoNight-Heavy\"], [\"CryptoNight-Lite\"], [\"SHA-256\"], [\"SHA-256\"], [\"CryptoNight\"], [\"IMesh\"], [\"Equihash\"], [\"Scrypt\"], [\"Dagger-Hashimoto\"], [\"Equihash\"], [\"SHA-256\"], [\"PoS\"], [\"Ethash\"], [\"C31\"], [\"SHA-256\"], [\"Ethash\"], [\"Scrypt\"], [\"Scrypt\"], [\"SHA-256\"], [\"Scrypt\"], [\"X11GOST\"], [\"Equihash\"], [\"Groestl\"], [\"Scrypt\"], [\"SHA-256\"], [\"NeoScrypt\"], [\"KECCAK\"], [\"MTP\"], [\"Scrypt\"], [\"Multiple\"], [\"Blake2b\"], [\"Tensority\"], [\"Equihash\"], [\"SHA-256\"], [\"Multiple\"], [\"Lyra2REv2\"], [\"Blake2b\"], [\"Ethash\"], [\"Scrypt\"], [\"RandomX\"]], \"hovertemplate\": \"<b>%{hovertext}</b><br><br>class=%{marker.color}<br>PC3=%{x}<br>PC2=%{y}<br>PC1=%{z}<br>Algorithm=%{customdata[0]}<extra></extra>\", \"hovertext\": [\"CounterParty\", \"MonaCoin\", \"CometCoin\", \"Pura\", \"Bitcoin Private\", \"Aidos Kuneen\", \"Beam\", \"Beldex\", \"Nervos Network\", \"MimbleWimbleCoin\", \"Arweave\", \"Primas\", \"Loki\", \"AEON\", \"Bitcoin Vault\", \"Bitcoin ABC\", \"ByteCoin\", \"INT\", \"Komodo\", \"GoldCoin\", \"Ubiq\", \"ZCash\", \"Bitcoin\", \"Steem\", \"Ethereum\", \"Grin\", \"Bitcoin SV\", \"Expanse\", \"MegaCoin\", \"Gulden\", \"Namecoin\", \"Einsteinium\", \"SibCoin\", \"Bitcoin Gold\", \"Groestlcoin\", \"ViaCoin\", \"SysCoin\", \"FeatherCoin\", \"SmartCash\", \"Firo\", \"Dogecoin\", \"Verge\", \"Siacoin\", \"Bytom\", \"Horizen\", \"Bitcoin Cash\", \"DigiByte\", \"Vertcoin\", \"Nano\", \"Ethereum Classic\", \"Litecoin\", \"Monero\"], \"legendgroup\": \"1\", \"marker\": {\"color\": [1, 1, 1, 1, 1, 1, 1, 1, 1, 1, 1, 1, 1, 1, 1, 1, 1, 1, 1, 1, 1, 1, 1, 1, 1, 1, 1, 1, 1, 1, 1, 1, 1, 1, 1, 1, 1, 1, 1, 1, 1, 1, 1, 1, 1, 1, 1, 1, 1, 1, 1, 1], \"coloraxis\": \"coloraxis\", \"symbol\": \"diamond\"}, \"mode\": \"markers\", \"name\": \"1\", \"scene\": \"scene\", \"showlegend\": true, \"type\": \"scatter3d\", \"x\": [0.12882015635395344, -0.37858185598846256, -0.3785596898267554, -0.2043626584581612, 0.1050903378122271, 0.3946585321298938, 0.105010626509681, 0.23904066610076743, 0.2694601822899217, 0.28899961060288865, 0.12878576347232001, -0.3786136154845389, 0.2861894420945999, 0.2862085958271815, 0.12881246795417117, 0.12881017741500395, 0.1395061038494646, 0.608392456670236, 0.038728127098031064, -0.37859044083081644, 0.2861909103251073, 0.10508891389638572, 0.12881018259803148, 0.4869554073207091, 0.29185037005875597, 0.2889915013465859, 0.12881017559811328, 0.29184632609592065, -0.37858146204078885, -0.3791475504048553, 0.12881606642255547, -0.37862120636370084, 0.2861971028987499, 0.10508669787409734, 0.286121911285933, -0.37856591766975484, 0.12841913835763685, 0.2859149035829005, 0.282208003946323, 0.2862010212588057, -0.4142388342171466, 0.27103078263670277, 0.2700872477597958, 0.28520370409869555, 0.10508892579717641, 0.12881017504528883, 0.2705603742661635, 0.2861429303452029, 0.28266101850929387, 0.2917922663177067, -0.37860013057935643, 0.2862085597323312], \"y\": [-1.6714879172464803, -0.9685725128361884, -0.9685561709325696, -0.6571153588373028, -1.3692007469031164, -1.1877062182186993, -1.3692524725724444, -1.6933078917545947, -1.6656872671280665, -1.6671431040494284, -1.6715113411080147, -0.968592999902895, -1.6547762765822882, -1.6547637843263663, -1.6714929707140667, -1.6714946594038271, -1.7612889808142866, 0.0819212161039829, -0.23393120712475562, -0.96857672699458, -1.6547753189876824, -1.3692018515276094, -1.6714946555826613, -0.758492167224468, -1.6799977008556728, -1.6671496680583457, -1.6714946607433196, -1.679997754769445, -0.9685709928585192, -0.9689403868555974, -1.6714909325301113, -0.9686015237243518, -1.6547702090707057, -1.3692034852801303, -1.6548149655586843, -0.9685607623819994, -1.671757569950972, -1.6549381964096825, -1.657117996439016, -1.6547676330759775, -0.9948604605716649, -1.6779167363510625, -1.6799933847977755, -1.6554084741764246, -1.3692018427538046, -1.6714946611508867, -1.678133416345278, -1.6548023277764918, -1.6707195277279023, -1.6800343693791269, -0.96858352661361, -1.6547638078677835], \"z\": [0.14900652378929755, -0.38158589555191186, -0.38189281832931116, -0.3767155716896045, -0.3196706255329393, -0.31693279593855395, -0.31850662027596915, 0.1316445700061245, -0.08680319901462348, -0.26997637256289425, 0.149499286273944, -0.3811210739877959, -0.26840719444938244, -0.2686151172387438, 0.1491182445493609, 0.14914996039863, 1.5560830851069414, -0.48670879098057374, -0.4977580958706247, -0.38144891745030696, -0.2684231327829954, -0.31965137896204315, 0.14914988863205922, -0.31912606378771724, -0.2708420153407179, -0.26986910112565443, 0.14914998555611547, -0.27076095568176345, -0.381580822986096, -0.37333193905224754, 0.14906315484349356, -0.38104103232167164, -0.2684822292116578, -0.31962069490744727, -0.2676334813360855, -0.38180658477693286, 0.154781779881132, -0.26529691958528556, -0.2232518376872345, -0.26852461005817657, 0.1121368763517213, -0.069709652384389, -0.04644087111077859, -0.25762527542594416, -0.31965154374582005, 0.1491499932107792, -0.0620820197181179, -0.2678697800003392, -0.22050963281900768, -0.26998467228125483, -0.3813118025479472, -0.2686147254122018]}, {\"customdata\": [[\"PoS\"], [\"SHA-512\"], [\"ECC 256K1\"], [\"DPoS\"], [\"DPoS\"], [\"DPoS\"], [\"BEP2 Token\"], [\"DPoS\"], [\"Scrypt\"], [\"PoS\"], [\"DPoS\"], [\"VeChainThor Authority\"], [\"POS 3.0\"], [\"VBFT\"], [\"Loopchain\"], [\"SHA-512\"], [\"Ouroboros\"], [\"DPoS\"]], \"hovertemplate\": \"<b>%{hovertext}</b><br><br>class=%{marker.color}<br>PC3=%{x}<br>PC2=%{y}<br>PC1=%{z}<br>Algorithm=%{customdata[0]}<extra></extra>\", \"hovertext\": [\"NuShares\", \"Kcash\", \"Acute Angle Cloud\", \"Lisk\", \"Achain\", \"ARK\", \"Binance Coin\", \"Rise\", \"BlackCoin\", \"Nxt\", \"Shift\", \"VeChain\", \"QTUM\", \"Ontology\", \"ICON Project\", \"Bitshares\", \"Cardano\", \"EOS\"], \"legendgroup\": \"4\", \"marker\": {\"color\": [4, 4, 4, 4, 4, 4, 4, 4, 4, 4, 4, 4, 4, 4, 4, 4, 4, 4], \"coloraxis\": \"coloraxis\", \"symbol\": \"square\"}, \"mode\": \"markers\", \"name\": \"4\", \"scene\": \"scene\", \"showlegend\": true, \"type\": \"scatter3d\", \"x\": [0.7644981230668126, 1.1258451805594891, 0.11707758856338363, 0.3107286469657653, 0.3104892770839095, 0.31072538258156573, 0.11795859312075166, 0.6111649204065698, -0.09953047800370252, 0.7900554866792879, 0.310764505427464, 0.8498282144891364, 0.8356987995709041, 0.835261213563529, 0.8353315938606558, 0.9348583913918067, 0.7950462977282413, 0.3104820061714552], \"y\": [1.2499349767616756, 1.9173427434255532, 0.4961932931633942, 2.1472156306838746, 2.1470391563090074, 2.1472132240312254, 0.49672577267759255, 2.0119783915099494, 1.0409698131181426, 0.8296344505381135, 2.1472420671743984, 1.7114162056972804, 1.8462368564301688, 1.8459459592173346, 1.845991861950961, 1.8742595502051664, 1.822012514219496, 2.147033795861287], \"z\": [-0.41489718643035783, -0.5277977840065627, -0.26274252443433704, 1.8057770331039236, 1.809091457585735, 1.805822233255356, -0.2726258415598812, 0.2854617570147852, -0.4982215780464723, -0.48898172044859917, 1.8052805205000624, 1.6636075577431653, -0.4480207161632721, -0.4433122405578252, -0.4440762518355602, -0.43710110900193133, 0.01065434590568366, 1.8091921339531982]}, {\"customdata\": [[\"Dagger\"], [\"SPoS\"], [\"Shabal256\"], [\"SHA3\"], [\"Proof-of-Authority\"], [\"Leased POS\"]], \"hovertemplate\": \"<b>%{hovertext}</b><br><br>class=%{marker.color}<br>PC3=%{x}<br>PC2=%{y}<br>PC1=%{z}<br>Algorithm=%{customdata[0]}<extra></extra>\", \"hovertext\": [\"Amber\", \"V Systems\", \"BurstCoin\", \"Nexus\", \"Poa Network\", \"Waves\"], \"legendgroup\": \"0\", \"marker\": {\"color\": [0, 0, 0, 0, 0, 0], \"coloraxis\": \"coloraxis\", \"symbol\": \"x\"}, \"mode\": \"markers\", \"name\": \"0\", \"scene\": \"scene\", \"showlegend\": true, \"type\": \"scatter3d\", \"x\": [5.627494435024947, 3.7526129386556004, 3.781326064875389, 3.853085641894198, 5.6276936330658, 3.853774080687856], \"y\": [1.9836850946580957, 1.9192951229591113, 1.9219481797196194, 1.9270995683782344, 1.9838150136124384, 1.9271375068017316], \"z\": [-0.6024120370942337, -0.5272278691920772, -0.5463388944448819, -0.6004451172923223, -0.6045744256594174, -0.6010134451530698]}, {\"customdata\": [[\"TRC10\"], [\"SHA-256\"]], \"hovertemplate\": \"<b>%{hovertext}</b><br><br>class=%{marker.color}<br>PC3=%{x}<br>PC2=%{y}<br>PC1=%{z}<br>Algorithm=%{customdata[0]}<extra></extra>\", \"hovertext\": [\"BitTorrent\", \"Wibcoin\"], \"legendgroup\": \"2\", \"marker\": {\"color\": [2, 2], \"coloraxis\": \"coloraxis\", \"symbol\": \"cross\"}, \"mode\": \"markers\", \"name\": \"2\", \"scene\": \"scene\", \"showlegend\": true, \"type\": \"scatter3d\", \"x\": [-0.8119856482584501, -0.41288234616554165], \"y\": [1.4435900991954063, -2.041580377749068], \"z\": [13.745931795064658, 7.900321520308602]}],                        {\"coloraxis\": {\"colorbar\": {\"title\": {\"text\": \"class\"}}, \"colorscale\": [[0.0, \"#0d0887\"], [0.1111111111111111, \"#46039f\"], [0.2222222222222222, \"#7201a8\"], [0.3333333333333333, \"#9c179e\"], [0.4444444444444444, \"#bd3786\"], [0.5555555555555556, \"#d8576b\"], [0.6666666666666666, \"#ed7953\"], [0.7777777777777778, \"#fb9f3a\"], [0.8888888888888888, \"#fdca26\"], [1.0, \"#f0f921\"]]}, \"legend\": {\"title\": {\"text\": \"class\"}, \"tracegroupgap\": 0, \"x\": 0, \"y\": 1}, \"margin\": {\"t\": 60}, \"scene\": {\"domain\": {\"x\": [0.0, 1.0], \"y\": [0.0, 1.0]}, \"xaxis\": {\"title\": {\"text\": \"PC3\"}}, \"yaxis\": {\"title\": {\"text\": \"PC2\"}}, \"zaxis\": {\"title\": {\"text\": \"PC1\"}}}, \"template\": {\"data\": {\"bar\": [{\"error_x\": {\"color\": \"#2a3f5f\"}, \"error_y\": {\"color\": \"#2a3f5f\"}, \"marker\": {\"line\": {\"color\": \"#E5ECF6\", \"width\": 0.5}}, \"type\": \"bar\"}], \"barpolar\": [{\"marker\": {\"line\": {\"color\": \"#E5ECF6\", \"width\": 0.5}}, \"type\": \"barpolar\"}], \"carpet\": [{\"aaxis\": {\"endlinecolor\": \"#2a3f5f\", \"gridcolor\": \"white\", \"linecolor\": \"white\", \"minorgridcolor\": \"white\", \"startlinecolor\": \"#2a3f5f\"}, \"baxis\": {\"endlinecolor\": \"#2a3f5f\", \"gridcolor\": \"white\", \"linecolor\": \"white\", \"minorgridcolor\": \"white\", \"startlinecolor\": \"#2a3f5f\"}, \"type\": \"carpet\"}], \"choropleth\": [{\"colorbar\": {\"outlinewidth\": 0, \"ticks\": \"\"}, \"type\": \"choropleth\"}], \"contour\": [{\"colorbar\": {\"outlinewidth\": 0, \"ticks\": \"\"}, \"colorscale\": [[0.0, \"#0d0887\"], [0.1111111111111111, \"#46039f\"], [0.2222222222222222, \"#7201a8\"], [0.3333333333333333, \"#9c179e\"], [0.4444444444444444, \"#bd3786\"], [0.5555555555555556, \"#d8576b\"], [0.6666666666666666, \"#ed7953\"], [0.7777777777777778, \"#fb9f3a\"], [0.8888888888888888, \"#fdca26\"], [1.0, \"#f0f921\"]], \"type\": \"contour\"}], \"contourcarpet\": [{\"colorbar\": {\"outlinewidth\": 0, \"ticks\": \"\"}, \"type\": \"contourcarpet\"}], \"heatmap\": [{\"colorbar\": {\"outlinewidth\": 0, \"ticks\": \"\"}, \"colorscale\": [[0.0, \"#0d0887\"], [0.1111111111111111, \"#46039f\"], [0.2222222222222222, \"#7201a8\"], [0.3333333333333333, \"#9c179e\"], [0.4444444444444444, \"#bd3786\"], [0.5555555555555556, \"#d8576b\"], [0.6666666666666666, \"#ed7953\"], [0.7777777777777778, \"#fb9f3a\"], [0.8888888888888888, \"#fdca26\"], [1.0, \"#f0f921\"]], \"type\": \"heatmap\"}], \"heatmapgl\": [{\"colorbar\": {\"outlinewidth\": 0, \"ticks\": \"\"}, \"colorscale\": [[0.0, \"#0d0887\"], [0.1111111111111111, \"#46039f\"], [0.2222222222222222, \"#7201a8\"], [0.3333333333333333, \"#9c179e\"], [0.4444444444444444, \"#bd3786\"], [0.5555555555555556, \"#d8576b\"], [0.6666666666666666, \"#ed7953\"], [0.7777777777777778, \"#fb9f3a\"], [0.8888888888888888, \"#fdca26\"], [1.0, \"#f0f921\"]], \"type\": \"heatmapgl\"}], \"histogram\": [{\"marker\": {\"colorbar\": {\"outlinewidth\": 0, \"ticks\": \"\"}}, \"type\": \"histogram\"}], \"histogram2d\": [{\"colorbar\": {\"outlinewidth\": 0, \"ticks\": \"\"}, \"colorscale\": [[0.0, \"#0d0887\"], [0.1111111111111111, \"#46039f\"], [0.2222222222222222, \"#7201a8\"], [0.3333333333333333, \"#9c179e\"], [0.4444444444444444, \"#bd3786\"], [0.5555555555555556, \"#d8576b\"], [0.6666666666666666, \"#ed7953\"], [0.7777777777777778, \"#fb9f3a\"], [0.8888888888888888, \"#fdca26\"], [1.0, \"#f0f921\"]], \"type\": \"histogram2d\"}], \"histogram2dcontour\": [{\"colorbar\": {\"outlinewidth\": 0, \"ticks\": \"\"}, \"colorscale\": [[0.0, \"#0d0887\"], [0.1111111111111111, \"#46039f\"], [0.2222222222222222, \"#7201a8\"], [0.3333333333333333, \"#9c179e\"], [0.4444444444444444, \"#bd3786\"], [0.5555555555555556, \"#d8576b\"], [0.6666666666666666, \"#ed7953\"], [0.7777777777777778, \"#fb9f3a\"], [0.8888888888888888, \"#fdca26\"], [1.0, \"#f0f921\"]], \"type\": \"histogram2dcontour\"}], \"mesh3d\": [{\"colorbar\": {\"outlinewidth\": 0, \"ticks\": \"\"}, \"type\": \"mesh3d\"}], \"parcoords\": [{\"line\": {\"colorbar\": {\"outlinewidth\": 0, \"ticks\": \"\"}}, \"type\": \"parcoords\"}], \"pie\": [{\"automargin\": true, \"type\": \"pie\"}], \"scatter\": [{\"marker\": {\"colorbar\": {\"outlinewidth\": 0, \"ticks\": \"\"}}, \"type\": \"scatter\"}], \"scatter3d\": [{\"line\": {\"colorbar\": {\"outlinewidth\": 0, \"ticks\": \"\"}}, \"marker\": {\"colorbar\": {\"outlinewidth\": 0, \"ticks\": \"\"}}, \"type\": \"scatter3d\"}], \"scattercarpet\": [{\"marker\": {\"colorbar\": {\"outlinewidth\": 0, \"ticks\": \"\"}}, \"type\": \"scattercarpet\"}], \"scattergeo\": [{\"marker\": {\"colorbar\": {\"outlinewidth\": 0, \"ticks\": \"\"}}, \"type\": \"scattergeo\"}], \"scattergl\": [{\"marker\": {\"colorbar\": {\"outlinewidth\": 0, \"ticks\": \"\"}}, \"type\": \"scattergl\"}], \"scattermapbox\": [{\"marker\": {\"colorbar\": {\"outlinewidth\": 0, \"ticks\": \"\"}}, \"type\": \"scattermapbox\"}], \"scatterpolar\": [{\"marker\": {\"colorbar\": {\"outlinewidth\": 0, \"ticks\": \"\"}}, \"type\": \"scatterpolar\"}], \"scatterpolargl\": [{\"marker\": {\"colorbar\": {\"outlinewidth\": 0, \"ticks\": \"\"}}, \"type\": \"scatterpolargl\"}], \"scatterternary\": [{\"marker\": {\"colorbar\": {\"outlinewidth\": 0, \"ticks\": \"\"}}, \"type\": \"scatterternary\"}], \"surface\": [{\"colorbar\": {\"outlinewidth\": 0, \"ticks\": \"\"}, \"colorscale\": [[0.0, \"#0d0887\"], [0.1111111111111111, \"#46039f\"], [0.2222222222222222, \"#7201a8\"], [0.3333333333333333, \"#9c179e\"], [0.4444444444444444, \"#bd3786\"], [0.5555555555555556, \"#d8576b\"], [0.6666666666666666, \"#ed7953\"], [0.7777777777777778, \"#fb9f3a\"], [0.8888888888888888, \"#fdca26\"], [1.0, \"#f0f921\"]], \"type\": \"surface\"}], \"table\": [{\"cells\": {\"fill\": {\"color\": \"#EBF0F8\"}, \"line\": {\"color\": \"white\"}}, \"header\": {\"fill\": {\"color\": \"#C8D4E3\"}, \"line\": {\"color\": \"white\"}}, \"type\": \"table\"}]}, \"layout\": {\"annotationdefaults\": {\"arrowcolor\": \"#2a3f5f\", \"arrowhead\": 0, \"arrowwidth\": 1}, \"coloraxis\": {\"colorbar\": {\"outlinewidth\": 0, \"ticks\": \"\"}}, \"colorscale\": {\"diverging\": [[0, \"#8e0152\"], [0.1, \"#c51b7d\"], [0.2, \"#de77ae\"], [0.3, \"#f1b6da\"], [0.4, \"#fde0ef\"], [0.5, \"#f7f7f7\"], [0.6, \"#e6f5d0\"], [0.7, \"#b8e186\"], [0.8, \"#7fbc41\"], [0.9, \"#4d9221\"], [1, \"#276419\"]], \"sequential\": [[0.0, \"#0d0887\"], [0.1111111111111111, \"#46039f\"], [0.2222222222222222, \"#7201a8\"], [0.3333333333333333, \"#9c179e\"], [0.4444444444444444, \"#bd3786\"], [0.5555555555555556, \"#d8576b\"], [0.6666666666666666, \"#ed7953\"], [0.7777777777777778, \"#fb9f3a\"], [0.8888888888888888, \"#fdca26\"], [1.0, \"#f0f921\"]], \"sequentialminus\": [[0.0, \"#0d0887\"], [0.1111111111111111, \"#46039f\"], [0.2222222222222222, \"#7201a8\"], [0.3333333333333333, \"#9c179e\"], [0.4444444444444444, \"#bd3786\"], [0.5555555555555556, \"#d8576b\"], [0.6666666666666666, \"#ed7953\"], [0.7777777777777778, \"#fb9f3a\"], [0.8888888888888888, \"#fdca26\"], [1.0, \"#f0f921\"]]}, \"colorway\": [\"#636efa\", \"#EF553B\", \"#00cc96\", \"#ab63fa\", \"#FFA15A\", \"#19d3f3\", \"#FF6692\", \"#B6E880\", \"#FF97FF\", \"#FECB52\"], \"font\": {\"color\": \"#2a3f5f\"}, \"geo\": {\"bgcolor\": \"white\", \"lakecolor\": \"white\", \"landcolor\": \"#E5ECF6\", \"showlakes\": true, \"showland\": true, \"subunitcolor\": \"white\"}, \"hoverlabel\": {\"align\": \"left\"}, \"hovermode\": \"closest\", \"mapbox\": {\"style\": \"light\"}, \"paper_bgcolor\": \"white\", \"plot_bgcolor\": \"#E5ECF6\", \"polar\": {\"angularaxis\": {\"gridcolor\": \"white\", \"linecolor\": \"white\", \"ticks\": \"\"}, \"bgcolor\": \"#E5ECF6\", \"radialaxis\": {\"gridcolor\": \"white\", \"linecolor\": \"white\", \"ticks\": \"\"}}, \"scene\": {\"xaxis\": {\"backgroundcolor\": \"#E5ECF6\", \"gridcolor\": \"white\", \"gridwidth\": 2, \"linecolor\": \"white\", \"showbackground\": true, \"ticks\": \"\", \"zerolinecolor\": \"white\"}, \"yaxis\": {\"backgroundcolor\": \"#E5ECF6\", \"gridcolor\": \"white\", \"gridwidth\": 2, \"linecolor\": \"white\", \"showbackground\": true, \"ticks\": \"\", \"zerolinecolor\": \"white\"}, \"zaxis\": {\"backgroundcolor\": \"#E5ECF6\", \"gridcolor\": \"white\", \"gridwidth\": 2, \"linecolor\": \"white\", \"showbackground\": true, \"ticks\": \"\", \"zerolinecolor\": \"white\"}}, \"shapedefaults\": {\"line\": {\"color\": \"#2a3f5f\"}}, \"ternary\": {\"aaxis\": {\"gridcolor\": \"white\", \"linecolor\": \"white\", \"ticks\": \"\"}, \"baxis\": {\"gridcolor\": \"white\", \"linecolor\": \"white\", \"ticks\": \"\"}, \"bgcolor\": \"#E5ECF6\", \"caxis\": {\"gridcolor\": \"white\", \"linecolor\": \"white\", \"ticks\": \"\"}}, \"title\": {\"x\": 0.05}, \"xaxis\": {\"automargin\": true, \"gridcolor\": \"white\", \"linecolor\": \"white\", \"ticks\": \"\", \"title\": {\"standoff\": 15}, \"zerolinecolor\": \"white\", \"zerolinewidth\": 2}, \"yaxis\": {\"automargin\": true, \"gridcolor\": \"white\", \"linecolor\": \"white\", \"ticks\": \"\", \"title\": {\"standoff\": 15}, \"zerolinecolor\": \"white\", \"zerolinewidth\": 2}}}, \"width\": 800},                        {\"responsive\": true}                    ).then(function(){\n",
       "                            \n",
       "var gd = document.getElementById('fa0e13aa-03be-4517-b77a-46d9cde0e8b1');\n",
       "var x = new MutationObserver(function (mutations, observer) {{\n",
       "        var display = window.getComputedStyle(gd).display;\n",
       "        if (!display || display === 'none') {{\n",
       "            console.log([gd, 'removed!']);\n",
       "            Plotly.purge(gd);\n",
       "            observer.disconnect();\n",
       "        }}\n",
       "}});\n",
       "\n",
       "// Listen for the removal of the full notebook cells\n",
       "var notebookContainer = gd.closest('#notebook-container');\n",
       "if (notebookContainer) {{\n",
       "    x.observe(notebookContainer, {childList: true});\n",
       "}}\n",
       "\n",
       "// Listen for the clearing of the current output cell\n",
       "var outputEl = gd.closest('.output');\n",
       "if (outputEl) {{\n",
       "    x.observe(outputEl, {childList: true});\n",
       "}}\n",
       "\n",
       "                        })                };                });            </script>        </div>"
      ]
     },
     "metadata": {},
     "output_type": "display_data"
    }
   ],
   "source": [
    "fig = px.scatter_3d(\n",
    "    clustered_df,\n",
    "    x=\"PC3\",\n",
    "    y=\"PC2\",\n",
    "    z=\"PC1\",\n",
    "    color=\"class\",\n",
    "    symbol=\"class\",\n",
    "    width=800,\n",
    "    hover_name=\"CoinName\",\n",
    "    hover_data=[\"Algorithm\"]\n",
    "    \n",
    ")\n",
    "fig.update_layout(legend=dict(x=0, y=1))\n",
    "fig.show()"
   ]
  },
  {
   "cell_type": "markdown",
   "metadata": {},
   "source": [
    "#### hvplot Table of Tradable Cryptocurrencies"
   ]
  },
  {
   "cell_type": "code",
   "execution_count": 129,
   "metadata": {},
   "outputs": [
    {
     "data": {},
     "metadata": {},
     "output_type": "display_data"
    },
    {
     "data": {
      "application/vnd.holoviews_exec.v0+json": "",
      "text/html": [
       "<div id='2197'>\n",
       "\n",
       "\n",
       "\n",
       "\n",
       "\n",
       "  <div class=\"bk-root\" id=\"71907242-5734-4006-a31a-1bef21c64f41\" data-root-id=\"2197\"></div>\n",
       "</div>\n",
       "<script type=\"application/javascript\">(function(root) {\n",
       "  function embed_document(root) {\n",
       "  var docs_json = {\"965f352f-42b1-44a5-9aad-3e7065f40c28\":{\"roots\":{\"references\":[{\"attributes\":{},\"id\":\"2234\",\"type\":\"UnionRenderers\"},{\"attributes\":{},\"id\":\"2217\",\"type\":\"StringEditor\"},{\"attributes\":{},\"id\":\"2202\",\"type\":\"StringEditor\"},{\"attributes\":{\"margin\":[5,5,5,5],\"name\":\"HSpacer04216\",\"sizing_mode\":\"stretch_width\"},\"id\":\"2235\",\"type\":\"Spacer\"},{\"attributes\":{},\"id\":\"2201\",\"type\":\"StringFormatter\"},{\"attributes\":{},\"id\":\"2207\",\"type\":\"StringEditor\"},{\"attributes\":{\"editor\":{\"id\":\"2202\"},\"field\":\"CoinName\",\"formatter\":{\"id\":\"2201\"},\"title\":\"CoinName\"},\"id\":\"2203\",\"type\":\"TableColumn\"},{\"attributes\":{},\"id\":\"2212\",\"type\":\"StringEditor\"},{\"attributes\":{},\"id\":\"2206\",\"type\":\"StringFormatter\"},{\"attributes\":{\"children\":[{\"id\":\"2198\"},{\"id\":\"2231\"},{\"id\":\"2235\"}],\"margin\":[0,0,0,0],\"name\":\"Row04211\",\"tags\":[\"embedded\"]},\"id\":\"2197\",\"type\":\"Row\"},{\"attributes\":{},\"id\":\"2200\",\"type\":\"Selection\"},{\"attributes\":{},\"id\":\"2222\",\"type\":\"StringEditor\"},{\"attributes\":{\"margin\":[5,5,5,5],\"name\":\"HSpacer04215\",\"sizing_mode\":\"stretch_width\"},\"id\":\"2198\",\"type\":\"Spacer\"},{\"attributes\":{},\"id\":\"2211\",\"type\":\"StringFormatter\"},{\"attributes\":{\"editor\":{\"id\":\"2207\"},\"field\":\"Algorithm\",\"formatter\":{\"id\":\"2206\"},\"title\":\"Algorithm\"},\"id\":\"2208\",\"type\":\"TableColumn\"},{\"attributes\":{},\"id\":\"2227\",\"type\":\"IntEditor\"},{\"attributes\":{},\"id\":\"2216\",\"type\":\"StringFormatter\"},{\"attributes\":{\"editor\":{\"id\":\"2212\"},\"field\":\"ProofType\",\"formatter\":{\"id\":\"2211\"},\"title\":\"ProofType\"},\"id\":\"2213\",\"type\":\"TableColumn\"},{\"attributes\":{\"data\":{\"Algorithm\":[\"Scrypt\",\"SHA-256\",\"PoS\",\"Scrypt\",\"X13\",\"SHA-256\",\"Scrypt\",\"X11\",\"Scrypt\",\"Dagger\",\"X11\",\"Equihash\",\"IMesh\",\"Equihash\",\"SHA-512\",\"Equihash\",\"SPoS\",\"CryptoNight\",\"Eaglesong\",\"C31\",\"SHA-256\",\"Scrypt\",\"ECC 256K1\",\"Scrypt\",\"CryptoNight-Heavy\",\"CryptoNight-Lite\",\"SHA-256\",\"SHA-256\",\"Scrypt\",\"TRC10\",\"CryptoNight\",\"IMesh\",\"X13\",\"DPoS\",\"X11\",\"Equihash\",\"Scrypt\",\"SHA-256\",\"Scrypt\",\"Dagger-Hashimoto\",\"Equihash\",\"SHA-256\",\"Quark\",\"Scrypt\",\"DPoS\",\"Shabal256\",\"BLAKE256\",\"SHA3\",\"DPoS\",\"PoS\",\"Ethash\",\"C31\",\"BEP2 Token\",\"SHA-256\",\"Ethash\",\"Scrypt\",\"Scrypt\",\"DPoS\",\"SHA-256\",\"Scrypt\",\"Scrypt\",\"X11GOST\",\"Equihash\",\"Groestl\",\"BMW512 / Echo512\",\"Scrypt\",\"SHA-256\",\"NeoScrypt\",\"X11\",\"KECCAK\",\"Scrypt\",\"MTP\",\"X13\",\"Scrypt\",\"Multiple\",\"Blake2b\",\"Proof-of-Authority\",\"Scrypt\",\"Tensority\",\"Quark\",\"Equihash\",\"PoS\",\"SHA-256\",\"Equihash210,9\",\"DPoS\",\"X13\",\"Multiple\",\"VeChainThor Authority\",\"POS 3.0\",\"Quark\",\"Lyra2REv2\",\"Blake2b\",\"VBFT\",\"Ethash\",\"Loopchain\",\"Scrypt\",\"RandomX\",\"BLAKE256\",\"SHA-512\",\"Leased POS\",\"Ouroboros\",\"DPoS\"],\"CoinName\":[\"NovaCoin\",\"CounterParty\",\"NuShares\",\"MonaCoin\",\"Triangles Coin\",\"Emercoin\",\"CometCoin\",\"Stakenet\",\"OpenChat\",\"Amber\",\"Pura\",\"Bitcoin Private\",\"Aidos Kuneen\",\"Zelcash\",\"Kcash\",\"Beam\",\"V Systems\",\"Beldex\",\"Nervos Network\",\"MimbleWimbleCoin\",\"Arweave\",\"Buxcoin\",\"Acute Angle Cloud\",\"Primas\",\"Loki\",\"AEON\",\"Bitcoin Vault\",\"Bitcoin ABC\",\"Auroracoin\",\"BitTorrent\",\"ByteCoin\",\"INT\",\"Bitcoin Diamond\",\"Lisk\",\"Dash\",\"Komodo\",\"GoldCoin\",\"Wibcoin\",\"SaluS\",\"Ubiq\",\"ZCash\",\"Bitcoin\",\"QuarkCoin\",\"PotCoin\",\"Achain\",\"BurstCoin\",\"HyperCash\",\"Nexus\",\"ARK\",\"Steem\",\"Ethereum\",\"Grin\",\"Binance Coin\",\"Bitcoin SV\",\"Expanse\",\"MegaCoin\",\"Gulden\",\"Rise\",\"Namecoin\",\"Einsteinium\",\"Reddcoin\",\"SibCoin\",\"Bitcoin Gold\",\"Groestlcoin\",\"DigitalNote \",\"ViaCoin\",\"SysCoin\",\"FeatherCoin\",\"IOCoin\",\"SmartCash\",\"WhiteCoin\",\"Firo\",\"CloakCoin\",\"Dogecoin\",\"Verge\",\"Siacoin\",\"Poa Network\",\"BlackCoin\",\"Bytom\",\"BlockNet\",\"Horizen\",\"Nxt\",\"Bitcoin Cash\",\"Aion\",\"Shift\",\"NavCoin\",\"DigiByte\",\"VeChain\",\"QTUM\",\"Private Instant Verified Transaction\",\"Vertcoin\",\"Nano\",\"Ontology\",\"Ethereum Classic\",\"ICON Project\",\"Litecoin\",\"Monero\",\"Decred\",\"Bitshares\",\"Waves\",\"Cardano\",\"EOS\"],\"MaxSupply\":{\"__ndarray__\":\"AAAAAAAA8L8AAAAAAADwvwAAAAAAAAAAAAAAAAAA8L8AAAAAAAAAAAAAAAAAAPC/AAAAAAAAAAAAAAAAAADwvwAAAABlzc1BAAAAAAAA8L8AAAAAAADwvwAAAEBf0HVBAAAAAAAAAAAAAAAAsQipQQAAAABlzc1BAAAAJBdmr0EAAAAAAADwvwAAAAAAAPC/AAAAAAAA8L8AAAAA0BJzQQAAAACkeI9BAAAAAAAA8L8AAAAAZc3NQQAAAACE15dBAAAAAAAA8L8AAAAAAADwvwAAAAD0BnRB5WGh//MGdEEAAAAA9AZ0QQAAgCUT0GxCAADAaKJ5RUIAAAAAZc3NQQAAAACxCKlBAAAAAAAA8L8AAAAAQgZyQQAAAACE16dBAAAAEIc5kUHsDROLtBptQgAAAAAAAPC/AAAAAAAA8L8AAAAA9AZ0QeVhof/zBnRBAAAAAAAA8L8AAAAAsQi5QQAAAAAAAAAAAAAA0JsV4EEAAAAA9AaUQQAAAAC+mJJBAAAAAAAA8L8AAAAAAADwvwAAAAAAAPC/AAAAAAAA8L/NzMyHvsKkQeVhof/zBnRBAAAAAITXl0EAAAAA9AaEQQAAAACxCNlBAAAAAAAA8L8AAAAAAADwvwAAAAAAAPC/AAAAAAAA8L8AAAAA9AZ0QQAAAAD0BnRBAAAAALEImUEAAAAAAADwvwAAAAAAAPC/AAAAAOd2ykEAAAAA9Aa0QQAAAAAY+3RBAAAAIF+g8kEAAAAAZc3NQQAAAACcaHRBAAAAAAAA8L8AAAAAAADwvwAAAAYK1g5CAAAAAAAA8L8AAAAAAADwvwAAAACE15dBAAAAALEIqUEAAAAAAADwvwAAAAD0BnRBAAAAAGXNzUHlYaH/8wZ0QQAAAAAAAPC/AAAAAAAA8L8AAAAAAADwvwAAAEjKjhNCAABizHkwNEIAAAAJ9bSZQQAAAAAAAPC/AAAAAPQGlEEAAACI1MSfQQAAAAAAAPC/AAAAwA0eqUEAAAAAAADwvwAAAAD0BpRBAAAAAAAA8L8AAAAA9AZ0QQAAwBCL0+pBAAAAAAAA8L8AAAAEa/QkQgAAAAAAAPC/\",\"dtype\":\"float64\",\"shape\":[102]},\"ProofType\":[\"PoW/PoS\",\"PoW\",\"PoS\",\"PoW\",\"PoW/PoS\",\"PoW/PoS\",\"PoW\",\"TPoS\",\"PoW/PoS\",\"PoA\",\"PoW\",\"PoW\",\"PoW\",\"PoW/PoS\",\"Zero-Knowledge Proof\",\"PoW\",\"SPoS\",\"PoW\",\"PoW\",\"PoW\",\"PoW\",\"PoW/PoS\",\"DPOS\",\"PoW\",\"PoW\",\"PoW\",\"PoW\",\"PoW\",\"PoW/PoS\",\"DPoS\",\"PoW\",\"DPoS+dBFT\",\"PoW/PoS\",\"DPoS\",\"PoW/PoSe\",\"dPoW/PoW\",\"PoW\",\"PoW\",\"PoW/PoS\",\"PoW\",\"PoW\",\"PoW\",\"PoW/PoS\",\"PoW/PoS\",\"DPoS\",\"PoC\",\"PoW/PoS\",\"PoW/nPoS\",\"DPoS\",\"PoW\",\"PoW\",\"PoW\",\"PoSA\",\"PoW\",\"PoW\",\"PoW\",\"PoW\",\"PoS\",\"PoW\",\"PoW\",\"PoW/PoS\",\"PoW\",\"PoW\",\"PoW\",\"PoW/PoS\",\"PoW\",\"PoW\",\"PoW\",\"PoW/PoS\",\"PoW\",\"PoW/PoS\",\"PoW\",\"PoW/PoS\",\"PoW\",\"PoW\",\"PoW\",\"PoA\",\"PoS\",\"PoW\",\"PoW/PoS\",\"PoW\",\"PoS/LPoS\",\"PoW\",\"PoW/PoS\",\"DPoS\",\"PoW/PoS\",\"PoW\",\"Proof of Authority\",\"PoS\",\"PoW/PoS\",\"PoW\",\"PoW\",\"PoS\",\"PoW\",\"PoS\",\"PoW\",\"PoW\",\"PoW/PoS\",\"PoS\",\"LPoS\",\"PoS\",\"DPoS\"],\"TotalCoinsMined\":{\"__ndarray__\":\"FJhOW7imR0HzHJEcz/NDQe/J4K38y/VBsOXi86khk0GYGTYqLL4EQWq8tJGHToZBAAAAAPyiKkF3O6QvmsabQQAAAABlzc1BAAAAaQA9w0GWNI/WNGumQSR7ozG/Ik1BAAAAAITXd0EAAACwS42cQQAAAABlzc1B4hLe5JknjkEAAOAcJmL1QQAAgORs3dRBCGH5EJVgHELgpwWVg2NkQVTdsEPkZY5BO2JTv7LTukEAAAAAZc3NQQAAAACE15dBAAAAWBQRiUH6Ir8e1+twQX///3863GNBMEBZXn7AcUH3KONXlidyQVlRg4j9z2xCOoww4o55RUJ07JdzD5S7QQAAAA2SvKdBAAAAjJAIoUHjhZsbbepiQaQYoLbp5J1BCfH/X/GMhEHsDROLtBptQpGJjGNYgC9BSezU4zTLh0Ghpz2n311kQQAAAHD2u3FB9dF5Okvqr0ETGCDst9+qQQAAAABlzc1BAACAN/5330HRsm6Hj3KFQWXGm92JeJBBAQAASEdtokEEVq5IcVe2Qdv5fg1KOZtB8f3UO3rni0HNzMyHvsKkQZvNTvoUwnFBXI/C/+GLgEE73nFSm8WCQdfdmSHBbL9BhevRurMzpEEAAABY4HVwQeb//6DSXKpByChW/S7fG0LTOcWCAghyQXIvxoEswHFBpq+Mc9dIkkGumpEDePryQepo+FtyGXZBIXP8pTABwkEy9QMcoSKsQXHrlj+XwnFBYPQ3145S40EAAADw8P7KQXDbS8PIwWVBs/tAWDo/VUETtH/b7r49QjPouk4ElA5CAAAgXfcVJUIljLiGhOOwQV6WxWLYzoxBAAAgJMuM2EHEQWF34EdcQQAAAAARSWRBQAb4u8PFzUEdQFmykMJxQQAAAKqcDr1BAAAAgGmia0H0fqFjsNqQQShrs9CT7wlCAAAZmxsFNEIAAABgZ5KYQcez01DMnSpBwXeIhkfBi0EAAACI1MSfQQAAAABlzc1BBcjsmdWfnUEwoTksF/3JQTom3pkO1I9BrJ6J3tz7cEHTYANtUMdnQf5ls6AxUOZBAAAA8O7MmEEDr/0PD6YdQpXUEZoGlM5B\",\"dtype\":\"float64\",\"shape\":[102]},\"class\":{\"__ndarray__\":\"AwAAAAEAAAAEAAAAAQAAAAMAAAADAAAAAQAAAAMAAAADAAAAAAAAAAEAAAABAAAAAQAAAAMAAAAEAAAAAQAAAAAAAAABAAAAAQAAAAEAAAABAAAAAwAAAAQAAAABAAAAAQAAAAEAAAABAAAAAQAAAAMAAAACAAAAAQAAAAEAAAADAAAABAAAAAMAAAABAAAAAQAAAAIAAAADAAAAAQAAAAEAAAABAAAAAwAAAAMAAAAEAAAAAAAAAAMAAAAAAAAABAAAAAEAAAABAAAAAQAAAAQAAAABAAAAAQAAAAEAAAABAAAABAAAAAEAAAABAAAAAwAAAAEAAAABAAAAAQAAAAMAAAABAAAAAQAAAAEAAAADAAAAAQAAAAMAAAABAAAAAwAAAAEAAAABAAAAAQAAAAAAAAAEAAAAAQAAAAMAAAABAAAABAAAAAEAAAADAAAABAAAAAMAAAABAAAABAAAAAQAAAADAAAAAQAAAAEAAAAEAAAAAQAAAAQAAAABAAAAAQAAAAMAAAAEAAAAAAAAAAQAAAAEAAAA\",\"dtype\":\"int32\",\"shape\":[102]}},\"selected\":{\"id\":\"2200\"},\"selection_policy\":{\"id\":\"2234\"}},\"id\":\"2199\",\"type\":\"ColumnDataSource\"},{\"attributes\":{\"source\":{\"id\":\"2199\"}},\"id\":\"2232\",\"type\":\"CDSView\"},{\"attributes\":{},\"id\":\"2221\",\"type\":\"StringFormatter\"},{\"attributes\":{\"editor\":{\"id\":\"2217\"},\"field\":\"TotalCoinsMined\",\"formatter\":{\"id\":\"2216\"},\"title\":\"TotalCoinsMined\"},\"id\":\"2218\",\"type\":\"TableColumn\"},{\"attributes\":{\"columns\":[{\"id\":\"2203\"},{\"id\":\"2208\"},{\"id\":\"2213\"},{\"id\":\"2218\"},{\"id\":\"2223\"},{\"id\":\"2228\"}],\"height\":300,\"reorderable\":false,\"source\":{\"id\":\"2199\"},\"view\":{\"id\":\"2232\"}},\"id\":\"2231\",\"type\":\"DataTable\"},{\"attributes\":{},\"id\":\"2226\",\"type\":\"NumberFormatter\"},{\"attributes\":{\"editor\":{\"id\":\"2222\"},\"field\":\"MaxSupply\",\"formatter\":{\"id\":\"2221\"},\"title\":\"MaxSupply\"},\"id\":\"2223\",\"type\":\"TableColumn\"},{\"attributes\":{\"editor\":{\"id\":\"2227\"},\"field\":\"class\",\"formatter\":{\"id\":\"2226\"},\"title\":\"class\"},\"id\":\"2228\",\"type\":\"TableColumn\"}],\"root_ids\":[\"2197\"]},\"title\":\"Bokeh Application\",\"version\":\"2.0.2\"}};\n",
       "  var render_items = [{\"docid\":\"965f352f-42b1-44a5-9aad-3e7065f40c28\",\"root_ids\":[\"2197\"],\"roots\":{\"2197\":\"71907242-5734-4006-a31a-1bef21c64f41\"}}];\n",
       "  root.Bokeh.embed.embed_items_notebook(docs_json, render_items);\n",
       "  }\n",
       "if (root.Bokeh !== undefined) {\n",
       "    embed_document(root);\n",
       "  } else {\n",
       "    var attempts = 0;\n",
       "    var timer = setInterval(function(root) {\n",
       "      if (root.Bokeh !== undefined) {\n",
       "        clearInterval(timer);\n",
       "        embed_document(root);\n",
       "      } else if (document.readyState == \"complete\") {\n",
       "        attempts++;\n",
       "        if (attempts > 100) {\n",
       "          clearInterval(timer);\n",
       "          console.log(\"Bokeh: ERROR: Unable to run BokehJS code because BokehJS library is missing\");\n",
       "        }\n",
       "      }\n",
       "    }, 10, root)\n",
       "  }\n",
       "})(window);</script>"
      ],
      "text/plain": [
       ":Table   [CoinName,Algorithm,ProofType,TotalCoinsMined,MaxSupply,class]"
      ]
     },
     "execution_count": 129,
     "metadata": {
      "application/vnd.holoviews_exec.v0+json": {
       "id": "2197"
      }
     },
     "output_type": "execute_result"
    }
   ],
   "source": [
    "# Table with tradable cryptos\n",
    "clustered_df.hvplot.table(columns=['CoinName', 'Algorithm', 'ProofType', 'TotalCoinsMined', 'MaxSupply', 'class'], width=600)"
   ]
  },
  {
   "cell_type": "code",
   "execution_count": 23,
   "metadata": {},
   "outputs": [
    {
     "name": "stdout",
     "output_type": "stream",
     "text": [
      "The total number of tradable cryptocurrenices is: 102\n"
     ]
    }
   ],
   "source": [
    "# Print the total number of tradable cryptocurrencies\n",
    "print(f'The total number of tradable cryptocurrenices is: {len(clustered_df_no_pc)}')"
   ]
  },
  {
   "cell_type": "markdown",
   "metadata": {},
   "source": [
    "#### Scatter Plot with Tradable Cryptocurrencies"
   ]
  },
  {
   "cell_type": "code",
   "execution_count": 24,
   "metadata": {},
   "outputs": [],
   "source": [
    "# Scale data to create the scatter plot\n",
    "scaler = MinMaxScaler()\n",
    "\n",
    "normalize_columns = ['TotalCoinsMined', 'MaxSupply']\n",
    "x = crypto_df[normalize_columns].values\n",
    "x_scaled = scaler.fit_transform(x)\n",
    "\n",
    "df_tradable = pd.DataFrame(x_scaled, columns=normalize_columns, index=crypto_df.index).reset_index()\n"
   ]
  },
  {
   "cell_type": "code",
   "execution_count": 130,
   "metadata": {},
   "outputs": [
    {
     "data": {},
     "metadata": {},
     "output_type": "display_data"
    },
    {
     "data": {
      "application/vnd.holoviews_exec.v0+json": "",
      "text/html": [
       "<div id='2247'>\n",
       "\n",
       "\n",
       "\n",
       "\n",
       "\n",
       "  <div class=\"bk-root\" id=\"a9aa4125-c1e7-4e93-b12c-876b29b359e6\" data-root-id=\"2247\"></div>\n",
       "</div>\n",
       "<script type=\"application/javascript\">(function(root) {\n",
       "  function embed_document(root) {\n",
       "  var docs_json = {\"0e312216-b1fe-4cf1-b643-a445a97dbd9f\":{\"roots\":{\"references\":[{\"attributes\":{},\"id\":\"2257\",\"type\":\"LinearScale\"},{\"attributes\":{\"bottom_units\":\"screen\",\"fill_alpha\":0.5,\"fill_color\":\"lightgrey\",\"left_units\":\"screen\",\"level\":\"overlay\",\"line_alpha\":1.0,\"line_color\":\"black\",\"line_dash\":[4,4],\"line_width\":2,\"render_mode\":\"css\",\"right_units\":\"screen\",\"top_units\":\"screen\"},\"id\":\"2274\",\"type\":\"BoxAnnotation\"},{\"attributes\":{\"below\":[{\"id\":\"2261\"}],\"center\":[{\"id\":\"2264\"},{\"id\":\"2268\"}],\"left\":[{\"id\":\"2265\"}],\"margin\":null,\"min_border_bottom\":10,\"min_border_left\":10,\"min_border_right\":10,\"min_border_top\":10,\"plot_height\":300,\"plot_width\":700,\"renderers\":[{\"id\":\"2288\"}],\"sizing_mode\":\"fixed\",\"title\":{\"id\":\"2253\"},\"toolbar\":{\"id\":\"2275\"},\"x_range\":{\"id\":\"2249\"},\"x_scale\":{\"id\":\"2257\"},\"y_range\":{\"id\":\"2250\"},\"y_scale\":{\"id\":\"2259\"}},\"id\":\"2252\",\"subtype\":\"Figure\",\"type\":\"Plot\"},{\"attributes\":{\"axis_label\":\"MaxSupply\",\"bounds\":\"auto\",\"formatter\":{\"id\":\"2292\"},\"major_label_orientation\":\"horizontal\",\"ticker\":{\"id\":\"2266\"}},\"id\":\"2265\",\"type\":\"LinearAxis\"},{\"attributes\":{},\"id\":\"2300\",\"type\":\"UnionRenderers\"},{\"attributes\":{\"axis\":{\"id\":\"2261\"},\"grid_line_color\":null,\"ticker\":null},\"id\":\"2264\",\"type\":\"Grid\"},{\"attributes\":{},\"id\":\"2259\",\"type\":\"LinearScale\"},{\"attributes\":{\"end\":1.1000000000000003,\"reset_end\":1.1000000000000003,\"reset_start\":-0.10000000000000003,\"start\":-0.10000000000000003,\"tags\":[[[\"MaxSupply\",\"MaxSupply\",null]]]},\"id\":\"2250\",\"type\":\"Range1d\"},{\"attributes\":{\"axis_label\":\"TotalCoinsMined\",\"bounds\":\"auto\",\"formatter\":{\"id\":\"2290\"},\"major_label_orientation\":\"horizontal\",\"ticker\":{\"id\":\"2262\"}},\"id\":\"2261\",\"type\":\"LinearAxis\"},{\"attributes\":{},\"id\":\"2262\",\"type\":\"BasicTicker\"},{\"attributes\":{},\"id\":\"2266\",\"type\":\"BasicTicker\"},{\"attributes\":{\"axis\":{\"id\":\"2265\"},\"dimension\":1,\"grid_line_color\":null,\"ticker\":null},\"id\":\"2268\",\"type\":\"Grid\"},{\"attributes\":{},\"id\":\"2270\",\"type\":\"PanTool\"},{\"attributes\":{},\"id\":\"2269\",\"type\":\"SaveTool\"},{\"attributes\":{},\"id\":\"2271\",\"type\":\"WheelZoomTool\"},{\"attributes\":{\"source\":{\"id\":\"2282\"}},\"id\":\"2289\",\"type\":\"CDSView\"},{\"attributes\":{\"overlay\":{\"id\":\"2274\"}},\"id\":\"2272\",\"type\":\"BoxZoomTool\"},{\"attributes\":{\"data\":{\"MaxSupply\":{\"__ndarray__\":\"AAAAAAAAAAAAAAAAAAAAAGnyWzeGl3E9AAAAAAAAAABp8ls3hpdxPQAAAAAAAAAAafJbN4aXcT0AAAAAAAAAAIv1g9w7YlA/AAAAAAAAAAAAAAAAAAAAAEDhGsX6+/c+afJbN4aXcT3tDQsYUIYrP4v1g9w7YlA/Fu89u+lCMT8AAAAAAAAAAAAAAAAAAAAAAAAAAAAAAAAwzSOcnvj0Puho5mkcTRE/AAAAAAAAAACL9YPcO2JQP0U6lTHGNho/AAAAAAAAAAAAAAAAAAAAAO8D3u8MBfY+5ft17wwF9j7vA97vDAX2PgU7277xre8/dNUGoZycxz+L9YPcO2JQP+0NCxhQhis/AAAAAAAAAADDXT1zWNHzPn5JYi/GNio//MNw7T7wEj8BAAAAAADwPwAAAAAAAAAAAAAAAAAAAADvA97vDAX2PuX7de8MBfY+AAAAAAAAAACJlfEWUIY7P2nyWzeGl3E9PtM9aEivYT9GX6ziDAUWPycNFWVnchQ/AAAAAAAAAAAAAAAAAAAAAAAAAAAAAAAAAAAAAAAAAACZlW5/htMmP+X7de8MBfY+RTqVMcY2Gj/UQBLnDAUGPz97HhZQhls/AAAAAAAAAAAAAAAAAAAAAAAAAAAAAAAAAAAAAAAAAADvA97vDAX2Pu8D3u8MBfY+tP49GlCGGz8AAAAAAAAAAAAAAAAAAAAAeCv8k/UYTT8b9l/fDAU2P686mEN7Efc+1ZRe08p6dD+L9YPcO2JQP6LmjkRscPY+AAAAAAAAAAAAAAAAAAAAAIEqI6i485A/AAAAAAAAAAAAAAAAAAAAAEU6lTHGNho/7Q0LGFCGKz8AAAAAAAAAAO8D3u8MBfY+i/WD3DtiUD/l+3XvDAX2PgAAAAAAAAAAAAAAAAAAAAAAAAAAAAAAAKg8FZHugJU/Us54QrQytj/owfDKt0McPwAAAAAAAAAARl+s4gwFFj/2P4T0/nYhPwAAAAAAAAAAhb+R8sydKz8AAAAAAAAAAEZfrOIMBRY/AAAAAAAAAADvA97vDAX2PvRG2zrRfm0/AAAAAAAAAADqz7gtJAqnPwAAAAAAAAAA\",\"dtype\":\"float64\",\"shape\":[102]},\"TotalCoinsMined\":{\"__ndarray__\":\"xXMu/jeUyD5XP3+fGIPEPhT+iBj79nc/Vd0vv4v9FD8AAAAAAAAAAKwZGQ/ibwg/ggQds82Vpz5uQT44qH4eP38885aFYVA/GQcx2ZQlRT/RnVachKAoP1hsU9Xvm84+h3UMeCkJ+j6I/PeAHlkfP38885aFYVA/jgIQCWyIED9VwGDMnIJ3P86mfDom8FY/ZW+b3VAznz8AmUlAmA/mPn9ABICqqhA/lu8ZYCN8PT9/PPOWhWFQP4Aq8zdfKxo/ksDm4bp4Cz+Xpb51N23yPgv/vGfZeuU+0KstDgdX8z6z2qPbYMjzPtuxdfrZre8/RTCM/4Wcxz8F9ISao08+PyKg/ZdyEyo/EoH74LW0Ij8hFFw7/XDkPqkFA0l2aSA/50H1v5CBBj/////////vPy8KyNIR76w+qUUMWG8SCj/q7y6pZAnmPg0gBbgLUvM+3wJlyL2IMT/D84blgIYtP38885aFYVA/+wtNOWZMYT9j0mVXB34HP1WvuS6nEBI/AXv0Oeo8JD9pggJ6o404P/9skcxI4x0/v7vaW2aXDj++2lIe080mP/1Cmh7GWPM+xk9PxYQaAj9cAEMk7YwEPyhkN+AmRUE/tQ7w/IwwJj83PKMahOvxPilXIKaV9iw/CHtY9gqlnj/zbMK8qKXzPvQKkAytVvM+e1HAtiYPFD8BfUAird10Px4N90+2Hvg+ZDUuRFnKQz9sYM+5iukuP5Ua61lVWfM+fOKSAVo+ZT/IpwHiG61NP2kf4uy2kOc+XRuSMvGl1j5O6WtgR1rAP6mLi8dhz5A/UBfVkAEvpz8XrrIS1I4yP84fdIXJlQ8/d2yRXGD9Wj8LrjtqvmHePggpZwqE8uU+9oTJyVNdUD9ylM0lTlnzPiL8I6Xa7z8/VcJaAgsH7j4SezqhkXwSP0CGviMVhIw/ULFO3gIDtj+D2s2x2vgaPw8zZ+sZkKc+i9fFu2ZtDj8Zph+ES3EhP38885aFYVA/JVi0gHxDID86GrOUmpFMP3KRm9f2cxE/655hTtV+8j67zys9vMnpPjDP38cpiGg/oyjeBTU5Gz8NZBNtlkygP+xcr/23zlA/\",\"dtype\":\"float64\",\"shape\":[102]}},\"selected\":{\"id\":\"2283\"},\"selection_policy\":{\"id\":\"2300\"}},\"id\":\"2282\",\"type\":\"ColumnDataSource\"},{\"attributes\":{},\"id\":\"2273\",\"type\":\"ResetTool\"},{\"attributes\":{\"active_drag\":\"auto\",\"active_inspect\":\"auto\",\"active_multi\":null,\"active_scroll\":\"auto\",\"active_tap\":\"auto\",\"tools\":[{\"id\":\"2251\"},{\"id\":\"2269\"},{\"id\":\"2270\"},{\"id\":\"2271\"},{\"id\":\"2272\"},{\"id\":\"2273\"}]},\"id\":\"2275\",\"type\":\"Toolbar\"},{\"attributes\":{},\"id\":\"2283\",\"type\":\"Selection\"},{\"attributes\":{\"data_source\":{\"id\":\"2282\"},\"glyph\":{\"id\":\"2285\"},\"hover_glyph\":null,\"muted_glyph\":{\"id\":\"2287\"},\"nonselection_glyph\":{\"id\":\"2286\"},\"selection_glyph\":null,\"view\":{\"id\":\"2289\"}},\"id\":\"2288\",\"type\":\"GlyphRenderer\"},{\"attributes\":{\"end\":1.0428571428571427,\"reset_end\":1.0428571428571427,\"reset_start\":-0.04285714285714285,\"start\":-0.04285714285714285,\"tags\":[[[\"TotalCoinsMined\",\"TotalCoinsMined\",null]]]},\"id\":\"2249\",\"type\":\"Range1d\"},{\"attributes\":{},\"id\":\"2290\",\"type\":\"BasicTickFormatter\"},{\"attributes\":{},\"id\":\"2292\",\"type\":\"BasicTickFormatter\"},{\"attributes\":{\"margin\":[5,5,5,5],\"name\":\"HSpacer04335\",\"sizing_mode\":\"stretch_width\"},\"id\":\"2302\",\"type\":\"Spacer\"},{\"attributes\":{\"text\":\"\",\"text_color\":{\"value\":\"black\"},\"text_font_size\":{\"value\":\"12pt\"}},\"id\":\"2253\",\"type\":\"Title\"},{\"attributes\":{\"fill_alpha\":{\"value\":0.2},\"fill_color\":{\"value\":\"#1f77b3\"},\"line_alpha\":{\"value\":0.2},\"line_color\":{\"value\":\"#1f77b3\"},\"size\":{\"units\":\"screen\",\"value\":5.477225575051661},\"x\":{\"field\":\"TotalCoinsMined\"},\"y\":{\"field\":\"MaxSupply\"}},\"id\":\"2287\",\"type\":\"Scatter\"},{\"attributes\":{\"children\":[{\"id\":\"2248\"},{\"id\":\"2252\"},{\"id\":\"2302\"}],\"margin\":[0,0,0,0],\"name\":\"Row04330\",\"tags\":[\"embedded\"]},\"id\":\"2247\",\"type\":\"Row\"},{\"attributes\":{\"margin\":[5,5,5,5],\"name\":\"HSpacer04334\",\"sizing_mode\":\"stretch_width\"},\"id\":\"2248\",\"type\":\"Spacer\"},{\"attributes\":{\"fill_color\":{\"value\":\"#1f77b3\"},\"line_color\":{\"value\":\"#1f77b3\"},\"size\":{\"units\":\"screen\",\"value\":5.477225575051661},\"x\":{\"field\":\"TotalCoinsMined\"},\"y\":{\"field\":\"MaxSupply\"}},\"id\":\"2285\",\"type\":\"Scatter\"},{\"attributes\":{\"fill_alpha\":{\"value\":0.1},\"fill_color\":{\"value\":\"#1f77b3\"},\"line_alpha\":{\"value\":0.1},\"line_color\":{\"value\":\"#1f77b3\"},\"size\":{\"units\":\"screen\",\"value\":5.477225575051661},\"x\":{\"field\":\"TotalCoinsMined\"},\"y\":{\"field\":\"MaxSupply\"}},\"id\":\"2286\",\"type\":\"Scatter\"},{\"attributes\":{\"callback\":null,\"renderers\":[{\"id\":\"2288\"}],\"tags\":[\"hv_created\"],\"tooltips\":[[\"TotalCoinsMined\",\"@{TotalCoinsMined}\"],[\"MaxSupply\",\"@{MaxSupply}\"]]},\"id\":\"2251\",\"type\":\"HoverTool\"}],\"root_ids\":[\"2247\"]},\"title\":\"Bokeh Application\",\"version\":\"2.0.2\"}};\n",
       "  var render_items = [{\"docid\":\"0e312216-b1fe-4cf1-b643-a445a97dbd9f\",\"root_ids\":[\"2247\"],\"roots\":{\"2247\":\"a9aa4125-c1e7-4e93-b12c-876b29b359e6\"}}];\n",
       "  root.Bokeh.embed.embed_items_notebook(docs_json, render_items);\n",
       "  }\n",
       "if (root.Bokeh !== undefined) {\n",
       "    embed_document(root);\n",
       "  } else {\n",
       "    var attempts = 0;\n",
       "    var timer = setInterval(function(root) {\n",
       "      if (root.Bokeh !== undefined) {\n",
       "        clearInterval(timer);\n",
       "        embed_document(root);\n",
       "      } else if (document.readyState == \"complete\") {\n",
       "        attempts++;\n",
       "        if (attempts > 100) {\n",
       "          clearInterval(timer);\n",
       "          console.log(\"Bokeh: ERROR: Unable to run BokehJS code because BokehJS library is missing\");\n",
       "        }\n",
       "      }\n",
       "    }, 10, root)\n",
       "  }\n",
       "})(window);</script>"
      ],
      "text/plain": [
       ":Scatter   [TotalCoinsMined]   (MaxSupply)"
      ]
     },
     "execution_count": 130,
     "metadata": {
      "application/vnd.holoviews_exec.v0+json": {
       "id": "2247"
      }
     },
     "output_type": "execute_result"
    }
   ],
   "source": [
    "# Create a scatter plot using hvplot.scatter\n",
    "df_tradable.hvplot.scatter(x='TotalCoinsMined', y='MaxSupply',hover_cols=[\"CoinName\"])"
   ]
  },
  {
   "cell_type": "code",
   "execution_count": 131,
   "metadata": {},
   "outputs": [],
   "source": [
    "## below is me just trying things \n",
    "\n",
    "# trying to get an animation for the scatter but i think the ranges are kind of messed up \n",
    "fig2 = px.scatter(df_tradable, x=\"TotalCoinsMined\", y=\"MaxSupply\", animation_frame=\"TotalCoinsMined\", animation_group=\"MaxSupply\",\n",
    "                 size=\"MaxSupply\", color=\"TotalCoinsMined\", hover_name=\"TotalCoinsMined\",\n",
    "             log_x=True, log_y=True, size_max=45, range_x=[100,10000000], range_y=[25,140000])"
   ]
  },
  {
   "cell_type": "code",
   "execution_count": 27,
   "metadata": {},
   "outputs": [
    {
     "data": {
      "application/vnd.plotly.v1+json": {
       "config": {
        "plotlyServerURL": "https://plot.ly"
       },
       "data": [
        {
         "hovertemplate": "<b>%{hovertext}</b><br><br>TotalCoinsMined=%{marker.color}<br>MaxSupply=%{marker.size}<extra></extra>",
         "hovertext": [
          2.9300426702253475e-06
         ],
         "ids": [
          0
         ],
         "legendgroup": "",
         "marker": {
          "color": [
           2.9300426702253475e-06
          ],
          "coloraxis": "coloraxis",
          "size": [
           0
          ],
          "sizemode": "area",
          "sizeref": 0.0004938271604938273,
          "symbol": "circle"
         },
         "mode": "markers",
         "name": "",
         "orientation": "v",
         "showlegend": false,
         "type": "scatter",
         "x": [
          2.9300426702253475e-06
         ],
         "xaxis": "x",
         "y": [
          0
         ],
         "yaxis": "y"
        }
       ],
       "frames": [
        {
         "data": [
          {
           "hovertemplate": "<b>%{hovertext}</b><br><br>TotalCoinsMined=%{marker.color}<br>MaxSupply=%{marker.size}<extra></extra>",
           "hovertext": [
            2.9300426702253475e-06
           ],
           "ids": [
            0
           ],
           "legendgroup": "",
           "marker": {
            "color": [
             2.9300426702253475e-06
            ],
            "coloraxis": "coloraxis",
            "size": [
             0
            ],
            "sizemode": "area",
            "sizeref": 0.0004938271604938273,
            "symbol": "circle"
           },
           "mode": "markers",
           "name": "",
           "orientation": "v",
           "showlegend": false,
           "type": "scatter",
           "x": [
            2.9300426702253475e-06
           ],
           "xaxis": "x",
           "y": [
            0
           ],
           "yaxis": "y"
          }
         ],
         "name": "2.9300426702253475e-06"
        },
        {
         "data": [
          {
           "hovertemplate": "<b>%{hovertext}</b><br><br>TotalCoinsMined=%{marker.color}<br>MaxSupply=%{marker.size}<extra></extra>",
           "hovertext": [
            2.4452322086933992e-06
           ],
           "ids": [
            0
           ],
           "legendgroup": "",
           "marker": {
            "color": [
             2.4452322086933992e-06
            ],
            "coloraxis": "coloraxis",
            "size": [
             0
            ],
            "sizemode": "area",
            "sizeref": 0.0004938271604938273,
            "symbol": "circle"
           },
           "mode": "markers",
           "name": "",
           "orientation": "v",
           "showlegend": false,
           "type": "scatter",
           "x": [
            2.4452322086933992e-06
           ],
           "xaxis": "x",
           "y": [
            0
           ],
           "yaxis": "y"
          }
         ],
         "name": "2.4452322086933992e-06"
        },
        {
         "data": [
          {
           "hovertemplate": "<b>%{hovertext}</b><br><br>TotalCoinsMined=%{marker.color}<br>MaxSupply=%{marker.size}<extra></extra>",
           "hovertext": [
            0.0058507736617339386
           ],
           "ids": [
            9.999832700144621e-13
           ],
           "legendgroup": "",
           "marker": {
            "color": [
             0.0058507736617339386
            ],
            "coloraxis": "coloraxis",
            "size": [
             9.999832700144621e-13
            ],
            "sizemode": "area",
            "sizeref": 0.0004938271604938273,
            "symbol": "circle"
           },
           "mode": "markers",
           "name": "",
           "orientation": "v",
           "showlegend": false,
           "type": "scatter",
           "x": [
            0.0058507736617339386
           ],
           "xaxis": "x",
           "y": [
            9.999832700144621e-13
           ],
           "yaxis": "y"
          }
         ],
         "name": "0.0058507736617339386"
        },
        {
         "data": [
          {
           "hovertemplate": "<b>%{hovertext}</b><br><br>TotalCoinsMined=%{marker.color}<br>MaxSupply=%{marker.size}<extra></extra>",
           "hovertext": [
            8.007207343029472e-05
           ],
           "ids": [
            0
           ],
           "legendgroup": "",
           "marker": {
            "color": [
             8.007207343029472e-05
            ],
            "coloraxis": "coloraxis",
            "size": [
             0
            ],
            "sizemode": "area",
            "sizeref": 0.0004938271604938273,
            "symbol": "circle"
           },
           "mode": "markers",
           "name": "",
           "orientation": "v",
           "showlegend": false,
           "type": "scatter",
           "x": [
            8.007207343029472e-05
           ],
           "xaxis": "x",
           "y": [
            0
           ],
           "yaxis": "y"
          }
         ],
         "name": "8.007207343029472e-05"
        },
        {
         "data": [
          {
           "hovertemplate": "<b>%{hovertext}</b><br><br>TotalCoinsMined=%{marker.color}<br>MaxSupply=%{marker.size}<extra></extra>",
           "hovertext": [
            0
           ],
           "ids": [
            9.999832700144621e-13
           ],
           "legendgroup": "",
           "marker": {
            "color": [
             0
            ],
            "coloraxis": "coloraxis",
            "size": [
             9.999832700144621e-13
            ],
            "sizemode": "area",
            "sizeref": 0.0004938271604938273,
            "symbol": "circle"
           },
           "mode": "markers",
           "name": "",
           "orientation": "v",
           "showlegend": false,
           "type": "scatter",
           "x": [
            0
           ],
           "xaxis": "x",
           "y": [
            9.999832700144621e-13
           ],
           "yaxis": "y"
          }
         ],
         "name": "0.0"
        },
        {
         "data": [
          {
           "hovertemplate": "<b>%{hovertext}</b><br><br>TotalCoinsMined=%{marker.color}<br>MaxSupply=%{marker.size}<extra></extra>",
           "hovertext": [
            4.6609960815891096e-05
           ],
           "ids": [
            0
           ],
           "legendgroup": "",
           "marker": {
            "color": [
             4.6609960815891096e-05
            ],
            "coloraxis": "coloraxis",
            "size": [
             0
            ],
            "sizemode": "area",
            "sizeref": 0.0004938271604938273,
            "symbol": "circle"
           },
           "mode": "markers",
           "name": "",
           "orientation": "v",
           "showlegend": false,
           "type": "scatter",
           "x": [
            4.6609960815891096e-05
           ],
           "xaxis": "x",
           "y": [
            0
           ],
           "yaxis": "y"
          }
         ],
         "name": "4.6609960815891096e-05"
        },
        {
         "data": [
          {
           "hovertemplate": "<b>%{hovertext}</b><br><br>TotalCoinsMined=%{marker.color}<br>MaxSupply=%{marker.size}<extra></extra>",
           "hovertext": [
            7.028928392453616e-07
           ],
           "ids": [
            9.999832700144621e-13
           ],
           "legendgroup": "",
           "marker": {
            "color": [
             7.028928392453616e-07
            ],
            "coloraxis": "coloraxis",
            "size": [
             9.999832700144621e-13
            ],
            "sizemode": "area",
            "sizeref": 0.0004938271604938273,
            "symbol": "circle"
           },
           "mode": "markers",
           "name": "",
           "orientation": "v",
           "showlegend": false,
           "type": "scatter",
           "x": [
            7.028928392453616e-07
           ],
           "xaxis": "x",
           "y": [
            9.999832700144621e-13
           ],
           "yaxis": "y"
          }
         ],
         "name": "7.028928392453616e-07"
        },
        {
         "data": [
          {
           "hovertemplate": "<b>%{hovertext}</b><br><br>TotalCoinsMined=%{marker.color}<br>MaxSupply=%{marker.size}<extra></extra>",
           "hovertext": [
            0.00011632825595442816
           ],
           "ids": [
            0
           ],
           "legendgroup": "",
           "marker": {
            "color": [
             0.00011632825595442816
            ],
            "coloraxis": "coloraxis",
            "size": [
             0
            ],
            "sizemode": "area",
            "sizeref": 0.0004938271604938273,
            "symbol": "circle"
           },
           "mode": "markers",
           "name": "",
           "orientation": "v",
           "showlegend": false,
           "type": "scatter",
           "x": [
            0.00011632825595442816
           ],
           "xaxis": "x",
           "y": [
            0
           ],
           "yaxis": "y"
          }
         ],
         "name": "0.00011632825595442816"
        },
        {
         "data": [
          {
           "hovertemplate": "<b>%{hovertext}</b><br><br>TotalCoinsMined=%{marker.color}<br>MaxSupply=%{marker.size}<extra></extra>",
           "hovertext": [
            0.0009998135172286924,
            0.0009998135172286924,
            0.0009998135172286924,
            0.0009998135172286924,
            0.0009998135172286924
           ],
           "ids": [
            0.0009999832710144453,
            0.0009999832710144453,
            0.0009999832710144453,
            9.999832700144621e-13,
            0
           ],
           "legendgroup": "",
           "marker": {
            "color": [
             0.0009998135172286924,
             0.0009998135172286924,
             0.0009998135172286924,
             0.0009998135172286924,
             0.0009998135172286924
            ],
            "coloraxis": "coloraxis",
            "size": [
             0.0009999832710144453,
             0.0009999832710144453,
             0.0009999832710144453,
             9.999832700144621e-13,
             0
            ],
            "sizemode": "area",
            "sizeref": 0.0004938271604938273,
            "symbol": "circle"
           },
           "mode": "markers",
           "name": "",
           "orientation": "v",
           "showlegend": false,
           "type": "scatter",
           "x": [
            0.0009998135172286924,
            0.0009998135172286924,
            0.0009998135172286924,
            0.0009998135172286924,
            0.0009998135172286924
           ],
           "xaxis": "x",
           "y": [
            0.0009999832710144453,
            0.0009999832710144453,
            0.0009999832710144453,
            9.999832700144621e-13,
            0
           ],
           "yaxis": "y"
          }
         ],
         "name": "0.0009998135172286924"
        },
        {
         "data": [
          {
           "hovertemplate": "<b>%{hovertext}</b><br><br>TotalCoinsMined=%{marker.color}<br>MaxSupply=%{marker.size}<extra></extra>",
           "hovertext": [
            0.000645349197277964
           ],
           "ids": [
            0
           ],
           "legendgroup": "",
           "marker": {
            "color": [
             0.000645349197277964
            ],
            "coloraxis": "coloraxis",
            "size": [
             0
            ],
            "sizemode": "area",
            "sizeref": 0.0004938271604938273,
            "symbol": "circle"
           },
           "mode": "markers",
           "name": "",
           "orientation": "v",
           "showlegend": false,
           "type": "scatter",
           "x": [
            0.000645349197277964
           ],
           "xaxis": "x",
           "y": [
            0
           ],
           "yaxis": "y"
          }
         ],
         "name": "0.000645349197277964"
        },
        {
         "data": [
          {
           "hovertemplate": "<b>%{hovertext}</b><br><br>TotalCoinsMined=%{marker.color}<br>MaxSupply=%{marker.size}<extra></extra>",
           "hovertext": [
            0.0001878892782489609
           ],
           "ids": [
            0
           ],
           "legendgroup": "",
           "marker": {
            "color": [
             0.0001878892782489609
            ],
            "coloraxis": "coloraxis",
            "size": [
             0
            ],
            "sizemode": "area",
            "sizeref": 0.0004938271604938273,
            "symbol": "circle"
           },
           "mode": "markers",
           "name": "",
           "orientation": "v",
           "showlegend": false,
           "type": "scatter",
           "x": [
            0.0001878892782489609
           ],
           "xaxis": "x",
           "y": [
            0
           ],
           "yaxis": "y"
          }
         ],
         "name": "0.0001878892782489609"
        },
        {
         "data": [
          {
           "hovertemplate": "<b>%{hovertext}</b><br><br>TotalCoinsMined=%{marker.color}<br>MaxSupply=%{marker.size}<extra></extra>",
           "hovertext": [
            3.648892440295071e-06
           ],
           "ids": [
            2.287320632518683e-05
           ],
           "legendgroup": "",
           "marker": {
            "color": [
             3.648892440295071e-06
            ],
            "coloraxis": "coloraxis",
            "size": [
             2.287320632518683e-05
            ],
            "sizemode": "area",
            "sizeref": 0.0004938271604938273,
            "symbol": "circle"
           },
           "mode": "markers",
           "name": "",
           "orientation": "v",
           "showlegend": false,
           "type": "scatter",
           "x": [
            3.648892440295071e-06
           ],
           "xaxis": "x",
           "y": [
            2.287320632518683e-05
           ],
           "yaxis": "y"
          }
         ],
         "name": "3.648892440295071e-06"
        },
        {
         "data": [
          {
           "hovertemplate": "<b>%{hovertext}</b><br><br>TotalCoinsMined=%{marker.color}<br>MaxSupply=%{marker.size}<extra></extra>",
           "hovertext": [
            2.4829663291749758e-05
           ],
           "ids": [
            9.999832700144621e-13
           ],
           "legendgroup": "",
           "marker": {
            "color": [
             2.4829663291749758e-05
            ],
            "coloraxis": "coloraxis",
            "size": [
             9.999832700144621e-13
            ],
            "sizemode": "area",
            "sizeref": 0.0004938271604938273,
            "symbol": "circle"
           },
           "mode": "markers",
           "name": "",
           "orientation": "v",
           "showlegend": false,
           "type": "scatter",
           "x": [
            2.4829663291749758e-05
           ],
           "xaxis": "x",
           "y": [
            9.999832700144621e-13
           ],
           "yaxis": "y"
          }
         ],
         "name": "2.4829663291749758e-05"
        },
        {
         "data": [
          {
           "hovertemplate": "<b>%{hovertext}</b><br><br>TotalCoinsMined=%{marker.color}<br>MaxSupply=%{marker.size}<extra></extra>",
           "hovertext": [
            0.00011958359413454152
           ],
           "ids": [
            0.0002099964877030203
           ],
           "legendgroup": "",
           "marker": {
            "color": [
             0.00011958359413454152
            ],
            "coloraxis": "coloraxis",
            "size": [
             0.0002099964877030203
            ],
            "sizemode": "area",
            "sizeref": 0.0004938271604938273,
            "symbol": "circle"
           },
           "mode": "markers",
           "name": "",
           "orientation": "v",
           "showlegend": false,
           "type": "scatter",
           "x": [
            0.00011958359413454152
           ],
           "xaxis": "x",
           "y": [
            0.0002099964877030203
           ],
           "yaxis": "y"
          }
         ],
         "name": "0.00011958359413454152"
        },
        {
         "data": [
          {
           "hovertemplate": "<b>%{hovertext}</b><br><br>TotalCoinsMined=%{marker.color}<br>MaxSupply=%{marker.size}<extra></extra>",
           "hovertext": [
            6.306800266032473e-05
           ],
           "ids": [
            0.0002633877404531899
           ],
           "legendgroup": "",
           "marker": {
            "color": [
             6.306800266032473e-05
            ],
            "coloraxis": "coloraxis",
            "size": [
             0.0002633877404531899
            ],
            "sizemode": "area",
            "sizeref": 0.0004938271604938273,
            "symbol": "circle"
           },
           "mode": "markers",
           "name": "",
           "orientation": "v",
           "showlegend": false,
           "type": "scatter",
           "x": [
            6.306800266032473e-05
           ],
           "xaxis": "x",
           "y": [
            0.0002633877404531899
           ],
           "yaxis": "y"
          }
         ],
         "name": "6.306800266032473e-05"
        },
        {
         "data": [
          {
           "hovertemplate": "<b>%{hovertext}</b><br><br>TotalCoinsMined=%{marker.color}<br>MaxSupply=%{marker.size}<extra></extra>",
           "hovertext": [
            0.005739796155509754
           ],
           "ids": [
            0
           ],
           "legendgroup": "",
           "marker": {
            "color": [
             0.005739796155509754
            ],
            "coloraxis": "coloraxis",
            "size": [
             0
            ],
            "sizemode": "area",
            "sizeref": 0.0004938271604938273,
            "symbol": "circle"
           },
           "mode": "markers",
           "name": "",
           "orientation": "v",
           "showlegend": false,
           "type": "scatter",
           "x": [
            0.005739796155509754
           ],
           "xaxis": "x",
           "y": [
            0
           ],
           "yaxis": "y"
          }
         ],
         "name": "0.005739796155509754"
        },
        {
         "data": [
          {
           "hovertemplate": "<b>%{hovertext}</b><br><br>TotalCoinsMined=%{marker.color}<br>MaxSupply=%{marker.size}<extra></extra>",
           "hovertext": [
            0.0014000294995163867
           ],
           "ids": [
            0
           ],
           "legendgroup": "",
           "marker": {
            "color": [
             0.0014000294995163867
            ],
            "coloraxis": "coloraxis",
            "size": [
             0
            ],
            "sizemode": "area",
            "sizeref": 0.0004938271604938273,
            "symbol": "circle"
           },
           "mode": "markers",
           "name": "",
           "orientation": "v",
           "showlegend": false,
           "type": "scatter",
           "x": [
            0.0014000294995163867
           ],
           "xaxis": "x",
           "y": [
            0
           ],
           "yaxis": "y"
          }
         ],
         "name": "0.0014000294995163867"
        },
        {
         "data": [
          {
           "hovertemplate": "<b>%{hovertext}</b><br><br>TotalCoinsMined=%{marker.color}<br>MaxSupply=%{marker.size}<extra></extra>",
           "hovertext": [
            0.030469192052677303
           ],
           "ids": [
            0
           ],
           "legendgroup": "",
           "marker": {
            "color": [
             0.030469192052677303
            ],
            "coloraxis": "coloraxis",
            "size": [
             0
            ],
            "sizemode": "area",
            "sizeref": 0.0004938271604938273,
            "symbol": "circle"
           },
           "mode": "markers",
           "name": "",
           "orientation": "v",
           "showlegend": false,
           "type": "scatter",
           "x": [
            0.030469192052677303
           ],
           "xaxis": "x",
           "y": [
            0
           ],
           "yaxis": "y"
          }
         ],
         "name": "0.030469192052677303"
        },
        {
         "data": [
          {
           "hovertemplate": "<b>%{hovertext}</b><br><br>TotalCoinsMined=%{marker.color}<br>MaxSupply=%{marker.size}<extra></extra>",
           "hovertext": [
            1.0519464930424955e-05
           ],
           "ids": [
            1.9999666400272512e-05
           ],
           "legendgroup": "",
           "marker": {
            "color": [
             1.0519464930424955e-05
            ],
            "coloraxis": "coloraxis",
            "size": [
             1.9999666400272512e-05
            ],
            "sizemode": "area",
            "sizeref": 0.0004938271604938273,
            "symbol": "circle"
           },
           "mode": "markers",
           "name": "",
           "orientation": "v",
           "showlegend": false,
           "type": "scatter",
           "x": [
            1.0519464930424955e-05
           ],
           "xaxis": "x",
           "y": [
            1.9999666400272512e-05
           ],
           "yaxis": "y"
          }
         ],
         "name": "1.0519464930424955e-05"
        },
        {
         "data": [
          {
           "hovertemplate": "<b>%{hovertext}</b><br><br>TotalCoinsMined=%{marker.color}<br>MaxSupply=%{marker.size}<extra></extra>",
           "hovertext": [
            6.357827806291633e-05
           ],
           "ids": [
            6.599889682093777e-05
           ],
           "legendgroup": "",
           "marker": {
            "color": [
             6.357827806291633e-05
            ],
            "coloraxis": "coloraxis",
            "size": [
             6.599889682093777e-05
            ],
            "sizemode": "area",
            "sizeref": 0.0004938271604938273,
            "symbol": "circle"
           },
           "mode": "markers",
           "name": "",
           "orientation": "v",
           "showlegend": false,
           "type": "scatter",
           "x": [
            6.357827806291633e-05
           ],
           "xaxis": "x",
           "y": [
            6.599889682093777e-05
           ],
           "yaxis": "y"
          }
         ],
         "name": "6.357827806291633e-05"
        },
        {
         "data": [
          {
           "hovertemplate": "<b>%{hovertext}</b><br><br>TotalCoinsMined=%{marker.color}<br>MaxSupply=%{marker.size}<extra></extra>",
           "hovertext": [
            0.00044990409524081046
           ],
           "ids": [
            0
           ],
           "legendgroup": "",
           "marker": {
            "color": [
             0.00044990409524081046
            ],
            "coloraxis": "coloraxis",
            "size": [
             0
            ],
            "sizemode": "area",
            "sizeref": 0.0004938271604938273,
            "symbol": "circle"
           },
           "mode": "markers",
           "name": "",
           "orientation": "v",
           "showlegend": false,
           "type": "scatter",
           "x": [
            0.00044990409524081046
           ],
           "xaxis": "x",
           "y": [
            0
           ],
           "yaxis": "y"
          }
         ],
         "name": "0.00044990409524081046"
        },
        {
         "data": [
          {
           "hovertemplate": "<b>%{hovertext}</b><br><br>TotalCoinsMined=%{marker.color}<br>MaxSupply=%{marker.size}<extra></extra>",
           "hovertext": [
            9.982842128689919e-05
           ],
           "ids": [
            9.999832800142948e-05
           ],
           "legendgroup": "",
           "marker": {
            "color": [
             9.982842128689919e-05
            ],
            "coloraxis": "coloraxis",
            "size": [
             9.999832800142948e-05
            ],
            "sizemode": "area",
            "sizeref": 0.0004938271604938273,
            "symbol": "circle"
           },
           "mode": "markers",
           "name": "",
           "orientation": "v",
           "showlegend": false,
           "type": "scatter",
           "x": [
            9.982842128689919e-05
           ],
           "xaxis": "x",
           "y": [
            9.999832800142948e-05
           ],
           "yaxis": "y"
          }
         ],
         "name": "9.982842128689919e-05"
        },
        {
         "data": [
          {
           "hovertemplate": "<b>%{hovertext}</b><br><br>TotalCoinsMined=%{marker.color}<br>MaxSupply=%{marker.size}<extra></extra>",
           "hovertext": [
            5.2397921752046374e-05
           ],
           "ids": [
            0
           ],
           "legendgroup": "",
           "marker": {
            "color": [
             5.2397921752046374e-05
            ],
            "coloraxis": "coloraxis",
            "size": [
             0
            ],
            "sizemode": "area",
            "sizeref": 0.0004938271604938273,
            "symbol": "circle"
           },
           "mode": "markers",
           "name": "",
           "orientation": "v",
           "showlegend": false,
           "type": "scatter",
           "x": [
            5.2397921752046374e-05
           ],
           "xaxis": "x",
           "y": [
            0
           ],
           "yaxis": "y"
          }
         ],
         "name": "5.2397921752046374e-05"
        },
        {
         "data": [
          {
           "hovertemplate": "<b>%{hovertext}</b><br><br>TotalCoinsMined=%{marker.color}<br>MaxSupply=%{marker.size}<extra></extra>",
           "hovertext": [
            1.7573001386194517e-05
           ],
           "ids": [
            0
           ],
           "legendgroup": "",
           "marker": {
            "color": [
             1.7573001386194517e-05
            ],
            "coloraxis": "coloraxis",
            "size": [
             0
            ],
            "sizemode": "area",
            "sizeref": 0.0004938271604938273,
            "symbol": "circle"
           },
           "mode": "markers",
           "name": "",
           "orientation": "v",
           "showlegend": false,
           "type": "scatter",
           "x": [
            1.7573001386194517e-05
           ],
           "xaxis": "x",
           "y": [
            0
           ],
           "yaxis": "y"
          }
         ],
         "name": "1.7573001386194517e-05"
        },
        {
         "data": [
          {
           "hovertemplate": "<b>%{hovertext}</b><br><br>TotalCoinsMined=%{marker.color}<br>MaxSupply=%{marker.size}<extra></extra>",
           "hovertext": [
            1.0242404861692951e-05
           ],
           "ids": [
            2.0999649670286972e-05
           ],
           "legendgroup": "",
           "marker": {
            "color": [
             1.0242404861692951e-05
            ],
            "coloraxis": "coloraxis",
            "size": [
             2.0999649670286972e-05
            ],
            "sizemode": "area",
            "sizeref": 0.0004938271604938273,
            "symbol": "circle"
           },
           "mode": "markers",
           "name": "",
           "orientation": "v",
           "showlegend": false,
           "type": "scatter",
           "x": [
            1.0242404861692951e-05
           ],
           "xaxis": "x",
           "y": [
            2.0999649670286972e-05
           ],
           "yaxis": "y"
          }
         ],
         "name": "1.0242404861692951e-05"
        },
        {
         "data": [
          {
           "hovertemplate": "<b>%{hovertext}</b><br><br>TotalCoinsMined=%{marker.color}<br>MaxSupply=%{marker.size}<extra></extra>",
           "hovertext": [
            1.844401493704043e-05
           ],
           "ids": [
            2.099964964718736e-05
           ],
           "legendgroup": "",
           "marker": {
            "color": [
             1.844401493704043e-05
            ],
            "coloraxis": "coloraxis",
            "size": [
             2.099964964718736e-05
            ],
            "sizemode": "area",
            "sizeref": 0.0004938271604938273,
            "symbol": "circle"
           },
           "mode": "markers",
           "name": "",
           "orientation": "v",
           "showlegend": false,
           "type": "scatter",
           "x": [
            1.844401493704043e-05
           ],
           "xaxis": "x",
           "y": [
            2.099964964718736e-05
           ],
           "yaxis": "y"
          }
         ],
         "name": "1.844401493704043e-05"
        },
        {
         "data": [
          {
           "hovertemplate": "<b>%{hovertext}</b><br><br>TotalCoinsMined=%{marker.color}<br>MaxSupply=%{marker.size}<extra></extra>",
           "hovertext": [
            1.886627954036475e-05
           ],
           "ids": [
            2.0999649670286972e-05
           ],
           "legendgroup": "",
           "marker": {
            "color": [
             1.886627954036475e-05
            ],
            "coloraxis": "coloraxis",
            "size": [
             2.0999649670286972e-05
            ],
            "sizemode": "area",
            "sizeref": 0.0004938271604938273,
            "symbol": "circle"
           },
           "mode": "markers",
           "name": "",
           "orientation": "v",
           "showlegend": false,
           "type": "scatter",
           "x": [
            1.886627954036475e-05
           ],
           "xaxis": "x",
           "y": [
            2.0999649670286972e-05
           ],
           "yaxis": "y"
          }
         ],
         "name": "1.886627954036475e-05"
        },
        {
         "data": [
          {
           "hovertemplate": "<b>%{hovertext}</b><br><br>TotalCoinsMined=%{marker.color}<br>MaxSupply=%{marker.size}<extra></extra>",
           "hovertext": [
            0.9899721042434594
           ],
           "ids": [
            0.9899834373153175
           ],
           "legendgroup": "",
           "marker": {
            "color": [
             0.9899721042434594
            ],
            "coloraxis": "coloraxis",
            "size": [
             0.9899834373153175
            ],
            "sizemode": "area",
            "sizeref": 0.0004938271604938273,
            "symbol": "circle"
           },
           "mode": "markers",
           "name": "",
           "orientation": "v",
           "showlegend": false,
           "type": "scatter",
           "x": [
            0.9899721042434594
           ],
           "xaxis": "x",
           "y": [
            0.9899834373153175
           ],
           "yaxis": "y"
          }
         ],
         "name": "0.9899721042434594"
        },
        {
         "data": [
          {
           "hovertemplate": "<b>%{hovertext}</b><br><br>TotalCoinsMined=%{marker.color}<br>MaxSupply=%{marker.size}<extra></extra>",
           "hovertext": [
            0.18446421602164
           ],
           "ids": [
            0.1844669138205678
           ],
           "legendgroup": "",
           "marker": {
            "color": [
             0.18446421602164
            ],
            "coloraxis": "coloraxis",
            "size": [
             0.1844669138205678
            ],
            "sizemode": "area",
            "sizeref": 0.0004938271604938273,
            "symbol": "circle"
           },
           "mode": "markers",
           "name": "",
           "orientation": "v",
           "showlegend": false,
           "type": "scatter",
           "x": [
            0.18446421602164
           ],
           "xaxis": "x",
           "y": [
            0.1844669138205678
           ],
           "yaxis": "y"
          }
         ],
         "name": "0.18446421602164"
        },
        {
         "data": [
          {
           "hovertemplate": "<b>%{hovertext}</b><br><br>TotalCoinsMined=%{marker.color}<br>MaxSupply=%{marker.size}<extra></extra>",
           "hovertext": [
            0.00046251053074170017
           ],
           "ids": [
            0.0009999832710144453
           ],
           "legendgroup": "",
           "marker": {
            "color": [
             0.00046251053074170017
            ],
            "coloraxis": "coloraxis",
            "size": [
             0.0009999832710144453
            ],
            "sizemode": "area",
            "sizeref": 0.0004938271604938273,
            "symbol": "circle"
           },
           "mode": "markers",
           "name": "",
           "orientation": "v",
           "showlegend": false,
           "type": "scatter",
           "x": [
            0.00046251053074170017
           ],
           "xaxis": "x",
           "y": [
            0.0009999832710144453
           ],
           "yaxis": "y"
          }
         ],
         "name": "0.00046251053074170017"
        },
        {
         "data": [
          {
           "hovertemplate": "<b>%{hovertext}</b><br><br>TotalCoinsMined=%{marker.color}<br>MaxSupply=%{marker.size}<extra></extra>",
           "hovertext": [
            0.0001989438424019339
           ],
           "ids": [
            0.0002099964877030203
           ],
           "legendgroup": "",
           "marker": {
            "color": [
             0.0001989438424019339
            ],
            "coloraxis": "coloraxis",
            "size": [
             0.0002099964877030203
            ],
            "sizemode": "area",
            "sizeref": 0.0004938271604938273,
            "symbol": "circle"
           },
           "mode": "markers",
           "name": "",
           "orientation": "v",
           "showlegend": false,
           "type": "scatter",
           "x": [
            0.0001989438424019339
           ],
           "xaxis": "x",
           "y": [
            0.0002099964877030203
           ],
           "yaxis": "y"
          }
         ],
         "name": "0.0001989438424019339"
        },
        {
         "data": [
          {
           "hovertemplate": "<b>%{hovertext}</b><br><br>TotalCoinsMined=%{marker.color}<br>MaxSupply=%{marker.size}<extra></extra>",
           "hovertext": [
            0.0001427146930757036
           ],
           "ids": [
            0
           ],
           "legendgroup": "",
           "marker": {
            "color": [
             0.0001427146930757036
            ],
            "coloraxis": "coloraxis",
            "size": [
             0
            ],
            "sizemode": "area",
            "sizeref": 0.0004938271604938273,
            "symbol": "circle"
           },
           "mode": "markers",
           "name": "",
           "orientation": "v",
           "showlegend": false,
           "type": "scatter",
           "x": [
            0.0001427146930757036
           ],
           "xaxis": "x",
           "y": [
            0
           ],
           "yaxis": "y"
          }
         ],
         "name": "0.0001427146930757036"
        },
        {
         "data": [
          {
           "hovertemplate": "<b>%{hovertext}</b><br><br>TotalCoinsMined=%{marker.color}<br>MaxSupply=%{marker.size}<extra></extra>",
           "hovertext": [
            9.747201925156393e-06
           ],
           "ids": [
            1.88996848032566e-05
           ],
           "legendgroup": "",
           "marker": {
            "color": [
             9.747201925156393e-06
            ],
            "coloraxis": "coloraxis",
            "size": [
             1.88996848032566e-05
            ],
            "sizemode": "area",
            "sizeref": 0.0004938271604938273,
            "symbol": "circle"
           },
           "mode": "markers",
           "name": "",
           "orientation": "v",
           "showlegend": false,
           "type": "scatter",
           "x": [
            9.747201925156393e-06
           ],
           "xaxis": "x",
           "y": [
            1.88996848032566e-05
           ],
           "yaxis": "y"
          }
         ],
         "name": "9.747201925156393e-06"
        },
        {
         "data": [
          {
           "hovertemplate": "<b>%{hovertext}</b><br><br>TotalCoinsMined=%{marker.color}<br>MaxSupply=%{marker.size}<extra></extra>",
           "hovertext": [
            0.00012521332656060855
           ],
           "ids": [
            0.0001999966550028757
           ],
           "legendgroup": "",
           "marker": {
            "color": [
             0.00012521332656060855
            ],
            "coloraxis": "coloraxis",
            "size": [
             0.0001999966550028757
            ],
            "sizemode": "area",
            "sizeref": 0.0004938271604938273,
            "symbol": "circle"
           },
           "mode": "markers",
           "name": "",
           "orientation": "v",
           "showlegend": false,
           "type": "scatter",
           "x": [
            0.00012521332656060855
           ],
           "xaxis": "x",
           "y": [
            0.0001999966550028757
           ],
           "yaxis": "y"
          }
         ],
         "name": "0.00012521332656060855"
        },
        {
         "data": [
          {
           "hovertemplate": "<b>%{hovertext}</b><br><br>TotalCoinsMined=%{marker.color}<br>MaxSupply=%{marker.size}<extra></extra>",
           "hovertext": [
            4.292700759356613e-05
           ],
           "ids": [
            7.224449233046709e-05
           ],
           "legendgroup": "",
           "marker": {
            "color": [
             4.292700759356613e-05
            ],
            "coloraxis": "coloraxis",
            "size": [
             7.224449233046709e-05
            ],
            "sizemode": "area",
            "sizeref": 0.0004938271604938273,
            "symbol": "circle"
           },
           "mode": "markers",
           "name": "",
           "orientation": "v",
           "showlegend": false,
           "type": "scatter",
           "x": [
            4.292700759356613e-05
           ],
           "xaxis": "x",
           "y": [
            7.224449233046709e-05
           ],
           "yaxis": "y"
          }
         ],
         "name": "4.292700759356613e-05"
        },
        {
         "data": [
          {
           "hovertemplate": "<b>%{hovertext}</b><br><br>TotalCoinsMined=%{marker.color}<br>MaxSupply=%{marker.size}<extra></extra>",
           "hovertext": [
            0.9999999999999999
           ],
           "ids": [
            1.0000000000000002
           ],
           "legendgroup": "",
           "marker": {
            "color": [
             0.9999999999999999
            ],
            "coloraxis": "coloraxis",
            "size": [
             1.0000000000000002
            ],
            "sizemode": "area",
            "sizeref": 0.0004938271604938273,
            "symbol": "circle"
           },
           "mode": "markers",
           "name": "",
           "orientation": "v",
           "showlegend": false,
           "type": "scatter",
           "x": [
            0.9999999999999999
           ],
           "xaxis": "x",
           "y": [
            1.0000000000000002
           ],
           "yaxis": "y"
          }
         ],
         "name": "0.9999999999999999"
        },
        {
         "data": [
          {
           "hovertemplate": "<b>%{hovertext}</b><br><br>TotalCoinsMined=%{marker.color}<br>MaxSupply=%{marker.size}<extra></extra>",
           "hovertext": [
            8.622963939000623e-07
           ],
           "ids": [
            0
           ],
           "legendgroup": "",
           "marker": {
            "color": [
             8.622963939000623e-07
            ],
            "coloraxis": "coloraxis",
            "size": [
             0
            ],
            "sizemode": "area",
            "sizeref": 0.0004938271604938273,
            "symbol": "circle"
           },
           "mode": "markers",
           "name": "",
           "orientation": "v",
           "showlegend": false,
           "type": "scatter",
           "x": [
            8.622963939000623e-07
           ],
           "xaxis": "x",
           "y": [
            0
           ],
           "yaxis": "y"
          }
         ],
         "name": "8.622963939000623e-07"
        },
        {
         "data": [
          {
           "hovertemplate": "<b>%{hovertext}</b><br><br>TotalCoinsMined=%{marker.color}<br>MaxSupply=%{marker.size}<extra></extra>",
           "hovertext": [
            4.972841543894196e-05
           ],
           "ids": [
            0
           ],
           "legendgroup": "",
           "marker": {
            "color": [
             4.972841543894196e-05
            ],
            "coloraxis": "coloraxis",
            "size": [
             0
            ],
            "sizemode": "area",
            "sizeref": 0.0004938271604938273,
            "symbol": "circle"
           },
           "mode": "markers",
           "name": "",
           "orientation": "v",
           "showlegend": false,
           "type": "scatter",
           "x": [
            4.972841543894196e-05
           ],
           "xaxis": "x",
           "y": [
            0
           ],
           "yaxis": "y"
          }
         ],
         "name": "4.972841543894196e-05"
        },
        {
         "data": [
          {
           "hovertemplate": "<b>%{hovertext}</b><br><br>TotalCoinsMined=%{marker.color}<br>MaxSupply=%{marker.size}<extra></extra>",
           "hovertext": [
            1.0507913691053213e-05
           ],
           "ids": [
            2.0999649670286972e-05
           ],
           "legendgroup": "",
           "marker": {
            "color": [
             1.0507913691053213e-05
            ],
            "coloraxis": "coloraxis",
            "size": [
             2.0999649670286972e-05
            ],
            "sizemode": "area",
            "sizeref": 0.0004938271604938273,
            "symbol": "circle"
           },
           "mode": "markers",
           "name": "",
           "orientation": "v",
           "showlegend": false,
           "type": "scatter",
           "x": [
            1.0507913691053213e-05
           ],
           "xaxis": "x",
           "y": [
            2.0999649670286972e-05
           ],
           "yaxis": "y"
          }
         ],
         "name": "1.0507913691053213e-05"
        },
        {
         "data": [
          {
           "hovertemplate": "<b>%{hovertext}</b><br><br>TotalCoinsMined=%{marker.color}<br>MaxSupply=%{marker.size}<extra></extra>",
           "hovertext": [
            1.8425456347587232e-05
           ],
           "ids": [
            2.099964964718736e-05
           ],
           "legendgroup": "",
           "marker": {
            "color": [
             1.8425456347587232e-05
            ],
            "coloraxis": "coloraxis",
            "size": [
             2.099964964718736e-05
            ],
            "sizemode": "area",
            "sizeref": 0.0004938271604938273,
            "symbol": "circle"
           },
           "mode": "markers",
           "name": "",
           "orientation": "v",
           "showlegend": false,
           "type": "scatter",
           "x": [
            1.8425456347587232e-05
           ],
           "xaxis": "x",
           "y": [
            2.099964964718736e-05
           ],
           "yaxis": "y"
          }
         ],
         "name": "1.8425456347587232e-05"
        },
        {
         "data": [
          {
           "hovertemplate": "<b>%{hovertext}</b><br><br>TotalCoinsMined=%{marker.color}<br>MaxSupply=%{marker.size}<extra></extra>",
           "hovertext": [
            0.000267549833001408
           ],
           "ids": [
            0
           ],
           "legendgroup": "",
           "marker": {
            "color": [
             0.000267549833001408
            ],
            "coloraxis": "coloraxis",
            "size": [
             0
            ],
            "sizemode": "area",
            "sizeref": 0.0004938271604938273,
            "symbol": "circle"
           },
           "mode": "markers",
           "name": "",
           "orientation": "v",
           "showlegend": false,
           "type": "scatter",
           "x": [
            0.000267549833001408
           ],
           "xaxis": "x",
           "y": [
            0
           ],
           "yaxis": "y"
          }
         ],
         "name": "0.000267549833001408"
        },
        {
         "data": [
          {
           "hovertemplate": "<b>%{hovertext}</b><br><br>TotalCoinsMined=%{marker.color}<br>MaxSupply=%{marker.size}<extra></extra>",
           "hovertext": [
            0.00022526095814426163
           ],
           "ids": [
            0.0004199929744060573
           ],
           "legendgroup": "",
           "marker": {
            "color": [
             0.00022526095814426163
            ],
            "coloraxis": "coloraxis",
            "size": [
             0.0004199929744060573
            ],
            "sizemode": "area",
            "sizeref": 0.0004938271604938273,
            "symbol": "circle"
           },
           "mode": "markers",
           "name": "",
           "orientation": "v",
           "showlegend": false,
           "type": "scatter",
           "x": [
            0.00022526095814426163
           ],
           "xaxis": "x",
           "y": [
            0.0004199929744060573
           ],
           "yaxis": "y"
          }
         ],
         "name": "0.00022526095814426163"
        },
        {
         "data": [
          {
           "hovertemplate": "<b>%{hovertext}</b><br><br>TotalCoinsMined=%{marker.color}<br>MaxSupply=%{marker.size}<extra></extra>",
           "hovertext": [
            0.002111625343248045
           ],
           "ids": [
            0.0021587766840930602
           ],
           "legendgroup": "",
           "marker": {
            "color": [
             0.002111625343248045
            ],
            "coloraxis": "coloraxis",
            "size": [
             0.0021587766840930602
            ],
            "sizemode": "area",
            "sizeref": 0.0004938271604938273,
            "symbol": "circle"
           },
           "mode": "markers",
           "name": "",
           "orientation": "v",
           "showlegend": false,
           "type": "scatter",
           "x": [
            0.002111625343248045
           ],
           "xaxis": "x",
           "y": [
            0.0021587766840930602
           ],
           "yaxis": "y"
          }
         ],
         "name": "0.002111625343248045"
        },
        {
         "data": [
          {
           "hovertemplate": "<b>%{hovertext}</b><br><br>TotalCoinsMined=%{marker.color}<br>MaxSupply=%{marker.size}<extra></extra>",
           "hovertext": [
            4.4808005372685954e-05
           ],
           "ids": [
            8.399859568119808e-05
           ],
           "legendgroup": "",
           "marker": {
            "color": [
             4.4808005372685954e-05
            ],
            "coloraxis": "coloraxis",
            "size": [
             8.399859568119808e-05
            ],
            "sizemode": "area",
            "sizeref": 0.0004938271604938273,
            "symbol": "circle"
           },
           "mode": "markers",
           "name": "",
           "orientation": "v",
           "showlegend": false,
           "type": "scatter",
           "x": [
            4.4808005372685954e-05
           ],
           "xaxis": "x",
           "y": [
            8.399859568119808e-05
           ],
           "yaxis": "y"
          }
         ],
         "name": "4.4808005372685954e-05"
        },
        {
         "data": [
          {
           "hovertemplate": "<b>%{hovertext}</b><br><br>TotalCoinsMined=%{marker.color}<br>MaxSupply=%{marker.size}<extra></extra>",
           "hovertext": [
            6.89127006638345e-05
           ],
           "ids": [
            7.799869606111132e-05
           ],
           "legendgroup": "",
           "marker": {
            "color": [
             6.89127006638345e-05
            ],
            "coloraxis": "coloraxis",
            "size": [
             7.799869606111132e-05
            ],
            "sizemode": "area",
            "sizeref": 0.0004938271604938273,
            "symbol": "circle"
           },
           "mode": "markers",
           "name": "",
           "orientation": "v",
           "showlegend": false,
           "type": "scatter",
           "x": [
            6.89127006638345e-05
           ],
           "xaxis": "x",
           "y": [
            7.799869606111132e-05
           ],
           "yaxis": "y"
          }
         ],
         "name": "6.89127006638345e-05"
        },
        {
         "data": [
          {
           "hovertemplate": "<b>%{hovertext}</b><br><br>TotalCoinsMined=%{marker.color}<br>MaxSupply=%{marker.size}<extra></extra>",
           "hovertext": [
            0.0001544032975084528
           ],
           "ids": [
            0
           ],
           "legendgroup": "",
           "marker": {
            "color": [
             0.0001544032975084528
            ],
            "coloraxis": "coloraxis",
            "size": [
             0
            ],
            "sizemode": "area",
            "sizeref": 0.0004938271604938273,
            "symbol": "circle"
           },
           "mode": "markers",
           "name": "",
           "orientation": "v",
           "showlegend": false,
           "type": "scatter",
           "x": [
            0.0001544032975084528
           ],
           "xaxis": "x",
           "y": [
            0
           ],
           "yaxis": "y"
          }
         ],
         "name": "0.0001544032975084528"
        },
        {
         "data": [
          {
           "hovertemplate": "<b>%{hovertext}</b><br><br>TotalCoinsMined=%{marker.color}<br>MaxSupply=%{marker.size}<extra></extra>",
           "hovertext": [
            0.0003746532547755145
           ],
           "ids": [
            0
           ],
           "legendgroup": "",
           "marker": {
            "color": [
             0.0003746532547755145
            ],
            "coloraxis": "coloraxis",
            "size": [
             0
            ],
            "sizemode": "area",
            "sizeref": 0.0004938271604938273,
            "symbol": "circle"
           },
           "mode": "markers",
           "name": "",
           "orientation": "v",
           "showlegend": false,
           "type": "scatter",
           "x": [
            0.0003746532547755145
           ],
           "xaxis": "x",
           "y": [
            0
           ],
           "yaxis": "y"
          }
         ],
         "name": "0.0003746532547755145"
        },
        {
         "data": [
          {
           "hovertemplate": "<b>%{hovertext}</b><br><br>TotalCoinsMined=%{marker.color}<br>MaxSupply=%{marker.size}<extra></extra>",
           "hovertext": [
            0.000114013021759108
           ],
           "ids": [
            0
           ],
           "legendgroup": "",
           "marker": {
            "color": [
             0.000114013021759108
            ],
            "coloraxis": "coloraxis",
            "size": [
             0
            ],
            "sizemode": "area",
            "sizeref": 0.0004938271604938273,
            "symbol": "circle"
           },
           "mode": "markers",
           "name": "",
           "orientation": "v",
           "showlegend": false,
           "type": "scatter",
           "x": [
            0.000114013021759108
           ],
           "xaxis": "x",
           "y": [
            0
           ],
           "yaxis": "y"
          }
         ],
         "name": "0.000114013021759108"
        },
        {
         "data": [
          {
           "hovertemplate": "<b>%{hovertext}</b><br><br>TotalCoinsMined=%{marker.color}<br>MaxSupply=%{marker.size}<extra></extra>",
           "hovertext": [
            5.834847568785645e-05
           ],
           "ids": [
            0
           ],
           "legendgroup": "",
           "marker": {
            "color": [
             5.834847568785645e-05
            ],
            "coloraxis": "coloraxis",
            "size": [
             0
            ],
            "sizemode": "area",
            "sizeref": 0.0004938271604938273,
            "symbol": "circle"
           },
           "mode": "markers",
           "name": "",
           "orientation": "v",
           "showlegend": false,
           "type": "scatter",
           "x": [
            5.834847568785645e-05
           ],
           "xaxis": "x",
           "y": [
            0
           ],
           "yaxis": "y"
          }
         ],
         "name": "5.834847568785645e-05"
        },
        {
         "data": [
          {
           "hovertemplate": "<b>%{hovertext}</b><br><br>TotalCoinsMined=%{marker.color}<br>MaxSupply=%{marker.size}<extra></extra>",
           "hovertext": [
            0.00017398073319948264
           ],
           "ids": [
            0.00017415062731377938
           ],
           "legendgroup": "",
           "marker": {
            "color": [
             0.00017398073319948264
            ],
            "coloraxis": "coloraxis",
            "size": [
             0.00017415062731377938
            ],
            "sizemode": "area",
            "sizeref": 0.0004938271604938273,
            "symbol": "circle"
           },
           "mode": "markers",
           "name": "",
           "orientation": "v",
           "showlegend": false,
           "type": "scatter",
           "x": [
            0.00017398073319948264
           ],
           "xaxis": "x",
           "y": [
            0.00017415062731377938
           ],
           "yaxis": "y"
          }
         ],
         "name": "0.00017398073319948264"
        },
        {
         "data": [
          {
           "hovertemplate": "<b>%{hovertext}</b><br><br>TotalCoinsMined=%{marker.color}<br>MaxSupply=%{marker.size}<extra></extra>",
           "hovertext": [
            1.8450520576754153e-05
           ],
           "ids": [
            2.099964964718736e-05
           ],
           "legendgroup": "",
           "marker": {
            "color": [
             1.8450520576754153e-05
            ],
            "coloraxis": "coloraxis",
            "size": [
             2.099964964718736e-05
            ],
            "sizemode": "area",
            "sizeref": 0.0004938271604938273,
            "symbol": "circle"
           },
           "mode": "markers",
           "name": "",
           "orientation": "v",
           "showlegend": false,
           "type": "scatter",
           "x": [
            1.8450520576754153e-05
           ],
           "xaxis": "x",
           "y": [
            2.099964964718736e-05
           ],
           "yaxis": "y"
          }
         ],
         "name": "1.8450520576754153e-05"
        },
        {
         "data": [
          {
           "hovertemplate": "<b>%{hovertext}</b><br><br>TotalCoinsMined=%{marker.color}<br>MaxSupply=%{marker.size}<extra></extra>",
           "hovertext": [
            3.452985462329377e-05
           ],
           "ids": [
            9.999832800142948e-05
           ],
           "legendgroup": "",
           "marker": {
            "color": [
             3.452985462329377e-05
            ],
            "coloraxis": "coloraxis",
            "size": [
             9.999832800142948e-05
            ],
            "sizemode": "area",
            "sizeref": 0.0004938271604938273,
            "symbol": "circle"
           },
           "mode": "markers",
           "name": "",
           "orientation": "v",
           "showlegend": false,
           "type": "scatter",
           "x": [
            3.452985462329377e-05
           ],
           "xaxis": "x",
           "y": [
            9.999832800142948e-05
           ],
           "yaxis": "y"
          }
         ],
         "name": "3.452985462329377e-05"
        },
        {
         "data": [
          {
           "hovertemplate": "<b>%{hovertext}</b><br><br>TotalCoinsMined=%{marker.color}<br>MaxSupply=%{marker.size}<extra></extra>",
           "hovertext": [
            3.919695567011834e-05
           ],
           "ids": [
            4.199929834059068e-05
           ],
           "legendgroup": "",
           "marker": {
            "color": [
             3.919695567011834e-05
            ],
            "coloraxis": "coloraxis",
            "size": [
             4.199929834059068e-05
            ],
            "sizemode": "area",
            "sizeref": 0.0004938271604938273,
            "symbol": "circle"
           },
           "mode": "markers",
           "name": "",
           "orientation": "v",
           "showlegend": false,
           "type": "scatter",
           "x": [
            3.919695567011834e-05
           ],
           "xaxis": "x",
           "y": [
            4.199929834059068e-05
           ],
           "yaxis": "y"
          }
         ],
         "name": "3.919695567011834e-05"
        },
        {
         "data": [
          {
           "hovertemplate": "<b>%{hovertext}</b><br><br>TotalCoinsMined=%{marker.color}<br>MaxSupply=%{marker.size}<extra></extra>",
           "hovertext": [
            0.0005270423720801264
           ],
           "ids": [
            0.0016799718946242795
           ],
           "legendgroup": "",
           "marker": {
            "color": [
             0.0005270423720801264
            ],
            "coloraxis": "coloraxis",
            "size": [
             0.0016799718946242795
            ],
            "sizemode": "area",
            "sizeref": 0.0004938271604938273,
            "symbol": "circle"
           },
           "mode": "markers",
           "name": "",
           "orientation": "v",
           "showlegend": false,
           "type": "scatter",
           "x": [
            0.0005270423720801264
           ],
           "xaxis": "x",
           "y": [
            0.0016799718946242795
           ],
           "yaxis": "y"
          }
         ],
         "name": "0.0005270423720801264"
        },
        {
         "data": [
          {
           "hovertemplate": "<b>%{hovertext}</b><br><br>TotalCoinsMined=%{marker.color}<br>MaxSupply=%{marker.size}<extra></extra>",
           "hovertext": [
            0.00016929360432992526
           ],
           "ids": [
            0
           ],
           "legendgroup": "",
           "marker": {
            "color": [
             0.00016929360432992526
            ],
            "coloraxis": "coloraxis",
            "size": [
             0
            ],
            "sizemode": "area",
            "sizeref": 0.0004938271604938273,
            "symbol": "circle"
           },
           "mode": "markers",
           "name": "",
           "orientation": "v",
           "showlegend": false,
           "type": "scatter",
           "x": [
            0.00016929360432992526
           ],
           "xaxis": "x",
           "y": [
            0
           ],
           "yaxis": "y"
          }
         ],
         "name": "0.00016929360432992526"
        },
        {
         "data": [
          {
           "hovertemplate": "<b>%{hovertext}</b><br><br>TotalCoinsMined=%{marker.color}<br>MaxSupply=%{marker.size}<extra></extra>",
           "hovertext": [
            1.7089828966029333e-05
           ],
           "ids": [
            0
           ],
           "legendgroup": "",
           "marker": {
            "color": [
             1.7089828966029333e-05
            ],
            "coloraxis": "coloraxis",
            "size": [
             0
            ],
            "sizemode": "area",
            "sizeref": 0.0004938271604938273,
            "symbol": "circle"
           },
           "mode": "markers",
           "name": "",
           "orientation": "v",
           "showlegend": false,
           "type": "scatter",
           "x": [
            1.7089828966029333e-05
           ],
           "xaxis": "x",
           "y": [
            0
           ],
           "yaxis": "y"
          }
         ],
         "name": "1.7089828966029333e-05"
        },
        {
         "data": [
          {
           "hovertemplate": "<b>%{hovertext}</b><br><br>TotalCoinsMined=%{marker.color}<br>MaxSupply=%{marker.size}<extra></extra>",
           "hovertext": [
            0.00022097183961083372
           ],
           "ids": [
            0
           ],
           "legendgroup": "",
           "marker": {
            "color": [
             0.00022097183961083372
            ],
            "coloraxis": "coloraxis",
            "size": [
             0
            ],
            "sizemode": "area",
            "sizeref": 0.0004938271604938273,
            "symbol": "circle"
           },
           "mode": "markers",
           "name": "",
           "orientation": "v",
           "showlegend": false,
           "type": "scatter",
           "x": [
            0.00022097183961083372
           ],
           "xaxis": "x",
           "y": [
            0
           ],
           "yaxis": "y"
          }
         ],
         "name": "0.00022097183961083372"
        },
        {
         "data": [
          {
           "hovertemplate": "<b>%{hovertext}</b><br><br>TotalCoinsMined=%{marker.color}<br>MaxSupply=%{marker.size}<extra></extra>",
           "hovertext": [
            0.029926463399642805
           ],
           "ids": [
            0
           ],
           "legendgroup": "",
           "marker": {
            "color": [
             0.029926463399642805
            ],
            "coloraxis": "coloraxis",
            "size": [
             0
            ],
            "sizemode": "area",
            "sizeref": 0.0004938271604938273,
            "symbol": "circle"
           },
           "mode": "markers",
           "name": "",
           "orientation": "v",
           "showlegend": false,
           "type": "scatter",
           "x": [
            0.029926463399642805
           ],
           "xaxis": "x",
           "y": [
            0
           ],
           "yaxis": "y"
          }
         ],
         "name": "0.029926463399642805"
        },
        {
         "data": [
          {
           "hovertemplate": "<b>%{hovertext}</b><br><br>TotalCoinsMined=%{marker.color}<br>MaxSupply=%{marker.size}<extra></extra>",
           "hovertext": [
            1.873694036245723e-05
           ],
           "ids": [
            2.0999649670286972e-05
           ],
           "legendgroup": "",
           "marker": {
            "color": [
             1.873694036245723e-05
            ],
            "coloraxis": "coloraxis",
            "size": [
             2.0999649670286972e-05
            ],
            "sizemode": "area",
            "sizeref": 0.0004938271604938273,
            "symbol": "circle"
           },
           "mode": "markers",
           "name": "",
           "orientation": "v",
           "showlegend": false,
           "type": "scatter",
           "x": [
            1.873694036245723e-05
           ],
           "xaxis": "x",
           "y": [
            2.0999649670286972e-05
           ],
           "yaxis": "y"
          }
         ],
         "name": "1.873694036245723e-05"
        },
        {
         "data": [
          {
           "hovertemplate": "<b>%{hovertext}</b><br><br>TotalCoinsMined=%{marker.color}<br>MaxSupply=%{marker.size}<extra></extra>",
           "hovertext": [
            1.8442705172825932e-05
           ],
           "ids": [
            2.0999649670286972e-05
           ],
           "legendgroup": "",
           "marker": {
            "color": [
             1.8442705172825932e-05
            ],
            "coloraxis": "coloraxis",
            "size": [
             2.0999649670286972e-05
            ],
            "sizemode": "area",
            "sizeref": 0.0004938271604938273,
            "symbol": "circle"
           },
           "mode": "markers",
           "name": "",
           "orientation": "v",
           "showlegend": false,
           "type": "scatter",
           "x": [
            1.8442705172825932e-05
           ],
           "xaxis": "x",
           "y": [
            2.0999649670286972e-05
           ],
           "yaxis": "y"
          }
         ],
         "name": "1.8442705172825932e-05"
        },
        {
         "data": [
          {
           "hovertemplate": "<b>%{hovertext}</b><br><br>TotalCoinsMined=%{marker.color}<br>MaxSupply=%{marker.size}<extra></extra>",
           "hovertext": [
            7.65197161743443e-05
           ],
           "ids": [
            0.00010499824435150179
           ],
           "legendgroup": "",
           "marker": {
            "color": [
             7.65197161743443e-05
            ],
            "coloraxis": "coloraxis",
            "size": [
             0.00010499824435150179
            ],
            "sizemode": "area",
            "sizeref": 0.0004938271604938273,
            "symbol": "circle"
           },
           "mode": "markers",
           "name": "",
           "orientation": "v",
           "showlegend": false,
           "type": "scatter",
           "x": [
            7.65197161743443e-05
           ],
           "xaxis": "x",
           "y": [
            0.00010499824435150179
           ],
           "yaxis": "y"
          }
         ],
         "name": "7.65197161743443e-05"
        },
        {
         "data": [
          {
           "hovertemplate": "<b>%{hovertext}</b><br><br>TotalCoinsMined=%{marker.color}<br>MaxSupply=%{marker.size}<extra></extra>",
           "hovertext": [
            0.005094219497578268
           ],
           "ids": [
            0
           ],
           "legendgroup": "",
           "marker": {
            "color": [
             0.005094219497578268
            ],
            "coloraxis": "coloraxis",
            "size": [
             0
            ],
            "sizemode": "area",
            "sizeref": 0.0004938271604938273,
            "symbol": "circle"
           },
           "mode": "markers",
           "name": "",
           "orientation": "v",
           "showlegend": false,
           "type": "scatter",
           "x": [
            0.005094219497578268
           ],
           "xaxis": "x",
           "y": [
            0
           ],
           "yaxis": "y"
          }
         ],
         "name": "0.005094219497578268"
        },
        {
         "data": [
          {
           "hovertemplate": "<b>%{hovertext}</b><br><br>TotalCoinsMined=%{marker.color}<br>MaxSupply=%{marker.size}<extra></extra>",
           "hovertext": [
            2.3002595296761905e-05
           ],
           "ids": [
            0
           ],
           "legendgroup": "",
           "marker": {
            "color": [
             2.3002595296761905e-05
            ],
            "coloraxis": "coloraxis",
            "size": [
             0
            ],
            "sizemode": "area",
            "sizeref": 0.0004938271604938273,
            "symbol": "circle"
           },
           "mode": "markers",
           "name": "",
           "orientation": "v",
           "showlegend": false,
           "type": "scatter",
           "x": [
            2.3002595296761905e-05
           ],
           "xaxis": "x",
           "y": [
            0
           ],
           "yaxis": "y"
          }
         ],
         "name": "2.3002595296761905e-05"
        },
        {
         "data": [
          {
           "hovertemplate": "<b>%{hovertext}</b><br><br>TotalCoinsMined=%{marker.color}<br>MaxSupply=%{marker.size}<extra></extra>",
           "hovertext": [
            0.0006039558287384392
           ],
           "ids": [
            0.0008879851447728257
           ],
           "legendgroup": "",
           "marker": {
            "color": [
             0.0006039558287384392
            ],
            "coloraxis": "coloraxis",
            "size": [
             0.0008879851447728257
            ],
            "sizemode": "area",
            "sizeref": 0.0004938271604938273,
            "symbol": "circle"
           },
           "mode": "markers",
           "name": "",
           "orientation": "v",
           "showlegend": false,
           "type": "scatter",
           "x": [
            0.0006039558287384392
           ],
           "xaxis": "x",
           "y": [
            0.0008879851447728257
           ],
           "yaxis": "y"
          }
         ],
         "name": "0.0006039558287384392"
        },
        {
         "data": [
          {
           "hovertemplate": "<b>%{hovertext}</b><br><br>TotalCoinsMined=%{marker.color}<br>MaxSupply=%{marker.size}<extra></extra>",
           "hovertext": [
            0.00023584192686487997
           ],
           "ids": [
            0.0003359943797248425
           ],
           "legendgroup": "",
           "marker": {
            "color": [
             0.00023584192686487997
            ],
            "coloraxis": "coloraxis",
            "size": [
             0.0003359943797248425
            ],
            "sizemode": "area",
            "sizeref": 0.0004938271604938273,
            "symbol": "circle"
           },
           "mode": "markers",
           "name": "",
           "orientation": "v",
           "showlegend": false,
           "type": "scatter",
           "x": [
            0.00023584192686487997
           ],
           "xaxis": "x",
           "y": [
            0.0003359943797248425
           ],
           "yaxis": "y"
          }
         ],
         "name": "0.00023584192686487997"
        },
        {
         "data": [
          {
           "hovertemplate": "<b>%{hovertext}</b><br><br>TotalCoinsMined=%{marker.color}<br>MaxSupply=%{marker.size}<extra></extra>",
           "hovertext": [
            1.845260487234409e-05
           ],
           "ids": [
            2.1999632940301435e-05
           ],
           "legendgroup": "",
           "marker": {
            "color": [
             1.845260487234409e-05
            ],
            "coloraxis": "coloraxis",
            "size": [
             2.1999632940301435e-05
            ],
            "sizemode": "area",
            "sizeref": 0.0004938271604938273,
            "symbol": "circle"
           },
           "mode": "markers",
           "name": "",
           "orientation": "v",
           "showlegend": false,
           "type": "scatter",
           "x": [
            1.845260487234409e-05
           ],
           "xaxis": "x",
           "y": [
            2.1999632940301435e-05
           ],
           "yaxis": "y"
          }
         ],
         "name": "1.845260487234409e-05"
        },
        {
         "data": [
          {
           "hovertemplate": "<b>%{hovertext}</b><br><br>TotalCoinsMined=%{marker.color}<br>MaxSupply=%{marker.size}<extra></extra>",
           "hovertext": [
            0.0025932081158226965
           ],
           "ids": [
            0.004999916351072294
           ],
           "legendgroup": "",
           "marker": {
            "color": [
             0.0025932081158226965
            ],
            "coloraxis": "coloraxis",
            "size": [
             0.004999916351072294
            ],
            "sizemode": "area",
            "sizeref": 0.0004938271604938273,
            "symbol": "circle"
           },
           "mode": "markers",
           "name": "",
           "orientation": "v",
           "showlegend": false,
           "type": "scatter",
           "x": [
            0.0025932081158226965
           ],
           "xaxis": "x",
           "y": [
            0.004999916351072294
           ],
           "yaxis": "y"
          }
         ],
         "name": "0.0025932081158226965"
        },
        {
         "data": [
          {
           "hovertemplate": "<b>%{hovertext}</b><br><br>TotalCoinsMined=%{marker.color}<br>MaxSupply=%{marker.size}<extra></extra>",
           "hovertext": [
            0.00090564595667541
           ],
           "ids": [
            0.0009999832710144453
           ],
           "legendgroup": "",
           "marker": {
            "color": [
             0.00090564595667541
            ],
            "coloraxis": "coloraxis",
            "size": [
             0.0009999832710144453
            ],
            "sizemode": "area",
            "sizeref": 0.0004938271604938273,
            "symbol": "circle"
           },
           "mode": "markers",
           "name": "",
           "orientation": "v",
           "showlegend": false,
           "type": "scatter",
           "x": [
            0.00090564595667541
           ],
           "xaxis": "x",
           "y": [
            0.0009999832710144453
           ],
           "yaxis": "y"
          }
         ],
         "name": "0.00090564595667541"
        },
        {
         "data": [
          {
           "hovertemplate": "<b>%{hovertext}</b><br><br>TotalCoinsMined=%{marker.color}<br>MaxSupply=%{marker.size}<extra></extra>",
           "hovertext": [
            1.1236806497075002e-05
           ],
           "ids": [
            2.1399642978292757e-05
           ],
           "legendgroup": "",
           "marker": {
            "color": [
             1.1236806497075002e-05
            ],
            "coloraxis": "coloraxis",
            "size": [
             2.1399642978292757e-05
            ],
            "sizemode": "area",
            "sizeref": 0.0004938271604938273,
            "symbol": "circle"
           },
           "mode": "markers",
           "name": "",
           "orientation": "v",
           "showlegend": false,
           "type": "scatter",
           "x": [
            1.1236806497075002e-05
           ],
           "xaxis": "x",
           "y": [
            2.1399642978292757e-05
           ],
           "yaxis": "y"
          }
         ],
         "name": "1.1236806497075002e-05"
        },
        {
         "data": [
          {
           "hovertemplate": "<b>%{hovertext}</b><br><br>TotalCoinsMined=%{marker.color}<br>MaxSupply=%{marker.size}<extra></extra>",
           "hovertext": [
            5.399754436591735e-06
           ],
           "ids": [
            0
           ],
           "legendgroup": "",
           "marker": {
            "color": [
             5.399754436591735e-06
            ],
            "coloraxis": "coloraxis",
            "size": [
             0
            ],
            "sizemode": "area",
            "sizeref": 0.0004938271604938273,
            "symbol": "circle"
           },
           "mode": "markers",
           "name": "",
           "orientation": "v",
           "showlegend": false,
           "type": "scatter",
           "x": [
            5.399754436591735e-06
           ],
           "xaxis": "x",
           "y": [
            0
           ],
           "yaxis": "y"
          }
         ],
         "name": "5.399754436591735e-06"
        },
        {
         "data": [
          {
           "hovertemplate": "<b>%{hovertext}</b><br><br>TotalCoinsMined=%{marker.color}<br>MaxSupply=%{marker.size}<extra></extra>",
           "hovertext": [
            0.12775509079058128
           ],
           "ids": [
            0
           ],
           "legendgroup": "",
           "marker": {
            "color": [
             0.12775509079058128
            ],
            "coloraxis": "coloraxis",
            "size": [
             0
            ],
            "sizemode": "area",
            "sizeref": 0.0004938271604938273,
            "symbol": "circle"
           },
           "mode": "markers",
           "name": "",
           "orientation": "v",
           "showlegend": false,
           "type": "scatter",
           "x": [
            0.12775509079058128
           ],
           "xaxis": "x",
           "y": [
            0
           ],
           "yaxis": "y"
          }
         ],
         "name": "0.12775509079058128"
        },
        {
         "data": [
          {
           "hovertemplate": "<b>%{hovertext}</b><br><br>TotalCoinsMined=%{marker.color}<br>MaxSupply=%{marker.size}<extra></extra>",
           "hovertext": [
            0.016416099361673684
           ],
           "ids": [
            0.016554723036089406
           ],
           "legendgroup": "",
           "marker": {
            "color": [
             0.016416099361673684
            ],
            "coloraxis": "coloraxis",
            "size": [
             0.016554723036089406
            ],
            "sizemode": "area",
            "sizeref": 0.0004938271604938273,
            "symbol": "circle"
           },
           "mode": "markers",
           "name": "",
           "orientation": "v",
           "showlegend": false,
           "type": "scatter",
           "x": [
            0.016416099361673684
           ],
           "xaxis": "x",
           "y": [
            0.016554723036089406
           ],
           "yaxis": "y"
          }
         ],
         "name": "0.016416099361673684"
        },
        {
         "data": [
          {
           "hovertemplate": "<b>%{hovertext}</b><br><br>TotalCoinsMined=%{marker.color}<br>MaxSupply=%{marker.size}<extra></extra>",
           "hovertext": [
            0.04528050320600008
           ],
           "ids": [
            0
           ],
           "legendgroup": "",
           "marker": {
            "color": [
             0.04528050320600008
            ],
            "coloraxis": "coloraxis",
            "size": [
             0
            ],
            "sizemode": "area",
            "sizeref": 0.0004938271604938273,
            "symbol": "circle"
           },
           "mode": "markers",
           "name": "",
           "orientation": "v",
           "showlegend": false,
           "type": "scatter",
           "x": [
            0.04528050320600008
           ],
           "xaxis": "x",
           "y": [
            0
           ],
           "yaxis": "y"
          }
         ],
         "name": "0.04528050320600008"
        },
        {
         "data": [
          {
           "hovertemplate": "<b>%{hovertext}</b><br><br>TotalCoinsMined=%{marker.color}<br>MaxSupply=%{marker.size}<extra></extra>",
           "hovertext": [
            0.00028317143978526374
           ],
           "ids": [
            0
           ],
           "legendgroup": "",
           "marker": {
            "color": [
             0.00028317143978526374
            ],
            "coloraxis": "coloraxis",
            "size": [
             0
            ],
            "sizemode": "area",
            "sizeref": 0.0004938271604938273,
            "symbol": "circle"
           },
           "mode": "markers",
           "name": "",
           "orientation": "v",
           "showlegend": false,
           "type": "scatter",
           "x": [
            0.00028317143978526374
           ],
           "xaxis": "x",
           "y": [
            0
           ],
           "yaxis": "y"
          }
         ],
         "name": "0.00028317143978526374"
        },
        {
         "data": [
          {
           "hovertemplate": "<b>%{hovertext}</b><br><br>TotalCoinsMined=%{marker.color}<br>MaxSupply=%{marker.size}<extra></extra>",
           "hovertext": [
            6.024380916796989e-05
           ],
           "ids": [
            9.999832800142948e-05
           ],
           "legendgroup": "",
           "marker": {
            "color": [
             6.024380916796989e-05
            ],
            "coloraxis": "coloraxis",
            "size": [
             9.999832800142948e-05
            ],
            "sizemode": "area",
            "sizeref": 0.0004938271604938273,
            "symbol": "circle"
           },
           "mode": "markers",
           "name": "",
           "orientation": "v",
           "showlegend": false,
           "type": "scatter",
           "x": [
            6.024380916796989e-05
           ],
           "xaxis": "x",
           "y": [
            9.999832800142948e-05
           ],
           "yaxis": "y"
          }
         ],
         "name": "6.024380916796989e-05"
        },
        {
         "data": [
          {
           "hovertemplate": "<b>%{hovertext}</b><br><br>TotalCoinsMined=%{marker.color}<br>MaxSupply=%{marker.size}<extra></extra>",
           "hovertext": [
            0.0016473237067405036
           ],
           "ids": [
            0.0002099964877030203
           ],
           "legendgroup": "",
           "marker": {
            "color": [
             0.0016473237067405036
            ],
            "coloraxis": "coloraxis",
            "size": [
             0.0002099964877030203
            ],
            "sizemode": "area",
            "sizeref": 0.0004938271604938273,
            "symbol": "circle"
           },
           "mode": "markers",
           "name": "",
           "orientation": "v",
           "showlegend": false,
           "type": "scatter",
           "x": [
            0.0016473237067405036
           ],
           "xaxis": "x",
           "y": [
            0.0002099964877030203
           ],
           "yaxis": "y"
          }
         ],
         "name": "0.0016473237067405036"
        },
        {
         "data": [
          {
           "hovertemplate": "<b>%{hovertext}</b><br><br>TotalCoinsMined=%{marker.color}<br>MaxSupply=%{marker.size}<extra></extra>",
           "hovertext": [
            7.243588388421421e-06
           ],
           "ids": [
            0
           ],
           "legendgroup": "",
           "marker": {
            "color": [
             7.243588388421421e-06
            ],
            "coloraxis": "coloraxis",
            "size": [
             0
            ],
            "sizemode": "area",
            "sizeref": 0.0004938271604938273,
            "symbol": "circle"
           },
           "mode": "markers",
           "name": "",
           "orientation": "v",
           "showlegend": false,
           "type": "scatter",
           "x": [
            7.243588388421421e-06
           ],
           "xaxis": "x",
           "y": [
            0
           ],
           "yaxis": "y"
          }
         ],
         "name": "7.243588388421421e-06"
        },
        {
         "data": [
          {
           "hovertemplate": "<b>%{hovertext}</b><br><br>TotalCoinsMined=%{marker.color}<br>MaxSupply=%{marker.size}<extra></extra>",
           "hovertext": [
            1.0465301170454775e-05
           ],
           "ids": [
            2.0999649670286972e-05
           ],
           "legendgroup": "",
           "marker": {
            "color": [
             1.0465301170454775e-05
            ],
            "coloraxis": "coloraxis",
            "size": [
             2.0999649670286972e-05
            ],
            "sizemode": "area",
            "sizeref": 0.0004938271604938273,
            "symbol": "circle"
           },
           "mode": "markers",
           "name": "",
           "orientation": "v",
           "showlegend": false,
           "type": "scatter",
           "x": [
            1.0465301170454775e-05
           ],
           "xaxis": "x",
           "y": [
            2.0999649670286972e-05
           ],
           "yaxis": "y"
          }
         ],
         "name": "1.0465301170454775e-05"
        },
        {
         "data": [
          {
           "hovertemplate": "<b>%{hovertext}</b><br><br>TotalCoinsMined=%{marker.color}<br>MaxSupply=%{marker.size}<extra></extra>",
           "hovertext": [
            0.0009988134617276412
           ],
           "ids": [
            0.0009999832710144453
           ],
           "legendgroup": "",
           "marker": {
            "color": [
             0.0009988134617276412
            ],
            "coloraxis": "coloraxis",
            "size": [
             0.0009999832710144453
            ],
            "sizemode": "area",
            "sizeref": 0.0004938271604938273,
            "symbol": "circle"
           },
           "mode": "markers",
           "name": "",
           "orientation": "v",
           "showlegend": false,
           "type": "scatter",
           "x": [
            0.0009988134617276412
           ],
           "xaxis": "x",
           "y": [
            0.0009999832710144453
           ],
           "yaxis": "y"
          }
         ],
         "name": "0.0009988134617276412"
        },
        {
         "data": [
          {
           "hovertemplate": "<b>%{hovertext}</b><br><br>TotalCoinsMined=%{marker.color}<br>MaxSupply=%{marker.size}<extra></extra>",
           "hovertext": [
            1.845250004652407e-05
           ],
           "ids": [
            2.099964964718736e-05
           ],
           "legendgroup": "",
           "marker": {
            "color": [
             1.845250004652407e-05
            ],
            "coloraxis": "coloraxis",
            "size": [
             2.099964964718736e-05
            ],
            "sizemode": "area",
            "sizeref": 0.0004938271604938273,
            "symbol": "circle"
           },
           "mode": "markers",
           "name": "",
           "orientation": "v",
           "showlegend": false,
           "type": "scatter",
           "x": [
            1.845250004652407e-05
           ],
           "xaxis": "x",
           "y": [
            2.099964964718736e-05
           ],
           "yaxis": "y"
          }
         ],
         "name": "1.845250004652407e-05"
        },
        {
         "data": [
          {
           "hovertemplate": "<b>%{hovertext}</b><br><br>TotalCoinsMined=%{marker.color}<br>MaxSupply=%{marker.size}<extra></extra>",
           "hovertext": [
            0.0004873188783136047
           ],
           "ids": [
            0
           ],
           "legendgroup": "",
           "marker": {
            "color": [
             0.0004873188783136047
            ],
            "coloraxis": "coloraxis",
            "size": [
             0
            ],
            "sizemode": "area",
            "sizeref": 0.0004938271604938273,
            "symbol": "circle"
           },
           "mode": "markers",
           "name": "",
           "orientation": "v",
           "showlegend": false,
           "type": "scatter",
           "x": [
            0.0004873188783136047
           ],
           "xaxis": "x",
           "y": [
            0
           ],
           "yaxis": "y"
          }
         ],
         "name": "0.0004873188783136047"
        },
        {
         "data": [
          {
           "hovertemplate": "<b>%{hovertext}</b><br><br>TotalCoinsMined=%{marker.color}<br>MaxSupply=%{marker.size}<extra></extra>",
           "hovertext": [
            1.4318233364591827e-05
           ],
           "ids": [
            0
           ],
           "legendgroup": "",
           "marker": {
            "color": [
             1.4318233364591827e-05
            ],
            "coloraxis": "coloraxis",
            "size": [
             0
            ],
            "sizemode": "area",
            "sizeref": 0.0004938271604938273,
            "symbol": "circle"
           },
           "mode": "markers",
           "name": "",
           "orientation": "v",
           "showlegend": false,
           "type": "scatter",
           "x": [
            1.4318233364591827e-05
           ],
           "xaxis": "x",
           "y": [
            0
           ],
           "yaxis": "y"
          }
         ],
         "name": "1.4318233364591827e-05"
        },
        {
         "data": [
          {
           "hovertemplate": "<b>%{hovertext}</b><br><br>TotalCoinsMined=%{marker.color}<br>MaxSupply=%{marker.size}<extra></extra>",
           "hovertext": [
            7.052077153922264e-05
           ],
           "ids": [
            0
           ],
           "legendgroup": "",
           "marker": {
            "color": [
             7.052077153922264e-05
            ],
            "coloraxis": "coloraxis",
            "size": [
             0
            ],
            "sizemode": "area",
            "sizeref": 0.0004938271604938273,
            "symbol": "circle"
           },
           "mode": "markers",
           "name": "",
           "orientation": "v",
           "showlegend": false,
           "type": "scatter",
           "x": [
            7.052077153922264e-05
           ],
           "xaxis": "x",
           "y": [
            0
           ],
           "yaxis": "y"
          }
         ],
         "name": "7.052077153922264e-05"
        },
        {
         "data": [
          {
           "hovertemplate": "<b>%{hovertext}</b><br><br>TotalCoinsMined=%{marker.color}<br>MaxSupply=%{marker.size}<extra></extra>",
           "hovertext": [
            0.01392380252201797
           ],
           "ids": [
            0.02099964867130369
           ],
           "legendgroup": "",
           "marker": {
            "color": [
             0.01392380252201797
            ],
            "coloraxis": "coloraxis",
            "size": [
             0.02099964867130369
            ],
            "sizemode": "area",
            "sizeref": 0.0004938271604938273,
            "symbol": "circle"
           },
           "mode": "markers",
           "name": "",
           "orientation": "v",
           "showlegend": false,
           "type": "scatter",
           "x": [
            0.01392380252201797
           ],
           "xaxis": "x",
           "y": [
            0.02099964867130369
           ],
           "yaxis": "y"
          }
         ],
         "name": "0.01392380252201797"
        },
        {
         "data": [
          {
           "hovertemplate": "<b>%{hovertext}</b><br><br>TotalCoinsMined=%{marker.color}<br>MaxSupply=%{marker.size}<extra></extra>",
           "hovertext": [
            0.08598344733645047
           ],
           "ids": [
            0.08671118376587941
           ],
           "legendgroup": "",
           "marker": {
            "color": [
             0.08598344733645047
            ],
            "coloraxis": "coloraxis",
            "size": [
             0.08671118376587941
            ],
            "sizemode": "area",
            "sizeref": 0.0004938271604938273,
            "symbol": "circle"
           },
           "mode": "markers",
           "name": "",
           "orientation": "v",
           "showlegend": false,
           "type": "scatter",
           "x": [
            0.08598344733645047
           ],
           "xaxis": "x",
           "y": [
            0.08671118376587941
           ],
           "yaxis": "y"
          }
         ],
         "name": "0.08598344733645047"
        },
        {
         "data": [
          {
           "hovertemplate": "<b>%{hovertext}</b><br><br>TotalCoinsMined=%{marker.color}<br>MaxSupply=%{marker.size}<extra></extra>",
           "hovertext": [
            0.0001028903465803786
           ],
           "ids": [
            0.00010782059938275297
           ],
           "legendgroup": "",
           "marker": {
            "color": [
             0.0001028903465803786
            ],
            "coloraxis": "coloraxis",
            "size": [
             0.00010782059938275297
            ],
            "sizemode": "area",
            "sizeref": 0.0004938271604938273,
            "symbol": "circle"
           },
           "mode": "markers",
           "name": "",
           "orientation": "v",
           "showlegend": false,
           "type": "scatter",
           "x": [
            0.0001028903465803786
           ],
           "xaxis": "x",
           "y": [
            0.00010782059938275297
           ],
           "yaxis": "y"
          }
         ],
         "name": "0.0001028903465803786"
        },
        {
         "data": [
          {
           "hovertemplate": "<b>%{hovertext}</b><br><br>TotalCoinsMined=%{marker.color}<br>MaxSupply=%{marker.size}<extra></extra>",
           "hovertext": [
            7.022290081037902e-07
           ],
           "ids": [
            0
           ],
           "legendgroup": "",
           "marker": {
            "color": [
             7.022290081037902e-07
            ],
            "coloraxis": "coloraxis",
            "size": [
             0
            ],
            "sizemode": "area",
            "sizeref": 0.0004938271604938273,
            "symbol": "circle"
           },
           "mode": "markers",
           "name": "",
           "orientation": "v",
           "showlegend": false,
           "type": "scatter",
           "x": [
            7.022290081037902e-07
           ],
           "xaxis": "x",
           "y": [
            0
           ],
           "yaxis": "y"
          }
         ],
         "name": "7.022290081037902e-07"
        },
        {
         "data": [
          {
           "hovertemplate": "<b>%{hovertext}</b><br><br>TotalCoinsMined=%{marker.color}<br>MaxSupply=%{marker.size}<extra></extra>",
           "hovertext": [
            5.803556220744442e-05
           ],
           "ids": [
            8.399859568119808e-05
           ],
           "legendgroup": "",
           "marker": {
            "color": [
             5.803556220744442e-05
            ],
            "coloraxis": "coloraxis",
            "size": [
             8.399859568119808e-05
            ],
            "sizemode": "area",
            "sizeref": 0.0004938271604938273,
            "symbol": "circle"
           },
           "mode": "markers",
           "name": "",
           "orientation": "v",
           "showlegend": false,
           "type": "scatter",
           "x": [
            5.803556220744442e-05
           ],
           "xaxis": "x",
           "y": [
            8.399859568119808e-05
           ],
           "yaxis": "y"
          }
         ],
         "name": "5.803556220744442e-05"
        },
        {
         "data": [
          {
           "hovertemplate": "<b>%{hovertext}</b><br><br>TotalCoinsMined=%{marker.color}<br>MaxSupply=%{marker.size}<extra></extra>",
           "hovertext": [
            0.0001330761606930665
           ],
           "ids": [
            0.00013324606175801863
           ],
           "legendgroup": "",
           "marker": {
            "color": [
             0.0001330761606930665
            ],
            "coloraxis": "coloraxis",
            "size": [
             0.00013324606175801863
            ],
            "sizemode": "area",
            "sizeref": 0.0004938271604938273,
            "symbol": "circle"
           },
           "mode": "markers",
           "name": "",
           "orientation": "v",
           "showlegend": false,
           "type": "scatter",
           "x": [
            0.0001330761606930665
           ],
           "xaxis": "x",
           "y": [
            0.00013324606175801863
           ],
           "yaxis": "y"
          }
         ],
         "name": "0.0001330761606930665"
        },
        {
         "data": [
          {
           "hovertemplate": "<b>%{hovertext}</b><br><br>TotalCoinsMined=%{marker.color}<br>MaxSupply=%{marker.size}<extra></extra>",
           "hovertext": [
            0.0001240815621278989
           ],
           "ids": [
            0.00021069647599203045
           ],
           "legendgroup": "",
           "marker": {
            "color": [
             0.0001240815621278989
            ],
            "coloraxis": "coloraxis",
            "size": [
             0.00021069647599203045
            ],
            "sizemode": "area",
            "sizeref": 0.0004938271604938273,
            "symbol": "circle"
           },
           "mode": "markers",
           "name": "",
           "orientation": "v",
           "showlegend": false,
           "type": "scatter",
           "x": [
            0.0001240815621278989
           ],
           "xaxis": "x",
           "y": [
            0.00021069647599203045
           ],
           "yaxis": "y"
          }
         ],
         "name": "0.0001240815621278989"
        },
        {
         "data": [
          {
           "hovertemplate": "<b>%{hovertext}</b><br><br>TotalCoinsMined=%{marker.color}<br>MaxSupply=%{marker.size}<extra></extra>",
           "hovertext": [
            0.0008718495168061398
           ],
           "ids": [
            0
           ],
           "legendgroup": "",
           "marker": {
            "color": [
             0.0008718495168061398
            ],
            "coloraxis": "coloraxis",
            "size": [
             0
            ],
            "sizemode": "area",
            "sizeref": 0.0004938271604938273,
            "symbol": "circle"
           },
           "mode": "markers",
           "name": "",
           "orientation": "v",
           "showlegend": false,
           "type": "scatter",
           "x": [
            0.0008718495168061398
           ],
           "xaxis": "x",
           "y": [
            0
           ],
           "yaxis": "y"
          }
         ],
         "name": "0.0008718495168061398"
        },
        {
         "data": [
          {
           "hovertemplate": "<b>%{hovertext}</b><br><br>TotalCoinsMined=%{marker.color}<br>MaxSupply=%{marker.size}<extra></extra>",
           "hovertext": [
            6.657785516101468e-05
           ],
           "ids": [
            8.399859568119808e-05
           ],
           "legendgroup": "",
           "marker": {
            "color": [
             6.657785516101468e-05
            ],
            "coloraxis": "coloraxis",
            "size": [
             8.399859568119808e-05
            ],
            "sizemode": "area",
            "sizeref": 0.0004938271604938273,
            "symbol": "circle"
           },
           "mode": "markers",
           "name": "",
           "orientation": "v",
           "showlegend": false,
           "type": "scatter",
           "x": [
            6.657785516101468e-05
           ],
           "xaxis": "x",
           "y": [
            8.399859568119808e-05
           ],
           "yaxis": "y"
          }
         ],
         "name": "6.657785516101468e-05"
        },
        {
         "data": [
          {
           "hovertemplate": "<b>%{hovertext}</b><br><br>TotalCoinsMined=%{marker.color}<br>MaxSupply=%{marker.size}<extra></extra>",
           "hovertext": [
            1.763862828632518e-05
           ],
           "ids": [
            0
           ],
           "legendgroup": "",
           "marker": {
            "color": [
             1.763862828632518e-05
            ],
            "coloraxis": "coloraxis",
            "size": [
             0
            ],
            "sizemode": "area",
            "sizeref": 0.0004938271604938273,
            "symbol": "circle"
           },
           "mode": "markers",
           "name": "",
           "orientation": "v",
           "showlegend": false,
           "type": "scatter",
           "x": [
            1.763862828632518e-05
           ],
           "xaxis": "x",
           "y": [
            0
           ],
           "yaxis": "y"
          }
         ],
         "name": "1.763862828632518e-05"
        },
        {
         "data": [
          {
           "hovertemplate": "<b>%{hovertext}</b><br><br>TotalCoinsMined=%{marker.color}<br>MaxSupply=%{marker.size}<extra></extra>",
           "hovertext": [
            1.2296690248693337e-05
           ],
           "ids": [
            2.0999649670286972e-05
           ],
           "legendgroup": "",
           "marker": {
            "color": [
             1.2296690248693337e-05
            ],
            "coloraxis": "coloraxis",
            "size": [
             2.0999649670286972e-05
            ],
            "sizemode": "area",
            "sizeref": 0.0004938271604938273,
            "symbol": "circle"
           },
           "mode": "markers",
           "name": "",
           "orientation": "v",
           "showlegend": false,
           "type": "scatter",
           "x": [
            1.2296690248693337e-05
           ],
           "xaxis": "x",
           "y": [
            2.0999649670286972e-05
           ],
           "yaxis": "y"
          }
         ],
         "name": "1.2296690248693337e-05"
        },
        {
         "data": [
          {
           "hovertemplate": "<b>%{hovertext}</b><br><br>TotalCoinsMined=%{marker.color}<br>MaxSupply=%{marker.size}<extra></extra>",
           "hovertext": [
            0.0029946151762433523
           ],
           "ids": [
            0.0036005102655075564
           ],
           "legendgroup": "",
           "marker": {
            "color": [
             0.0029946151762433523
            ],
            "coloraxis": "coloraxis",
            "size": [
             0.0036005102655075564
            ],
            "sizemode": "area",
            "sizeref": 0.0004938271604938273,
            "symbol": "circle"
           },
           "mode": "markers",
           "name": "",
           "orientation": "v",
           "showlegend": false,
           "type": "scatter",
           "x": [
            0.0029946151762433523
           ],
           "xaxis": "x",
           "y": [
            0.0036005102655075564
           ],
           "yaxis": "y"
          }
         ],
         "name": "0.0029946151762433523"
        },
        {
         "data": [
          {
           "hovertemplate": "<b>%{hovertext}</b><br><br>TotalCoinsMined=%{marker.color}<br>MaxSupply=%{marker.size}<extra></extra>",
           "hovertext": [
            0.0001038492787001377
           ],
           "ids": [
            0
           ],
           "legendgroup": "",
           "marker": {
            "color": [
             0.0001038492787001377
            ],
            "coloraxis": "coloraxis",
            "size": [
             0
            ],
            "sizemode": "area",
            "sizeref": 0.0004938271604938273,
            "symbol": "circle"
           },
           "mode": "markers",
           "name": "",
           "orientation": "v",
           "showlegend": false,
           "type": "scatter",
           "x": [
            0.0001038492787001377
           ],
           "xaxis": "x",
           "y": [
            0
           ],
           "yaxis": "y"
          }
         ],
         "name": "0.0001038492787001377"
        },
        {
         "data": [
          {
           "hovertemplate": "<b>%{hovertext}</b><br><br>TotalCoinsMined=%{marker.color}<br>MaxSupply=%{marker.size}<extra></extra>",
           "hovertext": [
            0.03183431703082116
           ],
           "ids": [
            0.04499924715165078
           ],
           "legendgroup": "",
           "marker": {
            "color": [
             0.03183431703082116
            ],
            "coloraxis": "coloraxis",
            "size": [
             0.04499924715165078
            ],
            "sizemode": "area",
            "sizeref": 0.0004938271604938273,
            "symbol": "circle"
           },
           "mode": "markers",
           "name": "",
           "orientation": "v",
           "showlegend": false,
           "type": "scatter",
           "x": [
            0.03183431703082116
           ],
           "xaxis": "x",
           "y": [
            0.04499924715165078
           ],
           "yaxis": "y"
          }
         ],
         "name": "0.03183431703082116"
        },
        {
         "data": [
          {
           "hovertemplate": "<b>%{hovertext}</b><br><br>TotalCoinsMined=%{marker.color}<br>MaxSupply=%{marker.size}<extra></extra>",
           "hovertext": [
            0.0010258480822267725
           ],
           "ids": [
            0
           ],
           "legendgroup": "",
           "marker": {
            "color": [
             0.0010258480822267725
            ],
            "coloraxis": "coloraxis",
            "size": [
             0
            ],
            "sizemode": "area",
            "sizeref": 0.0004938271604938273,
            "symbol": "circle"
           },
           "mode": "markers",
           "name": "",
           "orientation": "v",
           "showlegend": false,
           "type": "scatter",
           "x": [
            0.0010258480822267725
           ],
           "xaxis": "x",
           "y": [
            0
           ],
           "yaxis": "y"
          }
         ],
         "name": "0.0010258480822267725"
        }
       ],
       "layout": {
        "autosize": true,
        "coloraxis": {
         "colorbar": {
          "title": {
           "text": "TotalCoinsMined"
          }
         },
         "colorscale": [
          [
           0,
           "#0d0887"
          ],
          [
           0.1111111111111111,
           "#46039f"
          ],
          [
           0.2222222222222222,
           "#7201a8"
          ],
          [
           0.3333333333333333,
           "#9c179e"
          ],
          [
           0.4444444444444444,
           "#bd3786"
          ],
          [
           0.5555555555555556,
           "#d8576b"
          ],
          [
           0.6666666666666666,
           "#ed7953"
          ],
          [
           0.7777777777777778,
           "#fb9f3a"
          ],
          [
           0.8888888888888888,
           "#fdca26"
          ],
          [
           1,
           "#f0f921"
          ]
         ]
        },
        "legend": {
         "itemsizing": "constant",
         "tracegroupgap": 0
        },
        "margin": {
         "t": 60
        },
        "sliders": [
         {
          "active": 0,
          "currentvalue": {
           "prefix": "TotalCoinsMined="
          },
          "len": 0.9,
          "pad": {
           "b": 10,
           "t": 60
          },
          "steps": [
           {
            "args": [
             [
              "2.9300426702253475e-06"
             ],
             {
              "frame": {
               "duration": 0,
               "redraw": false
              },
              "fromcurrent": true,
              "mode": "immediate",
              "transition": {
               "duration": 0,
               "easing": "linear"
              }
             }
            ],
            "label": "2.9300426702253475e-06",
            "method": "animate"
           },
           {
            "args": [
             [
              "2.4452322086933992e-06"
             ],
             {
              "frame": {
               "duration": 0,
               "redraw": false
              },
              "fromcurrent": true,
              "mode": "immediate",
              "transition": {
               "duration": 0,
               "easing": "linear"
              }
             }
            ],
            "label": "2.4452322086933992e-06",
            "method": "animate"
           },
           {
            "args": [
             [
              "0.0058507736617339386"
             ],
             {
              "frame": {
               "duration": 0,
               "redraw": false
              },
              "fromcurrent": true,
              "mode": "immediate",
              "transition": {
               "duration": 0,
               "easing": "linear"
              }
             }
            ],
            "label": "0.0058507736617339386",
            "method": "animate"
           },
           {
            "args": [
             [
              "8.007207343029472e-05"
             ],
             {
              "frame": {
               "duration": 0,
               "redraw": false
              },
              "fromcurrent": true,
              "mode": "immediate",
              "transition": {
               "duration": 0,
               "easing": "linear"
              }
             }
            ],
            "label": "8.007207343029472e-05",
            "method": "animate"
           },
           {
            "args": [
             [
              "0.0"
             ],
             {
              "frame": {
               "duration": 0,
               "redraw": false
              },
              "fromcurrent": true,
              "mode": "immediate",
              "transition": {
               "duration": 0,
               "easing": "linear"
              }
             }
            ],
            "label": "0.0",
            "method": "animate"
           },
           {
            "args": [
             [
              "4.6609960815891096e-05"
             ],
             {
              "frame": {
               "duration": 0,
               "redraw": false
              },
              "fromcurrent": true,
              "mode": "immediate",
              "transition": {
               "duration": 0,
               "easing": "linear"
              }
             }
            ],
            "label": "4.6609960815891096e-05",
            "method": "animate"
           },
           {
            "args": [
             [
              "7.028928392453616e-07"
             ],
             {
              "frame": {
               "duration": 0,
               "redraw": false
              },
              "fromcurrent": true,
              "mode": "immediate",
              "transition": {
               "duration": 0,
               "easing": "linear"
              }
             }
            ],
            "label": "7.028928392453616e-07",
            "method": "animate"
           },
           {
            "args": [
             [
              "0.00011632825595442816"
             ],
             {
              "frame": {
               "duration": 0,
               "redraw": false
              },
              "fromcurrent": true,
              "mode": "immediate",
              "transition": {
               "duration": 0,
               "easing": "linear"
              }
             }
            ],
            "label": "0.00011632825595442816",
            "method": "animate"
           },
           {
            "args": [
             [
              "0.0009998135172286924"
             ],
             {
              "frame": {
               "duration": 0,
               "redraw": false
              },
              "fromcurrent": true,
              "mode": "immediate",
              "transition": {
               "duration": 0,
               "easing": "linear"
              }
             }
            ],
            "label": "0.0009998135172286924",
            "method": "animate"
           },
           {
            "args": [
             [
              "0.000645349197277964"
             ],
             {
              "frame": {
               "duration": 0,
               "redraw": false
              },
              "fromcurrent": true,
              "mode": "immediate",
              "transition": {
               "duration": 0,
               "easing": "linear"
              }
             }
            ],
            "label": "0.000645349197277964",
            "method": "animate"
           },
           {
            "args": [
             [
              "0.0001878892782489609"
             ],
             {
              "frame": {
               "duration": 0,
               "redraw": false
              },
              "fromcurrent": true,
              "mode": "immediate",
              "transition": {
               "duration": 0,
               "easing": "linear"
              }
             }
            ],
            "label": "0.0001878892782489609",
            "method": "animate"
           },
           {
            "args": [
             [
              "3.648892440295071e-06"
             ],
             {
              "frame": {
               "duration": 0,
               "redraw": false
              },
              "fromcurrent": true,
              "mode": "immediate",
              "transition": {
               "duration": 0,
               "easing": "linear"
              }
             }
            ],
            "label": "3.648892440295071e-06",
            "method": "animate"
           },
           {
            "args": [
             [
              "2.4829663291749758e-05"
             ],
             {
              "frame": {
               "duration": 0,
               "redraw": false
              },
              "fromcurrent": true,
              "mode": "immediate",
              "transition": {
               "duration": 0,
               "easing": "linear"
              }
             }
            ],
            "label": "2.4829663291749758e-05",
            "method": "animate"
           },
           {
            "args": [
             [
              "0.00011958359413454152"
             ],
             {
              "frame": {
               "duration": 0,
               "redraw": false
              },
              "fromcurrent": true,
              "mode": "immediate",
              "transition": {
               "duration": 0,
               "easing": "linear"
              }
             }
            ],
            "label": "0.00011958359413454152",
            "method": "animate"
           },
           {
            "args": [
             [
              "6.306800266032473e-05"
             ],
             {
              "frame": {
               "duration": 0,
               "redraw": false
              },
              "fromcurrent": true,
              "mode": "immediate",
              "transition": {
               "duration": 0,
               "easing": "linear"
              }
             }
            ],
            "label": "6.306800266032473e-05",
            "method": "animate"
           },
           {
            "args": [
             [
              "0.005739796155509754"
             ],
             {
              "frame": {
               "duration": 0,
               "redraw": false
              },
              "fromcurrent": true,
              "mode": "immediate",
              "transition": {
               "duration": 0,
               "easing": "linear"
              }
             }
            ],
            "label": "0.005739796155509754",
            "method": "animate"
           },
           {
            "args": [
             [
              "0.0014000294995163867"
             ],
             {
              "frame": {
               "duration": 0,
               "redraw": false
              },
              "fromcurrent": true,
              "mode": "immediate",
              "transition": {
               "duration": 0,
               "easing": "linear"
              }
             }
            ],
            "label": "0.0014000294995163867",
            "method": "animate"
           },
           {
            "args": [
             [
              "0.030469192052677303"
             ],
             {
              "frame": {
               "duration": 0,
               "redraw": false
              },
              "fromcurrent": true,
              "mode": "immediate",
              "transition": {
               "duration": 0,
               "easing": "linear"
              }
             }
            ],
            "label": "0.030469192052677303",
            "method": "animate"
           },
           {
            "args": [
             [
              "1.0519464930424955e-05"
             ],
             {
              "frame": {
               "duration": 0,
               "redraw": false
              },
              "fromcurrent": true,
              "mode": "immediate",
              "transition": {
               "duration": 0,
               "easing": "linear"
              }
             }
            ],
            "label": "1.0519464930424955e-05",
            "method": "animate"
           },
           {
            "args": [
             [
              "6.357827806291633e-05"
             ],
             {
              "frame": {
               "duration": 0,
               "redraw": false
              },
              "fromcurrent": true,
              "mode": "immediate",
              "transition": {
               "duration": 0,
               "easing": "linear"
              }
             }
            ],
            "label": "6.357827806291633e-05",
            "method": "animate"
           },
           {
            "args": [
             [
              "0.00044990409524081046"
             ],
             {
              "frame": {
               "duration": 0,
               "redraw": false
              },
              "fromcurrent": true,
              "mode": "immediate",
              "transition": {
               "duration": 0,
               "easing": "linear"
              }
             }
            ],
            "label": "0.00044990409524081046",
            "method": "animate"
           },
           {
            "args": [
             [
              "9.982842128689919e-05"
             ],
             {
              "frame": {
               "duration": 0,
               "redraw": false
              },
              "fromcurrent": true,
              "mode": "immediate",
              "transition": {
               "duration": 0,
               "easing": "linear"
              }
             }
            ],
            "label": "9.982842128689919e-05",
            "method": "animate"
           },
           {
            "args": [
             [
              "5.2397921752046374e-05"
             ],
             {
              "frame": {
               "duration": 0,
               "redraw": false
              },
              "fromcurrent": true,
              "mode": "immediate",
              "transition": {
               "duration": 0,
               "easing": "linear"
              }
             }
            ],
            "label": "5.2397921752046374e-05",
            "method": "animate"
           },
           {
            "args": [
             [
              "1.7573001386194517e-05"
             ],
             {
              "frame": {
               "duration": 0,
               "redraw": false
              },
              "fromcurrent": true,
              "mode": "immediate",
              "transition": {
               "duration": 0,
               "easing": "linear"
              }
             }
            ],
            "label": "1.7573001386194517e-05",
            "method": "animate"
           },
           {
            "args": [
             [
              "1.0242404861692951e-05"
             ],
             {
              "frame": {
               "duration": 0,
               "redraw": false
              },
              "fromcurrent": true,
              "mode": "immediate",
              "transition": {
               "duration": 0,
               "easing": "linear"
              }
             }
            ],
            "label": "1.0242404861692951e-05",
            "method": "animate"
           },
           {
            "args": [
             [
              "1.844401493704043e-05"
             ],
             {
              "frame": {
               "duration": 0,
               "redraw": false
              },
              "fromcurrent": true,
              "mode": "immediate",
              "transition": {
               "duration": 0,
               "easing": "linear"
              }
             }
            ],
            "label": "1.844401493704043e-05",
            "method": "animate"
           },
           {
            "args": [
             [
              "1.886627954036475e-05"
             ],
             {
              "frame": {
               "duration": 0,
               "redraw": false
              },
              "fromcurrent": true,
              "mode": "immediate",
              "transition": {
               "duration": 0,
               "easing": "linear"
              }
             }
            ],
            "label": "1.886627954036475e-05",
            "method": "animate"
           },
           {
            "args": [
             [
              "0.9899721042434594"
             ],
             {
              "frame": {
               "duration": 0,
               "redraw": false
              },
              "fromcurrent": true,
              "mode": "immediate",
              "transition": {
               "duration": 0,
               "easing": "linear"
              }
             }
            ],
            "label": "0.9899721042434594",
            "method": "animate"
           },
           {
            "args": [
             [
              "0.18446421602164"
             ],
             {
              "frame": {
               "duration": 0,
               "redraw": false
              },
              "fromcurrent": true,
              "mode": "immediate",
              "transition": {
               "duration": 0,
               "easing": "linear"
              }
             }
            ],
            "label": "0.18446421602164",
            "method": "animate"
           },
           {
            "args": [
             [
              "0.00046251053074170017"
             ],
             {
              "frame": {
               "duration": 0,
               "redraw": false
              },
              "fromcurrent": true,
              "mode": "immediate",
              "transition": {
               "duration": 0,
               "easing": "linear"
              }
             }
            ],
            "label": "0.00046251053074170017",
            "method": "animate"
           },
           {
            "args": [
             [
              "0.0001989438424019339"
             ],
             {
              "frame": {
               "duration": 0,
               "redraw": false
              },
              "fromcurrent": true,
              "mode": "immediate",
              "transition": {
               "duration": 0,
               "easing": "linear"
              }
             }
            ],
            "label": "0.0001989438424019339",
            "method": "animate"
           },
           {
            "args": [
             [
              "0.0001427146930757036"
             ],
             {
              "frame": {
               "duration": 0,
               "redraw": false
              },
              "fromcurrent": true,
              "mode": "immediate",
              "transition": {
               "duration": 0,
               "easing": "linear"
              }
             }
            ],
            "label": "0.0001427146930757036",
            "method": "animate"
           },
           {
            "args": [
             [
              "9.747201925156393e-06"
             ],
             {
              "frame": {
               "duration": 0,
               "redraw": false
              },
              "fromcurrent": true,
              "mode": "immediate",
              "transition": {
               "duration": 0,
               "easing": "linear"
              }
             }
            ],
            "label": "9.747201925156393e-06",
            "method": "animate"
           },
           {
            "args": [
             [
              "0.00012521332656060855"
             ],
             {
              "frame": {
               "duration": 0,
               "redraw": false
              },
              "fromcurrent": true,
              "mode": "immediate",
              "transition": {
               "duration": 0,
               "easing": "linear"
              }
             }
            ],
            "label": "0.00012521332656060855",
            "method": "animate"
           },
           {
            "args": [
             [
              "4.292700759356613e-05"
             ],
             {
              "frame": {
               "duration": 0,
               "redraw": false
              },
              "fromcurrent": true,
              "mode": "immediate",
              "transition": {
               "duration": 0,
               "easing": "linear"
              }
             }
            ],
            "label": "4.292700759356613e-05",
            "method": "animate"
           },
           {
            "args": [
             [
              "0.9999999999999999"
             ],
             {
              "frame": {
               "duration": 0,
               "redraw": false
              },
              "fromcurrent": true,
              "mode": "immediate",
              "transition": {
               "duration": 0,
               "easing": "linear"
              }
             }
            ],
            "label": "0.9999999999999999",
            "method": "animate"
           },
           {
            "args": [
             [
              "8.622963939000623e-07"
             ],
             {
              "frame": {
               "duration": 0,
               "redraw": false
              },
              "fromcurrent": true,
              "mode": "immediate",
              "transition": {
               "duration": 0,
               "easing": "linear"
              }
             }
            ],
            "label": "8.622963939000623e-07",
            "method": "animate"
           },
           {
            "args": [
             [
              "4.972841543894196e-05"
             ],
             {
              "frame": {
               "duration": 0,
               "redraw": false
              },
              "fromcurrent": true,
              "mode": "immediate",
              "transition": {
               "duration": 0,
               "easing": "linear"
              }
             }
            ],
            "label": "4.972841543894196e-05",
            "method": "animate"
           },
           {
            "args": [
             [
              "1.0507913691053213e-05"
             ],
             {
              "frame": {
               "duration": 0,
               "redraw": false
              },
              "fromcurrent": true,
              "mode": "immediate",
              "transition": {
               "duration": 0,
               "easing": "linear"
              }
             }
            ],
            "label": "1.0507913691053213e-05",
            "method": "animate"
           },
           {
            "args": [
             [
              "1.8425456347587232e-05"
             ],
             {
              "frame": {
               "duration": 0,
               "redraw": false
              },
              "fromcurrent": true,
              "mode": "immediate",
              "transition": {
               "duration": 0,
               "easing": "linear"
              }
             }
            ],
            "label": "1.8425456347587232e-05",
            "method": "animate"
           },
           {
            "args": [
             [
              "0.000267549833001408"
             ],
             {
              "frame": {
               "duration": 0,
               "redraw": false
              },
              "fromcurrent": true,
              "mode": "immediate",
              "transition": {
               "duration": 0,
               "easing": "linear"
              }
             }
            ],
            "label": "0.000267549833001408",
            "method": "animate"
           },
           {
            "args": [
             [
              "0.00022526095814426163"
             ],
             {
              "frame": {
               "duration": 0,
               "redraw": false
              },
              "fromcurrent": true,
              "mode": "immediate",
              "transition": {
               "duration": 0,
               "easing": "linear"
              }
             }
            ],
            "label": "0.00022526095814426163",
            "method": "animate"
           },
           {
            "args": [
             [
              "0.002111625343248045"
             ],
             {
              "frame": {
               "duration": 0,
               "redraw": false
              },
              "fromcurrent": true,
              "mode": "immediate",
              "transition": {
               "duration": 0,
               "easing": "linear"
              }
             }
            ],
            "label": "0.002111625343248045",
            "method": "animate"
           },
           {
            "args": [
             [
              "4.4808005372685954e-05"
             ],
             {
              "frame": {
               "duration": 0,
               "redraw": false
              },
              "fromcurrent": true,
              "mode": "immediate",
              "transition": {
               "duration": 0,
               "easing": "linear"
              }
             }
            ],
            "label": "4.4808005372685954e-05",
            "method": "animate"
           },
           {
            "args": [
             [
              "6.89127006638345e-05"
             ],
             {
              "frame": {
               "duration": 0,
               "redraw": false
              },
              "fromcurrent": true,
              "mode": "immediate",
              "transition": {
               "duration": 0,
               "easing": "linear"
              }
             }
            ],
            "label": "6.89127006638345e-05",
            "method": "animate"
           },
           {
            "args": [
             [
              "0.0001544032975084528"
             ],
             {
              "frame": {
               "duration": 0,
               "redraw": false
              },
              "fromcurrent": true,
              "mode": "immediate",
              "transition": {
               "duration": 0,
               "easing": "linear"
              }
             }
            ],
            "label": "0.0001544032975084528",
            "method": "animate"
           },
           {
            "args": [
             [
              "0.0003746532547755145"
             ],
             {
              "frame": {
               "duration": 0,
               "redraw": false
              },
              "fromcurrent": true,
              "mode": "immediate",
              "transition": {
               "duration": 0,
               "easing": "linear"
              }
             }
            ],
            "label": "0.0003746532547755145",
            "method": "animate"
           },
           {
            "args": [
             [
              "0.000114013021759108"
             ],
             {
              "frame": {
               "duration": 0,
               "redraw": false
              },
              "fromcurrent": true,
              "mode": "immediate",
              "transition": {
               "duration": 0,
               "easing": "linear"
              }
             }
            ],
            "label": "0.000114013021759108",
            "method": "animate"
           },
           {
            "args": [
             [
              "5.834847568785645e-05"
             ],
             {
              "frame": {
               "duration": 0,
               "redraw": false
              },
              "fromcurrent": true,
              "mode": "immediate",
              "transition": {
               "duration": 0,
               "easing": "linear"
              }
             }
            ],
            "label": "5.834847568785645e-05",
            "method": "animate"
           },
           {
            "args": [
             [
              "0.00017398073319948264"
             ],
             {
              "frame": {
               "duration": 0,
               "redraw": false
              },
              "fromcurrent": true,
              "mode": "immediate",
              "transition": {
               "duration": 0,
               "easing": "linear"
              }
             }
            ],
            "label": "0.00017398073319948264",
            "method": "animate"
           },
           {
            "args": [
             [
              "1.8450520576754153e-05"
             ],
             {
              "frame": {
               "duration": 0,
               "redraw": false
              },
              "fromcurrent": true,
              "mode": "immediate",
              "transition": {
               "duration": 0,
               "easing": "linear"
              }
             }
            ],
            "label": "1.8450520576754153e-05",
            "method": "animate"
           },
           {
            "args": [
             [
              "3.452985462329377e-05"
             ],
             {
              "frame": {
               "duration": 0,
               "redraw": false
              },
              "fromcurrent": true,
              "mode": "immediate",
              "transition": {
               "duration": 0,
               "easing": "linear"
              }
             }
            ],
            "label": "3.452985462329377e-05",
            "method": "animate"
           },
           {
            "args": [
             [
              "3.919695567011834e-05"
             ],
             {
              "frame": {
               "duration": 0,
               "redraw": false
              },
              "fromcurrent": true,
              "mode": "immediate",
              "transition": {
               "duration": 0,
               "easing": "linear"
              }
             }
            ],
            "label": "3.919695567011834e-05",
            "method": "animate"
           },
           {
            "args": [
             [
              "0.0005270423720801264"
             ],
             {
              "frame": {
               "duration": 0,
               "redraw": false
              },
              "fromcurrent": true,
              "mode": "immediate",
              "transition": {
               "duration": 0,
               "easing": "linear"
              }
             }
            ],
            "label": "0.0005270423720801264",
            "method": "animate"
           },
           {
            "args": [
             [
              "0.00016929360432992526"
             ],
             {
              "frame": {
               "duration": 0,
               "redraw": false
              },
              "fromcurrent": true,
              "mode": "immediate",
              "transition": {
               "duration": 0,
               "easing": "linear"
              }
             }
            ],
            "label": "0.00016929360432992526",
            "method": "animate"
           },
           {
            "args": [
             [
              "1.7089828966029333e-05"
             ],
             {
              "frame": {
               "duration": 0,
               "redraw": false
              },
              "fromcurrent": true,
              "mode": "immediate",
              "transition": {
               "duration": 0,
               "easing": "linear"
              }
             }
            ],
            "label": "1.7089828966029333e-05",
            "method": "animate"
           },
           {
            "args": [
             [
              "0.00022097183961083372"
             ],
             {
              "frame": {
               "duration": 0,
               "redraw": false
              },
              "fromcurrent": true,
              "mode": "immediate",
              "transition": {
               "duration": 0,
               "easing": "linear"
              }
             }
            ],
            "label": "0.00022097183961083372",
            "method": "animate"
           },
           {
            "args": [
             [
              "0.029926463399642805"
             ],
             {
              "frame": {
               "duration": 0,
               "redraw": false
              },
              "fromcurrent": true,
              "mode": "immediate",
              "transition": {
               "duration": 0,
               "easing": "linear"
              }
             }
            ],
            "label": "0.029926463399642805",
            "method": "animate"
           },
           {
            "args": [
             [
              "1.873694036245723e-05"
             ],
             {
              "frame": {
               "duration": 0,
               "redraw": false
              },
              "fromcurrent": true,
              "mode": "immediate",
              "transition": {
               "duration": 0,
               "easing": "linear"
              }
             }
            ],
            "label": "1.873694036245723e-05",
            "method": "animate"
           },
           {
            "args": [
             [
              "1.8442705172825932e-05"
             ],
             {
              "frame": {
               "duration": 0,
               "redraw": false
              },
              "fromcurrent": true,
              "mode": "immediate",
              "transition": {
               "duration": 0,
               "easing": "linear"
              }
             }
            ],
            "label": "1.8442705172825932e-05",
            "method": "animate"
           },
           {
            "args": [
             [
              "7.65197161743443e-05"
             ],
             {
              "frame": {
               "duration": 0,
               "redraw": false
              },
              "fromcurrent": true,
              "mode": "immediate",
              "transition": {
               "duration": 0,
               "easing": "linear"
              }
             }
            ],
            "label": "7.65197161743443e-05",
            "method": "animate"
           },
           {
            "args": [
             [
              "0.005094219497578268"
             ],
             {
              "frame": {
               "duration": 0,
               "redraw": false
              },
              "fromcurrent": true,
              "mode": "immediate",
              "transition": {
               "duration": 0,
               "easing": "linear"
              }
             }
            ],
            "label": "0.005094219497578268",
            "method": "animate"
           },
           {
            "args": [
             [
              "2.3002595296761905e-05"
             ],
             {
              "frame": {
               "duration": 0,
               "redraw": false
              },
              "fromcurrent": true,
              "mode": "immediate",
              "transition": {
               "duration": 0,
               "easing": "linear"
              }
             }
            ],
            "label": "2.3002595296761905e-05",
            "method": "animate"
           },
           {
            "args": [
             [
              "0.0006039558287384392"
             ],
             {
              "frame": {
               "duration": 0,
               "redraw": false
              },
              "fromcurrent": true,
              "mode": "immediate",
              "transition": {
               "duration": 0,
               "easing": "linear"
              }
             }
            ],
            "label": "0.0006039558287384392",
            "method": "animate"
           },
           {
            "args": [
             [
              "0.00023584192686487997"
             ],
             {
              "frame": {
               "duration": 0,
               "redraw": false
              },
              "fromcurrent": true,
              "mode": "immediate",
              "transition": {
               "duration": 0,
               "easing": "linear"
              }
             }
            ],
            "label": "0.00023584192686487997",
            "method": "animate"
           },
           {
            "args": [
             [
              "1.845260487234409e-05"
             ],
             {
              "frame": {
               "duration": 0,
               "redraw": false
              },
              "fromcurrent": true,
              "mode": "immediate",
              "transition": {
               "duration": 0,
               "easing": "linear"
              }
             }
            ],
            "label": "1.845260487234409e-05",
            "method": "animate"
           },
           {
            "args": [
             [
              "0.0025932081158226965"
             ],
             {
              "frame": {
               "duration": 0,
               "redraw": false
              },
              "fromcurrent": true,
              "mode": "immediate",
              "transition": {
               "duration": 0,
               "easing": "linear"
              }
             }
            ],
            "label": "0.0025932081158226965",
            "method": "animate"
           },
           {
            "args": [
             [
              "0.00090564595667541"
             ],
             {
              "frame": {
               "duration": 0,
               "redraw": false
              },
              "fromcurrent": true,
              "mode": "immediate",
              "transition": {
               "duration": 0,
               "easing": "linear"
              }
             }
            ],
            "label": "0.00090564595667541",
            "method": "animate"
           },
           {
            "args": [
             [
              "1.1236806497075002e-05"
             ],
             {
              "frame": {
               "duration": 0,
               "redraw": false
              },
              "fromcurrent": true,
              "mode": "immediate",
              "transition": {
               "duration": 0,
               "easing": "linear"
              }
             }
            ],
            "label": "1.1236806497075002e-05",
            "method": "animate"
           },
           {
            "args": [
             [
              "5.399754436591735e-06"
             ],
             {
              "frame": {
               "duration": 0,
               "redraw": false
              },
              "fromcurrent": true,
              "mode": "immediate",
              "transition": {
               "duration": 0,
               "easing": "linear"
              }
             }
            ],
            "label": "5.399754436591735e-06",
            "method": "animate"
           },
           {
            "args": [
             [
              "0.12775509079058128"
             ],
             {
              "frame": {
               "duration": 0,
               "redraw": false
              },
              "fromcurrent": true,
              "mode": "immediate",
              "transition": {
               "duration": 0,
               "easing": "linear"
              }
             }
            ],
            "label": "0.12775509079058128",
            "method": "animate"
           },
           {
            "args": [
             [
              "0.016416099361673684"
             ],
             {
              "frame": {
               "duration": 0,
               "redraw": false
              },
              "fromcurrent": true,
              "mode": "immediate",
              "transition": {
               "duration": 0,
               "easing": "linear"
              }
             }
            ],
            "label": "0.016416099361673684",
            "method": "animate"
           },
           {
            "args": [
             [
              "0.04528050320600008"
             ],
             {
              "frame": {
               "duration": 0,
               "redraw": false
              },
              "fromcurrent": true,
              "mode": "immediate",
              "transition": {
               "duration": 0,
               "easing": "linear"
              }
             }
            ],
            "label": "0.04528050320600008",
            "method": "animate"
           },
           {
            "args": [
             [
              "0.00028317143978526374"
             ],
             {
              "frame": {
               "duration": 0,
               "redraw": false
              },
              "fromcurrent": true,
              "mode": "immediate",
              "transition": {
               "duration": 0,
               "easing": "linear"
              }
             }
            ],
            "label": "0.00028317143978526374",
            "method": "animate"
           },
           {
            "args": [
             [
              "6.024380916796989e-05"
             ],
             {
              "frame": {
               "duration": 0,
               "redraw": false
              },
              "fromcurrent": true,
              "mode": "immediate",
              "transition": {
               "duration": 0,
               "easing": "linear"
              }
             }
            ],
            "label": "6.024380916796989e-05",
            "method": "animate"
           },
           {
            "args": [
             [
              "0.0016473237067405036"
             ],
             {
              "frame": {
               "duration": 0,
               "redraw": false
              },
              "fromcurrent": true,
              "mode": "immediate",
              "transition": {
               "duration": 0,
               "easing": "linear"
              }
             }
            ],
            "label": "0.0016473237067405036",
            "method": "animate"
           },
           {
            "args": [
             [
              "7.243588388421421e-06"
             ],
             {
              "frame": {
               "duration": 0,
               "redraw": false
              },
              "fromcurrent": true,
              "mode": "immediate",
              "transition": {
               "duration": 0,
               "easing": "linear"
              }
             }
            ],
            "label": "7.243588388421421e-06",
            "method": "animate"
           },
           {
            "args": [
             [
              "1.0465301170454775e-05"
             ],
             {
              "frame": {
               "duration": 0,
               "redraw": false
              },
              "fromcurrent": true,
              "mode": "immediate",
              "transition": {
               "duration": 0,
               "easing": "linear"
              }
             }
            ],
            "label": "1.0465301170454775e-05",
            "method": "animate"
           },
           {
            "args": [
             [
              "0.0009988134617276412"
             ],
             {
              "frame": {
               "duration": 0,
               "redraw": false
              },
              "fromcurrent": true,
              "mode": "immediate",
              "transition": {
               "duration": 0,
               "easing": "linear"
              }
             }
            ],
            "label": "0.0009988134617276412",
            "method": "animate"
           },
           {
            "args": [
             [
              "1.845250004652407e-05"
             ],
             {
              "frame": {
               "duration": 0,
               "redraw": false
              },
              "fromcurrent": true,
              "mode": "immediate",
              "transition": {
               "duration": 0,
               "easing": "linear"
              }
             }
            ],
            "label": "1.845250004652407e-05",
            "method": "animate"
           },
           {
            "args": [
             [
              "0.0004873188783136047"
             ],
             {
              "frame": {
               "duration": 0,
               "redraw": false
              },
              "fromcurrent": true,
              "mode": "immediate",
              "transition": {
               "duration": 0,
               "easing": "linear"
              }
             }
            ],
            "label": "0.0004873188783136047",
            "method": "animate"
           },
           {
            "args": [
             [
              "1.4318233364591827e-05"
             ],
             {
              "frame": {
               "duration": 0,
               "redraw": false
              },
              "fromcurrent": true,
              "mode": "immediate",
              "transition": {
               "duration": 0,
               "easing": "linear"
              }
             }
            ],
            "label": "1.4318233364591827e-05",
            "method": "animate"
           },
           {
            "args": [
             [
              "7.052077153922264e-05"
             ],
             {
              "frame": {
               "duration": 0,
               "redraw": false
              },
              "fromcurrent": true,
              "mode": "immediate",
              "transition": {
               "duration": 0,
               "easing": "linear"
              }
             }
            ],
            "label": "7.052077153922264e-05",
            "method": "animate"
           },
           {
            "args": [
             [
              "0.01392380252201797"
             ],
             {
              "frame": {
               "duration": 0,
               "redraw": false
              },
              "fromcurrent": true,
              "mode": "immediate",
              "transition": {
               "duration": 0,
               "easing": "linear"
              }
             }
            ],
            "label": "0.01392380252201797",
            "method": "animate"
           },
           {
            "args": [
             [
              "0.08598344733645047"
             ],
             {
              "frame": {
               "duration": 0,
               "redraw": false
              },
              "fromcurrent": true,
              "mode": "immediate",
              "transition": {
               "duration": 0,
               "easing": "linear"
              }
             }
            ],
            "label": "0.08598344733645047",
            "method": "animate"
           },
           {
            "args": [
             [
              "0.0001028903465803786"
             ],
             {
              "frame": {
               "duration": 0,
               "redraw": false
              },
              "fromcurrent": true,
              "mode": "immediate",
              "transition": {
               "duration": 0,
               "easing": "linear"
              }
             }
            ],
            "label": "0.0001028903465803786",
            "method": "animate"
           },
           {
            "args": [
             [
              "7.022290081037902e-07"
             ],
             {
              "frame": {
               "duration": 0,
               "redraw": false
              },
              "fromcurrent": true,
              "mode": "immediate",
              "transition": {
               "duration": 0,
               "easing": "linear"
              }
             }
            ],
            "label": "7.022290081037902e-07",
            "method": "animate"
           },
           {
            "args": [
             [
              "5.803556220744442e-05"
             ],
             {
              "frame": {
               "duration": 0,
               "redraw": false
              },
              "fromcurrent": true,
              "mode": "immediate",
              "transition": {
               "duration": 0,
               "easing": "linear"
              }
             }
            ],
            "label": "5.803556220744442e-05",
            "method": "animate"
           },
           {
            "args": [
             [
              "0.0001330761606930665"
             ],
             {
              "frame": {
               "duration": 0,
               "redraw": false
              },
              "fromcurrent": true,
              "mode": "immediate",
              "transition": {
               "duration": 0,
               "easing": "linear"
              }
             }
            ],
            "label": "0.0001330761606930665",
            "method": "animate"
           },
           {
            "args": [
             [
              "0.0001240815621278989"
             ],
             {
              "frame": {
               "duration": 0,
               "redraw": false
              },
              "fromcurrent": true,
              "mode": "immediate",
              "transition": {
               "duration": 0,
               "easing": "linear"
              }
             }
            ],
            "label": "0.0001240815621278989",
            "method": "animate"
           },
           {
            "args": [
             [
              "0.0008718495168061398"
             ],
             {
              "frame": {
               "duration": 0,
               "redraw": false
              },
              "fromcurrent": true,
              "mode": "immediate",
              "transition": {
               "duration": 0,
               "easing": "linear"
              }
             }
            ],
            "label": "0.0008718495168061398",
            "method": "animate"
           },
           {
            "args": [
             [
              "6.657785516101468e-05"
             ],
             {
              "frame": {
               "duration": 0,
               "redraw": false
              },
              "fromcurrent": true,
              "mode": "immediate",
              "transition": {
               "duration": 0,
               "easing": "linear"
              }
             }
            ],
            "label": "6.657785516101468e-05",
            "method": "animate"
           },
           {
            "args": [
             [
              "1.763862828632518e-05"
             ],
             {
              "frame": {
               "duration": 0,
               "redraw": false
              },
              "fromcurrent": true,
              "mode": "immediate",
              "transition": {
               "duration": 0,
               "easing": "linear"
              }
             }
            ],
            "label": "1.763862828632518e-05",
            "method": "animate"
           },
           {
            "args": [
             [
              "1.2296690248693337e-05"
             ],
             {
              "frame": {
               "duration": 0,
               "redraw": false
              },
              "fromcurrent": true,
              "mode": "immediate",
              "transition": {
               "duration": 0,
               "easing": "linear"
              }
             }
            ],
            "label": "1.2296690248693337e-05",
            "method": "animate"
           },
           {
            "args": [
             [
              "0.0029946151762433523"
             ],
             {
              "frame": {
               "duration": 0,
               "redraw": false
              },
              "fromcurrent": true,
              "mode": "immediate",
              "transition": {
               "duration": 0,
               "easing": "linear"
              }
             }
            ],
            "label": "0.0029946151762433523",
            "method": "animate"
           },
           {
            "args": [
             [
              "0.0001038492787001377"
             ],
             {
              "frame": {
               "duration": 0,
               "redraw": false
              },
              "fromcurrent": true,
              "mode": "immediate",
              "transition": {
               "duration": 0,
               "easing": "linear"
              }
             }
            ],
            "label": "0.0001038492787001377",
            "method": "animate"
           },
           {
            "args": [
             [
              "0.03183431703082116"
             ],
             {
              "frame": {
               "duration": 0,
               "redraw": false
              },
              "fromcurrent": true,
              "mode": "immediate",
              "transition": {
               "duration": 0,
               "easing": "linear"
              }
             }
            ],
            "label": "0.03183431703082116",
            "method": "animate"
           },
           {
            "args": [
             [
              "0.0010258480822267725"
             ],
             {
              "frame": {
               "duration": 0,
               "redraw": false
              },
              "fromcurrent": true,
              "mode": "immediate",
              "transition": {
               "duration": 0,
               "easing": "linear"
              }
             }
            ],
            "label": "0.0010258480822267725",
            "method": "animate"
           }
          ],
          "x": 0.1,
          "xanchor": "left",
          "y": 0,
          "yanchor": "top"
         }
        ],
        "template": {
         "data": {
          "bar": [
           {
            "error_x": {
             "color": "#2a3f5f"
            },
            "error_y": {
             "color": "#2a3f5f"
            },
            "marker": {
             "line": {
              "color": "#E5ECF6",
              "width": 0.5
             }
            },
            "type": "bar"
           }
          ],
          "barpolar": [
           {
            "marker": {
             "line": {
              "color": "#E5ECF6",
              "width": 0.5
             }
            },
            "type": "barpolar"
           }
          ],
          "carpet": [
           {
            "aaxis": {
             "endlinecolor": "#2a3f5f",
             "gridcolor": "white",
             "linecolor": "white",
             "minorgridcolor": "white",
             "startlinecolor": "#2a3f5f"
            },
            "baxis": {
             "endlinecolor": "#2a3f5f",
             "gridcolor": "white",
             "linecolor": "white",
             "minorgridcolor": "white",
             "startlinecolor": "#2a3f5f"
            },
            "type": "carpet"
           }
          ],
          "choropleth": [
           {
            "colorbar": {
             "outlinewidth": 0,
             "ticks": ""
            },
            "type": "choropleth"
           }
          ],
          "contour": [
           {
            "colorbar": {
             "outlinewidth": 0,
             "ticks": ""
            },
            "colorscale": [
             [
              0,
              "#0d0887"
             ],
             [
              0.1111111111111111,
              "#46039f"
             ],
             [
              0.2222222222222222,
              "#7201a8"
             ],
             [
              0.3333333333333333,
              "#9c179e"
             ],
             [
              0.4444444444444444,
              "#bd3786"
             ],
             [
              0.5555555555555556,
              "#d8576b"
             ],
             [
              0.6666666666666666,
              "#ed7953"
             ],
             [
              0.7777777777777778,
              "#fb9f3a"
             ],
             [
              0.8888888888888888,
              "#fdca26"
             ],
             [
              1,
              "#f0f921"
             ]
            ],
            "type": "contour"
           }
          ],
          "contourcarpet": [
           {
            "colorbar": {
             "outlinewidth": 0,
             "ticks": ""
            },
            "type": "contourcarpet"
           }
          ],
          "heatmap": [
           {
            "colorbar": {
             "outlinewidth": 0,
             "ticks": ""
            },
            "colorscale": [
             [
              0,
              "#0d0887"
             ],
             [
              0.1111111111111111,
              "#46039f"
             ],
             [
              0.2222222222222222,
              "#7201a8"
             ],
             [
              0.3333333333333333,
              "#9c179e"
             ],
             [
              0.4444444444444444,
              "#bd3786"
             ],
             [
              0.5555555555555556,
              "#d8576b"
             ],
             [
              0.6666666666666666,
              "#ed7953"
             ],
             [
              0.7777777777777778,
              "#fb9f3a"
             ],
             [
              0.8888888888888888,
              "#fdca26"
             ],
             [
              1,
              "#f0f921"
             ]
            ],
            "type": "heatmap"
           }
          ],
          "heatmapgl": [
           {
            "colorbar": {
             "outlinewidth": 0,
             "ticks": ""
            },
            "colorscale": [
             [
              0,
              "#0d0887"
             ],
             [
              0.1111111111111111,
              "#46039f"
             ],
             [
              0.2222222222222222,
              "#7201a8"
             ],
             [
              0.3333333333333333,
              "#9c179e"
             ],
             [
              0.4444444444444444,
              "#bd3786"
             ],
             [
              0.5555555555555556,
              "#d8576b"
             ],
             [
              0.6666666666666666,
              "#ed7953"
             ],
             [
              0.7777777777777778,
              "#fb9f3a"
             ],
             [
              0.8888888888888888,
              "#fdca26"
             ],
             [
              1,
              "#f0f921"
             ]
            ],
            "type": "heatmapgl"
           }
          ],
          "histogram": [
           {
            "marker": {
             "colorbar": {
              "outlinewidth": 0,
              "ticks": ""
             }
            },
            "type": "histogram"
           }
          ],
          "histogram2d": [
           {
            "colorbar": {
             "outlinewidth": 0,
             "ticks": ""
            },
            "colorscale": [
             [
              0,
              "#0d0887"
             ],
             [
              0.1111111111111111,
              "#46039f"
             ],
             [
              0.2222222222222222,
              "#7201a8"
             ],
             [
              0.3333333333333333,
              "#9c179e"
             ],
             [
              0.4444444444444444,
              "#bd3786"
             ],
             [
              0.5555555555555556,
              "#d8576b"
             ],
             [
              0.6666666666666666,
              "#ed7953"
             ],
             [
              0.7777777777777778,
              "#fb9f3a"
             ],
             [
              0.8888888888888888,
              "#fdca26"
             ],
             [
              1,
              "#f0f921"
             ]
            ],
            "type": "histogram2d"
           }
          ],
          "histogram2dcontour": [
           {
            "colorbar": {
             "outlinewidth": 0,
             "ticks": ""
            },
            "colorscale": [
             [
              0,
              "#0d0887"
             ],
             [
              0.1111111111111111,
              "#46039f"
             ],
             [
              0.2222222222222222,
              "#7201a8"
             ],
             [
              0.3333333333333333,
              "#9c179e"
             ],
             [
              0.4444444444444444,
              "#bd3786"
             ],
             [
              0.5555555555555556,
              "#d8576b"
             ],
             [
              0.6666666666666666,
              "#ed7953"
             ],
             [
              0.7777777777777778,
              "#fb9f3a"
             ],
             [
              0.8888888888888888,
              "#fdca26"
             ],
             [
              1,
              "#f0f921"
             ]
            ],
            "type": "histogram2dcontour"
           }
          ],
          "mesh3d": [
           {
            "colorbar": {
             "outlinewidth": 0,
             "ticks": ""
            },
            "type": "mesh3d"
           }
          ],
          "parcoords": [
           {
            "line": {
             "colorbar": {
              "outlinewidth": 0,
              "ticks": ""
             }
            },
            "type": "parcoords"
           }
          ],
          "pie": [
           {
            "automargin": true,
            "type": "pie"
           }
          ],
          "scatter": [
           {
            "marker": {
             "colorbar": {
              "outlinewidth": 0,
              "ticks": ""
             }
            },
            "type": "scatter"
           }
          ],
          "scatter3d": [
           {
            "line": {
             "colorbar": {
              "outlinewidth": 0,
              "ticks": ""
             }
            },
            "marker": {
             "colorbar": {
              "outlinewidth": 0,
              "ticks": ""
             }
            },
            "type": "scatter3d"
           }
          ],
          "scattercarpet": [
           {
            "marker": {
             "colorbar": {
              "outlinewidth": 0,
              "ticks": ""
             }
            },
            "type": "scattercarpet"
           }
          ],
          "scattergeo": [
           {
            "marker": {
             "colorbar": {
              "outlinewidth": 0,
              "ticks": ""
             }
            },
            "type": "scattergeo"
           }
          ],
          "scattergl": [
           {
            "marker": {
             "colorbar": {
              "outlinewidth": 0,
              "ticks": ""
             }
            },
            "type": "scattergl"
           }
          ],
          "scattermapbox": [
           {
            "marker": {
             "colorbar": {
              "outlinewidth": 0,
              "ticks": ""
             }
            },
            "type": "scattermapbox"
           }
          ],
          "scatterpolar": [
           {
            "marker": {
             "colorbar": {
              "outlinewidth": 0,
              "ticks": ""
             }
            },
            "type": "scatterpolar"
           }
          ],
          "scatterpolargl": [
           {
            "marker": {
             "colorbar": {
              "outlinewidth": 0,
              "ticks": ""
             }
            },
            "type": "scatterpolargl"
           }
          ],
          "scatterternary": [
           {
            "marker": {
             "colorbar": {
              "outlinewidth": 0,
              "ticks": ""
             }
            },
            "type": "scatterternary"
           }
          ],
          "surface": [
           {
            "colorbar": {
             "outlinewidth": 0,
             "ticks": ""
            },
            "colorscale": [
             [
              0,
              "#0d0887"
             ],
             [
              0.1111111111111111,
              "#46039f"
             ],
             [
              0.2222222222222222,
              "#7201a8"
             ],
             [
              0.3333333333333333,
              "#9c179e"
             ],
             [
              0.4444444444444444,
              "#bd3786"
             ],
             [
              0.5555555555555556,
              "#d8576b"
             ],
             [
              0.6666666666666666,
              "#ed7953"
             ],
             [
              0.7777777777777778,
              "#fb9f3a"
             ],
             [
              0.8888888888888888,
              "#fdca26"
             ],
             [
              1,
              "#f0f921"
             ]
            ],
            "type": "surface"
           }
          ],
          "table": [
           {
            "cells": {
             "fill": {
              "color": "#EBF0F8"
             },
             "line": {
              "color": "white"
             }
            },
            "header": {
             "fill": {
              "color": "#C8D4E3"
             },
             "line": {
              "color": "white"
             }
            },
            "type": "table"
           }
          ]
         },
         "layout": {
          "annotationdefaults": {
           "arrowcolor": "#2a3f5f",
           "arrowhead": 0,
           "arrowwidth": 1
          },
          "coloraxis": {
           "colorbar": {
            "outlinewidth": 0,
            "ticks": ""
           }
          },
          "colorscale": {
           "diverging": [
            [
             0,
             "#8e0152"
            ],
            [
             0.1,
             "#c51b7d"
            ],
            [
             0.2,
             "#de77ae"
            ],
            [
             0.3,
             "#f1b6da"
            ],
            [
             0.4,
             "#fde0ef"
            ],
            [
             0.5,
             "#f7f7f7"
            ],
            [
             0.6,
             "#e6f5d0"
            ],
            [
             0.7,
             "#b8e186"
            ],
            [
             0.8,
             "#7fbc41"
            ],
            [
             0.9,
             "#4d9221"
            ],
            [
             1,
             "#276419"
            ]
           ],
           "sequential": [
            [
             0,
             "#0d0887"
            ],
            [
             0.1111111111111111,
             "#46039f"
            ],
            [
             0.2222222222222222,
             "#7201a8"
            ],
            [
             0.3333333333333333,
             "#9c179e"
            ],
            [
             0.4444444444444444,
             "#bd3786"
            ],
            [
             0.5555555555555556,
             "#d8576b"
            ],
            [
             0.6666666666666666,
             "#ed7953"
            ],
            [
             0.7777777777777778,
             "#fb9f3a"
            ],
            [
             0.8888888888888888,
             "#fdca26"
            ],
            [
             1,
             "#f0f921"
            ]
           ],
           "sequentialminus": [
            [
             0,
             "#0d0887"
            ],
            [
             0.1111111111111111,
             "#46039f"
            ],
            [
             0.2222222222222222,
             "#7201a8"
            ],
            [
             0.3333333333333333,
             "#9c179e"
            ],
            [
             0.4444444444444444,
             "#bd3786"
            ],
            [
             0.5555555555555556,
             "#d8576b"
            ],
            [
             0.6666666666666666,
             "#ed7953"
            ],
            [
             0.7777777777777778,
             "#fb9f3a"
            ],
            [
             0.8888888888888888,
             "#fdca26"
            ],
            [
             1,
             "#f0f921"
            ]
           ]
          },
          "colorway": [
           "#636efa",
           "#EF553B",
           "#00cc96",
           "#ab63fa",
           "#FFA15A",
           "#19d3f3",
           "#FF6692",
           "#B6E880",
           "#FF97FF",
           "#FECB52"
          ],
          "font": {
           "color": "#2a3f5f"
          },
          "geo": {
           "bgcolor": "white",
           "lakecolor": "white",
           "landcolor": "#E5ECF6",
           "showlakes": true,
           "showland": true,
           "subunitcolor": "white"
          },
          "hoverlabel": {
           "align": "left"
          },
          "hovermode": "closest",
          "mapbox": {
           "style": "light"
          },
          "paper_bgcolor": "white",
          "plot_bgcolor": "#E5ECF6",
          "polar": {
           "angularaxis": {
            "gridcolor": "white",
            "linecolor": "white",
            "ticks": ""
           },
           "bgcolor": "#E5ECF6",
           "radialaxis": {
            "gridcolor": "white",
            "linecolor": "white",
            "ticks": ""
           }
          },
          "scene": {
           "xaxis": {
            "backgroundcolor": "#E5ECF6",
            "gridcolor": "white",
            "gridwidth": 2,
            "linecolor": "white",
            "showbackground": true,
            "ticks": "",
            "zerolinecolor": "white"
           },
           "yaxis": {
            "backgroundcolor": "#E5ECF6",
            "gridcolor": "white",
            "gridwidth": 2,
            "linecolor": "white",
            "showbackground": true,
            "ticks": "",
            "zerolinecolor": "white"
           },
           "zaxis": {
            "backgroundcolor": "#E5ECF6",
            "gridcolor": "white",
            "gridwidth": 2,
            "linecolor": "white",
            "showbackground": true,
            "ticks": "",
            "zerolinecolor": "white"
           }
          },
          "shapedefaults": {
           "line": {
            "color": "#2a3f5f"
           }
          },
          "ternary": {
           "aaxis": {
            "gridcolor": "white",
            "linecolor": "white",
            "ticks": ""
           },
           "baxis": {
            "gridcolor": "white",
            "linecolor": "white",
            "ticks": ""
           },
           "bgcolor": "#E5ECF6",
           "caxis": {
            "gridcolor": "white",
            "linecolor": "white",
            "ticks": ""
           }
          },
          "title": {
           "x": 0.05
          },
          "xaxis": {
           "automargin": true,
           "gridcolor": "white",
           "linecolor": "white",
           "ticks": "",
           "title": {
            "standoff": 15
           },
           "zerolinecolor": "white",
           "zerolinewidth": 2
          },
          "yaxis": {
           "automargin": true,
           "gridcolor": "white",
           "linecolor": "white",
           "ticks": "",
           "title": {
            "standoff": 15
           },
           "zerolinecolor": "white",
           "zerolinewidth": 2
          }
         }
        },
        "updatemenus": [
         {
          "buttons": [
           {
            "args": [
             null,
             {
              "frame": {
               "duration": 500,
               "redraw": false
              },
              "fromcurrent": true,
              "mode": "immediate",
              "transition": {
               "duration": 500,
               "easing": "linear"
              }
             }
            ],
            "label": "&#9654;",
            "method": "animate"
           },
           {
            "args": [
             [
              null
             ],
             {
              "frame": {
               "duration": 0,
               "redraw": false
              },
              "fromcurrent": true,
              "mode": "immediate",
              "transition": {
               "duration": 0,
               "easing": "linear"
              }
             }
            ],
            "label": "&#9724;",
            "method": "animate"
           }
          ],
          "direction": "left",
          "pad": {
           "r": 10,
           "t": 70
          },
          "showactive": false,
          "type": "buttons",
          "x": 0.1,
          "xanchor": "right",
          "y": 0,
          "yanchor": "top"
         }
        ],
        "xaxis": {
         "anchor": "y",
         "categoryarray": [
          2.9300426702253475e-06,
          2.4452322086933992e-06,
          0.0058507736617339386,
          8.007207343029472e-05,
          0,
          4.6609960815891096e-05,
          7.028928392453616e-07,
          0.00011632825595442816,
          0.0009998135172286924,
          0.000645349197277964,
          0.0001878892782489609,
          3.648892440295071e-06,
          2.4829663291749758e-05,
          0.00011958359413454152,
          6.306800266032473e-05,
          0.005739796155509754,
          0.0014000294995163867,
          0.030469192052677303,
          1.0519464930424955e-05,
          6.357827806291633e-05,
          0.00044990409524081046,
          9.982842128689919e-05,
          5.2397921752046374e-05,
          1.7573001386194517e-05,
          1.0242404861692951e-05,
          1.844401493704043e-05,
          1.886627954036475e-05,
          0.9899721042434594,
          0.18446421602164,
          0.00046251053074170017,
          0.0001989438424019339,
          0.0001427146930757036,
          9.747201925156393e-06,
          0.00012521332656060855,
          4.292700759356613e-05,
          0.9999999999999999,
          8.622963939000623e-07,
          4.972841543894196e-05,
          1.0507913691053213e-05,
          1.8425456347587232e-05,
          0.000267549833001408,
          0.00022526095814426163,
          0.002111625343248045,
          4.4808005372685954e-05,
          6.89127006638345e-05,
          0.0001544032975084528,
          0.0003746532547755145,
          0.000114013021759108,
          5.834847568785645e-05,
          0.00017398073319948264,
          1.8450520576754153e-05,
          3.452985462329377e-05,
          3.919695567011834e-05,
          0.0005270423720801264,
          0.00016929360432992526,
          1.7089828966029333e-05,
          0.00022097183961083372,
          0.029926463399642805,
          1.873694036245723e-05,
          1.8442705172825932e-05,
          7.65197161743443e-05,
          0.005094219497578268,
          2.3002595296761905e-05,
          0.0006039558287384392,
          0.00023584192686487997,
          1.845260487234409e-05,
          0.0025932081158226965,
          0.00090564595667541,
          1.1236806497075002e-05,
          5.399754436591735e-06,
          0.12775509079058128,
          0.016416099361673684,
          0.04528050320600008,
          0.00028317143978526374,
          6.024380916796989e-05,
          0.0016473237067405036,
          7.243588388421421e-06,
          1.0465301170454775e-05,
          0.0009988134617276412,
          1.845250004652407e-05,
          0.0004873188783136047,
          1.4318233364591827e-05,
          7.052077153922264e-05,
          0.01392380252201797,
          0.08598344733645047,
          0.0001028903465803786,
          7.022290081037902e-07,
          5.803556220744442e-05,
          0.0001330761606930665,
          0.0001240815621278989,
          0.0008718495168061398,
          6.657785516101468e-05,
          1.763862828632518e-05,
          1.2296690248693337e-05,
          0.0029946151762433523,
          0.0001038492787001377,
          0.03183431703082116,
          0.0010258480822267725
         ],
         "categoryorder": "array",
         "domain": [
          0,
          1
         ],
         "range": [
          2,
          7
         ],
         "title": {
          "text": "TotalCoinsMined"
         },
         "type": "log"
        },
        "yaxis": {
         "anchor": "x",
         "domain": [
          0,
          1
         ],
         "range": [
          1.3979400086720375,
          5.146128035678237
         ],
         "title": {
          "text": "MaxSupply"
         },
         "type": "log"
        }
       }
      },
      "image/png": "[encoded data removed]",
      "text/html": [
       "<div>                            <div id=\"6042e6fb-5036-454f-893b-bec2e4439686\" class=\"plotly-graph-div\" style=\"height:525px; width:100%;\"></div>            <script type=\"text/javascript\">                require([\"plotly\"], function(Plotly) {                    window.PLOTLYENV=window.PLOTLYENV || {};                                    if (document.getElementById(\"6042e6fb-5036-454f-893b-bec2e4439686\")) {                    Plotly.newPlot(                        \"6042e6fb-5036-454f-893b-bec2e4439686\",                        [{\"hovertemplate\": \"<b>%{hovertext}</b><br><br>TotalCoinsMined=%{marker.color}<br>MaxSupply=%{marker.size}<extra></extra>\", \"hovertext\": [2.9300426702253475e-06], \"ids\": [0.0], \"legendgroup\": \"\", \"marker\": {\"color\": [2.9300426702253475e-06], \"coloraxis\": \"coloraxis\", \"size\": [0.0], \"sizemode\": \"area\", \"sizeref\": 0.0004938271604938273, \"symbol\": \"circle\"}, \"mode\": \"markers\", \"name\": \"\", \"orientation\": \"v\", \"showlegend\": false, \"type\": \"scatter\", \"x\": [2.9300426702253475e-06], \"xaxis\": \"x\", \"y\": [0.0], \"yaxis\": \"y\"}],                        {\"coloraxis\": {\"colorbar\": {\"title\": {\"text\": \"TotalCoinsMined\"}}, \"colorscale\": [[0.0, \"#0d0887\"], [0.1111111111111111, \"#46039f\"], [0.2222222222222222, \"#7201a8\"], [0.3333333333333333, \"#9c179e\"], [0.4444444444444444, \"#bd3786\"], [0.5555555555555556, \"#d8576b\"], [0.6666666666666666, \"#ed7953\"], [0.7777777777777778, \"#fb9f3a\"], [0.8888888888888888, \"#fdca26\"], [1.0, \"#f0f921\"]]}, \"legend\": {\"itemsizing\": \"constant\", \"tracegroupgap\": 0}, \"margin\": {\"t\": 60}, \"sliders\": [{\"active\": 0, \"currentvalue\": {\"prefix\": \"TotalCoinsMined=\"}, \"len\": 0.9, \"pad\": {\"b\": 10, \"t\": 60}, \"steps\": [{\"args\": [[\"2.9300426702253475e-06\"], {\"frame\": {\"duration\": 0, \"redraw\": false}, \"fromcurrent\": true, \"mode\": \"immediate\", \"transition\": {\"duration\": 0, \"easing\": \"linear\"}}], \"label\": \"2.9300426702253475e-06\", \"method\": \"animate\"}, {\"args\": [[\"2.4452322086933992e-06\"], {\"frame\": {\"duration\": 0, \"redraw\": false}, \"fromcurrent\": true, \"mode\": \"immediate\", \"transition\": {\"duration\": 0, \"easing\": \"linear\"}}], \"label\": \"2.4452322086933992e-06\", \"method\": \"animate\"}, {\"args\": [[\"0.0058507736617339386\"], {\"frame\": {\"duration\": 0, \"redraw\": false}, \"fromcurrent\": true, \"mode\": \"immediate\", \"transition\": {\"duration\": 0, \"easing\": \"linear\"}}], \"label\": \"0.0058507736617339386\", \"method\": \"animate\"}, {\"args\": [[\"8.007207343029472e-05\"], {\"frame\": {\"duration\": 0, \"redraw\": false}, \"fromcurrent\": true, \"mode\": \"immediate\", \"transition\": {\"duration\": 0, \"easing\": \"linear\"}}], \"label\": \"8.007207343029472e-05\", \"method\": \"animate\"}, {\"args\": [[\"0.0\"], {\"frame\": {\"duration\": 0, \"redraw\": false}, \"fromcurrent\": true, \"mode\": \"immediate\", \"transition\": {\"duration\": 0, \"easing\": \"linear\"}}], \"label\": \"0.0\", \"method\": \"animate\"}, {\"args\": [[\"4.6609960815891096e-05\"], {\"frame\": {\"duration\": 0, \"redraw\": false}, \"fromcurrent\": true, \"mode\": \"immediate\", \"transition\": {\"duration\": 0, \"easing\": \"linear\"}}], \"label\": \"4.6609960815891096e-05\", \"method\": \"animate\"}, {\"args\": [[\"7.028928392453616e-07\"], {\"frame\": {\"duration\": 0, \"redraw\": false}, \"fromcurrent\": true, \"mode\": \"immediate\", \"transition\": {\"duration\": 0, \"easing\": \"linear\"}}], \"label\": \"7.028928392453616e-07\", \"method\": \"animate\"}, {\"args\": [[\"0.00011632825595442816\"], {\"frame\": {\"duration\": 0, \"redraw\": false}, \"fromcurrent\": true, \"mode\": \"immediate\", \"transition\": {\"duration\": 0, \"easing\": \"linear\"}}], \"label\": \"0.00011632825595442816\", \"method\": \"animate\"}, {\"args\": [[\"0.0009998135172286924\"], {\"frame\": {\"duration\": 0, \"redraw\": false}, \"fromcurrent\": true, \"mode\": \"immediate\", \"transition\": {\"duration\": 0, \"easing\": \"linear\"}}], \"label\": \"0.0009998135172286924\", \"method\": \"animate\"}, {\"args\": [[\"0.000645349197277964\"], {\"frame\": {\"duration\": 0, \"redraw\": false}, \"fromcurrent\": true, \"mode\": \"immediate\", \"transition\": {\"duration\": 0, \"easing\": \"linear\"}}], \"label\": \"0.000645349197277964\", \"method\": \"animate\"}, {\"args\": [[\"0.0001878892782489609\"], {\"frame\": {\"duration\": 0, \"redraw\": false}, \"fromcurrent\": true, \"mode\": \"immediate\", \"transition\": {\"duration\": 0, \"easing\": \"linear\"}}], \"label\": \"0.0001878892782489609\", \"method\": \"animate\"}, {\"args\": [[\"3.648892440295071e-06\"], {\"frame\": {\"duration\": 0, \"redraw\": false}, \"fromcurrent\": true, \"mode\": \"immediate\", \"transition\": {\"duration\": 0, \"easing\": \"linear\"}}], \"label\": \"3.648892440295071e-06\", \"method\": \"animate\"}, {\"args\": [[\"2.4829663291749758e-05\"], {\"frame\": {\"duration\": 0, \"redraw\": false}, \"fromcurrent\": true, \"mode\": \"immediate\", \"transition\": {\"duration\": 0, \"easing\": \"linear\"}}], \"label\": \"2.4829663291749758e-05\", \"method\": \"animate\"}, {\"args\": [[\"0.00011958359413454152\"], {\"frame\": {\"duration\": 0, \"redraw\": false}, \"fromcurrent\": true, \"mode\": \"immediate\", \"transition\": {\"duration\": 0, \"easing\": \"linear\"}}], \"label\": \"0.00011958359413454152\", \"method\": \"animate\"}, {\"args\": [[\"6.306800266032473e-05\"], {\"frame\": {\"duration\": 0, \"redraw\": false}, \"fromcurrent\": true, \"mode\": \"immediate\", \"transition\": {\"duration\": 0, \"easing\": \"linear\"}}], \"label\": \"6.306800266032473e-05\", \"method\": \"animate\"}, {\"args\": [[\"0.005739796155509754\"], {\"frame\": {\"duration\": 0, \"redraw\": false}, \"fromcurrent\": true, \"mode\": \"immediate\", \"transition\": {\"duration\": 0, \"easing\": \"linear\"}}], \"label\": \"0.005739796155509754\", \"method\": \"animate\"}, {\"args\": [[\"0.0014000294995163867\"], {\"frame\": {\"duration\": 0, \"redraw\": false}, \"fromcurrent\": true, \"mode\": \"immediate\", \"transition\": {\"duration\": 0, \"easing\": \"linear\"}}], \"label\": \"0.0014000294995163867\", \"method\": \"animate\"}, {\"args\": [[\"0.030469192052677303\"], {\"frame\": {\"duration\": 0, \"redraw\": false}, \"fromcurrent\": true, \"mode\": \"immediate\", \"transition\": {\"duration\": 0, \"easing\": \"linear\"}}], \"label\": \"0.030469192052677303\", \"method\": \"animate\"}, {\"args\": [[\"1.0519464930424955e-05\"], {\"frame\": {\"duration\": 0, \"redraw\": false}, \"fromcurrent\": true, \"mode\": \"immediate\", \"transition\": {\"duration\": 0, \"easing\": \"linear\"}}], \"label\": \"1.0519464930424955e-05\", \"method\": \"animate\"}, {\"args\": [[\"6.357827806291633e-05\"], {\"frame\": {\"duration\": 0, \"redraw\": false}, \"fromcurrent\": true, \"mode\": \"immediate\", \"transition\": {\"duration\": 0, \"easing\": \"linear\"}}], \"label\": \"6.357827806291633e-05\", \"method\": \"animate\"}, {\"args\": [[\"0.00044990409524081046\"], {\"frame\": {\"duration\": 0, \"redraw\": false}, \"fromcurrent\": true, \"mode\": \"immediate\", \"transition\": {\"duration\": 0, \"easing\": \"linear\"}}], \"label\": \"0.00044990409524081046\", \"method\": \"animate\"}, {\"args\": [[\"9.982842128689919e-05\"], {\"frame\": {\"duration\": 0, \"redraw\": false}, \"fromcurrent\": true, \"mode\": \"immediate\", \"transition\": {\"duration\": 0, \"easing\": \"linear\"}}], \"label\": \"9.982842128689919e-05\", \"method\": \"animate\"}, {\"args\": [[\"5.2397921752046374e-05\"], {\"frame\": {\"duration\": 0, \"redraw\": false}, \"fromcurrent\": true, \"mode\": \"immediate\", \"transition\": {\"duration\": 0, \"easing\": \"linear\"}}], \"label\": \"5.2397921752046374e-05\", \"method\": \"animate\"}, {\"args\": [[\"1.7573001386194517e-05\"], {\"frame\": {\"duration\": 0, \"redraw\": false}, \"fromcurrent\": true, \"mode\": \"immediate\", \"transition\": {\"duration\": 0, \"easing\": \"linear\"}}], \"label\": \"1.7573001386194517e-05\", \"method\": \"animate\"}, {\"args\": [[\"1.0242404861692951e-05\"], {\"frame\": {\"duration\": 0, \"redraw\": false}, \"fromcurrent\": true, \"mode\": \"immediate\", \"transition\": {\"duration\": 0, \"easing\": \"linear\"}}], \"label\": \"1.0242404861692951e-05\", \"method\": \"animate\"}, {\"args\": [[\"1.844401493704043e-05\"], {\"frame\": {\"duration\": 0, \"redraw\": false}, \"fromcurrent\": true, \"mode\": \"immediate\", \"transition\": {\"duration\": 0, \"easing\": \"linear\"}}], \"label\": \"1.844401493704043e-05\", \"method\": \"animate\"}, {\"args\": [[\"1.886627954036475e-05\"], {\"frame\": {\"duration\": 0, \"redraw\": false}, \"fromcurrent\": true, \"mode\": \"immediate\", \"transition\": {\"duration\": 0, \"easing\": \"linear\"}}], \"label\": \"1.886627954036475e-05\", \"method\": \"animate\"}, {\"args\": [[\"0.9899721042434594\"], {\"frame\": {\"duration\": 0, \"redraw\": false}, \"fromcurrent\": true, \"mode\": \"immediate\", \"transition\": {\"duration\": 0, \"easing\": \"linear\"}}], \"label\": \"0.9899721042434594\", \"method\": \"animate\"}, {\"args\": [[\"0.18446421602164\"], {\"frame\": {\"duration\": 0, \"redraw\": false}, \"fromcurrent\": true, \"mode\": \"immediate\", \"transition\": {\"duration\": 0, \"easing\": \"linear\"}}], \"label\": \"0.18446421602164\", \"method\": \"animate\"}, {\"args\": [[\"0.00046251053074170017\"], {\"frame\": {\"duration\": 0, \"redraw\": false}, \"fromcurrent\": true, \"mode\": \"immediate\", \"transition\": {\"duration\": 0, \"easing\": \"linear\"}}], \"label\": \"0.00046251053074170017\", \"method\": \"animate\"}, {\"args\": [[\"0.0001989438424019339\"], {\"frame\": {\"duration\": 0, \"redraw\": false}, \"fromcurrent\": true, \"mode\": \"immediate\", \"transition\": {\"duration\": 0, \"easing\": \"linear\"}}], \"label\": \"0.0001989438424019339\", \"method\": \"animate\"}, {\"args\": [[\"0.0001427146930757036\"], {\"frame\": {\"duration\": 0, \"redraw\": false}, \"fromcurrent\": true, \"mode\": \"immediate\", \"transition\": {\"duration\": 0, \"easing\": \"linear\"}}], \"label\": \"0.0001427146930757036\", \"method\": \"animate\"}, {\"args\": [[\"9.747201925156393e-06\"], {\"frame\": {\"duration\": 0, \"redraw\": false}, \"fromcurrent\": true, \"mode\": \"immediate\", \"transition\": {\"duration\": 0, \"easing\": \"linear\"}}], \"label\": \"9.747201925156393e-06\", \"method\": \"animate\"}, {\"args\": [[\"0.00012521332656060855\"], {\"frame\": {\"duration\": 0, \"redraw\": false}, \"fromcurrent\": true, \"mode\": \"immediate\", \"transition\": {\"duration\": 0, \"easing\": \"linear\"}}], \"label\": \"0.00012521332656060855\", \"method\": \"animate\"}, {\"args\": [[\"4.292700759356613e-05\"], {\"frame\": {\"duration\": 0, \"redraw\": false}, \"fromcurrent\": true, \"mode\": \"immediate\", \"transition\": {\"duration\": 0, \"easing\": \"linear\"}}], \"label\": \"4.292700759356613e-05\", \"method\": \"animate\"}, {\"args\": [[\"0.9999999999999999\"], {\"frame\": {\"duration\": 0, \"redraw\": false}, \"fromcurrent\": true, \"mode\": \"immediate\", \"transition\": {\"duration\": 0, \"easing\": \"linear\"}}], \"label\": \"0.9999999999999999\", \"method\": \"animate\"}, {\"args\": [[\"8.622963939000623e-07\"], {\"frame\": {\"duration\": 0, \"redraw\": false}, \"fromcurrent\": true, \"mode\": \"immediate\", \"transition\": {\"duration\": 0, \"easing\": \"linear\"}}], \"label\": \"8.622963939000623e-07\", \"method\": \"animate\"}, {\"args\": [[\"4.972841543894196e-05\"], {\"frame\": {\"duration\": 0, \"redraw\": false}, \"fromcurrent\": true, \"mode\": \"immediate\", \"transition\": {\"duration\": 0, \"easing\": \"linear\"}}], \"label\": \"4.972841543894196e-05\", \"method\": \"animate\"}, {\"args\": [[\"1.0507913691053213e-05\"], {\"frame\": {\"duration\": 0, \"redraw\": false}, \"fromcurrent\": true, \"mode\": \"immediate\", \"transition\": {\"duration\": 0, \"easing\": \"linear\"}}], \"label\": \"1.0507913691053213e-05\", \"method\": \"animate\"}, {\"args\": [[\"1.8425456347587232e-05\"], {\"frame\": {\"duration\": 0, \"redraw\": false}, \"fromcurrent\": true, \"mode\": \"immediate\", \"transition\": {\"duration\": 0, \"easing\": \"linear\"}}], \"label\": \"1.8425456347587232e-05\", \"method\": \"animate\"}, {\"args\": [[\"0.000267549833001408\"], {\"frame\": {\"duration\": 0, \"redraw\": false}, \"fromcurrent\": true, \"mode\": \"immediate\", \"transition\": {\"duration\": 0, \"easing\": \"linear\"}}], \"label\": \"0.000267549833001408\", \"method\": \"animate\"}, {\"args\": [[\"0.00022526095814426163\"], {\"frame\": {\"duration\": 0, \"redraw\": false}, \"fromcurrent\": true, \"mode\": \"immediate\", \"transition\": {\"duration\": 0, \"easing\": \"linear\"}}], \"label\": \"0.00022526095814426163\", \"method\": \"animate\"}, {\"args\": [[\"0.002111625343248045\"], {\"frame\": {\"duration\": 0, \"redraw\": false}, \"fromcurrent\": true, \"mode\": \"immediate\", \"transition\": {\"duration\": 0, \"easing\": \"linear\"}}], \"label\": \"0.002111625343248045\", \"method\": \"animate\"}, {\"args\": [[\"4.4808005372685954e-05\"], {\"frame\": {\"duration\": 0, \"redraw\": false}, \"fromcurrent\": true, \"mode\": \"immediate\", \"transition\": {\"duration\": 0, \"easing\": \"linear\"}}], \"label\": \"4.4808005372685954e-05\", \"method\": \"animate\"}, {\"args\": [[\"6.89127006638345e-05\"], {\"frame\": {\"duration\": 0, \"redraw\": false}, \"fromcurrent\": true, \"mode\": \"immediate\", \"transition\": {\"duration\": 0, \"easing\": \"linear\"}}], \"label\": \"6.89127006638345e-05\", \"method\": \"animate\"}, {\"args\": [[\"0.0001544032975084528\"], {\"frame\": {\"duration\": 0, \"redraw\": false}, \"fromcurrent\": true, \"mode\": \"immediate\", \"transition\": {\"duration\": 0, \"easing\": \"linear\"}}], \"label\": \"0.0001544032975084528\", \"method\": \"animate\"}, {\"args\": [[\"0.0003746532547755145\"], {\"frame\": {\"duration\": 0, \"redraw\": false}, \"fromcurrent\": true, \"mode\": \"immediate\", \"transition\": {\"duration\": 0, \"easing\": \"linear\"}}], \"label\": \"0.0003746532547755145\", \"method\": \"animate\"}, {\"args\": [[\"0.000114013021759108\"], {\"frame\": {\"duration\": 0, \"redraw\": false}, \"fromcurrent\": true, \"mode\": \"immediate\", \"transition\": {\"duration\": 0, \"easing\": \"linear\"}}], \"label\": \"0.000114013021759108\", \"method\": \"animate\"}, {\"args\": [[\"5.834847568785645e-05\"], {\"frame\": {\"duration\": 0, \"redraw\": false}, \"fromcurrent\": true, \"mode\": \"immediate\", \"transition\": {\"duration\": 0, \"easing\": \"linear\"}}], \"label\": \"5.834847568785645e-05\", \"method\": \"animate\"}, {\"args\": [[\"0.00017398073319948264\"], {\"frame\": {\"duration\": 0, \"redraw\": false}, \"fromcurrent\": true, \"mode\": \"immediate\", \"transition\": {\"duration\": 0, \"easing\": \"linear\"}}], \"label\": \"0.00017398073319948264\", \"method\": \"animate\"}, {\"args\": [[\"1.8450520576754153e-05\"], {\"frame\": {\"duration\": 0, \"redraw\": false}, \"fromcurrent\": true, \"mode\": \"immediate\", \"transition\": {\"duration\": 0, \"easing\": \"linear\"}}], \"label\": \"1.8450520576754153e-05\", \"method\": \"animate\"}, {\"args\": [[\"3.452985462329377e-05\"], {\"frame\": {\"duration\": 0, \"redraw\": false}, \"fromcurrent\": true, \"mode\": \"immediate\", \"transition\": {\"duration\": 0, \"easing\": \"linear\"}}], \"label\": \"3.452985462329377e-05\", \"method\": \"animate\"}, {\"args\": [[\"3.919695567011834e-05\"], {\"frame\": {\"duration\": 0, \"redraw\": false}, \"fromcurrent\": true, \"mode\": \"immediate\", \"transition\": {\"duration\": 0, \"easing\": \"linear\"}}], \"label\": \"3.919695567011834e-05\", \"method\": \"animate\"}, {\"args\": [[\"0.0005270423720801264\"], {\"frame\": {\"duration\": 0, \"redraw\": false}, \"fromcurrent\": true, \"mode\": \"immediate\", \"transition\": {\"duration\": 0, \"easing\": \"linear\"}}], \"label\": \"0.0005270423720801264\", \"method\": \"animate\"}, {\"args\": [[\"0.00016929360432992526\"], {\"frame\": {\"duration\": 0, \"redraw\": false}, \"fromcurrent\": true, \"mode\": \"immediate\", \"transition\": {\"duration\": 0, \"easing\": \"linear\"}}], \"label\": \"0.00016929360432992526\", \"method\": \"animate\"}, {\"args\": [[\"1.7089828966029333e-05\"], {\"frame\": {\"duration\": 0, \"redraw\": false}, \"fromcurrent\": true, \"mode\": \"immediate\", \"transition\": {\"duration\": 0, \"easing\": \"linear\"}}], \"label\": \"1.7089828966029333e-05\", \"method\": \"animate\"}, {\"args\": [[\"0.00022097183961083372\"], {\"frame\": {\"duration\": 0, \"redraw\": false}, \"fromcurrent\": true, \"mode\": \"immediate\", \"transition\": {\"duration\": 0, \"easing\": \"linear\"}}], \"label\": \"0.00022097183961083372\", \"method\": \"animate\"}, {\"args\": [[\"0.029926463399642805\"], {\"frame\": {\"duration\": 0, \"redraw\": false}, \"fromcurrent\": true, \"mode\": \"immediate\", \"transition\": {\"duration\": 0, \"easing\": \"linear\"}}], \"label\": \"0.029926463399642805\", \"method\": \"animate\"}, {\"args\": [[\"1.873694036245723e-05\"], {\"frame\": {\"duration\": 0, \"redraw\": false}, \"fromcurrent\": true, \"mode\": \"immediate\", \"transition\": {\"duration\": 0, \"easing\": \"linear\"}}], \"label\": \"1.873694036245723e-05\", \"method\": \"animate\"}, {\"args\": [[\"1.8442705172825932e-05\"], {\"frame\": {\"duration\": 0, \"redraw\": false}, \"fromcurrent\": true, \"mode\": \"immediate\", \"transition\": {\"duration\": 0, \"easing\": \"linear\"}}], \"label\": \"1.8442705172825932e-05\", \"method\": \"animate\"}, {\"args\": [[\"7.65197161743443e-05\"], {\"frame\": {\"duration\": 0, \"redraw\": false}, \"fromcurrent\": true, \"mode\": \"immediate\", \"transition\": {\"duration\": 0, \"easing\": \"linear\"}}], \"label\": \"7.65197161743443e-05\", \"method\": \"animate\"}, {\"args\": [[\"0.005094219497578268\"], {\"frame\": {\"duration\": 0, \"redraw\": false}, \"fromcurrent\": true, \"mode\": \"immediate\", \"transition\": {\"duration\": 0, \"easing\": \"linear\"}}], \"label\": \"0.005094219497578268\", \"method\": \"animate\"}, {\"args\": [[\"2.3002595296761905e-05\"], {\"frame\": {\"duration\": 0, \"redraw\": false}, \"fromcurrent\": true, \"mode\": \"immediate\", \"transition\": {\"duration\": 0, \"easing\": \"linear\"}}], \"label\": \"2.3002595296761905e-05\", \"method\": \"animate\"}, {\"args\": [[\"0.0006039558287384392\"], {\"frame\": {\"duration\": 0, \"redraw\": false}, \"fromcurrent\": true, \"mode\": \"immediate\", \"transition\": {\"duration\": 0, \"easing\": \"linear\"}}], \"label\": \"0.0006039558287384392\", \"method\": \"animate\"}, {\"args\": [[\"0.00023584192686487997\"], {\"frame\": {\"duration\": 0, \"redraw\": false}, \"fromcurrent\": true, \"mode\": \"immediate\", \"transition\": {\"duration\": 0, \"easing\": \"linear\"}}], \"label\": \"0.00023584192686487997\", \"method\": \"animate\"}, {\"args\": [[\"1.845260487234409e-05\"], {\"frame\": {\"duration\": 0, \"redraw\": false}, \"fromcurrent\": true, \"mode\": \"immediate\", \"transition\": {\"duration\": 0, \"easing\": \"linear\"}}], \"label\": \"1.845260487234409e-05\", \"method\": \"animate\"}, {\"args\": [[\"0.0025932081158226965\"], {\"frame\": {\"duration\": 0, \"redraw\": false}, \"fromcurrent\": true, \"mode\": \"immediate\", \"transition\": {\"duration\": 0, \"easing\": \"linear\"}}], \"label\": \"0.0025932081158226965\", \"method\": \"animate\"}, {\"args\": [[\"0.00090564595667541\"], {\"frame\": {\"duration\": 0, \"redraw\": false}, \"fromcurrent\": true, \"mode\": \"immediate\", \"transition\": {\"duration\": 0, \"easing\": \"linear\"}}], \"label\": \"0.00090564595667541\", \"method\": \"animate\"}, {\"args\": [[\"1.1236806497075002e-05\"], {\"frame\": {\"duration\": 0, \"redraw\": false}, \"fromcurrent\": true, \"mode\": \"immediate\", \"transition\": {\"duration\": 0, \"easing\": \"linear\"}}], \"label\": \"1.1236806497075002e-05\", \"method\": \"animate\"}, {\"args\": [[\"5.399754436591735e-06\"], {\"frame\": {\"duration\": 0, \"redraw\": false}, \"fromcurrent\": true, \"mode\": \"immediate\", \"transition\": {\"duration\": 0, \"easing\": \"linear\"}}], \"label\": \"5.399754436591735e-06\", \"method\": \"animate\"}, {\"args\": [[\"0.12775509079058128\"], {\"frame\": {\"duration\": 0, \"redraw\": false}, \"fromcurrent\": true, \"mode\": \"immediate\", \"transition\": {\"duration\": 0, \"easing\": \"linear\"}}], \"label\": \"0.12775509079058128\", \"method\": \"animate\"}, {\"args\": [[\"0.016416099361673684\"], {\"frame\": {\"duration\": 0, \"redraw\": false}, \"fromcurrent\": true, \"mode\": \"immediate\", \"transition\": {\"duration\": 0, \"easing\": \"linear\"}}], \"label\": \"0.016416099361673684\", \"method\": \"animate\"}, {\"args\": [[\"0.04528050320600008\"], {\"frame\": {\"duration\": 0, \"redraw\": false}, \"fromcurrent\": true, \"mode\": \"immediate\", \"transition\": {\"duration\": 0, \"easing\": \"linear\"}}], \"label\": \"0.04528050320600008\", \"method\": \"animate\"}, {\"args\": [[\"0.00028317143978526374\"], {\"frame\": {\"duration\": 0, \"redraw\": false}, \"fromcurrent\": true, \"mode\": \"immediate\", \"transition\": {\"duration\": 0, \"easing\": \"linear\"}}], \"label\": \"0.00028317143978526374\", \"method\": \"animate\"}, {\"args\": [[\"6.024380916796989e-05\"], {\"frame\": {\"duration\": 0, \"redraw\": false}, \"fromcurrent\": true, \"mode\": \"immediate\", \"transition\": {\"duration\": 0, \"easing\": \"linear\"}}], \"label\": \"6.024380916796989e-05\", \"method\": \"animate\"}, {\"args\": [[\"0.0016473237067405036\"], {\"frame\": {\"duration\": 0, \"redraw\": false}, \"fromcurrent\": true, \"mode\": \"immediate\", \"transition\": {\"duration\": 0, \"easing\": \"linear\"}}], \"label\": \"0.0016473237067405036\", \"method\": \"animate\"}, {\"args\": [[\"7.243588388421421e-06\"], {\"frame\": {\"duration\": 0, \"redraw\": false}, \"fromcurrent\": true, \"mode\": \"immediate\", \"transition\": {\"duration\": 0, \"easing\": \"linear\"}}], \"label\": \"7.243588388421421e-06\", \"method\": \"animate\"}, {\"args\": [[\"1.0465301170454775e-05\"], {\"frame\": {\"duration\": 0, \"redraw\": false}, \"fromcurrent\": true, \"mode\": \"immediate\", \"transition\": {\"duration\": 0, \"easing\": \"linear\"}}], \"label\": \"1.0465301170454775e-05\", \"method\": \"animate\"}, {\"args\": [[\"0.0009988134617276412\"], {\"frame\": {\"duration\": 0, \"redraw\": false}, \"fromcurrent\": true, \"mode\": \"immediate\", \"transition\": {\"duration\": 0, \"easing\": \"linear\"}}], \"label\": \"0.0009988134617276412\", \"method\": \"animate\"}, {\"args\": [[\"1.845250004652407e-05\"], {\"frame\": {\"duration\": 0, \"redraw\": false}, \"fromcurrent\": true, \"mode\": \"immediate\", \"transition\": {\"duration\": 0, \"easing\": \"linear\"}}], \"label\": \"1.845250004652407e-05\", \"method\": \"animate\"}, {\"args\": [[\"0.0004873188783136047\"], {\"frame\": {\"duration\": 0, \"redraw\": false}, \"fromcurrent\": true, \"mode\": \"immediate\", \"transition\": {\"duration\": 0, \"easing\": \"linear\"}}], \"label\": \"0.0004873188783136047\", \"method\": \"animate\"}, {\"args\": [[\"1.4318233364591827e-05\"], {\"frame\": {\"duration\": 0, \"redraw\": false}, \"fromcurrent\": true, \"mode\": \"immediate\", \"transition\": {\"duration\": 0, \"easing\": \"linear\"}}], \"label\": \"1.4318233364591827e-05\", \"method\": \"animate\"}, {\"args\": [[\"7.052077153922264e-05\"], {\"frame\": {\"duration\": 0, \"redraw\": false}, \"fromcurrent\": true, \"mode\": \"immediate\", \"transition\": {\"duration\": 0, \"easing\": \"linear\"}}], \"label\": \"7.052077153922264e-05\", \"method\": \"animate\"}, {\"args\": [[\"0.01392380252201797\"], {\"frame\": {\"duration\": 0, \"redraw\": false}, \"fromcurrent\": true, \"mode\": \"immediate\", \"transition\": {\"duration\": 0, \"easing\": \"linear\"}}], \"label\": \"0.01392380252201797\", \"method\": \"animate\"}, {\"args\": [[\"0.08598344733645047\"], {\"frame\": {\"duration\": 0, \"redraw\": false}, \"fromcurrent\": true, \"mode\": \"immediate\", \"transition\": {\"duration\": 0, \"easing\": \"linear\"}}], \"label\": \"0.08598344733645047\", \"method\": \"animate\"}, {\"args\": [[\"0.0001028903465803786\"], {\"frame\": {\"duration\": 0, \"redraw\": false}, \"fromcurrent\": true, \"mode\": \"immediate\", \"transition\": {\"duration\": 0, \"easing\": \"linear\"}}], \"label\": \"0.0001028903465803786\", \"method\": \"animate\"}, {\"args\": [[\"7.022290081037902e-07\"], {\"frame\": {\"duration\": 0, \"redraw\": false}, \"fromcurrent\": true, \"mode\": \"immediate\", \"transition\": {\"duration\": 0, \"easing\": \"linear\"}}], \"label\": \"7.022290081037902e-07\", \"method\": \"animate\"}, {\"args\": [[\"5.803556220744442e-05\"], {\"frame\": {\"duration\": 0, \"redraw\": false}, \"fromcurrent\": true, \"mode\": \"immediate\", \"transition\": {\"duration\": 0, \"easing\": \"linear\"}}], \"label\": \"5.803556220744442e-05\", \"method\": \"animate\"}, {\"args\": [[\"0.0001330761606930665\"], {\"frame\": {\"duration\": 0, \"redraw\": false}, \"fromcurrent\": true, \"mode\": \"immediate\", \"transition\": {\"duration\": 0, \"easing\": \"linear\"}}], \"label\": \"0.0001330761606930665\", \"method\": \"animate\"}, {\"args\": [[\"0.0001240815621278989\"], {\"frame\": {\"duration\": 0, \"redraw\": false}, \"fromcurrent\": true, \"mode\": \"immediate\", \"transition\": {\"duration\": 0, \"easing\": \"linear\"}}], \"label\": \"0.0001240815621278989\", \"method\": \"animate\"}, {\"args\": [[\"0.0008718495168061398\"], {\"frame\": {\"duration\": 0, \"redraw\": false}, \"fromcurrent\": true, \"mode\": \"immediate\", \"transition\": {\"duration\": 0, \"easing\": \"linear\"}}], \"label\": \"0.0008718495168061398\", \"method\": \"animate\"}, {\"args\": [[\"6.657785516101468e-05\"], {\"frame\": {\"duration\": 0, \"redraw\": false}, \"fromcurrent\": true, \"mode\": \"immediate\", \"transition\": {\"duration\": 0, \"easing\": \"linear\"}}], \"label\": \"6.657785516101468e-05\", \"method\": \"animate\"}, {\"args\": [[\"1.763862828632518e-05\"], {\"frame\": {\"duration\": 0, \"redraw\": false}, \"fromcurrent\": true, \"mode\": \"immediate\", \"transition\": {\"duration\": 0, \"easing\": \"linear\"}}], \"label\": \"1.763862828632518e-05\", \"method\": \"animate\"}, {\"args\": [[\"1.2296690248693337e-05\"], {\"frame\": {\"duration\": 0, \"redraw\": false}, \"fromcurrent\": true, \"mode\": \"immediate\", \"transition\": {\"duration\": 0, \"easing\": \"linear\"}}], \"label\": \"1.2296690248693337e-05\", \"method\": \"animate\"}, {\"args\": [[\"0.0029946151762433523\"], {\"frame\": {\"duration\": 0, \"redraw\": false}, \"fromcurrent\": true, \"mode\": \"immediate\", \"transition\": {\"duration\": 0, \"easing\": \"linear\"}}], \"label\": \"0.0029946151762433523\", \"method\": \"animate\"}, {\"args\": [[\"0.0001038492787001377\"], {\"frame\": {\"duration\": 0, \"redraw\": false}, \"fromcurrent\": true, \"mode\": \"immediate\", \"transition\": {\"duration\": 0, \"easing\": \"linear\"}}], \"label\": \"0.0001038492787001377\", \"method\": \"animate\"}, {\"args\": [[\"0.03183431703082116\"], {\"frame\": {\"duration\": 0, \"redraw\": false}, \"fromcurrent\": true, \"mode\": \"immediate\", \"transition\": {\"duration\": 0, \"easing\": \"linear\"}}], \"label\": \"0.03183431703082116\", \"method\": \"animate\"}, {\"args\": [[\"0.0010258480822267725\"], {\"frame\": {\"duration\": 0, \"redraw\": false}, \"fromcurrent\": true, \"mode\": \"immediate\", \"transition\": {\"duration\": 0, \"easing\": \"linear\"}}], \"label\": \"0.0010258480822267725\", \"method\": \"animate\"}], \"x\": 0.1, \"xanchor\": \"left\", \"y\": 0, \"yanchor\": \"top\"}], \"template\": {\"data\": {\"bar\": [{\"error_x\": {\"color\": \"#2a3f5f\"}, \"error_y\": {\"color\": \"#2a3f5f\"}, \"marker\": {\"line\": {\"color\": \"#E5ECF6\", \"width\": 0.5}}, \"type\": \"bar\"}], \"barpolar\": [{\"marker\": {\"line\": {\"color\": \"#E5ECF6\", \"width\": 0.5}}, \"type\": \"barpolar\"}], \"carpet\": [{\"aaxis\": {\"endlinecolor\": \"#2a3f5f\", \"gridcolor\": \"white\", \"linecolor\": \"white\", \"minorgridcolor\": \"white\", \"startlinecolor\": \"#2a3f5f\"}, \"baxis\": {\"endlinecolor\": \"#2a3f5f\", \"gridcolor\": \"white\", \"linecolor\": \"white\", \"minorgridcolor\": \"white\", \"startlinecolor\": \"#2a3f5f\"}, \"type\": \"carpet\"}], \"choropleth\": [{\"colorbar\": {\"outlinewidth\": 0, \"ticks\": \"\"}, \"type\": \"choropleth\"}], \"contour\": [{\"colorbar\": {\"outlinewidth\": 0, \"ticks\": \"\"}, \"colorscale\": [[0.0, \"#0d0887\"], [0.1111111111111111, \"#46039f\"], [0.2222222222222222, \"#7201a8\"], [0.3333333333333333, \"#9c179e\"], [0.4444444444444444, \"#bd3786\"], [0.5555555555555556, \"#d8576b\"], [0.6666666666666666, \"#ed7953\"], [0.7777777777777778, \"#fb9f3a\"], [0.8888888888888888, \"#fdca26\"], [1.0, \"#f0f921\"]], \"type\": \"contour\"}], \"contourcarpet\": [{\"colorbar\": {\"outlinewidth\": 0, \"ticks\": \"\"}, \"type\": \"contourcarpet\"}], \"heatmap\": [{\"colorbar\": {\"outlinewidth\": 0, \"ticks\": \"\"}, \"colorscale\": [[0.0, \"#0d0887\"], [0.1111111111111111, \"#46039f\"], [0.2222222222222222, \"#7201a8\"], [0.3333333333333333, \"#9c179e\"], [0.4444444444444444, \"#bd3786\"], [0.5555555555555556, \"#d8576b\"], [0.6666666666666666, \"#ed7953\"], [0.7777777777777778, \"#fb9f3a\"], [0.8888888888888888, \"#fdca26\"], [1.0, \"#f0f921\"]], \"type\": \"heatmap\"}], \"heatmapgl\": [{\"colorbar\": {\"outlinewidth\": 0, \"ticks\": \"\"}, \"colorscale\": [[0.0, \"#0d0887\"], [0.1111111111111111, \"#46039f\"], [0.2222222222222222, \"#7201a8\"], [0.3333333333333333, \"#9c179e\"], [0.4444444444444444, \"#bd3786\"], [0.5555555555555556, \"#d8576b\"], [0.6666666666666666, \"#ed7953\"], [0.7777777777777778, \"#fb9f3a\"], [0.8888888888888888, \"#fdca26\"], [1.0, \"#f0f921\"]], \"type\": \"heatmapgl\"}], \"histogram\": [{\"marker\": {\"colorbar\": {\"outlinewidth\": 0, \"ticks\": \"\"}}, \"type\": \"histogram\"}], \"histogram2d\": [{\"colorbar\": {\"outlinewidth\": 0, \"ticks\": \"\"}, \"colorscale\": [[0.0, \"#0d0887\"], [0.1111111111111111, \"#46039f\"], [0.2222222222222222, \"#7201a8\"], [0.3333333333333333, \"#9c179e\"], [0.4444444444444444, \"#bd3786\"], [0.5555555555555556, \"#d8576b\"], [0.6666666666666666, \"#ed7953\"], [0.7777777777777778, \"#fb9f3a\"], [0.8888888888888888, \"#fdca26\"], [1.0, \"#f0f921\"]], \"type\": \"histogram2d\"}], \"histogram2dcontour\": [{\"colorbar\": {\"outlinewidth\": 0, \"ticks\": \"\"}, \"colorscale\": [[0.0, \"#0d0887\"], [0.1111111111111111, \"#46039f\"], [0.2222222222222222, \"#7201a8\"], [0.3333333333333333, \"#9c179e\"], [0.4444444444444444, \"#bd3786\"], [0.5555555555555556, \"#d8576b\"], [0.6666666666666666, \"#ed7953\"], [0.7777777777777778, \"#fb9f3a\"], [0.8888888888888888, \"#fdca26\"], [1.0, \"#f0f921\"]], \"type\": \"histogram2dcontour\"}], \"mesh3d\": [{\"colorbar\": {\"outlinewidth\": 0, \"ticks\": \"\"}, \"type\": \"mesh3d\"}], \"parcoords\": [{\"line\": {\"colorbar\": {\"outlinewidth\": 0, \"ticks\": \"\"}}, \"type\": \"parcoords\"}], \"pie\": [{\"automargin\": true, \"type\": \"pie\"}], \"scatter\": [{\"marker\": {\"colorbar\": {\"outlinewidth\": 0, \"ticks\": \"\"}}, \"type\": \"scatter\"}], \"scatter3d\": [{\"line\": {\"colorbar\": {\"outlinewidth\": 0, \"ticks\": \"\"}}, \"marker\": {\"colorbar\": {\"outlinewidth\": 0, \"ticks\": \"\"}}, \"type\": \"scatter3d\"}], \"scattercarpet\": [{\"marker\": {\"colorbar\": {\"outlinewidth\": 0, \"ticks\": \"\"}}, \"type\": \"scattercarpet\"}], \"scattergeo\": [{\"marker\": {\"colorbar\": {\"outlinewidth\": 0, \"ticks\": \"\"}}, \"type\": \"scattergeo\"}], \"scattergl\": [{\"marker\": {\"colorbar\": {\"outlinewidth\": 0, \"ticks\": \"\"}}, \"type\": \"scattergl\"}], \"scattermapbox\": [{\"marker\": {\"colorbar\": {\"outlinewidth\": 0, \"ticks\": \"\"}}, \"type\": \"scattermapbox\"}], \"scatterpolar\": [{\"marker\": {\"colorbar\": {\"outlinewidth\": 0, \"ticks\": \"\"}}, \"type\": \"scatterpolar\"}], \"scatterpolargl\": [{\"marker\": {\"colorbar\": {\"outlinewidth\": 0, \"ticks\": \"\"}}, \"type\": \"scatterpolargl\"}], \"scatterternary\": [{\"marker\": {\"colorbar\": {\"outlinewidth\": 0, \"ticks\": \"\"}}, \"type\": \"scatterternary\"}], \"surface\": [{\"colorbar\": {\"outlinewidth\": 0, \"ticks\": \"\"}, \"colorscale\": [[0.0, \"#0d0887\"], [0.1111111111111111, \"#46039f\"], [0.2222222222222222, \"#7201a8\"], [0.3333333333333333, \"#9c179e\"], [0.4444444444444444, \"#bd3786\"], [0.5555555555555556, \"#d8576b\"], [0.6666666666666666, \"#ed7953\"], [0.7777777777777778, \"#fb9f3a\"], [0.8888888888888888, \"#fdca26\"], [1.0, \"#f0f921\"]], \"type\": \"surface\"}], \"table\": [{\"cells\": {\"fill\": {\"color\": \"#EBF0F8\"}, \"line\": {\"color\": \"white\"}}, \"header\": {\"fill\": {\"color\": \"#C8D4E3\"}, \"line\": {\"color\": \"white\"}}, \"type\": \"table\"}]}, \"layout\": {\"annotationdefaults\": {\"arrowcolor\": \"#2a3f5f\", \"arrowhead\": 0, \"arrowwidth\": 1}, \"coloraxis\": {\"colorbar\": {\"outlinewidth\": 0, \"ticks\": \"\"}}, \"colorscale\": {\"diverging\": [[0, \"#8e0152\"], [0.1, \"#c51b7d\"], [0.2, \"#de77ae\"], [0.3, \"#f1b6da\"], [0.4, \"#fde0ef\"], [0.5, \"#f7f7f7\"], [0.6, \"#e6f5d0\"], [0.7, \"#b8e186\"], [0.8, \"#7fbc41\"], [0.9, \"#4d9221\"], [1, \"#276419\"]], \"sequential\": [[0.0, \"#0d0887\"], [0.1111111111111111, \"#46039f\"], [0.2222222222222222, \"#7201a8\"], [0.3333333333333333, \"#9c179e\"], [0.4444444444444444, \"#bd3786\"], [0.5555555555555556, \"#d8576b\"], [0.6666666666666666, \"#ed7953\"], [0.7777777777777778, \"#fb9f3a\"], [0.8888888888888888, \"#fdca26\"], [1.0, \"#f0f921\"]], \"sequentialminus\": [[0.0, \"#0d0887\"], [0.1111111111111111, \"#46039f\"], [0.2222222222222222, \"#7201a8\"], [0.3333333333333333, \"#9c179e\"], [0.4444444444444444, \"#bd3786\"], [0.5555555555555556, \"#d8576b\"], [0.6666666666666666, \"#ed7953\"], [0.7777777777777778, \"#fb9f3a\"], [0.8888888888888888, \"#fdca26\"], [1.0, \"#f0f921\"]]}, \"colorway\": [\"#636efa\", \"#EF553B\", \"#00cc96\", \"#ab63fa\", \"#FFA15A\", \"#19d3f3\", \"#FF6692\", \"#B6E880\", \"#FF97FF\", \"#FECB52\"], \"font\": {\"color\": \"#2a3f5f\"}, \"geo\": {\"bgcolor\": \"white\", \"lakecolor\": \"white\", \"landcolor\": \"#E5ECF6\", \"showlakes\": true, \"showland\": true, \"subunitcolor\": \"white\"}, \"hoverlabel\": {\"align\": \"left\"}, \"hovermode\": \"closest\", \"mapbox\": {\"style\": \"light\"}, \"paper_bgcolor\": \"white\", \"plot_bgcolor\": \"#E5ECF6\", \"polar\": {\"angularaxis\": {\"gridcolor\": \"white\", \"linecolor\": \"white\", \"ticks\": \"\"}, \"bgcolor\": \"#E5ECF6\", \"radialaxis\": {\"gridcolor\": \"white\", \"linecolor\": \"white\", \"ticks\": \"\"}}, \"scene\": {\"xaxis\": {\"backgroundcolor\": \"#E5ECF6\", \"gridcolor\": \"white\", \"gridwidth\": 2, \"linecolor\": \"white\", \"showbackground\": true, \"ticks\": \"\", \"zerolinecolor\": \"white\"}, \"yaxis\": {\"backgroundcolor\": \"#E5ECF6\", \"gridcolor\": \"white\", \"gridwidth\": 2, \"linecolor\": \"white\", \"showbackground\": true, \"ticks\": \"\", \"zerolinecolor\": \"white\"}, \"zaxis\": {\"backgroundcolor\": \"#E5ECF6\", \"gridcolor\": \"white\", \"gridwidth\": 2, \"linecolor\": \"white\", \"showbackground\": true, \"ticks\": \"\", \"zerolinecolor\": \"white\"}}, \"shapedefaults\": {\"line\": {\"color\": \"#2a3f5f\"}}, \"ternary\": {\"aaxis\": {\"gridcolor\": \"white\", \"linecolor\": \"white\", \"ticks\": \"\"}, \"baxis\": {\"gridcolor\": \"white\", \"linecolor\": \"white\", \"ticks\": \"\"}, \"bgcolor\": \"#E5ECF6\", \"caxis\": {\"gridcolor\": \"white\", \"linecolor\": \"white\", \"ticks\": \"\"}}, \"title\": {\"x\": 0.05}, \"xaxis\": {\"automargin\": true, \"gridcolor\": \"white\", \"linecolor\": \"white\", \"ticks\": \"\", \"title\": {\"standoff\": 15}, \"zerolinecolor\": \"white\", \"zerolinewidth\": 2}, \"yaxis\": {\"automargin\": true, \"gridcolor\": \"white\", \"linecolor\": \"white\", \"ticks\": \"\", \"title\": {\"standoff\": 15}, \"zerolinecolor\": \"white\", \"zerolinewidth\": 2}}}, \"updatemenus\": [{\"buttons\": [{\"args\": [null, {\"frame\": {\"duration\": 500, \"redraw\": false}, \"fromcurrent\": true, \"mode\": \"immediate\", \"transition\": {\"duration\": 500, \"easing\": \"linear\"}}], \"label\": \"&#9654;\", \"method\": \"animate\"}, {\"args\": [[null], {\"frame\": {\"duration\": 0, \"redraw\": false}, \"fromcurrent\": true, \"mode\": \"immediate\", \"transition\": {\"duration\": 0, \"easing\": \"linear\"}}], \"label\": \"&#9724;\", \"method\": \"animate\"}], \"direction\": \"left\", \"pad\": {\"r\": 10, \"t\": 70}, \"showactive\": false, \"type\": \"buttons\", \"x\": 0.1, \"xanchor\": \"right\", \"y\": 0, \"yanchor\": \"top\"}], \"xaxis\": {\"anchor\": \"y\", \"categoryarray\": [2.9300426702253475e-06, 2.4452322086933992e-06, 0.0058507736617339386, 8.007207343029472e-05, 0.0, 4.6609960815891096e-05, 7.028928392453616e-07, 0.00011632825595442816, 0.0009998135172286924, 0.000645349197277964, 0.0001878892782489609, 3.648892440295071e-06, 2.4829663291749758e-05, 0.00011958359413454152, 6.306800266032473e-05, 0.005739796155509754, 0.0014000294995163867, 0.030469192052677303, 1.0519464930424955e-05, 6.357827806291633e-05, 0.00044990409524081046, 9.982842128689919e-05, 5.2397921752046374e-05, 1.7573001386194517e-05, 1.0242404861692951e-05, 1.844401493704043e-05, 1.886627954036475e-05, 0.9899721042434594, 0.18446421602164, 0.00046251053074170017, 0.0001989438424019339, 0.0001427146930757036, 9.747201925156393e-06, 0.00012521332656060855, 4.292700759356613e-05, 0.9999999999999999, 8.622963939000623e-07, 4.972841543894196e-05, 1.0507913691053213e-05, 1.8425456347587232e-05, 0.000267549833001408, 0.00022526095814426163, 0.002111625343248045, 4.4808005372685954e-05, 6.89127006638345e-05, 0.0001544032975084528, 0.0003746532547755145, 0.000114013021759108, 5.834847568785645e-05, 0.00017398073319948264, 1.8450520576754153e-05, 3.452985462329377e-05, 3.919695567011834e-05, 0.0005270423720801264, 0.00016929360432992526, 1.7089828966029333e-05, 0.00022097183961083372, 0.029926463399642805, 1.873694036245723e-05, 1.8442705172825932e-05, 7.65197161743443e-05, 0.005094219497578268, 2.3002595296761905e-05, 0.0006039558287384392, 0.00023584192686487997, 1.845260487234409e-05, 0.0025932081158226965, 0.00090564595667541, 1.1236806497075002e-05, 5.399754436591735e-06, 0.12775509079058128, 0.016416099361673684, 0.04528050320600008, 0.00028317143978526374, 6.024380916796989e-05, 0.0016473237067405036, 7.243588388421421e-06, 1.0465301170454775e-05, 0.0009988134617276412, 1.845250004652407e-05, 0.0004873188783136047, 1.4318233364591827e-05, 7.052077153922264e-05, 0.01392380252201797, 0.08598344733645047, 0.0001028903465803786, 7.022290081037902e-07, 5.803556220744442e-05, 0.0001330761606930665, 0.0001240815621278989, 0.0008718495168061398, 6.657785516101468e-05, 1.763862828632518e-05, 1.2296690248693337e-05, 0.0029946151762433523, 0.0001038492787001377, 0.03183431703082116, 0.0010258480822267725], \"categoryorder\": \"array\", \"domain\": [0.0, 1.0], \"range\": [2.0, 7.0], \"title\": {\"text\": \"TotalCoinsMined\"}, \"type\": \"log\"}, \"yaxis\": {\"anchor\": \"x\", \"domain\": [0.0, 1.0], \"range\": [1.3979400086720375, 5.146128035678237], \"title\": {\"text\": \"MaxSupply\"}, \"type\": \"log\"}},                        {\"responsive\": true}                    ).then(function(){\n",
       "                            Plotly.addFrames('6042e6fb-5036-454f-893b-bec2e4439686', [{\"data\": [{\"hovertemplate\": \"<b>%{hovertext}</b><br><br>TotalCoinsMined=%{marker.color}<br>MaxSupply=%{marker.size}<extra></extra>\", \"hovertext\": [2.9300426702253475e-06], \"ids\": [0.0], \"legendgroup\": \"\", \"marker\": {\"color\": [2.9300426702253475e-06], \"coloraxis\": \"coloraxis\", \"size\": [0.0], \"sizemode\": \"area\", \"sizeref\": 0.0004938271604938273, \"symbol\": \"circle\"}, \"mode\": \"markers\", \"name\": \"\", \"orientation\": \"v\", \"showlegend\": false, \"x\": [2.9300426702253475e-06], \"xaxis\": \"x\", \"y\": [0.0], \"yaxis\": \"y\", \"type\": \"scatter\"}], \"name\": \"2.9300426702253475e-06\"}, {\"data\": [{\"hovertemplate\": \"<b>%{hovertext}</b><br><br>TotalCoinsMined=%{marker.color}<br>MaxSupply=%{marker.size}<extra></extra>\", \"hovertext\": [2.4452322086933992e-06], \"ids\": [0.0], \"legendgroup\": \"\", \"marker\": {\"color\": [2.4452322086933992e-06], \"coloraxis\": \"coloraxis\", \"size\": [0.0], \"sizemode\": \"area\", \"sizeref\": 0.0004938271604938273, \"symbol\": \"circle\"}, \"mode\": \"markers\", \"name\": \"\", \"orientation\": \"v\", \"showlegend\": false, \"x\": [2.4452322086933992e-06], \"xaxis\": \"x\", \"y\": [0.0], \"yaxis\": \"y\", \"type\": \"scatter\"}], \"name\": \"2.4452322086933992e-06\"}, {\"data\": [{\"hovertemplate\": \"<b>%{hovertext}</b><br><br>TotalCoinsMined=%{marker.color}<br>MaxSupply=%{marker.size}<extra></extra>\", \"hovertext\": [0.0058507736617339386], \"ids\": [9.999832700144621e-13], \"legendgroup\": \"\", \"marker\": {\"color\": [0.0058507736617339386], \"coloraxis\": \"coloraxis\", \"size\": [9.999832700144621e-13], \"sizemode\": \"area\", \"sizeref\": 0.0004938271604938273, \"symbol\": \"circle\"}, \"mode\": \"markers\", \"name\": \"\", \"orientation\": \"v\", \"showlegend\": false, \"x\": [0.0058507736617339386], \"xaxis\": \"x\", \"y\": [9.999832700144621e-13], \"yaxis\": \"y\", \"type\": \"scatter\"}], \"name\": \"0.0058507736617339386\"}, {\"data\": [{\"hovertemplate\": \"<b>%{hovertext}</b><br><br>TotalCoinsMined=%{marker.color}<br>MaxSupply=%{marker.size}<extra></extra>\", \"hovertext\": [8.007207343029472e-05], \"ids\": [0.0], \"legendgroup\": \"\", \"marker\": {\"color\": [8.007207343029472e-05], \"coloraxis\": \"coloraxis\", \"size\": [0.0], \"sizemode\": \"area\", \"sizeref\": 0.0004938271604938273, \"symbol\": \"circle\"}, \"mode\": \"markers\", \"name\": \"\", \"orientation\": \"v\", \"showlegend\": false, \"x\": [8.007207343029472e-05], \"xaxis\": \"x\", \"y\": [0.0], \"yaxis\": \"y\", \"type\": \"scatter\"}], \"name\": \"8.007207343029472e-05\"}, {\"data\": [{\"hovertemplate\": \"<b>%{hovertext}</b><br><br>TotalCoinsMined=%{marker.color}<br>MaxSupply=%{marker.size}<extra></extra>\", \"hovertext\": [0.0], \"ids\": [9.999832700144621e-13], \"legendgroup\": \"\", \"marker\": {\"color\": [0.0], \"coloraxis\": \"coloraxis\", \"size\": [9.999832700144621e-13], \"sizemode\": \"area\", \"sizeref\": 0.0004938271604938273, \"symbol\": \"circle\"}, \"mode\": \"markers\", \"name\": \"\", \"orientation\": \"v\", \"showlegend\": false, \"x\": [0.0], \"xaxis\": \"x\", \"y\": [9.999832700144621e-13], \"yaxis\": \"y\", \"type\": \"scatter\"}], \"name\": \"0.0\"}, {\"data\": [{\"hovertemplate\": \"<b>%{hovertext}</b><br><br>TotalCoinsMined=%{marker.color}<br>MaxSupply=%{marker.size}<extra></extra>\", \"hovertext\": [4.6609960815891096e-05], \"ids\": [0.0], \"legendgroup\": \"\", \"marker\": {\"color\": [4.6609960815891096e-05], \"coloraxis\": \"coloraxis\", \"size\": [0.0], \"sizemode\": \"area\", \"sizeref\": 0.0004938271604938273, \"symbol\": \"circle\"}, \"mode\": \"markers\", \"name\": \"\", \"orientation\": \"v\", \"showlegend\": false, \"x\": [4.6609960815891096e-05], \"xaxis\": \"x\", \"y\": [0.0], \"yaxis\": \"y\", \"type\": \"scatter\"}], \"name\": \"4.6609960815891096e-05\"}, {\"data\": [{\"hovertemplate\": \"<b>%{hovertext}</b><br><br>TotalCoinsMined=%{marker.color}<br>MaxSupply=%{marker.size}<extra></extra>\", \"hovertext\": [7.028928392453616e-07], \"ids\": [9.999832700144621e-13], \"legendgroup\": \"\", \"marker\": {\"color\": [7.028928392453616e-07], \"coloraxis\": \"coloraxis\", \"size\": [9.999832700144621e-13], \"sizemode\": \"area\", \"sizeref\": 0.0004938271604938273, \"symbol\": \"circle\"}, \"mode\": \"markers\", \"name\": \"\", \"orientation\": \"v\", \"showlegend\": false, \"x\": [7.028928392453616e-07], \"xaxis\": \"x\", \"y\": [9.999832700144621e-13], \"yaxis\": \"y\", \"type\": \"scatter\"}], \"name\": \"7.028928392453616e-07\"}, {\"data\": [{\"hovertemplate\": \"<b>%{hovertext}</b><br><br>TotalCoinsMined=%{marker.color}<br>MaxSupply=%{marker.size}<extra></extra>\", \"hovertext\": [0.00011632825595442816], \"ids\": [0.0], \"legendgroup\": \"\", \"marker\": {\"color\": [0.00011632825595442816], \"coloraxis\": \"coloraxis\", \"size\": [0.0], \"sizemode\": \"area\", \"sizeref\": 0.0004938271604938273, \"symbol\": \"circle\"}, \"mode\": \"markers\", \"name\": \"\", \"orientation\": \"v\", \"showlegend\": false, \"x\": [0.00011632825595442816], \"xaxis\": \"x\", \"y\": [0.0], \"yaxis\": \"y\", \"type\": \"scatter\"}], \"name\": \"0.00011632825595442816\"}, {\"data\": [{\"hovertemplate\": \"<b>%{hovertext}</b><br><br>TotalCoinsMined=%{marker.color}<br>MaxSupply=%{marker.size}<extra></extra>\", \"hovertext\": [0.0009998135172286924, 0.0009998135172286924, 0.0009998135172286924, 0.0009998135172286924, 0.0009998135172286924], \"ids\": [0.0009999832710144453, 0.0009999832710144453, 0.0009999832710144453, 9.999832700144621e-13, 0.0], \"legendgroup\": \"\", \"marker\": {\"color\": [0.0009998135172286924, 0.0009998135172286924, 0.0009998135172286924, 0.0009998135172286924, 0.0009998135172286924], \"coloraxis\": \"coloraxis\", \"size\": [0.0009999832710144453, 0.0009999832710144453, 0.0009999832710144453, 9.999832700144621e-13, 0.0], \"sizemode\": \"area\", \"sizeref\": 0.0004938271604938273, \"symbol\": \"circle\"}, \"mode\": \"markers\", \"name\": \"\", \"orientation\": \"v\", \"showlegend\": false, \"x\": [0.0009998135172286924, 0.0009998135172286924, 0.0009998135172286924, 0.0009998135172286924, 0.0009998135172286924], \"xaxis\": \"x\", \"y\": [0.0009999832710144453, 0.0009999832710144453, 0.0009999832710144453, 9.999832700144621e-13, 0.0], \"yaxis\": \"y\", \"type\": \"scatter\"}], \"name\": \"0.0009998135172286924\"}, {\"data\": [{\"hovertemplate\": \"<b>%{hovertext}</b><br><br>TotalCoinsMined=%{marker.color}<br>MaxSupply=%{marker.size}<extra></extra>\", \"hovertext\": [0.000645349197277964], \"ids\": [0.0], \"legendgroup\": \"\", \"marker\": {\"color\": [0.000645349197277964], \"coloraxis\": \"coloraxis\", \"size\": [0.0], \"sizemode\": \"area\", \"sizeref\": 0.0004938271604938273, \"symbol\": \"circle\"}, \"mode\": \"markers\", \"name\": \"\", \"orientation\": \"v\", \"showlegend\": false, \"x\": [0.000645349197277964], \"xaxis\": \"x\", \"y\": [0.0], \"yaxis\": \"y\", \"type\": \"scatter\"}], \"name\": \"0.000645349197277964\"}, {\"data\": [{\"hovertemplate\": \"<b>%{hovertext}</b><br><br>TotalCoinsMined=%{marker.color}<br>MaxSupply=%{marker.size}<extra></extra>\", \"hovertext\": [0.0001878892782489609], \"ids\": [0.0], \"legendgroup\": \"\", \"marker\": {\"color\": [0.0001878892782489609], \"coloraxis\": \"coloraxis\", \"size\": [0.0], \"sizemode\": \"area\", \"sizeref\": 0.0004938271604938273, \"symbol\": \"circle\"}, \"mode\": \"markers\", \"name\": \"\", \"orientation\": \"v\", \"showlegend\": false, \"x\": [0.0001878892782489609], \"xaxis\": \"x\", \"y\": [0.0], \"yaxis\": \"y\", \"type\": \"scatter\"}], \"name\": \"0.0001878892782489609\"}, {\"data\": [{\"hovertemplate\": \"<b>%{hovertext}</b><br><br>TotalCoinsMined=%{marker.color}<br>MaxSupply=%{marker.size}<extra></extra>\", \"hovertext\": [3.648892440295071e-06], \"ids\": [2.287320632518683e-05], \"legendgroup\": \"\", \"marker\": {\"color\": [3.648892440295071e-06], \"coloraxis\": \"coloraxis\", \"size\": [2.287320632518683e-05], \"sizemode\": \"area\", \"sizeref\": 0.0004938271604938273, \"symbol\": \"circle\"}, \"mode\": \"markers\", \"name\": \"\", \"orientation\": \"v\", \"showlegend\": false, \"x\": [3.648892440295071e-06], \"xaxis\": \"x\", \"y\": [2.287320632518683e-05], \"yaxis\": \"y\", \"type\": \"scatter\"}], \"name\": \"3.648892440295071e-06\"}, {\"data\": [{\"hovertemplate\": \"<b>%{hovertext}</b><br><br>TotalCoinsMined=%{marker.color}<br>MaxSupply=%{marker.size}<extra></extra>\", \"hovertext\": [2.4829663291749758e-05], \"ids\": [9.999832700144621e-13], \"legendgroup\": \"\", \"marker\": {\"color\": [2.4829663291749758e-05], \"coloraxis\": \"coloraxis\", \"size\": [9.999832700144621e-13], \"sizemode\": \"area\", \"sizeref\": 0.0004938271604938273, \"symbol\": \"circle\"}, \"mode\": \"markers\", \"name\": \"\", \"orientation\": \"v\", \"showlegend\": false, \"x\": [2.4829663291749758e-05], \"xaxis\": \"x\", \"y\": [9.999832700144621e-13], \"yaxis\": \"y\", \"type\": \"scatter\"}], \"name\": \"2.4829663291749758e-05\"}, {\"data\": [{\"hovertemplate\": \"<b>%{hovertext}</b><br><br>TotalCoinsMined=%{marker.color}<br>MaxSupply=%{marker.size}<extra></extra>\", \"hovertext\": [0.00011958359413454152], \"ids\": [0.0002099964877030203], \"legendgroup\": \"\", \"marker\": {\"color\": [0.00011958359413454152], \"coloraxis\": \"coloraxis\", \"size\": [0.0002099964877030203], \"sizemode\": \"area\", \"sizeref\": 0.0004938271604938273, \"symbol\": \"circle\"}, \"mode\": \"markers\", \"name\": \"\", \"orientation\": \"v\", \"showlegend\": false, \"x\": [0.00011958359413454152], \"xaxis\": \"x\", \"y\": [0.0002099964877030203], \"yaxis\": \"y\", \"type\": \"scatter\"}], \"name\": \"0.00011958359413454152\"}, {\"data\": [{\"hovertemplate\": \"<b>%{hovertext}</b><br><br>TotalCoinsMined=%{marker.color}<br>MaxSupply=%{marker.size}<extra></extra>\", \"hovertext\": [6.306800266032473e-05], \"ids\": [0.0002633877404531899], \"legendgroup\": \"\", \"marker\": {\"color\": [6.306800266032473e-05], \"coloraxis\": \"coloraxis\", \"size\": [0.0002633877404531899], \"sizemode\": \"area\", \"sizeref\": 0.0004938271604938273, \"symbol\": \"circle\"}, \"mode\": \"markers\", \"name\": \"\", \"orientation\": \"v\", \"showlegend\": false, \"x\": [6.306800266032473e-05], \"xaxis\": \"x\", \"y\": [0.0002633877404531899], \"yaxis\": \"y\", \"type\": \"scatter\"}], \"name\": \"6.306800266032473e-05\"}, {\"data\": [{\"hovertemplate\": \"<b>%{hovertext}</b><br><br>TotalCoinsMined=%{marker.color}<br>MaxSupply=%{marker.size}<extra></extra>\", \"hovertext\": [0.005739796155509754], \"ids\": [0.0], \"legendgroup\": \"\", \"marker\": {\"color\": [0.005739796155509754], \"coloraxis\": \"coloraxis\", \"size\": [0.0], \"sizemode\": \"area\", \"sizeref\": 0.0004938271604938273, \"symbol\": \"circle\"}, \"mode\": \"markers\", \"name\": \"\", \"orientation\": \"v\", \"showlegend\": false, \"x\": [0.005739796155509754], \"xaxis\": \"x\", \"y\": [0.0], \"yaxis\": \"y\", \"type\": \"scatter\"}], \"name\": \"0.005739796155509754\"}, {\"data\": [{\"hovertemplate\": \"<b>%{hovertext}</b><br><br>TotalCoinsMined=%{marker.color}<br>MaxSupply=%{marker.size}<extra></extra>\", \"hovertext\": [0.0014000294995163867], \"ids\": [0.0], \"legendgroup\": \"\", \"marker\": {\"color\": [0.0014000294995163867], \"coloraxis\": \"coloraxis\", \"size\": [0.0], \"sizemode\": \"area\", \"sizeref\": 0.0004938271604938273, \"symbol\": \"circle\"}, \"mode\": \"markers\", \"name\": \"\", \"orientation\": \"v\", \"showlegend\": false, \"x\": [0.0014000294995163867], \"xaxis\": \"x\", \"y\": [0.0], \"yaxis\": \"y\", \"type\": \"scatter\"}], \"name\": \"0.0014000294995163867\"}, {\"data\": [{\"hovertemplate\": \"<b>%{hovertext}</b><br><br>TotalCoinsMined=%{marker.color}<br>MaxSupply=%{marker.size}<extra></extra>\", \"hovertext\": [0.030469192052677303], \"ids\": [0.0], \"legendgroup\": \"\", \"marker\": {\"color\": [0.030469192052677303], \"coloraxis\": \"coloraxis\", \"size\": [0.0], \"sizemode\": \"area\", \"sizeref\": 0.0004938271604938273, \"symbol\": \"circle\"}, \"mode\": \"markers\", \"name\": \"\", \"orientation\": \"v\", \"showlegend\": false, \"x\": [0.030469192052677303], \"xaxis\": \"x\", \"y\": [0.0], \"yaxis\": \"y\", \"type\": \"scatter\"}], \"name\": \"0.030469192052677303\"}, {\"data\": [{\"hovertemplate\": \"<b>%{hovertext}</b><br><br>TotalCoinsMined=%{marker.color}<br>MaxSupply=%{marker.size}<extra></extra>\", \"hovertext\": [1.0519464930424955e-05], \"ids\": [1.9999666400272512e-05], \"legendgroup\": \"\", \"marker\": {\"color\": [1.0519464930424955e-05], \"coloraxis\": \"coloraxis\", \"size\": [1.9999666400272512e-05], \"sizemode\": \"area\", \"sizeref\": 0.0004938271604938273, \"symbol\": \"circle\"}, \"mode\": \"markers\", \"name\": \"\", \"orientation\": \"v\", \"showlegend\": false, \"x\": [1.0519464930424955e-05], \"xaxis\": \"x\", \"y\": [1.9999666400272512e-05], \"yaxis\": \"y\", \"type\": \"scatter\"}], \"name\": \"1.0519464930424955e-05\"}, {\"data\": [{\"hovertemplate\": \"<b>%{hovertext}</b><br><br>TotalCoinsMined=%{marker.color}<br>MaxSupply=%{marker.size}<extra></extra>\", \"hovertext\": [6.357827806291633e-05], \"ids\": [6.599889682093777e-05], \"legendgroup\": \"\", \"marker\": {\"color\": [6.357827806291633e-05], \"coloraxis\": \"coloraxis\", \"size\": [6.599889682093777e-05], \"sizemode\": \"area\", \"sizeref\": 0.0004938271604938273, \"symbol\": \"circle\"}, \"mode\": \"markers\", \"name\": \"\", \"orientation\": \"v\", \"showlegend\": false, \"x\": [6.357827806291633e-05], \"xaxis\": \"x\", \"y\": [6.599889682093777e-05], \"yaxis\": \"y\", \"type\": \"scatter\"}], \"name\": \"6.357827806291633e-05\"}, {\"data\": [{\"hovertemplate\": \"<b>%{hovertext}</b><br><br>TotalCoinsMined=%{marker.color}<br>MaxSupply=%{marker.size}<extra></extra>\", \"hovertext\": [0.00044990409524081046], \"ids\": [0.0], \"legendgroup\": \"\", \"marker\": {\"color\": [0.00044990409524081046], \"coloraxis\": \"coloraxis\", \"size\": [0.0], \"sizemode\": \"area\", \"sizeref\": 0.0004938271604938273, \"symbol\": \"circle\"}, \"mode\": \"markers\", \"name\": \"\", \"orientation\": \"v\", \"showlegend\": false, \"x\": [0.00044990409524081046], \"xaxis\": \"x\", \"y\": [0.0], \"yaxis\": \"y\", \"type\": \"scatter\"}], \"name\": \"0.00044990409524081046\"}, {\"data\": [{\"hovertemplate\": \"<b>%{hovertext}</b><br><br>TotalCoinsMined=%{marker.color}<br>MaxSupply=%{marker.size}<extra></extra>\", \"hovertext\": [9.982842128689919e-05], \"ids\": [9.999832800142948e-05], \"legendgroup\": \"\", \"marker\": {\"color\": [9.982842128689919e-05], \"coloraxis\": \"coloraxis\", \"size\": [9.999832800142948e-05], \"sizemode\": \"area\", \"sizeref\": 0.0004938271604938273, \"symbol\": \"circle\"}, \"mode\": \"markers\", \"name\": \"\", \"orientation\": \"v\", \"showlegend\": false, \"x\": [9.982842128689919e-05], \"xaxis\": \"x\", \"y\": [9.999832800142948e-05], \"yaxis\": \"y\", \"type\": \"scatter\"}], \"name\": \"9.982842128689919e-05\"}, {\"data\": [{\"hovertemplate\": \"<b>%{hovertext}</b><br><br>TotalCoinsMined=%{marker.color}<br>MaxSupply=%{marker.size}<extra></extra>\", \"hovertext\": [5.2397921752046374e-05], \"ids\": [0.0], \"legendgroup\": \"\", \"marker\": {\"color\": [5.2397921752046374e-05], \"coloraxis\": \"coloraxis\", \"size\": [0.0], \"sizemode\": \"area\", \"sizeref\": 0.0004938271604938273, \"symbol\": \"circle\"}, \"mode\": \"markers\", \"name\": \"\", \"orientation\": \"v\", \"showlegend\": false, \"x\": [5.2397921752046374e-05], \"xaxis\": \"x\", \"y\": [0.0], \"yaxis\": \"y\", \"type\": \"scatter\"}], \"name\": \"5.2397921752046374e-05\"}, {\"data\": [{\"hovertemplate\": \"<b>%{hovertext}</b><br><br>TotalCoinsMined=%{marker.color}<br>MaxSupply=%{marker.size}<extra></extra>\", \"hovertext\": [1.7573001386194517e-05], \"ids\": [0.0], \"legendgroup\": \"\", \"marker\": {\"color\": [1.7573001386194517e-05], \"coloraxis\": \"coloraxis\", \"size\": [0.0], \"sizemode\": \"area\", \"sizeref\": 0.0004938271604938273, \"symbol\": \"circle\"}, \"mode\": \"markers\", \"name\": \"\", \"orientation\": \"v\", \"showlegend\": false, \"x\": [1.7573001386194517e-05], \"xaxis\": \"x\", \"y\": [0.0], \"yaxis\": \"y\", \"type\": \"scatter\"}], \"name\": \"1.7573001386194517e-05\"}, {\"data\": [{\"hovertemplate\": \"<b>%{hovertext}</b><br><br>TotalCoinsMined=%{marker.color}<br>MaxSupply=%{marker.size}<extra></extra>\", \"hovertext\": [1.0242404861692951e-05], \"ids\": [2.0999649670286972e-05], \"legendgroup\": \"\", \"marker\": {\"color\": [1.0242404861692951e-05], \"coloraxis\": \"coloraxis\", \"size\": [2.0999649670286972e-05], \"sizemode\": \"area\", \"sizeref\": 0.0004938271604938273, \"symbol\": \"circle\"}, \"mode\": \"markers\", \"name\": \"\", \"orientation\": \"v\", \"showlegend\": false, \"x\": [1.0242404861692951e-05], \"xaxis\": \"x\", \"y\": [2.0999649670286972e-05], \"yaxis\": \"y\", \"type\": \"scatter\"}], \"name\": \"1.0242404861692951e-05\"}, {\"data\": [{\"hovertemplate\": \"<b>%{hovertext}</b><br><br>TotalCoinsMined=%{marker.color}<br>MaxSupply=%{marker.size}<extra></extra>\", \"hovertext\": [1.844401493704043e-05], \"ids\": [2.099964964718736e-05], \"legendgroup\": \"\", \"marker\": {\"color\": [1.844401493704043e-05], \"coloraxis\": \"coloraxis\", \"size\": [2.099964964718736e-05], \"sizemode\": \"area\", \"sizeref\": 0.0004938271604938273, \"symbol\": \"circle\"}, \"mode\": \"markers\", \"name\": \"\", \"orientation\": \"v\", \"showlegend\": false, \"x\": [1.844401493704043e-05], \"xaxis\": \"x\", \"y\": [2.099964964718736e-05], \"yaxis\": \"y\", \"type\": \"scatter\"}], \"name\": \"1.844401493704043e-05\"}, {\"data\": [{\"hovertemplate\": \"<b>%{hovertext}</b><br><br>TotalCoinsMined=%{marker.color}<br>MaxSupply=%{marker.size}<extra></extra>\", \"hovertext\": [1.886627954036475e-05], \"ids\": [2.0999649670286972e-05], \"legendgroup\": \"\", \"marker\": {\"color\": [1.886627954036475e-05], \"coloraxis\": \"coloraxis\", \"size\": [2.0999649670286972e-05], \"sizemode\": \"area\", \"sizeref\": 0.0004938271604938273, \"symbol\": \"circle\"}, \"mode\": \"markers\", \"name\": \"\", \"orientation\": \"v\", \"showlegend\": false, \"x\": [1.886627954036475e-05], \"xaxis\": \"x\", \"y\": [2.0999649670286972e-05], \"yaxis\": \"y\", \"type\": \"scatter\"}], \"name\": \"1.886627954036475e-05\"}, {\"data\": [{\"hovertemplate\": \"<b>%{hovertext}</b><br><br>TotalCoinsMined=%{marker.color}<br>MaxSupply=%{marker.size}<extra></extra>\", \"hovertext\": [0.9899721042434594], \"ids\": [0.9899834373153175], \"legendgroup\": \"\", \"marker\": {\"color\": [0.9899721042434594], \"coloraxis\": \"coloraxis\", \"size\": [0.9899834373153175], \"sizemode\": \"area\", \"sizeref\": 0.0004938271604938273, \"symbol\": \"circle\"}, \"mode\": \"markers\", \"name\": \"\", \"orientation\": \"v\", \"showlegend\": false, \"x\": [0.9899721042434594], \"xaxis\": \"x\", \"y\": [0.9899834373153175], \"yaxis\": \"y\", \"type\": \"scatter\"}], \"name\": \"0.9899721042434594\"}, {\"data\": [{\"hovertemplate\": \"<b>%{hovertext}</b><br><br>TotalCoinsMined=%{marker.color}<br>MaxSupply=%{marker.size}<extra></extra>\", \"hovertext\": [0.18446421602164], \"ids\": [0.1844669138205678], \"legendgroup\": \"\", \"marker\": {\"color\": [0.18446421602164], \"coloraxis\": \"coloraxis\", \"size\": [0.1844669138205678], \"sizemode\": \"area\", \"sizeref\": 0.0004938271604938273, \"symbol\": \"circle\"}, \"mode\": \"markers\", \"name\": \"\", \"orientation\": \"v\", \"showlegend\": false, \"x\": [0.18446421602164], \"xaxis\": \"x\", \"y\": [0.1844669138205678], \"yaxis\": \"y\", \"type\": \"scatter\"}], \"name\": \"0.18446421602164\"}, {\"data\": [{\"hovertemplate\": \"<b>%{hovertext}</b><br><br>TotalCoinsMined=%{marker.color}<br>MaxSupply=%{marker.size}<extra></extra>\", \"hovertext\": [0.00046251053074170017], \"ids\": [0.0009999832710144453], \"legendgroup\": \"\", \"marker\": {\"color\": [0.00046251053074170017], \"coloraxis\": \"coloraxis\", \"size\": [0.0009999832710144453], \"sizemode\": \"area\", \"sizeref\": 0.0004938271604938273, \"symbol\": \"circle\"}, \"mode\": \"markers\", \"name\": \"\", \"orientation\": \"v\", \"showlegend\": false, \"x\": [0.00046251053074170017], \"xaxis\": \"x\", \"y\": [0.0009999832710144453], \"yaxis\": \"y\", \"type\": \"scatter\"}], \"name\": \"0.00046251053074170017\"}, {\"data\": [{\"hovertemplate\": \"<b>%{hovertext}</b><br><br>TotalCoinsMined=%{marker.color}<br>MaxSupply=%{marker.size}<extra></extra>\", \"hovertext\": [0.0001989438424019339], \"ids\": [0.0002099964877030203], \"legendgroup\": \"\", \"marker\": {\"color\": [0.0001989438424019339], \"coloraxis\": \"coloraxis\", \"size\": [0.0002099964877030203], \"sizemode\": \"area\", \"sizeref\": 0.0004938271604938273, \"symbol\": \"circle\"}, \"mode\": \"markers\", \"name\": \"\", \"orientation\": \"v\", \"showlegend\": false, \"x\": [0.0001989438424019339], \"xaxis\": \"x\", \"y\": [0.0002099964877030203], \"yaxis\": \"y\", \"type\": \"scatter\"}], \"name\": \"0.0001989438424019339\"}, {\"data\": [{\"hovertemplate\": \"<b>%{hovertext}</b><br><br>TotalCoinsMined=%{marker.color}<br>MaxSupply=%{marker.size}<extra></extra>\", \"hovertext\": [0.0001427146930757036], \"ids\": [0.0], \"legendgroup\": \"\", \"marker\": {\"color\": [0.0001427146930757036], \"coloraxis\": \"coloraxis\", \"size\": [0.0], \"sizemode\": \"area\", \"sizeref\": 0.0004938271604938273, \"symbol\": \"circle\"}, \"mode\": \"markers\", \"name\": \"\", \"orientation\": \"v\", \"showlegend\": false, \"x\": [0.0001427146930757036], \"xaxis\": \"x\", \"y\": [0.0], \"yaxis\": \"y\", \"type\": \"scatter\"}], \"name\": \"0.0001427146930757036\"}, {\"data\": [{\"hovertemplate\": \"<b>%{hovertext}</b><br><br>TotalCoinsMined=%{marker.color}<br>MaxSupply=%{marker.size}<extra></extra>\", \"hovertext\": [9.747201925156393e-06], \"ids\": [1.88996848032566e-05], \"legendgroup\": \"\", \"marker\": {\"color\": [9.747201925156393e-06], \"coloraxis\": \"coloraxis\", \"size\": [1.88996848032566e-05], \"sizemode\": \"area\", \"sizeref\": 0.0004938271604938273, \"symbol\": \"circle\"}, \"mode\": \"markers\", \"name\": \"\", \"orientation\": \"v\", \"showlegend\": false, \"x\": [9.747201925156393e-06], \"xaxis\": \"x\", \"y\": [1.88996848032566e-05], \"yaxis\": \"y\", \"type\": \"scatter\"}], \"name\": \"9.747201925156393e-06\"}, {\"data\": [{\"hovertemplate\": \"<b>%{hovertext}</b><br><br>TotalCoinsMined=%{marker.color}<br>MaxSupply=%{marker.size}<extra></extra>\", \"hovertext\": [0.00012521332656060855], \"ids\": [0.0001999966550028757], \"legendgroup\": \"\", \"marker\": {\"color\": [0.00012521332656060855], \"coloraxis\": \"coloraxis\", \"size\": [0.0001999966550028757], \"sizemode\": \"area\", \"sizeref\": 0.0004938271604938273, \"symbol\": \"circle\"}, \"mode\": \"markers\", \"name\": \"\", \"orientation\": \"v\", \"showlegend\": false, \"x\": [0.00012521332656060855], \"xaxis\": \"x\", \"y\": [0.0001999966550028757], \"yaxis\": \"y\", \"type\": \"scatter\"}], \"name\": \"0.00012521332656060855\"}, {\"data\": [{\"hovertemplate\": \"<b>%{hovertext}</b><br><br>TotalCoinsMined=%{marker.color}<br>MaxSupply=%{marker.size}<extra></extra>\", \"hovertext\": [4.292700759356613e-05], \"ids\": [7.224449233046709e-05], \"legendgroup\": \"\", \"marker\": {\"color\": [4.292700759356613e-05], \"coloraxis\": \"coloraxis\", \"size\": [7.224449233046709e-05], \"sizemode\": \"area\", \"sizeref\": 0.0004938271604938273, \"symbol\": \"circle\"}, \"mode\": \"markers\", \"name\": \"\", \"orientation\": \"v\", \"showlegend\": false, \"x\": [4.292700759356613e-05], \"xaxis\": \"x\", \"y\": [7.224449233046709e-05], \"yaxis\": \"y\", \"type\": \"scatter\"}], \"name\": \"4.292700759356613e-05\"}, {\"data\": [{\"hovertemplate\": \"<b>%{hovertext}</b><br><br>TotalCoinsMined=%{marker.color}<br>MaxSupply=%{marker.size}<extra></extra>\", \"hovertext\": [0.9999999999999999], \"ids\": [1.0000000000000002], \"legendgroup\": \"\", \"marker\": {\"color\": [0.9999999999999999], \"coloraxis\": \"coloraxis\", \"size\": [1.0000000000000002], \"sizemode\": \"area\", \"sizeref\": 0.0004938271604938273, \"symbol\": \"circle\"}, \"mode\": \"markers\", \"name\": \"\", \"orientation\": \"v\", \"showlegend\": false, \"x\": [0.9999999999999999], \"xaxis\": \"x\", \"y\": [1.0000000000000002], \"yaxis\": \"y\", \"type\": \"scatter\"}], \"name\": \"0.9999999999999999\"}, {\"data\": [{\"hovertemplate\": \"<b>%{hovertext}</b><br><br>TotalCoinsMined=%{marker.color}<br>MaxSupply=%{marker.size}<extra></extra>\", \"hovertext\": [8.622963939000623e-07], \"ids\": [0.0], \"legendgroup\": \"\", \"marker\": {\"color\": [8.622963939000623e-07], \"coloraxis\": \"coloraxis\", \"size\": [0.0], \"sizemode\": \"area\", \"sizeref\": 0.0004938271604938273, \"symbol\": \"circle\"}, \"mode\": \"markers\", \"name\": \"\", \"orientation\": \"v\", \"showlegend\": false, \"x\": [8.622963939000623e-07], \"xaxis\": \"x\", \"y\": [0.0], \"yaxis\": \"y\", \"type\": \"scatter\"}], \"name\": \"8.622963939000623e-07\"}, {\"data\": [{\"hovertemplate\": \"<b>%{hovertext}</b><br><br>TotalCoinsMined=%{marker.color}<br>MaxSupply=%{marker.size}<extra></extra>\", \"hovertext\": [4.972841543894196e-05], \"ids\": [0.0], \"legendgroup\": \"\", \"marker\": {\"color\": [4.972841543894196e-05], \"coloraxis\": \"coloraxis\", \"size\": [0.0], \"sizemode\": \"area\", \"sizeref\": 0.0004938271604938273, \"symbol\": \"circle\"}, \"mode\": \"markers\", \"name\": \"\", \"orientation\": \"v\", \"showlegend\": false, \"x\": [4.972841543894196e-05], \"xaxis\": \"x\", \"y\": [0.0], \"yaxis\": \"y\", \"type\": \"scatter\"}], \"name\": \"4.972841543894196e-05\"}, {\"data\": [{\"hovertemplate\": \"<b>%{hovertext}</b><br><br>TotalCoinsMined=%{marker.color}<br>MaxSupply=%{marker.size}<extra></extra>\", \"hovertext\": [1.0507913691053213e-05], \"ids\": [2.0999649670286972e-05], \"legendgroup\": \"\", \"marker\": {\"color\": [1.0507913691053213e-05], \"coloraxis\": \"coloraxis\", \"size\": [2.0999649670286972e-05], \"sizemode\": \"area\", \"sizeref\": 0.0004938271604938273, \"symbol\": \"circle\"}, \"mode\": \"markers\", \"name\": \"\", \"orientation\": \"v\", \"showlegend\": false, \"x\": [1.0507913691053213e-05], \"xaxis\": \"x\", \"y\": [2.0999649670286972e-05], \"yaxis\": \"y\", \"type\": \"scatter\"}], \"name\": \"1.0507913691053213e-05\"}, {\"data\": [{\"hovertemplate\": \"<b>%{hovertext}</b><br><br>TotalCoinsMined=%{marker.color}<br>MaxSupply=%{marker.size}<extra></extra>\", \"hovertext\": [1.8425456347587232e-05], \"ids\": [2.099964964718736e-05], \"legendgroup\": \"\", \"marker\": {\"color\": [1.8425456347587232e-05], \"coloraxis\": \"coloraxis\", \"size\": [2.099964964718736e-05], \"sizemode\": \"area\", \"sizeref\": 0.0004938271604938273, \"symbol\": \"circle\"}, \"mode\": \"markers\", \"name\": \"\", \"orientation\": \"v\", \"showlegend\": false, \"x\": [1.8425456347587232e-05], \"xaxis\": \"x\", \"y\": [2.099964964718736e-05], \"yaxis\": \"y\", \"type\": \"scatter\"}], \"name\": \"1.8425456347587232e-05\"}, {\"data\": [{\"hovertemplate\": \"<b>%{hovertext}</b><br><br>TotalCoinsMined=%{marker.color}<br>MaxSupply=%{marker.size}<extra></extra>\", \"hovertext\": [0.000267549833001408], \"ids\": [0.0], \"legendgroup\": \"\", \"marker\": {\"color\": [0.000267549833001408], \"coloraxis\": \"coloraxis\", \"size\": [0.0], \"sizemode\": \"area\", \"sizeref\": 0.0004938271604938273, \"symbol\": \"circle\"}, \"mode\": \"markers\", \"name\": \"\", \"orientation\": \"v\", \"showlegend\": false, \"x\": [0.000267549833001408], \"xaxis\": \"x\", \"y\": [0.0], \"yaxis\": \"y\", \"type\": \"scatter\"}], \"name\": \"0.000267549833001408\"}, {\"data\": [{\"hovertemplate\": \"<b>%{hovertext}</b><br><br>TotalCoinsMined=%{marker.color}<br>MaxSupply=%{marker.size}<extra></extra>\", \"hovertext\": [0.00022526095814426163], \"ids\": [0.0004199929744060573], \"legendgroup\": \"\", \"marker\": {\"color\": [0.00022526095814426163], \"coloraxis\": \"coloraxis\", \"size\": [0.0004199929744060573], \"sizemode\": \"area\", \"sizeref\": 0.0004938271604938273, \"symbol\": \"circle\"}, \"mode\": \"markers\", \"name\": \"\", \"orientation\": \"v\", \"showlegend\": false, \"x\": [0.00022526095814426163], \"xaxis\": \"x\", \"y\": [0.0004199929744060573], \"yaxis\": \"y\", \"type\": \"scatter\"}], \"name\": \"0.00022526095814426163\"}, {\"data\": [{\"hovertemplate\": \"<b>%{hovertext}</b><br><br>TotalCoinsMined=%{marker.color}<br>MaxSupply=%{marker.size}<extra></extra>\", \"hovertext\": [0.002111625343248045], \"ids\": [0.0021587766840930602], \"legendgroup\": \"\", \"marker\": {\"color\": [0.002111625343248045], \"coloraxis\": \"coloraxis\", \"size\": [0.0021587766840930602], \"sizemode\": \"area\", \"sizeref\": 0.0004938271604938273, \"symbol\": \"circle\"}, \"mode\": \"markers\", \"name\": \"\", \"orientation\": \"v\", \"showlegend\": false, \"x\": [0.002111625343248045], \"xaxis\": \"x\", \"y\": [0.0021587766840930602], \"yaxis\": \"y\", \"type\": \"scatter\"}], \"name\": \"0.002111625343248045\"}, {\"data\": [{\"hovertemplate\": \"<b>%{hovertext}</b><br><br>TotalCoinsMined=%{marker.color}<br>MaxSupply=%{marker.size}<extra></extra>\", \"hovertext\": [4.4808005372685954e-05], \"ids\": [8.399859568119808e-05], \"legendgroup\": \"\", \"marker\": {\"color\": [4.4808005372685954e-05], \"coloraxis\": \"coloraxis\", \"size\": [8.399859568119808e-05], \"sizemode\": \"area\", \"sizeref\": 0.0004938271604938273, \"symbol\": \"circle\"}, \"mode\": \"markers\", \"name\": \"\", \"orientation\": \"v\", \"showlegend\": false, \"x\": [4.4808005372685954e-05], \"xaxis\": \"x\", \"y\": [8.399859568119808e-05], \"yaxis\": \"y\", \"type\": \"scatter\"}], \"name\": \"4.4808005372685954e-05\"}, {\"data\": [{\"hovertemplate\": \"<b>%{hovertext}</b><br><br>TotalCoinsMined=%{marker.color}<br>MaxSupply=%{marker.size}<extra></extra>\", \"hovertext\": [6.89127006638345e-05], \"ids\": [7.799869606111132e-05], \"legendgroup\": \"\", \"marker\": {\"color\": [6.89127006638345e-05], \"coloraxis\": \"coloraxis\", \"size\": [7.799869606111132e-05], \"sizemode\": \"area\", \"sizeref\": 0.0004938271604938273, \"symbol\": \"circle\"}, \"mode\": \"markers\", \"name\": \"\", \"orientation\": \"v\", \"showlegend\": false, \"x\": [6.89127006638345e-05], \"xaxis\": \"x\", \"y\": [7.799869606111132e-05], \"yaxis\": \"y\", \"type\": \"scatter\"}], \"name\": \"6.89127006638345e-05\"}, {\"data\": [{\"hovertemplate\": \"<b>%{hovertext}</b><br><br>TotalCoinsMined=%{marker.color}<br>MaxSupply=%{marker.size}<extra></extra>\", \"hovertext\": [0.0001544032975084528], \"ids\": [0.0], \"legendgroup\": \"\", \"marker\": {\"color\": [0.0001544032975084528], \"coloraxis\": \"coloraxis\", \"size\": [0.0], \"sizemode\": \"area\", \"sizeref\": 0.0004938271604938273, \"symbol\": \"circle\"}, \"mode\": \"markers\", \"name\": \"\", \"orientation\": \"v\", \"showlegend\": false, \"x\": [0.0001544032975084528], \"xaxis\": \"x\", \"y\": [0.0], \"yaxis\": \"y\", \"type\": \"scatter\"}], \"name\": \"0.0001544032975084528\"}, {\"data\": [{\"hovertemplate\": \"<b>%{hovertext}</b><br><br>TotalCoinsMined=%{marker.color}<br>MaxSupply=%{marker.size}<extra></extra>\", \"hovertext\": [0.0003746532547755145], \"ids\": [0.0], \"legendgroup\": \"\", \"marker\": {\"color\": [0.0003746532547755145], \"coloraxis\": \"coloraxis\", \"size\": [0.0], \"sizemode\": \"area\", \"sizeref\": 0.0004938271604938273, \"symbol\": \"circle\"}, \"mode\": \"markers\", \"name\": \"\", \"orientation\": \"v\", \"showlegend\": false, \"x\": [0.0003746532547755145], \"xaxis\": \"x\", \"y\": [0.0], \"yaxis\": \"y\", \"type\": \"scatter\"}], \"name\": \"0.0003746532547755145\"}, {\"data\": [{\"hovertemplate\": \"<b>%{hovertext}</b><br><br>TotalCoinsMined=%{marker.color}<br>MaxSupply=%{marker.size}<extra></extra>\", \"hovertext\": [0.000114013021759108], \"ids\": [0.0], \"legendgroup\": \"\", \"marker\": {\"color\": [0.000114013021759108], \"coloraxis\": \"coloraxis\", \"size\": [0.0], \"sizemode\": \"area\", \"sizeref\": 0.0004938271604938273, \"symbol\": \"circle\"}, \"mode\": \"markers\", \"name\": \"\", \"orientation\": \"v\", \"showlegend\": false, \"x\": [0.000114013021759108], \"xaxis\": \"x\", \"y\": [0.0], \"yaxis\": \"y\", \"type\": \"scatter\"}], \"name\": \"0.000114013021759108\"}, {\"data\": [{\"hovertemplate\": \"<b>%{hovertext}</b><br><br>TotalCoinsMined=%{marker.color}<br>MaxSupply=%{marker.size}<extra></extra>\", \"hovertext\": [5.834847568785645e-05], \"ids\": [0.0], \"legendgroup\": \"\", \"marker\": {\"color\": [5.834847568785645e-05], \"coloraxis\": \"coloraxis\", \"size\": [0.0], \"sizemode\": \"area\", \"sizeref\": 0.0004938271604938273, \"symbol\": \"circle\"}, \"mode\": \"markers\", \"name\": \"\", \"orientation\": \"v\", \"showlegend\": false, \"x\": [5.834847568785645e-05], \"xaxis\": \"x\", \"y\": [0.0], \"yaxis\": \"y\", \"type\": \"scatter\"}], \"name\": \"5.834847568785645e-05\"}, {\"data\": [{\"hovertemplate\": \"<b>%{hovertext}</b><br><br>TotalCoinsMined=%{marker.color}<br>MaxSupply=%{marker.size}<extra></extra>\", \"hovertext\": [0.00017398073319948264], \"ids\": [0.00017415062731377938], \"legendgroup\": \"\", \"marker\": {\"color\": [0.00017398073319948264], \"coloraxis\": \"coloraxis\", \"size\": [0.00017415062731377938], \"sizemode\": \"area\", \"sizeref\": 0.0004938271604938273, \"symbol\": \"circle\"}, \"mode\": \"markers\", \"name\": \"\", \"orientation\": \"v\", \"showlegend\": false, \"x\": [0.00017398073319948264], \"xaxis\": \"x\", \"y\": [0.00017415062731377938], \"yaxis\": \"y\", \"type\": \"scatter\"}], \"name\": \"0.00017398073319948264\"}, {\"data\": [{\"hovertemplate\": \"<b>%{hovertext}</b><br><br>TotalCoinsMined=%{marker.color}<br>MaxSupply=%{marker.size}<extra></extra>\", \"hovertext\": [1.8450520576754153e-05], \"ids\": [2.099964964718736e-05], \"legendgroup\": \"\", \"marker\": {\"color\": [1.8450520576754153e-05], \"coloraxis\": \"coloraxis\", \"size\": [2.099964964718736e-05], \"sizemode\": \"area\", \"sizeref\": 0.0004938271604938273, \"symbol\": \"circle\"}, \"mode\": \"markers\", \"name\": \"\", \"orientation\": \"v\", \"showlegend\": false, \"x\": [1.8450520576754153e-05], \"xaxis\": \"x\", \"y\": [2.099964964718736e-05], \"yaxis\": \"y\", \"type\": \"scatter\"}], \"name\": \"1.8450520576754153e-05\"}, {\"data\": [{\"hovertemplate\": \"<b>%{hovertext}</b><br><br>TotalCoinsMined=%{marker.color}<br>MaxSupply=%{marker.size}<extra></extra>\", \"hovertext\": [3.452985462329377e-05], \"ids\": [9.999832800142948e-05], \"legendgroup\": \"\", \"marker\": {\"color\": [3.452985462329377e-05], \"coloraxis\": \"coloraxis\", \"size\": [9.999832800142948e-05], \"sizemode\": \"area\", \"sizeref\": 0.0004938271604938273, \"symbol\": \"circle\"}, \"mode\": \"markers\", \"name\": \"\", \"orientation\": \"v\", \"showlegend\": false, \"x\": [3.452985462329377e-05], \"xaxis\": \"x\", \"y\": [9.999832800142948e-05], \"yaxis\": \"y\", \"type\": \"scatter\"}], \"name\": \"3.452985462329377e-05\"}, {\"data\": [{\"hovertemplate\": \"<b>%{hovertext}</b><br><br>TotalCoinsMined=%{marker.color}<br>MaxSupply=%{marker.size}<extra></extra>\", \"hovertext\": [3.919695567011834e-05], \"ids\": [4.199929834059068e-05], \"legendgroup\": \"\", \"marker\": {\"color\": [3.919695567011834e-05], \"coloraxis\": \"coloraxis\", \"size\": [4.199929834059068e-05], \"sizemode\": \"area\", \"sizeref\": 0.0004938271604938273, \"symbol\": \"circle\"}, \"mode\": \"markers\", \"name\": \"\", \"orientation\": \"v\", \"showlegend\": false, \"x\": [3.919695567011834e-05], \"xaxis\": \"x\", \"y\": [4.199929834059068e-05], \"yaxis\": \"y\", \"type\": \"scatter\"}], \"name\": \"3.919695567011834e-05\"}, {\"data\": [{\"hovertemplate\": \"<b>%{hovertext}</b><br><br>TotalCoinsMined=%{marker.color}<br>MaxSupply=%{marker.size}<extra></extra>\", \"hovertext\": [0.0005270423720801264], \"ids\": [0.0016799718946242795], \"legendgroup\": \"\", \"marker\": {\"color\": [0.0005270423720801264], \"coloraxis\": \"coloraxis\", \"size\": [0.0016799718946242795], \"sizemode\": \"area\", \"sizeref\": 0.0004938271604938273, \"symbol\": \"circle\"}, \"mode\": \"markers\", \"name\": \"\", \"orientation\": \"v\", \"showlegend\": false, \"x\": [0.0005270423720801264], \"xaxis\": \"x\", \"y\": [0.0016799718946242795], \"yaxis\": \"y\", \"type\": \"scatter\"}], \"name\": \"0.0005270423720801264\"}, {\"data\": [{\"hovertemplate\": \"<b>%{hovertext}</b><br><br>TotalCoinsMined=%{marker.color}<br>MaxSupply=%{marker.size}<extra></extra>\", \"hovertext\": [0.00016929360432992526], \"ids\": [0.0], \"legendgroup\": \"\", \"marker\": {\"color\": [0.00016929360432992526], \"coloraxis\": \"coloraxis\", \"size\": [0.0], \"sizemode\": \"area\", \"sizeref\": 0.0004938271604938273, \"symbol\": \"circle\"}, \"mode\": \"markers\", \"name\": \"\", \"orientation\": \"v\", \"showlegend\": false, \"x\": [0.00016929360432992526], \"xaxis\": \"x\", \"y\": [0.0], \"yaxis\": \"y\", \"type\": \"scatter\"}], \"name\": \"0.00016929360432992526\"}, {\"data\": [{\"hovertemplate\": \"<b>%{hovertext}</b><br><br>TotalCoinsMined=%{marker.color}<br>MaxSupply=%{marker.size}<extra></extra>\", \"hovertext\": [1.7089828966029333e-05], \"ids\": [0.0], \"legendgroup\": \"\", \"marker\": {\"color\": [1.7089828966029333e-05], \"coloraxis\": \"coloraxis\", \"size\": [0.0], \"sizemode\": \"area\", \"sizeref\": 0.0004938271604938273, \"symbol\": \"circle\"}, \"mode\": \"markers\", \"name\": \"\", \"orientation\": \"v\", \"showlegend\": false, \"x\": [1.7089828966029333e-05], \"xaxis\": \"x\", \"y\": [0.0], \"yaxis\": \"y\", \"type\": \"scatter\"}], \"name\": \"1.7089828966029333e-05\"}, {\"data\": [{\"hovertemplate\": \"<b>%{hovertext}</b><br><br>TotalCoinsMined=%{marker.color}<br>MaxSupply=%{marker.size}<extra></extra>\", \"hovertext\": [0.00022097183961083372], \"ids\": [0.0], \"legendgroup\": \"\", \"marker\": {\"color\": [0.00022097183961083372], \"coloraxis\": \"coloraxis\", \"size\": [0.0], \"sizemode\": \"area\", \"sizeref\": 0.0004938271604938273, \"symbol\": \"circle\"}, \"mode\": \"markers\", \"name\": \"\", \"orientation\": \"v\", \"showlegend\": false, \"x\": [0.00022097183961083372], \"xaxis\": \"x\", \"y\": [0.0], \"yaxis\": \"y\", \"type\": \"scatter\"}], \"name\": \"0.00022097183961083372\"}, {\"data\": [{\"hovertemplate\": \"<b>%{hovertext}</b><br><br>TotalCoinsMined=%{marker.color}<br>MaxSupply=%{marker.size}<extra></extra>\", \"hovertext\": [0.029926463399642805], \"ids\": [0.0], \"legendgroup\": \"\", \"marker\": {\"color\": [0.029926463399642805], \"coloraxis\": \"coloraxis\", \"size\": [0.0], \"sizemode\": \"area\", \"sizeref\": 0.0004938271604938273, \"symbol\": \"circle\"}, \"mode\": \"markers\", \"name\": \"\", \"orientation\": \"v\", \"showlegend\": false, \"x\": [0.029926463399642805], \"xaxis\": \"x\", \"y\": [0.0], \"yaxis\": \"y\", \"type\": \"scatter\"}], \"name\": \"0.029926463399642805\"}, {\"data\": [{\"hovertemplate\": \"<b>%{hovertext}</b><br><br>TotalCoinsMined=%{marker.color}<br>MaxSupply=%{marker.size}<extra></extra>\", \"hovertext\": [1.873694036245723e-05], \"ids\": [2.0999649670286972e-05], \"legendgroup\": \"\", \"marker\": {\"color\": [1.873694036245723e-05], \"coloraxis\": \"coloraxis\", \"size\": [2.0999649670286972e-05], \"sizemode\": \"area\", \"sizeref\": 0.0004938271604938273, \"symbol\": \"circle\"}, \"mode\": \"markers\", \"name\": \"\", \"orientation\": \"v\", \"showlegend\": false, \"x\": [1.873694036245723e-05], \"xaxis\": \"x\", \"y\": [2.0999649670286972e-05], \"yaxis\": \"y\", \"type\": \"scatter\"}], \"name\": \"1.873694036245723e-05\"}, {\"data\": [{\"hovertemplate\": \"<b>%{hovertext}</b><br><br>TotalCoinsMined=%{marker.color}<br>MaxSupply=%{marker.size}<extra></extra>\", \"hovertext\": [1.8442705172825932e-05], \"ids\": [2.0999649670286972e-05], \"legendgroup\": \"\", \"marker\": {\"color\": [1.8442705172825932e-05], \"coloraxis\": \"coloraxis\", \"size\": [2.0999649670286972e-05], \"sizemode\": \"area\", \"sizeref\": 0.0004938271604938273, \"symbol\": \"circle\"}, \"mode\": \"markers\", \"name\": \"\", \"orientation\": \"v\", \"showlegend\": false, \"x\": [1.8442705172825932e-05], \"xaxis\": \"x\", \"y\": [2.0999649670286972e-05], \"yaxis\": \"y\", \"type\": \"scatter\"}], \"name\": \"1.8442705172825932e-05\"}, {\"data\": [{\"hovertemplate\": \"<b>%{hovertext}</b><br><br>TotalCoinsMined=%{marker.color}<br>MaxSupply=%{marker.size}<extra></extra>\", \"hovertext\": [7.65197161743443e-05], \"ids\": [0.00010499824435150179], \"legendgroup\": \"\", \"marker\": {\"color\": [7.65197161743443e-05], \"coloraxis\": \"coloraxis\", \"size\": [0.00010499824435150179], \"sizemode\": \"area\", \"sizeref\": 0.0004938271604938273, \"symbol\": \"circle\"}, \"mode\": \"markers\", \"name\": \"\", \"orientation\": \"v\", \"showlegend\": false, \"x\": [7.65197161743443e-05], \"xaxis\": \"x\", \"y\": [0.00010499824435150179], \"yaxis\": \"y\", \"type\": \"scatter\"}], \"name\": \"7.65197161743443e-05\"}, {\"data\": [{\"hovertemplate\": \"<b>%{hovertext}</b><br><br>TotalCoinsMined=%{marker.color}<br>MaxSupply=%{marker.size}<extra></extra>\", \"hovertext\": [0.005094219497578268], \"ids\": [0.0], \"legendgroup\": \"\", \"marker\": {\"color\": [0.005094219497578268], \"coloraxis\": \"coloraxis\", \"size\": [0.0], \"sizemode\": \"area\", \"sizeref\": 0.0004938271604938273, \"symbol\": \"circle\"}, \"mode\": \"markers\", \"name\": \"\", \"orientation\": \"v\", \"showlegend\": false, \"x\": [0.005094219497578268], \"xaxis\": \"x\", \"y\": [0.0], \"yaxis\": \"y\", \"type\": \"scatter\"}], \"name\": \"0.005094219497578268\"}, {\"data\": [{\"hovertemplate\": \"<b>%{hovertext}</b><br><br>TotalCoinsMined=%{marker.color}<br>MaxSupply=%{marker.size}<extra></extra>\", \"hovertext\": [2.3002595296761905e-05], \"ids\": [0.0], \"legendgroup\": \"\", \"marker\": {\"color\": [2.3002595296761905e-05], \"coloraxis\": \"coloraxis\", \"size\": [0.0], \"sizemode\": \"area\", \"sizeref\": 0.0004938271604938273, \"symbol\": \"circle\"}, \"mode\": \"markers\", \"name\": \"\", \"orientation\": \"v\", \"showlegend\": false, \"x\": [2.3002595296761905e-05], \"xaxis\": \"x\", \"y\": [0.0], \"yaxis\": \"y\", \"type\": \"scatter\"}], \"name\": \"2.3002595296761905e-05\"}, {\"data\": [{\"hovertemplate\": \"<b>%{hovertext}</b><br><br>TotalCoinsMined=%{marker.color}<br>MaxSupply=%{marker.size}<extra></extra>\", \"hovertext\": [0.0006039558287384392], \"ids\": [0.0008879851447728257], \"legendgroup\": \"\", \"marker\": {\"color\": [0.0006039558287384392], \"coloraxis\": \"coloraxis\", \"size\": [0.0008879851447728257], \"sizemode\": \"area\", \"sizeref\": 0.0004938271604938273, \"symbol\": \"circle\"}, \"mode\": \"markers\", \"name\": \"\", \"orientation\": \"v\", \"showlegend\": false, \"x\": [0.0006039558287384392], \"xaxis\": \"x\", \"y\": [0.0008879851447728257], \"yaxis\": \"y\", \"type\": \"scatter\"}], \"name\": \"0.0006039558287384392\"}, {\"data\": [{\"hovertemplate\": \"<b>%{hovertext}</b><br><br>TotalCoinsMined=%{marker.color}<br>MaxSupply=%{marker.size}<extra></extra>\", \"hovertext\": [0.00023584192686487997], \"ids\": [0.0003359943797248425], \"legendgroup\": \"\", \"marker\": {\"color\": [0.00023584192686487997], \"coloraxis\": \"coloraxis\", \"size\": [0.0003359943797248425], \"sizemode\": \"area\", \"sizeref\": 0.0004938271604938273, \"symbol\": \"circle\"}, \"mode\": \"markers\", \"name\": \"\", \"orientation\": \"v\", \"showlegend\": false, \"x\": [0.00023584192686487997], \"xaxis\": \"x\", \"y\": [0.0003359943797248425], \"yaxis\": \"y\", \"type\": \"scatter\"}], \"name\": \"0.00023584192686487997\"}, {\"data\": [{\"hovertemplate\": \"<b>%{hovertext}</b><br><br>TotalCoinsMined=%{marker.color}<br>MaxSupply=%{marker.size}<extra></extra>\", \"hovertext\": [1.845260487234409e-05], \"ids\": [2.1999632940301435e-05], \"legendgroup\": \"\", \"marker\": {\"color\": [1.845260487234409e-05], \"coloraxis\": \"coloraxis\", \"size\": [2.1999632940301435e-05], \"sizemode\": \"area\", \"sizeref\": 0.0004938271604938273, \"symbol\": \"circle\"}, \"mode\": \"markers\", \"name\": \"\", \"orientation\": \"v\", \"showlegend\": false, \"x\": [1.845260487234409e-05], \"xaxis\": \"x\", \"y\": [2.1999632940301435e-05], \"yaxis\": \"y\", \"type\": \"scatter\"}], \"name\": \"1.845260487234409e-05\"}, {\"data\": [{\"hovertemplate\": \"<b>%{hovertext}</b><br><br>TotalCoinsMined=%{marker.color}<br>MaxSupply=%{marker.size}<extra></extra>\", \"hovertext\": [0.0025932081158226965], \"ids\": [0.004999916351072294], \"legendgroup\": \"\", \"marker\": {\"color\": [0.0025932081158226965], \"coloraxis\": \"coloraxis\", \"size\": [0.004999916351072294], \"sizemode\": \"area\", \"sizeref\": 0.0004938271604938273, \"symbol\": \"circle\"}, \"mode\": \"markers\", \"name\": \"\", \"orientation\": \"v\", \"showlegend\": false, \"x\": [0.0025932081158226965], \"xaxis\": \"x\", \"y\": [0.004999916351072294], \"yaxis\": \"y\", \"type\": \"scatter\"}], \"name\": \"0.0025932081158226965\"}, {\"data\": [{\"hovertemplate\": \"<b>%{hovertext}</b><br><br>TotalCoinsMined=%{marker.color}<br>MaxSupply=%{marker.size}<extra></extra>\", \"hovertext\": [0.00090564595667541], \"ids\": [0.0009999832710144453], \"legendgroup\": \"\", \"marker\": {\"color\": [0.00090564595667541], \"coloraxis\": \"coloraxis\", \"size\": [0.0009999832710144453], \"sizemode\": \"area\", \"sizeref\": 0.0004938271604938273, \"symbol\": \"circle\"}, \"mode\": \"markers\", \"name\": \"\", \"orientation\": \"v\", \"showlegend\": false, \"x\": [0.00090564595667541], \"xaxis\": \"x\", \"y\": [0.0009999832710144453], \"yaxis\": \"y\", \"type\": \"scatter\"}], \"name\": \"0.00090564595667541\"}, {\"data\": [{\"hovertemplate\": \"<b>%{hovertext}</b><br><br>TotalCoinsMined=%{marker.color}<br>MaxSupply=%{marker.size}<extra></extra>\", \"hovertext\": [1.1236806497075002e-05], \"ids\": [2.1399642978292757e-05], \"legendgroup\": \"\", \"marker\": {\"color\": [1.1236806497075002e-05], \"coloraxis\": \"coloraxis\", \"size\": [2.1399642978292757e-05], \"sizemode\": \"area\", \"sizeref\": 0.0004938271604938273, \"symbol\": \"circle\"}, \"mode\": \"markers\", \"name\": \"\", \"orientation\": \"v\", \"showlegend\": false, \"x\": [1.1236806497075002e-05], \"xaxis\": \"x\", \"y\": [2.1399642978292757e-05], \"yaxis\": \"y\", \"type\": \"scatter\"}], \"name\": \"1.1236806497075002e-05\"}, {\"data\": [{\"hovertemplate\": \"<b>%{hovertext}</b><br><br>TotalCoinsMined=%{marker.color}<br>MaxSupply=%{marker.size}<extra></extra>\", \"hovertext\": [5.399754436591735e-06], \"ids\": [0.0], \"legendgroup\": \"\", \"marker\": {\"color\": [5.399754436591735e-06], \"coloraxis\": \"coloraxis\", \"size\": [0.0], \"sizemode\": \"area\", \"sizeref\": 0.0004938271604938273, \"symbol\": \"circle\"}, \"mode\": \"markers\", \"name\": \"\", \"orientation\": \"v\", \"showlegend\": false, \"x\": [5.399754436591735e-06], \"xaxis\": \"x\", \"y\": [0.0], \"yaxis\": \"y\", \"type\": \"scatter\"}], \"name\": \"5.399754436591735e-06\"}, {\"data\": [{\"hovertemplate\": \"<b>%{hovertext}</b><br><br>TotalCoinsMined=%{marker.color}<br>MaxSupply=%{marker.size}<extra></extra>\", \"hovertext\": [0.12775509079058128], \"ids\": [0.0], \"legendgroup\": \"\", \"marker\": {\"color\": [0.12775509079058128], \"coloraxis\": \"coloraxis\", \"size\": [0.0], \"sizemode\": \"area\", \"sizeref\": 0.0004938271604938273, \"symbol\": \"circle\"}, \"mode\": \"markers\", \"name\": \"\", \"orientation\": \"v\", \"showlegend\": false, \"x\": [0.12775509079058128], \"xaxis\": \"x\", \"y\": [0.0], \"yaxis\": \"y\", \"type\": \"scatter\"}], \"name\": \"0.12775509079058128\"}, {\"data\": [{\"hovertemplate\": \"<b>%{hovertext}</b><br><br>TotalCoinsMined=%{marker.color}<br>MaxSupply=%{marker.size}<extra></extra>\", \"hovertext\": [0.016416099361673684], \"ids\": [0.016554723036089406], \"legendgroup\": \"\", \"marker\": {\"color\": [0.016416099361673684], \"coloraxis\": \"coloraxis\", \"size\": [0.016554723036089406], \"sizemode\": \"area\", \"sizeref\": 0.0004938271604938273, \"symbol\": \"circle\"}, \"mode\": \"markers\", \"name\": \"\", \"orientation\": \"v\", \"showlegend\": false, \"x\": [0.016416099361673684], \"xaxis\": \"x\", \"y\": [0.016554723036089406], \"yaxis\": \"y\", \"type\": \"scatter\"}], \"name\": \"0.016416099361673684\"}, {\"data\": [{\"hovertemplate\": \"<b>%{hovertext}</b><br><br>TotalCoinsMined=%{marker.color}<br>MaxSupply=%{marker.size}<extra></extra>\", \"hovertext\": [0.04528050320600008], \"ids\": [0.0], \"legendgroup\": \"\", \"marker\": {\"color\": [0.04528050320600008], \"coloraxis\": \"coloraxis\", \"size\": [0.0], \"sizemode\": \"area\", \"sizeref\": 0.0004938271604938273, \"symbol\": \"circle\"}, \"mode\": \"markers\", \"name\": \"\", \"orientation\": \"v\", \"showlegend\": false, \"x\": [0.04528050320600008], \"xaxis\": \"x\", \"y\": [0.0], \"yaxis\": \"y\", \"type\": \"scatter\"}], \"name\": \"0.04528050320600008\"}, {\"data\": [{\"hovertemplate\": \"<b>%{hovertext}</b><br><br>TotalCoinsMined=%{marker.color}<br>MaxSupply=%{marker.size}<extra></extra>\", \"hovertext\": [0.00028317143978526374], \"ids\": [0.0], \"legendgroup\": \"\", \"marker\": {\"color\": [0.00028317143978526374], \"coloraxis\": \"coloraxis\", \"size\": [0.0], \"sizemode\": \"area\", \"sizeref\": 0.0004938271604938273, \"symbol\": \"circle\"}, \"mode\": \"markers\", \"name\": \"\", \"orientation\": \"v\", \"showlegend\": false, \"x\": [0.00028317143978526374], \"xaxis\": \"x\", \"y\": [0.0], \"yaxis\": \"y\", \"type\": \"scatter\"}], \"name\": \"0.00028317143978526374\"}, {\"data\": [{\"hovertemplate\": \"<b>%{hovertext}</b><br><br>TotalCoinsMined=%{marker.color}<br>MaxSupply=%{marker.size}<extra></extra>\", \"hovertext\": [6.024380916796989e-05], \"ids\": [9.999832800142948e-05], \"legendgroup\": \"\", \"marker\": {\"color\": [6.024380916796989e-05], \"coloraxis\": \"coloraxis\", \"size\": [9.999832800142948e-05], \"sizemode\": \"area\", \"sizeref\": 0.0004938271604938273, \"symbol\": \"circle\"}, \"mode\": \"markers\", \"name\": \"\", \"orientation\": \"v\", \"showlegend\": false, \"x\": [6.024380916796989e-05], \"xaxis\": \"x\", \"y\": [9.999832800142948e-05], \"yaxis\": \"y\", \"type\": \"scatter\"}], \"name\": \"6.024380916796989e-05\"}, {\"data\": [{\"hovertemplate\": \"<b>%{hovertext}</b><br><br>TotalCoinsMined=%{marker.color}<br>MaxSupply=%{marker.size}<extra></extra>\", \"hovertext\": [0.0016473237067405036], \"ids\": [0.0002099964877030203], \"legendgroup\": \"\", \"marker\": {\"color\": [0.0016473237067405036], \"coloraxis\": \"coloraxis\", \"size\": [0.0002099964877030203], \"sizemode\": \"area\", \"sizeref\": 0.0004938271604938273, \"symbol\": \"circle\"}, \"mode\": \"markers\", \"name\": \"\", \"orientation\": \"v\", \"showlegend\": false, \"x\": [0.0016473237067405036], \"xaxis\": \"x\", \"y\": [0.0002099964877030203], \"yaxis\": \"y\", \"type\": \"scatter\"}], \"name\": \"0.0016473237067405036\"}, {\"data\": [{\"hovertemplate\": \"<b>%{hovertext}</b><br><br>TotalCoinsMined=%{marker.color}<br>MaxSupply=%{marker.size}<extra></extra>\", \"hovertext\": [7.243588388421421e-06], \"ids\": [0.0], \"legendgroup\": \"\", \"marker\": {\"color\": [7.243588388421421e-06], \"coloraxis\": \"coloraxis\", \"size\": [0.0], \"sizemode\": \"area\", \"sizeref\": 0.0004938271604938273, \"symbol\": \"circle\"}, \"mode\": \"markers\", \"name\": \"\", \"orientation\": \"v\", \"showlegend\": false, \"x\": [7.243588388421421e-06], \"xaxis\": \"x\", \"y\": [0.0], \"yaxis\": \"y\", \"type\": \"scatter\"}], \"name\": \"7.243588388421421e-06\"}, {\"data\": [{\"hovertemplate\": \"<b>%{hovertext}</b><br><br>TotalCoinsMined=%{marker.color}<br>MaxSupply=%{marker.size}<extra></extra>\", \"hovertext\": [1.0465301170454775e-05], \"ids\": [2.0999649670286972e-05], \"legendgroup\": \"\", \"marker\": {\"color\": [1.0465301170454775e-05], \"coloraxis\": \"coloraxis\", \"size\": [2.0999649670286972e-05], \"sizemode\": \"area\", \"sizeref\": 0.0004938271604938273, \"symbol\": \"circle\"}, \"mode\": \"markers\", \"name\": \"\", \"orientation\": \"v\", \"showlegend\": false, \"x\": [1.0465301170454775e-05], \"xaxis\": \"x\", \"y\": [2.0999649670286972e-05], \"yaxis\": \"y\", \"type\": \"scatter\"}], \"name\": \"1.0465301170454775e-05\"}, {\"data\": [{\"hovertemplate\": \"<b>%{hovertext}</b><br><br>TotalCoinsMined=%{marker.color}<br>MaxSupply=%{marker.size}<extra></extra>\", \"hovertext\": [0.0009988134617276412], \"ids\": [0.0009999832710144453], \"legendgroup\": \"\", \"marker\": {\"color\": [0.0009988134617276412], \"coloraxis\": \"coloraxis\", \"size\": [0.0009999832710144453], \"sizemode\": \"area\", \"sizeref\": 0.0004938271604938273, \"symbol\": \"circle\"}, \"mode\": \"markers\", \"name\": \"\", \"orientation\": \"v\", \"showlegend\": false, \"x\": [0.0009988134617276412], \"xaxis\": \"x\", \"y\": [0.0009999832710144453], \"yaxis\": \"y\", \"type\": \"scatter\"}], \"name\": \"0.0009988134617276412\"}, {\"data\": [{\"hovertemplate\": \"<b>%{hovertext}</b><br><br>TotalCoinsMined=%{marker.color}<br>MaxSupply=%{marker.size}<extra></extra>\", \"hovertext\": [1.845250004652407e-05], \"ids\": [2.099964964718736e-05], \"legendgroup\": \"\", \"marker\": {\"color\": [1.845250004652407e-05], \"coloraxis\": \"coloraxis\", \"size\": [2.099964964718736e-05], \"sizemode\": \"area\", \"sizeref\": 0.0004938271604938273, \"symbol\": \"circle\"}, \"mode\": \"markers\", \"name\": \"\", \"orientation\": \"v\", \"showlegend\": false, \"x\": [1.845250004652407e-05], \"xaxis\": \"x\", \"y\": [2.099964964718736e-05], \"yaxis\": \"y\", \"type\": \"scatter\"}], \"name\": \"1.845250004652407e-05\"}, {\"data\": [{\"hovertemplate\": \"<b>%{hovertext}</b><br><br>TotalCoinsMined=%{marker.color}<br>MaxSupply=%{marker.size}<extra></extra>\", \"hovertext\": [0.0004873188783136047], \"ids\": [0.0], \"legendgroup\": \"\", \"marker\": {\"color\": [0.0004873188783136047], \"coloraxis\": \"coloraxis\", \"size\": [0.0], \"sizemode\": \"area\", \"sizeref\": 0.0004938271604938273, \"symbol\": \"circle\"}, \"mode\": \"markers\", \"name\": \"\", \"orientation\": \"v\", \"showlegend\": false, \"x\": [0.0004873188783136047], \"xaxis\": \"x\", \"y\": [0.0], \"yaxis\": \"y\", \"type\": \"scatter\"}], \"name\": \"0.0004873188783136047\"}, {\"data\": [{\"hovertemplate\": \"<b>%{hovertext}</b><br><br>TotalCoinsMined=%{marker.color}<br>MaxSupply=%{marker.size}<extra></extra>\", \"hovertext\": [1.4318233364591827e-05], \"ids\": [0.0], \"legendgroup\": \"\", \"marker\": {\"color\": [1.4318233364591827e-05], \"coloraxis\": \"coloraxis\", \"size\": [0.0], \"sizemode\": \"area\", \"sizeref\": 0.0004938271604938273, \"symbol\": \"circle\"}, \"mode\": \"markers\", \"name\": \"\", \"orientation\": \"v\", \"showlegend\": false, \"x\": [1.4318233364591827e-05], \"xaxis\": \"x\", \"y\": [0.0], \"yaxis\": \"y\", \"type\": \"scatter\"}], \"name\": \"1.4318233364591827e-05\"}, {\"data\": [{\"hovertemplate\": \"<b>%{hovertext}</b><br><br>TotalCoinsMined=%{marker.color}<br>MaxSupply=%{marker.size}<extra></extra>\", \"hovertext\": [7.052077153922264e-05], \"ids\": [0.0], \"legendgroup\": \"\", \"marker\": {\"color\": [7.052077153922264e-05], \"coloraxis\": \"coloraxis\", \"size\": [0.0], \"sizemode\": \"area\", \"sizeref\": 0.0004938271604938273, \"symbol\": \"circle\"}, \"mode\": \"markers\", \"name\": \"\", \"orientation\": \"v\", \"showlegend\": false, \"x\": [7.052077153922264e-05], \"xaxis\": \"x\", \"y\": [0.0], \"yaxis\": \"y\", \"type\": \"scatter\"}], \"name\": \"7.052077153922264e-05\"}, {\"data\": [{\"hovertemplate\": \"<b>%{hovertext}</b><br><br>TotalCoinsMined=%{marker.color}<br>MaxSupply=%{marker.size}<extra></extra>\", \"hovertext\": [0.01392380252201797], \"ids\": [0.02099964867130369], \"legendgroup\": \"\", \"marker\": {\"color\": [0.01392380252201797], \"coloraxis\": \"coloraxis\", \"size\": [0.02099964867130369], \"sizemode\": \"area\", \"sizeref\": 0.0004938271604938273, \"symbol\": \"circle\"}, \"mode\": \"markers\", \"name\": \"\", \"orientation\": \"v\", \"showlegend\": false, \"x\": [0.01392380252201797], \"xaxis\": \"x\", \"y\": [0.02099964867130369], \"yaxis\": \"y\", \"type\": \"scatter\"}], \"name\": \"0.01392380252201797\"}, {\"data\": [{\"hovertemplate\": \"<b>%{hovertext}</b><br><br>TotalCoinsMined=%{marker.color}<br>MaxSupply=%{marker.size}<extra></extra>\", \"hovertext\": [0.08598344733645047], \"ids\": [0.08671118376587941], \"legendgroup\": \"\", \"marker\": {\"color\": [0.08598344733645047], \"coloraxis\": \"coloraxis\", \"size\": [0.08671118376587941], \"sizemode\": \"area\", \"sizeref\": 0.0004938271604938273, \"symbol\": \"circle\"}, \"mode\": \"markers\", \"name\": \"\", \"orientation\": \"v\", \"showlegend\": false, \"x\": [0.08598344733645047], \"xaxis\": \"x\", \"y\": [0.08671118376587941], \"yaxis\": \"y\", \"type\": \"scatter\"}], \"name\": \"0.08598344733645047\"}, {\"data\": [{\"hovertemplate\": \"<b>%{hovertext}</b><br><br>TotalCoinsMined=%{marker.color}<br>MaxSupply=%{marker.size}<extra></extra>\", \"hovertext\": [0.0001028903465803786], \"ids\": [0.00010782059938275297], \"legendgroup\": \"\", \"marker\": {\"color\": [0.0001028903465803786], \"coloraxis\": \"coloraxis\", \"size\": [0.00010782059938275297], \"sizemode\": \"area\", \"sizeref\": 0.0004938271604938273, \"symbol\": \"circle\"}, \"mode\": \"markers\", \"name\": \"\", \"orientation\": \"v\", \"showlegend\": false, \"x\": [0.0001028903465803786], \"xaxis\": \"x\", \"y\": [0.00010782059938275297], \"yaxis\": \"y\", \"type\": \"scatter\"}], \"name\": \"0.0001028903465803786\"}, {\"data\": [{\"hovertemplate\": \"<b>%{hovertext}</b><br><br>TotalCoinsMined=%{marker.color}<br>MaxSupply=%{marker.size}<extra></extra>\", \"hovertext\": [7.022290081037902e-07], \"ids\": [0.0], \"legendgroup\": \"\", \"marker\": {\"color\": [7.022290081037902e-07], \"coloraxis\": \"coloraxis\", \"size\": [0.0], \"sizemode\": \"area\", \"sizeref\": 0.0004938271604938273, \"symbol\": \"circle\"}, \"mode\": \"markers\", \"name\": \"\", \"orientation\": \"v\", \"showlegend\": false, \"x\": [7.022290081037902e-07], \"xaxis\": \"x\", \"y\": [0.0], \"yaxis\": \"y\", \"type\": \"scatter\"}], \"name\": \"7.022290081037902e-07\"}, {\"data\": [{\"hovertemplate\": \"<b>%{hovertext}</b><br><br>TotalCoinsMined=%{marker.color}<br>MaxSupply=%{marker.size}<extra></extra>\", \"hovertext\": [5.803556220744442e-05], \"ids\": [8.399859568119808e-05], \"legendgroup\": \"\", \"marker\": {\"color\": [5.803556220744442e-05], \"coloraxis\": \"coloraxis\", \"size\": [8.399859568119808e-05], \"sizemode\": \"area\", \"sizeref\": 0.0004938271604938273, \"symbol\": \"circle\"}, \"mode\": \"markers\", \"name\": \"\", \"orientation\": \"v\", \"showlegend\": false, \"x\": [5.803556220744442e-05], \"xaxis\": \"x\", \"y\": [8.399859568119808e-05], \"yaxis\": \"y\", \"type\": \"scatter\"}], \"name\": \"5.803556220744442e-05\"}, {\"data\": [{\"hovertemplate\": \"<b>%{hovertext}</b><br><br>TotalCoinsMined=%{marker.color}<br>MaxSupply=%{marker.size}<extra></extra>\", \"hovertext\": [0.0001330761606930665], \"ids\": [0.00013324606175801863], \"legendgroup\": \"\", \"marker\": {\"color\": [0.0001330761606930665], \"coloraxis\": \"coloraxis\", \"size\": [0.00013324606175801863], \"sizemode\": \"area\", \"sizeref\": 0.0004938271604938273, \"symbol\": \"circle\"}, \"mode\": \"markers\", \"name\": \"\", \"orientation\": \"v\", \"showlegend\": false, \"x\": [0.0001330761606930665], \"xaxis\": \"x\", \"y\": [0.00013324606175801863], \"yaxis\": \"y\", \"type\": \"scatter\"}], \"name\": \"0.0001330761606930665\"}, {\"data\": [{\"hovertemplate\": \"<b>%{hovertext}</b><br><br>TotalCoinsMined=%{marker.color}<br>MaxSupply=%{marker.size}<extra></extra>\", \"hovertext\": [0.0001240815621278989], \"ids\": [0.00021069647599203045], \"legendgroup\": \"\", \"marker\": {\"color\": [0.0001240815621278989], \"coloraxis\": \"coloraxis\", \"size\": [0.00021069647599203045], \"sizemode\": \"area\", \"sizeref\": 0.0004938271604938273, \"symbol\": \"circle\"}, \"mode\": \"markers\", \"name\": \"\", \"orientation\": \"v\", \"showlegend\": false, \"x\": [0.0001240815621278989], \"xaxis\": \"x\", \"y\": [0.00021069647599203045], \"yaxis\": \"y\", \"type\": \"scatter\"}], \"name\": \"0.0001240815621278989\"}, {\"data\": [{\"hovertemplate\": \"<b>%{hovertext}</b><br><br>TotalCoinsMined=%{marker.color}<br>MaxSupply=%{marker.size}<extra></extra>\", \"hovertext\": [0.0008718495168061398], \"ids\": [0.0], \"legendgroup\": \"\", \"marker\": {\"color\": [0.0008718495168061398], \"coloraxis\": \"coloraxis\", \"size\": [0.0], \"sizemode\": \"area\", \"sizeref\": 0.0004938271604938273, \"symbol\": \"circle\"}, \"mode\": \"markers\", \"name\": \"\", \"orientation\": \"v\", \"showlegend\": false, \"x\": [0.0008718495168061398], \"xaxis\": \"x\", \"y\": [0.0], \"yaxis\": \"y\", \"type\": \"scatter\"}], \"name\": \"0.0008718495168061398\"}, {\"data\": [{\"hovertemplate\": \"<b>%{hovertext}</b><br><br>TotalCoinsMined=%{marker.color}<br>MaxSupply=%{marker.size}<extra></extra>\", \"hovertext\": [6.657785516101468e-05], \"ids\": [8.399859568119808e-05], \"legendgroup\": \"\", \"marker\": {\"color\": [6.657785516101468e-05], \"coloraxis\": \"coloraxis\", \"size\": [8.399859568119808e-05], \"sizemode\": \"area\", \"sizeref\": 0.0004938271604938273, \"symbol\": \"circle\"}, \"mode\": \"markers\", \"name\": \"\", \"orientation\": \"v\", \"showlegend\": false, \"x\": [6.657785516101468e-05], \"xaxis\": \"x\", \"y\": [8.399859568119808e-05], \"yaxis\": \"y\", \"type\": \"scatter\"}], \"name\": \"6.657785516101468e-05\"}, {\"data\": [{\"hovertemplate\": \"<b>%{hovertext}</b><br><br>TotalCoinsMined=%{marker.color}<br>MaxSupply=%{marker.size}<extra></extra>\", \"hovertext\": [1.763862828632518e-05], \"ids\": [0.0], \"legendgroup\": \"\", \"marker\": {\"color\": [1.763862828632518e-05], \"coloraxis\": \"coloraxis\", \"size\": [0.0], \"sizemode\": \"area\", \"sizeref\": 0.0004938271604938273, \"symbol\": \"circle\"}, \"mode\": \"markers\", \"name\": \"\", \"orientation\": \"v\", \"showlegend\": false, \"x\": [1.763862828632518e-05], \"xaxis\": \"x\", \"y\": [0.0], \"yaxis\": \"y\", \"type\": \"scatter\"}], \"name\": \"1.763862828632518e-05\"}, {\"data\": [{\"hovertemplate\": \"<b>%{hovertext}</b><br><br>TotalCoinsMined=%{marker.color}<br>MaxSupply=%{marker.size}<extra></extra>\", \"hovertext\": [1.2296690248693337e-05], \"ids\": [2.0999649670286972e-05], \"legendgroup\": \"\", \"marker\": {\"color\": [1.2296690248693337e-05], \"coloraxis\": \"coloraxis\", \"size\": [2.0999649670286972e-05], \"sizemode\": \"area\", \"sizeref\": 0.0004938271604938273, \"symbol\": \"circle\"}, \"mode\": \"markers\", \"name\": \"\", \"orientation\": \"v\", \"showlegend\": false, \"x\": [1.2296690248693337e-05], \"xaxis\": \"x\", \"y\": [2.0999649670286972e-05], \"yaxis\": \"y\", \"type\": \"scatter\"}], \"name\": \"1.2296690248693337e-05\"}, {\"data\": [{\"hovertemplate\": \"<b>%{hovertext}</b><br><br>TotalCoinsMined=%{marker.color}<br>MaxSupply=%{marker.size}<extra></extra>\", \"hovertext\": [0.0029946151762433523], \"ids\": [0.0036005102655075564], \"legendgroup\": \"\", \"marker\": {\"color\": [0.0029946151762433523], \"coloraxis\": \"coloraxis\", \"size\": [0.0036005102655075564], \"sizemode\": \"area\", \"sizeref\": 0.0004938271604938273, \"symbol\": \"circle\"}, \"mode\": \"markers\", \"name\": \"\", \"orientation\": \"v\", \"showlegend\": false, \"x\": [0.0029946151762433523], \"xaxis\": \"x\", \"y\": [0.0036005102655075564], \"yaxis\": \"y\", \"type\": \"scatter\"}], \"name\": \"0.0029946151762433523\"}, {\"data\": [{\"hovertemplate\": \"<b>%{hovertext}</b><br><br>TotalCoinsMined=%{marker.color}<br>MaxSupply=%{marker.size}<extra></extra>\", \"hovertext\": [0.0001038492787001377], \"ids\": [0.0], \"legendgroup\": \"\", \"marker\": {\"color\": [0.0001038492787001377], \"coloraxis\": \"coloraxis\", \"size\": [0.0], \"sizemode\": \"area\", \"sizeref\": 0.0004938271604938273, \"symbol\": \"circle\"}, \"mode\": \"markers\", \"name\": \"\", \"orientation\": \"v\", \"showlegend\": false, \"x\": [0.0001038492787001377], \"xaxis\": \"x\", \"y\": [0.0], \"yaxis\": \"y\", \"type\": \"scatter\"}], \"name\": \"0.0001038492787001377\"}, {\"data\": [{\"hovertemplate\": \"<b>%{hovertext}</b><br><br>TotalCoinsMined=%{marker.color}<br>MaxSupply=%{marker.size}<extra></extra>\", \"hovertext\": [0.03183431703082116], \"ids\": [0.04499924715165078], \"legendgroup\": \"\", \"marker\": {\"color\": [0.03183431703082116], \"coloraxis\": \"coloraxis\", \"size\": [0.04499924715165078], \"sizemode\": \"area\", \"sizeref\": 0.0004938271604938273, \"symbol\": \"circle\"}, \"mode\": \"markers\", \"name\": \"\", \"orientation\": \"v\", \"showlegend\": false, \"x\": [0.03183431703082116], \"xaxis\": \"x\", \"y\": [0.04499924715165078], \"yaxis\": \"y\", \"type\": \"scatter\"}], \"name\": \"0.03183431703082116\"}, {\"data\": [{\"hovertemplate\": \"<b>%{hovertext}</b><br><br>TotalCoinsMined=%{marker.color}<br>MaxSupply=%{marker.size}<extra></extra>\", \"hovertext\": [0.0010258480822267725], \"ids\": [0.0], \"legendgroup\": \"\", \"marker\": {\"color\": [0.0010258480822267725], \"coloraxis\": \"coloraxis\", \"size\": [0.0], \"sizemode\": \"area\", \"sizeref\": 0.0004938271604938273, \"symbol\": \"circle\"}, \"mode\": \"markers\", \"name\": \"\", \"orientation\": \"v\", \"showlegend\": false, \"x\": [0.0010258480822267725], \"xaxis\": \"x\", \"y\": [0.0], \"yaxis\": \"y\", \"type\": \"scatter\"}], \"name\": \"0.0010258480822267725\"}]);\n",
       "                        }).then(function(){\n",
       "                            \n",
       "var gd = document.getElementById('6042e6fb-5036-454f-893b-bec2e4439686');\n",
       "var x = new MutationObserver(function (mutations, observer) {{\n",
       "        var display = window.getComputedStyle(gd).display;\n",
       "        if (!display || display === 'none') {{\n",
       "            console.log([gd, 'removed!']);\n",
       "            Plotly.purge(gd);\n",
       "            observer.disconnect();\n",
       "        }}\n",
       "}});\n",
       "\n",
       "// Listen for the removal of the full notebook cells\n",
       "var notebookContainer = gd.closest('#notebook-container');\n",
       "if (notebookContainer) {{\n",
       "    x.observe(notebookContainer, {childList: true});\n",
       "}}\n",
       "\n",
       "// Listen for the clearing of the current output cell\n",
       "var outputEl = gd.closest('.output');\n",
       "if (outputEl) {{\n",
       "    x.observe(outputEl, {childList: true});\n",
       "}}\n",
       "\n",
       "                        })                };                });            </script>        </div>"
      ]
     },
     "metadata": {},
     "output_type": "display_data"
    }
   ],
   "source": [
    "fig2.show()"
   ]
  },
  {
   "cell_type": "code",
   "execution_count": null,
   "metadata": {},
   "outputs": [],
   "source": []
  }
 ],
 "metadata": {
  "file_extension": ".py",
  "kernelspec": {
   "display_name": "Python [conda env:root] *",
   "language": "python",
   "name": "conda-root-py"
  },
  "language_info": {
   "codemirror_mode": {
    "name": "ipython",
    "version": 3
   },
   "file_extension": ".py",
   "mimetype": "text/x-python",
   "name": "python",
   "nbconvert_exporter": "python",
   "pygments_lexer": "ipython3",
   "version": "3.8.5"
  },
  "mimetype": "text/x-python",
  "name": "python",
  "npconvert_exporter": "python",
  "pygments_lexer": "ipython3",
  "version": 3
 },
 "nbformat": 4,
 "nbformat_minor": 4
}
